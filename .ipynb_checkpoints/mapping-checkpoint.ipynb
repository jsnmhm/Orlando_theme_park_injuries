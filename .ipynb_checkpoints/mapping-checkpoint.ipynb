{
 "cells": [
  {
   "cell_type": "code",
   "execution_count": 35,
   "id": "e561cb30",
   "metadata": {},
   "outputs": [],
   "source": [
    "import requests\n",
    "import pandas as pd\n",
    "import hvplot.pandas\n",
    "import json\n",
    "import holoviews as hv\n",
    "\n",
    "api_key = \"a9b5c9761f814b12b3b59d73ca004a4d\""
   ]
  },
  {
   "cell_type": "code",
   "execution_count": 4,
   "id": "ea51eebb",
   "metadata": {},
   "outputs": [
    {
     "data": {
      "text/html": [
       "<div>\n",
       "<style scoped>\n",
       "    .dataframe tbody tr th:only-of-type {\n",
       "        vertical-align: middle;\n",
       "    }\n",
       "\n",
       "    .dataframe tbody tr th {\n",
       "        vertical-align: top;\n",
       "    }\n",
       "\n",
       "    .dataframe thead th {\n",
       "        text-align: right;\n",
       "    }\n",
       "</style>\n",
       "<table border=\"1\" class=\"dataframe\">\n",
       "  <thead>\n",
       "    <tr style=\"text-align: right;\">\n",
       "      <th></th>\n",
       "      <th>Company</th>\n",
       "      <th>Incident_date</th>\n",
       "      <th>Ride_name_dirty</th>\n",
       "      <th>Ride_name</th>\n",
       "      <th>Theme_Park</th>\n",
       "      <th>age_gender</th>\n",
       "      <th>description</th>\n",
       "    </tr>\n",
       "  </thead>\n",
       "  <tbody>\n",
       "    <tr>\n",
       "      <th>0</th>\n",
       "      <td>Disney World</td>\n",
       "      <td>6/9/2022</td>\n",
       "      <td>Alien Swirling Saucers</td>\n",
       "      <td>Alien Swirling Saucers</td>\n",
       "      <td>Hollywood Studios</td>\n",
       "      <td>59 yof</td>\n",
       "      <td>guest with pre-existing condition sustained in...</td>\n",
       "    </tr>\n",
       "    <tr>\n",
       "      <th>1</th>\n",
       "      <td>Disney World</td>\n",
       "      <td>10/5/2014</td>\n",
       "      <td>Astro Orbiter</td>\n",
       "      <td>Astro Orbiter</td>\n",
       "      <td>Magic Kingdom</td>\n",
       "      <td>68 yom</td>\n",
       "      <td>guest fell exiting vehicle, developed blood c...</td>\n",
       "    </tr>\n",
       "    <tr>\n",
       "      <th>2</th>\n",
       "      <td>Disney World</td>\n",
       "      <td>12/3/2009</td>\n",
       "      <td>Astro Orbitor</td>\n",
       "      <td>Astro Orbiter</td>\n",
       "      <td>Magic Kingdom</td>\n",
       "      <td>40 yof</td>\n",
       "      <td>fractured left ankle exiting ride</td>\n",
       "    </tr>\n",
       "    <tr>\n",
       "      <th>3</th>\n",
       "      <td>Disney World</td>\n",
       "      <td>8/7/2022</td>\n",
       "      <td>Avatar Flight of Passage</td>\n",
       "      <td>Avatar Flight of Passage</td>\n",
       "      <td>Animal Kingdom</td>\n",
       "      <td>83 yom</td>\n",
       "      <td>guest with pre-existing condition was briefly ...</td>\n",
       "    </tr>\n",
       "    <tr>\n",
       "      <th>4</th>\n",
       "      <td>Disney World</td>\n",
       "      <td>4/19/2022</td>\n",
       "      <td>Avatar Flight of Passage</td>\n",
       "      <td>Avatar Flight of Passage</td>\n",
       "      <td>Animal Kingdom</td>\n",
       "      <td>42 yof</td>\n",
       "      <td>guest with pre-existing condition had motion s...</td>\n",
       "    </tr>\n",
       "  </tbody>\n",
       "</table>\n",
       "</div>"
      ],
      "text/plain": [
       "        Company Incident_date           Ride_name_dirty  \\\n",
       "0  Disney World      6/9/2022    Alien Swirling Saucers   \n",
       "1  Disney World     10/5/2014             Astro Orbiter   \n",
       "2  Disney World     12/3/2009             Astro Orbitor   \n",
       "3  Disney World      8/7/2022  Avatar Flight of Passage   \n",
       "4  Disney World     4/19/2022  Avatar Flight of Passage   \n",
       "\n",
       "                  Ride_name         Theme_Park age_gender  \\\n",
       "0    Alien Swirling Saucers  Hollywood Studios     59 yof   \n",
       "1             Astro Orbiter      Magic Kingdom     68 yom   \n",
       "2             Astro Orbiter      Magic Kingdom     40 yof   \n",
       "3  Avatar Flight of Passage     Animal Kingdom     83 yom   \n",
       "4  Avatar Flight of Passage     Animal Kingdom     42 yof   \n",
       "\n",
       "                                         description  \n",
       "0  guest with pre-existing condition sustained in...  \n",
       "1   guest fell exiting vehicle, developed blood c...  \n",
       "2                  fractured left ankle exiting ride  \n",
       "3  guest with pre-existing condition was briefly ...  \n",
       "4  guest with pre-existing condition had motion s...  "
      ]
     },
     "execution_count": 4,
     "metadata": {},
     "output_type": "execute_result"
    }
   ],
   "source": [
    "data = pd.read_csv(\"theme_park_injuries.csv\")\n",
    "\n",
    "\n",
    "\n",
    "#Halloween Horror Nights - drop, not a ride\n",
    "#Studio Backlot Tour - drop \n",
    "#Honey I Shrunk The Kids - demolished to make room for Star Wars: Galaxy's Edge\n",
    "drop_areas = data[(data[\"Ride_name\"] != \"Halloween Horror Nights\") &\n",
    "                 (data[\"Ride_name\"] != \"Studio Backlot Tour\") &\n",
    "                 (data[\"Ride_name\"] != \"Honey I Shrunk The Kids\")].copy()\n",
    "\n",
    "#correct company name\n",
    "drop_areas.loc[drop_areas[\"Company\"] == \"Universal:\", \"Company\"] = \"Universal\"\n",
    "\n",
    "#further cleaning data - some rides have been redesigned/renamed\n",
    "#Jurassic World VelociCoaster -> VelociCoaster\n",
    "#Miss Adventure Falls -> Typhoon Tillie's\n",
    "#Oh! No! Drop Slide -> Ohno Drop Slide\n",
    "#Terminator 2: 3D -> The Bourne Stuntacular\n",
    "\n",
    "drop_areas.loc[drop_areas[\"Ride_name\"] == \"Dinosaur\", \"Ride_name\"] = \"The Dino Institute Shop\"\n",
    "drop_areas.loc[drop_areas[\"Ride_name\"] == \"Disaster\", \"Ride_name\"] = \"Fast & Furious - Supercharged\"\n",
    "drop_areas.loc[drop_areas[\"Ride_name\"] == \"Gran Fiesta Tour Attraction\", \"Ride_name\"] = \"Plaza de Los Amigos\"\n",
    "drop_areas.loc[drop_areas[\"Ride_name\"] == \"Jurassic World VelociCoaster\", \"Ride_name\"] = \"VelociCoaster\"\n",
    "drop_areas.loc[drop_areas[\"Ride_name\"] == \"Oh! No! Drop Slide\", \"Ride_name\"] = \"Ohno Drop Slide\"\n",
    "drop_areas.loc[drop_areas[\"Ride_name\"] == \"Miss Adventure Falls\", \"Ride_name\"] = \"Typhoon Tillie's\"\n",
    "drop_areas.loc[drop_areas[\"Ride_name\"] == \"Terminator 2: 3D\", \"Ride_name\"] = \"The Bourne Stuntacular\"\n",
    "drop_areas.loc[drop_areas[\"Ride_name\"] == \"Dragon Challenge\", \"Ride_name\"] = \"Hagrid's Magical Creatures Motorbike Adventure\"\n",
    "drop_areas.loc[drop_areas[\"Ride_name\"] == \"The Liberty Belle\", \"Ride_name\"] = \"Liberty Square Riverboat Landing\"\n",
    "drop_areas.loc[drop_areas[\"Ride_name\"] == \"Kala Serpentine Body Slide\", \"Ride_name\"] = \"Kala & Tai Nui Serpentine Body Slides\"\n",
    "drop_areas.loc[drop_areas[\"Ride_name\"] == \"Tai Nui Serpentine Body Slide\", \"Ride_name\"] = \"Kala & Tai Nui Serpentine Body Slides\"\n",
    "drop_areas.loc[drop_areas[\"Ride_name\"] == \"Chair Lift\", \"Ride_name\"] = \"Arctic Expeditions\"\n",
    "drop_areas.loc[drop_areas[\"Ride_name\"] == \"Meltaway Bay\", \"Ride_name\"] = \"Melt-away Bay\"\n",
    "drop_areas.loc[drop_areas[\"Ride_name\"] == \"Snow White's Scary Adventures\", \"Ride_name\"] = \"Princess Fairytale Hall\"\n",
    "drop_areas.loc[drop_areas[\"Ride_name\"] == \"Primeval Whirl\", \"Ride_name\"] = \"Dino Diner\"\n",
    "drop_areas.loc[drop_areas[\"Ride_name\"] == \"Ellen's Energy Adventure\", \"Ride_name\"] = \"Guardians of the Galaxy: Cosmic Rewind\"\n",
    "drop_areas.loc[drop_areas[\"Ride_name\"] == \"Dr Doom's Fearfall\", \"Ride_name\"] = \"Cafe 4\"\n",
    "drop_areas.loc[drop_areas[\"Ride_name\"] == \"Summit Plummet\", \"Ride_name\"] = \"Mount Gushmore Station\"\n",
    "drop_areas.loc[drop_areas[\"Ride_name\"] == \"Storm Slide-Rudder Buster\", \"Ride_name\"] = \"Storm Slides\"\n",
    "drop_areas.loc[drop_areas[\"Ride_name\"] == \"Harry Potter and the Forbidden Journey\", \"Theme_Park\"] = \"Islands of Adventure\"\n",
    "drop_areas.loc[drop_areas[\"Ride_name\"] == \"Castaway Creek\", \"Theme_Park\"] = \"Typhoon Lagoon\"\n",
    "drop_areas.loc[drop_areas[\"Ride_name\"] == \"Crush n' Gusher\", \"Theme_Park\"] = \"Typhoon Lagoon\"\n",
    "drop_areas.loc[drop_areas[\"Ride_name\"] == \"Slush Gusher\", \"Theme_Park\"] = \"Typhoon Lagoon\"\n",
    "drop_areas.loc[(drop_areas[\"Ride_name_dirty\"] == \"Transformers: The Ride 3D\"), [\"Company\"]] = [\"Disney\"]\n",
    "drop_areas.loc[(drop_areas[\"Ride_name_dirty\"] == \"Blizzard Beach\") & (drop_areas[\"Ride_name\"] == \"Surf Pool\"), \"Ride_name\"] = \"Melt-away Bay\"\n",
    "\n",
    "#create list of unique ride name to use for retrieving coordinates\n",
    "rides = pd.DataFrame(drop_areas[\"Ride_name\"].unique(), columns=[\"Ride_name\"])\n",
    "\n",
    "rides.head()\n",
    "\n",
    "drop_areas.head()"
   ]
  },
  {
   "cell_type": "code",
   "execution_count": 5,
   "id": "68f979cb",
   "metadata": {},
   "outputs": [
    {
     "data": {
      "text/html": [
       "<div>\n",
       "<style scoped>\n",
       "    .dataframe tbody tr th:only-of-type {\n",
       "        vertical-align: middle;\n",
       "    }\n",
       "\n",
       "    .dataframe tbody tr th {\n",
       "        vertical-align: top;\n",
       "    }\n",
       "\n",
       "    .dataframe thead th {\n",
       "        text-align: right;\n",
       "    }\n",
       "</style>\n",
       "<table border=\"1\" class=\"dataframe\">\n",
       "  <thead>\n",
       "    <tr style=\"text-align: right;\">\n",
       "      <th></th>\n",
       "      <th>Ride_name</th>\n",
       "      <th>lat</th>\n",
       "      <th>lon</th>\n",
       "    </tr>\n",
       "  </thead>\n",
       "  <tbody>\n",
       "    <tr>\n",
       "      <th>0</th>\n",
       "      <td>Alien Swirling Saucers</td>\n",
       "      <td>28.355652</td>\n",
       "      <td>-81.562734</td>\n",
       "    </tr>\n",
       "    <tr>\n",
       "      <th>1</th>\n",
       "      <td>Astro Orbiter</td>\n",
       "      <td>28.418427</td>\n",
       "      <td>-81.579153</td>\n",
       "    </tr>\n",
       "    <tr>\n",
       "      <th>2</th>\n",
       "      <td>Avatar Flight of Passage</td>\n",
       "      <td>28.354861</td>\n",
       "      <td>-81.592826</td>\n",
       "    </tr>\n",
       "    <tr>\n",
       "      <th>3</th>\n",
       "      <td>Back to the Future</td>\n",
       "      <td>28.480506</td>\n",
       "      <td>-81.467064</td>\n",
       "    </tr>\n",
       "    <tr>\n",
       "      <th>4</th>\n",
       "      <td>Big Thunder Mountain Railroad</td>\n",
       "      <td>28.420193</td>\n",
       "      <td>-81.58441</td>\n",
       "    </tr>\n",
       "  </tbody>\n",
       "</table>\n",
       "</div>"
      ],
      "text/plain": [
       "                       Ride_name        lat        lon\n",
       "0         Alien Swirling Saucers  28.355652 -81.562734\n",
       "1                  Astro Orbiter  28.418427 -81.579153\n",
       "2       Avatar Flight of Passage  28.354861 -81.592826\n",
       "3             Back to the Future  28.480506 -81.467064\n",
       "4  Big Thunder Mountain Railroad  28.420193  -81.58441"
      ]
     },
     "execution_count": 5,
     "metadata": {},
     "output_type": "execute_result"
    }
   ],
   "source": [
    "orl_lat = 28.5384\n",
    "orl_lon = -81.3789\n",
    "radius = 75000\n",
    "\n",
    "params = {\n",
    "    \"apiKey\":api_key,\n",
    "    \"filter\":f\"circle:{orl_lon},{orl_lat},{radius}\"\n",
    "}\n",
    "\n",
    "#add empty columns for lat, lon\n",
    "rides[\"lat\"] = None\n",
    "rides[\"lon\"] = None\n",
    "\n",
    "    \n",
    "base_url = \"https://api.geoapify.com/v1/geocode/search\"\n",
    "\n",
    "for index, row in rides.iterrows():\n",
    "    ride_name = row[\"Ride_name\"]\n",
    "    params[\"text\"] = ride_name\n",
    "    ride_data = requests.get(base_url, params=params).json()\n",
    "    try:\n",
    "        rides.loc[index, \"lat\"] = ride_data[\"features\"][0][\"properties\"][\"lat\"]\n",
    "        rides.loc[index, \"lon\"] = ride_data[\"features\"][0][\"properties\"][\"lon\"]\n",
    "    except IndexError:\n",
    "        print(\"No record found\")\n",
    "        \n",
    "rides.head()\n"
   ]
  },
  {
   "cell_type": "code",
   "execution_count": 6,
   "id": "01d0f032",
   "metadata": {},
   "outputs": [
    {
     "data": {
      "text/html": [
       "<div>\n",
       "<style scoped>\n",
       "    .dataframe tbody tr th:only-of-type {\n",
       "        vertical-align: middle;\n",
       "    }\n",
       "\n",
       "    .dataframe tbody tr th {\n",
       "        vertical-align: top;\n",
       "    }\n",
       "\n",
       "    .dataframe thead th {\n",
       "        text-align: right;\n",
       "    }\n",
       "</style>\n",
       "<table border=\"1\" class=\"dataframe\">\n",
       "  <thead>\n",
       "    <tr style=\"text-align: right;\">\n",
       "      <th></th>\n",
       "      <th>Ride_name</th>\n",
       "      <th>lat</th>\n",
       "      <th>lon</th>\n",
       "      <th>Company</th>\n",
       "      <th>Theme_Park</th>\n",
       "      <th>incident_count</th>\n",
       "    </tr>\n",
       "  </thead>\n",
       "  <tbody>\n",
       "    <tr>\n",
       "      <th>0</th>\n",
       "      <td>Alien Swirling Saucers</td>\n",
       "      <td>28.355652</td>\n",
       "      <td>-81.562734</td>\n",
       "      <td>Disney World</td>\n",
       "      <td>Hollywood Studios</td>\n",
       "      <td>1</td>\n",
       "    </tr>\n",
       "    <tr>\n",
       "      <th>1</th>\n",
       "      <td>Astro Orbiter</td>\n",
       "      <td>28.418427</td>\n",
       "      <td>-81.579153</td>\n",
       "      <td>Disney World</td>\n",
       "      <td>Magic Kingdom</td>\n",
       "      <td>2</td>\n",
       "    </tr>\n",
       "    <tr>\n",
       "      <th>2</th>\n",
       "      <td>Avatar Flight of Passage</td>\n",
       "      <td>28.354861</td>\n",
       "      <td>-81.592826</td>\n",
       "      <td>Disney World</td>\n",
       "      <td>Animal Kingdom</td>\n",
       "      <td>15</td>\n",
       "    </tr>\n",
       "    <tr>\n",
       "      <th>3</th>\n",
       "      <td>Back to the Future</td>\n",
       "      <td>28.480506</td>\n",
       "      <td>-81.467064</td>\n",
       "      <td>Universal</td>\n",
       "      <td>Universal Studios</td>\n",
       "      <td>1</td>\n",
       "    </tr>\n",
       "    <tr>\n",
       "      <th>4</th>\n",
       "      <td>Big Thunder Mountain Railroad</td>\n",
       "      <td>28.420193</td>\n",
       "      <td>-81.58441</td>\n",
       "      <td>Disney World</td>\n",
       "      <td>Magic Kingdom</td>\n",
       "      <td>12</td>\n",
       "    </tr>\n",
       "  </tbody>\n",
       "</table>\n",
       "</div>"
      ],
      "text/plain": [
       "                       Ride_name        lat        lon       Company  \\\n",
       "0         Alien Swirling Saucers  28.355652 -81.562734  Disney World   \n",
       "1                  Astro Orbiter  28.418427 -81.579153  Disney World   \n",
       "2       Avatar Flight of Passage  28.354861 -81.592826  Disney World   \n",
       "3             Back to the Future  28.480506 -81.467064     Universal   \n",
       "4  Big Thunder Mountain Railroad  28.420193  -81.58441  Disney World   \n",
       "\n",
       "          Theme_Park  incident_count  \n",
       "0  Hollywood Studios               1  \n",
       "1      Magic Kingdom               2  \n",
       "2     Animal Kingdom              15  \n",
       "3  Universal Studios               1  \n",
       "4      Magic Kingdom              12  "
      ]
     },
     "execution_count": 6,
     "metadata": {},
     "output_type": "execute_result"
    }
   ],
   "source": [
    "#merge incident count with ride name location\n",
    "incident_count = drop_areas.groupby([\"Company\", \"Theme_Park\", \"Ride_name\"]).size().rename(\"incident_count\").reset_index()\n",
    "incident_count.head()\n",
    "\n",
    "mapping_data = pd.merge(rides, incident_count, how=\"inner\", on=\"Ride_name\")\n",
    "mapping_data.head()\n",
    "\n",
    "\n"
   ]
  },
  {
   "cell_type": "code",
   "execution_count": 84,
   "id": "36a2e49e",
   "metadata": {},
   "outputs": [],
   "source": [
    "def plot_mapping_data(mapping_data, filter_column=None, \n",
    "                      filter_value=None, scale=5, save_file=None, title=\"title\"):\n",
    "    \n",
    "    if filter_column is not None and filter_value is not None:\n",
    "        filtered_data = mapping_data[mapping_data[filter_column] == filter_value]\n",
    "    else:\n",
    "        filtered_data = mapping_data\n",
    "    \n",
    "    map_plot = filtered_data.hvplot.points(\"lon\",\n",
    "                                     \"lat\",\n",
    "                                     legend=True,\n",
    "                                     color=\"Ride_name\",\n",
    "                                     tiles=\"CartoLight\",\n",
    "                                     size=\"incident_count\",\n",
    "                                     scale=scale,\n",
    "                                     width=1000,\n",
    "                                     height=750,\n",
    "                                     alpha=0.75,\n",
    "                                     title=title)\n",
    "    \n",
    "    hvplot.save(map_plot, f\"maps\\{title}.png\")\n",
    "    \n",
    "    return map_plot"
   ]
  },
  {
   "cell_type": "markdown",
   "id": "cb09881e",
   "metadata": {},
   "source": [
    "## All Parks"
   ]
  },
  {
   "cell_type": "code",
   "execution_count": 65,
   "id": "79208f09",
   "metadata": {
    "scrolled": true
   },
   "outputs": [
    {
     "data": {},
     "metadata": {},
     "output_type": "display_data"
    },
    {
     "data": {
      "application/vnd.holoviews_exec.v0+json": "",
      "text/html": [
       "<div id='8441'>\n",
       "  <div class=\"bk-root\" id=\"2df0ad88-29c1-408b-b0f8-3d212ca20e7a\" data-root-id=\"8441\"></div>\n",
       "</div>\n",
       "<script type=\"application/javascript\">(function(root) {\n",
       "  function embed_document(root) {\n",
       "    var docs_json = {\"2f421247-1a11-4dfe-baf7-2701757f6efd\":{\"defs\":[{\"extends\":null,\"module\":null,\"name\":\"ReactiveHTML1\",\"overrides\":[],\"properties\":[]},{\"extends\":null,\"module\":null,\"name\":\"FlexBox1\",\"overrides\":[],\"properties\":[{\"default\":\"flex-start\",\"kind\":null,\"name\":\"align_content\"},{\"default\":\"flex-start\",\"kind\":null,\"name\":\"align_items\"},{\"default\":\"row\",\"kind\":null,\"name\":\"flex_direction\"},{\"default\":\"wrap\",\"kind\":null,\"name\":\"flex_wrap\"},{\"default\":\"flex-start\",\"kind\":null,\"name\":\"justify_content\"}]},{\"extends\":null,\"module\":null,\"name\":\"GridStack1\",\"overrides\":[],\"properties\":[{\"default\":\"warn\",\"kind\":null,\"name\":\"mode\"},{\"default\":null,\"kind\":null,\"name\":\"ncols\"},{\"default\":null,\"kind\":null,\"name\":\"nrows\"},{\"default\":true,\"kind\":null,\"name\":\"allow_resize\"},{\"default\":true,\"kind\":null,\"name\":\"allow_drag\"},{\"default\":[],\"kind\":null,\"name\":\"state\"}]},{\"extends\":null,\"module\":null,\"name\":\"click1\",\"overrides\":[],\"properties\":[{\"default\":\"\",\"kind\":null,\"name\":\"terminal_output\"},{\"default\":\"\",\"kind\":null,\"name\":\"debug_name\"},{\"default\":0,\"kind\":null,\"name\":\"clears\"}]},{\"extends\":null,\"module\":null,\"name\":\"NotificationAreaBase1\",\"overrides\":[],\"properties\":[{\"default\":\"bottom-right\",\"kind\":null,\"name\":\"position\"},{\"default\":0,\"kind\":null,\"name\":\"_clear\"}]},{\"extends\":null,\"module\":null,\"name\":\"NotificationArea1\",\"overrides\":[],\"properties\":[{\"default\":[],\"kind\":null,\"name\":\"notifications\"},{\"default\":\"bottom-right\",\"kind\":null,\"name\":\"position\"},{\"default\":0,\"kind\":null,\"name\":\"_clear\"},{\"default\":[{\"background\":\"#ffc107\",\"icon\":{\"className\":\"fas fa-exclamation-triangle\",\"color\":\"white\",\"tagName\":\"i\"},\"type\":\"warning\"},{\"background\":\"#007bff\",\"icon\":{\"className\":\"fas fa-info-circle\",\"color\":\"white\",\"tagName\":\"i\"},\"type\":\"info\"}],\"kind\":null,\"name\":\"types\"}]},{\"extends\":null,\"module\":null,\"name\":\"Notification\",\"overrides\":[],\"properties\":[{\"default\":null,\"kind\":null,\"name\":\"background\"},{\"default\":3000,\"kind\":null,\"name\":\"duration\"},{\"default\":null,\"kind\":null,\"name\":\"icon\"},{\"default\":\"\",\"kind\":null,\"name\":\"message\"},{\"default\":null,\"kind\":null,\"name\":\"notification_type\"},{\"default\":false,\"kind\":null,\"name\":\"_destroyed\"}]},{\"extends\":null,\"module\":null,\"name\":\"TemplateActions1\",\"overrides\":[],\"properties\":[{\"default\":0,\"kind\":null,\"name\":\"open_modal\"},{\"default\":0,\"kind\":null,\"name\":\"close_modal\"}]},{\"extends\":null,\"module\":null,\"name\":\"MaterialTemplateActions1\",\"overrides\":[],\"properties\":[{\"default\":0,\"kind\":null,\"name\":\"open_modal\"},{\"default\":0,\"kind\":null,\"name\":\"close_modal\"}]}],\"roots\":{\"references\":[{\"attributes\":{\"end\":-9066043.109847378,\"min_interval\":5,\"reset_end\":-9066043.109847378,\"reset_start\":-9085814.771522619,\"start\":-9085814.771522619,\"tags\":[[[\"lon\",\"lon\",null]]]},\"id\":\"8446\",\"type\":\"Range1d\"},{\"attributes\":{\"fill_alpha\":{\"value\":0.75},\"fill_color\":{\"field\":\"color\",\"transform\":{\"id\":\"8512\"}},\"hatch_alpha\":{\"value\":0.1},\"hatch_color\":{\"field\":\"color\",\"transform\":{\"id\":\"8512\"}},\"line_alpha\":{\"value\":0.75},\"line_color\":{\"field\":\"color\",\"transform\":{\"id\":\"8512\"}},\"size\":{\"field\":\"size\"},\"tags\":[\"apply_ranges\"],\"x\":{\"field\":\"lon\"},\"y\":{\"field\":\"lat\"}},\"id\":\"8517\",\"type\":\"Scatter\"},{\"attributes\":{},\"id\":\"8472\",\"type\":\"ResetTool\"},{\"attributes\":{},\"id\":\"8494\",\"type\":\"AllLabels\"},{\"attributes\":{\"coordinates\":null,\"group\":null,\"level\":\"glyph\",\"tile_source\":{\"id\":\"8507\"}},\"id\":\"8510\",\"type\":\"TileRenderer\"},{\"attributes\":{},\"id\":\"8514\",\"type\":\"Selection\"},{\"attributes\":{\"coordinates\":null,\"data_source\":{\"id\":\"8513\"},\"glyph\":{\"id\":\"8516\"},\"group\":null,\"hover_glyph\":{\"id\":\"8519\"},\"muted_glyph\":{\"id\":\"8520\"},\"nonselection_glyph\":{\"id\":\"8517\"},\"selection_glyph\":{\"id\":\"8518\"},\"view\":{\"id\":\"8522\"}},\"id\":\"8521\",\"type\":\"GlyphRenderer\"},{\"attributes\":{\"bottom_units\":\"screen\",\"coordinates\":null,\"fill_alpha\":0.5,\"fill_color\":\"lightgrey\",\"group\":null,\"left_units\":\"screen\",\"level\":\"overlay\",\"line_alpha\":1.0,\"line_color\":\"black\",\"line_dash\":[4,4],\"line_width\":2,\"right_units\":\"screen\",\"syncable\":false,\"top_units\":\"screen\"},\"id\":\"8473\",\"type\":\"BoxAnnotation\"},{\"attributes\":{\"dimension\":\"lat\"},\"id\":\"8484\",\"type\":\"MercatorTickFormatter\"},{\"attributes\":{\"dimension\":\"lon\"},\"id\":\"8481\",\"type\":\"MercatorTicker\"},{\"attributes\":{},\"id\":\"8487\",\"type\":\"AllLabels\"},{\"attributes\":{\"match_aspect\":true,\"overlay\":{\"id\":\"8473\"}},\"id\":\"8471\",\"type\":\"BoxZoomTool\"},{\"attributes\":{\"dimension\":\"lon\"},\"id\":\"8482\",\"type\":\"MercatorTickFormatter\"},{\"attributes\":{\"dimension\":\"lat\"},\"id\":\"8483\",\"type\":\"MercatorTicker\"},{\"attributes\":{},\"id\":\"8530\",\"type\":\"UnionRenderers\"},{\"attributes\":{\"data\":{\"Ride_name\":[\"Alien Swirling Saucers\",\"Astro Orbiter\",\"Avatar Flight of Passage\",\"Back to the Future\",\"Big Thunder Mountain Railroad\",\"Buzz Lightyears Space Ranger Spin\",\"Camp Jurassic\",\"Caro-Seuss-el\",\"Carousel of Progress\",\"Castaway Creek\",\"Arctic Expeditions\",\"Cross County Creek\",\"Crush n' Gusher\",\"Despicable Me Minion Mayhem\",\"The Dino Institute Shop\",\"Fast & Furious - Supercharged\",\"Downhill Double Dipper\",\"Cafe 4\",\"Hagrid's Magical Creatures Motorbike Adventure\",\"Dudley Do Rights Ripsaw Falls\",\"Dumbo\",\"E.T Adventure\",\"Guardians of the Galaxy: Cosmic Rewind\",\"Expedition Everest\",\"Fievel's Playground\",\"Flight of the Hippogriff\",\"Frozen Ever After\",\"Plaza de Los Amigos\",\"Great Movie Ride\",\"Harry Potter and the Escape from Gringotts\",\"Harry Potter and the Forbidden Journey\",\"Haunted Mansion\",\"Hollywood Rip Ride Rocket\",\"Humunga Kowabunga\",\"If I Ran the Zoo\",\"It's A Small World\",\"Journey info Imagination with Figment\",\"Jungle Cruise\",\"Jurassic Park River Adventure\",\"VelociCoaster\",\"Kala & Tai Nui Serpentine Body Slides\",\"Kali River Rapids\",\"Kang & Kodos Twirl n' Hurl\",\"Kilimanjaro Safaris Expedition\",\"Ko'okiri Body Plunge\",\"Kopiko Wai Winding River\",\"Liberty Riverboat\",\"Living with the Land\",\"Mad Tea Party\",\"Maelstrom\",\"Mayday Falls\",\"Melt-away Bay\",\"Men In Black\",\"Mickey & Minnie's Runaway Railway\",\"Millennium Falcon: Smugglers Run\",\"Typhoon Tillie's\",\"Mission: Space\",\"Na'vi River Journey\",\"Ohno Drop Slide\",\"Peter Pan's Flight\",\"Pirates of the Caribbean\",\"Poseidon's Fury\",\"Dino Diner\",\"Prince Charming Regal Carousel\",\"Puihi Raft Ride\",\"Punga Racers\",\"Remy' s Ratatouille Adventure\",\"Revenge of the Mummy\",\"Rock 'n' Roller Coaster Starring Aerosmith\",\"Runamukka Reef\",\"Seven Dwarfs Mine Train\",\"Slinky Dog Dash\",\"Slush Gusher\",\"Princess Fairytale Hall\",\"Soarin' Around the World\",\"Space Mountain\",\"Spaceship Earth\",\"Splash Mountain\",\"Star Tours: The Adventure Continues\",\"Star Wars: Rise of the Resistance\",\"Storm Force Acceleration\",\"Storm Slides\",\"Mount Gushmore Station\",\"Surf Pool\",\"Surf Pool\",\"Teamboat Springs\",\"Te'awa The Fearless River\",\"The Bourne Stuntacular\",\"Test Track\",\"The Amazing Adventures of Spiderman\",\"The Barnstormer\",\"The Cat In The Hat\",\"The Incredible Hulk Coaster\",\"Liberty Square Riverboat Landing\",\"The Magic Carpets of Aladdin\",\"The Many Adventures of Winnie the Pooh\",\"The Seas with Nemo & Friends\",\"The Simpsons Ride\",\"The Twilight Zone Tower of Terror\",\"Toboggan Racers\",\"Tomorrowland Speedway\",\"Tomorrowland Transit Authority People Mover\",\"Toy Story Midway Mania!\",\"Transformers: The Ride 3D\",\"Under the Sea - Journey of the Little Mermaid\",\"Walt Disney World Railroad\",\"Wildlife Express\"],\"color\":[\"Alien Swirling Saucers\",\"Astro Orbiter\",\"Avatar Flight of Passage\",\"Back to the Future\",\"Big Thunder Mountain Railroad\",\"Buzz Lightyears Space Ranger Spin\",\"Camp Jurassic\",\"Caro-Seuss-el\",\"Carousel of Progress\",\"Castaway Creek\",\"Arctic Expeditions\",\"Cross County Creek\",\"Crush n' Gusher\",\"Despicable Me Minion Mayhem\",\"The Dino Institute Shop\",\"Fast & Furious - Supercharged\",\"Downhill Double Dipper\",\"Cafe 4\",\"Hagrid's Magical Creatures Motorbike Adventure\",\"Dudley Do Rights Ripsaw Falls\",\"Dumbo\",\"E.T Adventure\",\"Guardians of the Galaxy: Cosmic Rewind\",\"Expedition Everest\",\"Fievel's Playground\",\"Flight of the Hippogriff\",\"Frozen Ever After\",\"Plaza de Los Amigos\",\"Great Movie Ride\",\"Harry Potter and the Escape from Gringotts\",\"Harry Potter and the Forbidden Journey\",\"Haunted Mansion\",\"Hollywood Rip Ride Rocket\",\"Humunga Kowabunga\",\"If I Ran the Zoo\",\"It's A Small World\",\"Journey info Imagination with Figment\",\"Jungle Cruise\",\"Jurassic Park River Adventure\",\"VelociCoaster\",\"Kala & Tai Nui Serpentine Body Slides\",\"Kali River Rapids\",\"Kang & Kodos Twirl n' Hurl\",\"Kilimanjaro Safaris Expedition\",\"Ko'okiri Body Plunge\",\"Kopiko Wai Winding River\",\"Liberty Riverboat\",\"Living with the Land\",\"Mad Tea Party\",\"Maelstrom\",\"Mayday Falls\",\"Melt-away Bay\",\"Men In Black\",\"Mickey & Minnie's Runaway Railway\",\"Millennium Falcon: Smugglers Run\",\"Typhoon Tillie's\",\"Mission: Space\",\"Na'vi River Journey\",\"Ohno Drop Slide\",\"Peter Pan's Flight\",\"Pirates of the Caribbean\",\"Poseidon's Fury\",\"Dino Diner\",\"Prince Charming Regal Carousel\",\"Puihi Raft Ride\",\"Punga Racers\",\"Remy' s Ratatouille Adventure\",\"Revenge of the Mummy\",\"Rock 'n' Roller Coaster Starring Aerosmith\",\"Runamukka Reef\",\"Seven Dwarfs Mine Train\",\"Slinky Dog Dash\",\"Slush Gusher\",\"Princess Fairytale Hall\",\"Soarin' Around the World\",\"Space Mountain\",\"Spaceship Earth\",\"Splash Mountain\",\"Star Tours: The Adventure Continues\",\"Star Wars: Rise of the Resistance\",\"Storm Force Acceleration\",\"Storm Slides\",\"Mount Gushmore Station\",\"Surf Pool\",\"Surf Pool\",\"Teamboat Springs\",\"Te'awa The Fearless River\",\"The Bourne Stuntacular\",\"Test Track\",\"The Amazing Adventures of Spiderman\",\"The Barnstormer\",\"The Cat In The Hat\",\"The Incredible Hulk Coaster\",\"Liberty Square Riverboat Landing\",\"The Magic Carpets of Aladdin\",\"The Many Adventures of Winnie the Pooh\",\"The Seas with Nemo & Friends\",\"The Simpsons Ride\",\"The Twilight Zone Tower of Terror\",\"Toboggan Racers\",\"Tomorrowland Speedway\",\"Tomorrowland Transit Authority People Mover\",\"Toy Story Midway Mania!\",\"Transformers: The Ride 3D\",\"Under the Sea - Journey of the Little Mermaid\",\"Walt Disney World Railroad\",\"Wildlife Express\"],\"incident_count\":[1,2,15,1,12,13,3,6,2,5,2,2,2,4,14,4,4,2,14,4,1,7,8,38,2,1,1,4,6,4,44,12,14,3,1,3,2,6,2,1,5,6,1,21,1,3,1,1,10,1,7,3,6,2,2,2,36,1,1,8,11,2,1,10,1,1,1,17,23,1,4,2,1,2,9,39,12,10,16,1,1,5,1,1,14,4,3,1,6,3,2,1,11,4,1,1,10,3,16,2,9,6,7,2,6,2,1],\"lat\":{\"__ndarray__\":\"1+yE5V8hSUGbzB6B4zBJQf40/t0tIUlBpIP6ZD1ASUFA7/BHUzFJQdMuH1XJMElBTPJ0TqQ9SUHGxY5sWj5JQedC7Nu6MElBCMx8e9YjSUGJFbbZiiBJQVxwh18oIElB60Hj2y4kSUGslkBb9D5JQcLxN8ZGIUlB809Mm7c/SUFBjTOYPiBJQRzVctDdPUlBNzI4un0+SUFO7EcRcT1JQWuRX8leMUlBtkSGi4Y/SUEW5kIcSSZJQepwygn1IUlBIIZe5q4/SUGLlrcXPz5JQdJjsTweJUlBNwvof1QlSUFgcyUvhiFJQfa0ylYnQElBh8qnQRg+SUEPE4UbfjFJQfWrT1rePklBH/KOdAUkSUEI2DfATT5JQezmMtl2MUlBGWP6M5wlSUEsjJLxxDBJQdKbfx+0PUlBXBUAyOk9SUGIdJ0egjtJQcYV9hZMIklB6Sg6le4/SUGhyAl/ySNJQVXaZlSZO0lB6tXf+4w7SUFTh5KMMTFJQUd9F8nmJUlBeKhX9kUxSUHSY7E8HiVJQWRnIG/SI0lB50TE7lAgSUFoEy2xVkBJQWBzJS+GIUlBSc1w1e8gSUHWoklvHiRJQUtQkTDiJUlB8AIixSchSUGEHzUsdjtJQVpjkNZQMUlB5py+9rYwSUHpZVNnez5JQb9xYMimIUlBWrqtUVIxSUEXm20SKDtJQeqkmzJ1O0lBtN0XWmgkSUGDBBSzVj9JQZvyD+tbIklBOEFrLZg7SUH42Rt0azFJQUAbrX+SIUlB60Hj2y4kSUFtc6o1PjFJQSv0suihJUlB1m6b3A4xSUFiPYvcOSZJQcVnXCUXMUlBiqWfnUIhSUFjLQF5+SBJQRNEHkjjPUlBoUqpQg4kSUEUReAIbyBJQUhCA0XdI0lBSEIDRd0jSUHH3qVhdSBJQcUS3IBTO0lBA6TVXB0/SUEtNbMgoSVJQZCKrLCOPUlBiiZ6kGoxSUFKSftNXD5JQQ969DwDPklBx6QDRysxSUHUdK4g5TBJQZPUBatEMUlBju2GPD0mSUG+M6+w+j9JQfHRDUZzIklBiS6AY1kgSUEXMhWdIDFJQcpeYzbtMElBAQyvG3ghSUH3dgdlOT9JQRiqaPOaMUlB24kHURsxSUE7EdP4zyJJQQ==\",\"dtype\":\"float64\",\"order\":\"little\",\"shape\":[107]},\"lon\":{\"__ndarray__\":\"4OQ+QVxRYcFUH8C5QFJhwfsCCfz+UmHBMFaoAylMYcGaUpTeiVJhwYmzS4JHUmHBHphIzXlMYcG2chj0TExhwZCIcK48UmHBN4imeoJPYcG5aFaX/1FhwRO/twcKUmHBQL3VpnFPYcEAafi8OExhwdjxbuu9UmHBA7NQwFNMYcH+/j1wEVJhwQaI0ExITGHBcrPDsIJMYcGqMGJHakxhwcLInG88UmHBOgp58yFMYcE8yQTIilBhwbhNH0erUmHBVEh7hyJMYcFtIms1h0xhwT5NVap2UGHBCivMG4RQYcHQ+Z0ZPVFhwZOqb2FSTGHByjFm5YhMYcHV+RrGdFJhwa5+HZI6TGHBDfzzeZxPYcEUdhxsT0xhwVzVVdpoUmHB3hFvdL1QYcFkBfEJfVJhwcYy5XyGTGHBrYtWKnRMYcFtXU9qekxhwS5LAmW+UmHBv1oxoDZMYcGgJLtIFFNhwb9dPJR8TGHBfM/mBYNMYcFO49KadVJhwQOqq5XSUGHBOqKaFElSYcE+TVWqdlBhwVcWIRqcT2HBy9ymeQBSYcGLkkZJMExhwdD5nRk9UWHB2qchvU1RYcEL4rfxjU9hweems6V7UGHBaxUpKPZSYcH3nK/1dUxhwf8oZp1oUmHBbb/U+o9SYcGSOBspYExhwVVSUkG5UmHBRuDPPl1SYcH07R8eg0xhwXwxMdV9TGHBQfEeWNJQYcFR7ESpUUxhwex+cmtTUWHByG4T5IVMYcFIVUjeS1JhwR7rLSpiUWHBQL3VpnFPYcGVrlAHWFJhwTAS1OfVUGHBo7pu5yVSYcFpgXCpolBhwTENfqySUmHB4vVWciNRYcF3O/idPVFhwZ1d9h4/TGHBIjVHXJ5PYcF2uh38EVJhwc527cyPT2HBznbtzI9PYcEY38iCFFJhwZwQZa6DTGHBP1RXAidMYcGv29BYhFBhwfuihqhLTGHBsWqmUTZSYcFbFxZ9QExhwUAWDNRATGHB19TylnNSYcFhF+XvfFJhwS4H/sBRUmHBB77LQbdQYcFNSMczL0xhwTiPqXE1UWHBfdUqDxFSYcHdiTcLQ1JhwTETmKQ8UmHBtcPuv0hRYcFj7JMjPExhwQ5zjvRHUmHBs747Ei5SYcG9jyw58VJhwQ==\",\"dtype\":\"float64\",\"order\":\"little\",\"shape\":[107]},\"size\":{\"__ndarray__\":\"AAAAAAAAFEDACh8AxkgcQEiR0S5rXTNAAAAAAAAAFEDqLzfRDFIxQDjYvAobBzJA6i830QxSIUB6aQuZsX4oQMAKHwDGSBxA0vF9glVcJkDACh8AxkgcQMAKHwDGSBxAwAofAMZIHEAAAAAAAAAkQI4n4UpStTJAAAAAAAAAJEAAAAAAAAAkQMAKHwDGSBxAjifhSlK1MkAAAAAAAAAkQAAAAAAAABRAJLdHlB91KkDACh8AxkgsQO/HNC5z0j5AwAofAMZIHEAAAAAAAAAUQAAAAAAAABRAAAAAAAAAJEB6aQuZsX4oQAAAAAAAACRAgGV+nEeVQEDqLzfRDFIxQI4n4UpStTJA6i830QxSIUAAAAAAAAAUQOovN9EMUiFAwAofAMZIHEB6aQuZsX4oQMAKHwDGSBxAAAAAAAAAFEDS8X2CVVwmQHppC5mxfihAAAAAAAAAFEAmZlpnsuk2QAAAAAAAABRA6i830QxSIUAAAAAAAAAUQAAAAAAAABRAKPKQSW6fL0AAAAAAAAAUQCS3R5QfdSpA6i830QxSIUB6aQuZsX4oQMAKHwDGSBxAwAofAMZIHEDACh8AxkgcQAAAAAAAAD5AAAAAAAAAFEAAAAAAAAAUQMAKHwDGSCxAgGV+nEeVMEDACh8AxkgcQAAAAAAAABRAKPKQSW6fL0AAAAAAAAAUQAAAAAAAABRAAAAAAAAAFEBJ6FtAk500QBzF1BKq+jdAAAAAAAAAFEAAAAAAAAAkQMAKHwDGSBxAAAAAAAAAFEDACh8AxkgcQAAAAAAAAC5AbIix8Zg5P0DqLzfRDFIxQCjykEluny9AAAAAAAAANEAAAAAAAAAUQAAAAAAAABRA0vF9glVcJkAAAAAAAAAUQAAAAAAAABRAjifhSlK1MkAAAAAAAAAkQOovN9EMUiFAAAAAAAAAFEB6aQuZsX4oQOovN9EMUiFAwAofAMZIHEAAAAAAAAAUQIBlfpxHlTBAAAAAAAAAJEAAAAAAAAAUQAAAAAAAABRAKPKQSW6fL0DqLzfRDFIhQAAAAAAAADRAwAofAMZIHEAAAAAAAAAuQHppC5mxfihAJLdHlB91KkDACh8AxkgcQHppC5mxfihAwAofAMZIHEAAAAAAAAAUQA==\",\"dtype\":\"float64\",\"order\":\"little\",\"shape\":[107]}},\"selected\":{\"id\":\"8514\"},\"selection_policy\":{\"id\":\"8530\"}},\"id\":\"8513\",\"type\":\"ColumnDataSource\"},{\"attributes\":{\"zoom_on_axis\":false},\"id\":\"8470\",\"type\":\"WheelZoomTool\"},{\"attributes\":{},\"id\":\"8469\",\"type\":\"PanTool\"},{\"attributes\":{\"source\":{\"id\":\"8513\"}},\"id\":\"8522\",\"type\":\"CDSView\"},{\"attributes\":{\"fill_alpha\":{\"value\":0.75},\"fill_color\":{\"field\":\"color\",\"transform\":{\"id\":\"8512\"}},\"hatch_alpha\":{\"value\":0.75},\"hatch_color\":{\"field\":\"color\",\"transform\":{\"id\":\"8512\"}},\"line_alpha\":{\"value\":0.75},\"line_color\":{\"field\":\"color\",\"transform\":{\"id\":\"8512\"}},\"size\":{\"field\":\"size\"},\"tags\":[\"apply_ranges\"],\"x\":{\"field\":\"lon\"},\"y\":{\"field\":\"lat\"}},\"id\":\"8519\",\"type\":\"Scatter\"},{\"attributes\":{},\"id\":\"8468\",\"type\":\"SaveTool\"},{\"attributes\":{\"attribution\":\"&copy; <a href=\\\"https://www.openstreetmap.org/copyright\\\">OpenStreetMap</a> contributors, &copy; <a href=\\\"https://cartodb.com/attributions\\\">CartoDB</a>\",\"url\":\"https://cartodb-basemaps-4.global.ssl.fastly.net/light_all/{Z}/{X}/{Y}.png\"},\"id\":\"8507\",\"type\":\"WMTSTileSource\"},{\"attributes\":{\"code\":\"\\n        var projections = Bokeh.require(\\\"core/util/projections\\\");\\n        var x = special_vars.data_x\\n        var y = special_vars.data_y\\n        var coords = projections.wgs84_mercator.invert(x, y)\\n        return \\\"\\\" + (coords[0]).toFixed(4)\\n    \"},\"id\":\"8523\",\"type\":\"CustomJSHover\"},{\"attributes\":{},\"id\":\"8456\",\"type\":\"LinearScale\"},{\"attributes\":{\"axis_label\":\"y\",\"coordinates\":null,\"formatter\":{\"id\":\"8484\"},\"group\":null,\"major_label_policy\":{\"id\":\"8494\"},\"ticker\":{\"id\":\"8483\"}},\"id\":\"8464\",\"type\":\"LinearAxis\"},{\"attributes\":{\"fill_alpha\":{\"value\":0.2},\"fill_color\":{\"field\":\"color\",\"transform\":{\"id\":\"8512\"}},\"hatch_alpha\":{\"value\":0.2},\"hatch_color\":{\"field\":\"color\",\"transform\":{\"id\":\"8512\"}},\"line_alpha\":{\"value\":0.2},\"line_color\":{\"field\":\"color\",\"transform\":{\"id\":\"8512\"}},\"size\":{\"field\":\"size\"},\"tags\":[\"apply_ranges\"],\"x\":{\"field\":\"lon\"},\"y\":{\"field\":\"lat\"}},\"id\":\"8520\",\"type\":\"Scatter\"},{\"attributes\":{\"fill_alpha\":{\"value\":0.75},\"fill_color\":{\"field\":\"color\",\"transform\":{\"id\":\"8512\"}},\"hatch_alpha\":{\"value\":0.75},\"hatch_color\":{\"field\":\"color\",\"transform\":{\"id\":\"8512\"}},\"line_alpha\":{\"value\":0.75},\"line_color\":{\"field\":\"color\",\"transform\":{\"id\":\"8512\"}},\"size\":{\"field\":\"size\"},\"tags\":[\"apply_ranges\"],\"x\":{\"field\":\"lon\"},\"y\":{\"field\":\"lat\"}},\"id\":\"8518\",\"type\":\"Scatter\"},{\"attributes\":{\"children\":[{\"id\":\"8451\"}],\"height\":750,\"margin\":[0,0,0,0],\"name\":\"Row08694\",\"sizing_mode\":\"fixed\",\"tags\":[\"embedded\"],\"width\":750},\"id\":\"8441\",\"type\":\"Row\"},{\"attributes\":{\"below\":[{\"id\":\"8460\"}],\"center\":[{\"id\":\"8463\"},{\"id\":\"8467\"}],\"frame_height\":750,\"frame_width\":750,\"height\":750,\"left\":[{\"id\":\"8464\"}],\"margin\":[5,5,5,5],\"match_aspect\":true,\"min_border_bottom\":10,\"min_border_left\":10,\"min_border_right\":10,\"min_border_top\":10,\"output_backend\":\"webgl\",\"renderers\":[{\"id\":\"8510\"},{\"id\":\"8521\"}],\"sizing_mode\":\"fixed\",\"title\":{\"id\":\"8452\"},\"toolbar\":{\"id\":\"8474\"},\"width\":750,\"x_range\":{\"id\":\"8446\"},\"x_scale\":{\"id\":\"8456\"},\"y_range\":{\"id\":\"8447\"},\"y_scale\":{\"id\":\"8458\"}},\"id\":\"8451\",\"subtype\":\"Figure\",\"type\":\"Plot\"},{\"attributes\":{\"end\":3311388.89601426,\"min_interval\":5,\"reset_end\":3311388.89601426,\"reset_start\":3291617.2343390207,\"start\":3291617.2343390207,\"tags\":[[[\"lat\",\"lat\",null]]]},\"id\":\"8447\",\"type\":\"Range1d\"},{\"attributes\":{},\"id\":\"8458\",\"type\":\"LinearScale\"},{\"attributes\":{\"axis\":{\"id\":\"8464\"},\"coordinates\":null,\"dimension\":1,\"grid_line_color\":null,\"group\":null,\"ticker\":null},\"id\":\"8467\",\"type\":\"Grid\"},{\"attributes\":{\"callback\":null,\"formatters\":{\"$x\":{\"id\":\"8523\"},\"$y\":{\"id\":\"8524\"}},\"renderers\":[{\"id\":\"8521\"}],\"tags\":[\"hv_created\"],\"tooltips\":[[\"lon\",\"$x{custom}\"],[\"lat\",\"$y{custom}\"],[\"Ride_name\",\"@{Ride_name}\"],[\"incident_count\",\"@{incident_count}\"]]},\"id\":\"8450\",\"type\":\"HoverTool\"},{\"attributes\":{\"code\":\"\\n        var projections = Bokeh.require(\\\"core/util/projections\\\");\\n        var x = special_vars.data_x\\n        var y = special_vars.data_y\\n        var coords = projections.wgs84_mercator.invert(x, y)\\n        return \\\"\\\" + (coords[1]).toFixed(4)\\n    \"},\"id\":\"8524\",\"type\":\"CustomJSHover\"},{\"attributes\":{\"coordinates\":null,\"group\":null,\"text\":\"all_parks\",\"text_color\":\"black\",\"text_font_size\":\"12pt\"},\"id\":\"8452\",\"type\":\"Title\"},{\"attributes\":{\"axis_label\":\"x\",\"coordinates\":null,\"formatter\":{\"id\":\"8482\"},\"group\":null,\"major_label_policy\":{\"id\":\"8487\"},\"ticker\":{\"id\":\"8481\"}},\"id\":\"8460\",\"type\":\"LinearAxis\"},{\"attributes\":{\"fill_alpha\":{\"value\":0.75},\"fill_color\":{\"field\":\"color\",\"transform\":{\"id\":\"8512\"}},\"hatch_alpha\":{\"value\":0.75},\"hatch_color\":{\"field\":\"color\",\"transform\":{\"id\":\"8512\"}},\"line_alpha\":{\"value\":0.75},\"line_color\":{\"field\":\"color\",\"transform\":{\"id\":\"8512\"}},\"size\":{\"field\":\"size\"},\"tags\":[\"apply_ranges\"],\"x\":{\"field\":\"lon\"},\"y\":{\"field\":\"lat\"}},\"id\":\"8516\",\"type\":\"Scatter\"},{\"attributes\":{\"axis\":{\"id\":\"8460\"},\"coordinates\":null,\"grid_line_color\":null,\"group\":null,\"ticker\":null},\"id\":\"8463\",\"type\":\"Grid\"},{\"attributes\":{\"factors\":[\"Alien Swirling Saucers\",\"Astro Orbiter\",\"Avatar Flight of Passage\",\"Back to the Future\",\"Big Thunder Mountain Railroad\",\"Buzz Lightyears Space Ranger Spin\",\"Camp Jurassic\",\"Caro-Seuss-el\",\"Carousel of Progress\",\"Castaway Creek\",\"Arctic Expeditions\",\"Cross County Creek\",\"Crush n' Gusher\",\"Despicable Me Minion Mayhem\",\"The Dino Institute Shop\",\"Fast & Furious - Supercharged\",\"Downhill Double Dipper\",\"Cafe 4\",\"Hagrid's Magical Creatures Motorbike Adventure\",\"Dudley Do Rights Ripsaw Falls\",\"Dumbo\",\"E.T Adventure\",\"Guardians of the Galaxy: Cosmic Rewind\",\"Expedition Everest\",\"Fievel's Playground\",\"Flight of the Hippogriff\",\"Frozen Ever After\",\"Plaza de Los Amigos\",\"Great Movie Ride\",\"Harry Potter and the Escape from Gringotts\",\"Harry Potter and the Forbidden Journey\",\"Haunted Mansion\",\"Hollywood Rip Ride Rocket\",\"Humunga Kowabunga\",\"If I Ran the Zoo\",\"It's A Small World\",\"Journey info Imagination with Figment\",\"Jungle Cruise\",\"Jurassic Park River Adventure\",\"VelociCoaster\",\"Kala & Tai Nui Serpentine Body Slides\",\"Kali River Rapids\",\"Kang & Kodos Twirl n' Hurl\",\"Kilimanjaro Safaris Expedition\",\"Ko'okiri Body Plunge\",\"Kopiko Wai Winding River\",\"Liberty Riverboat\",\"Living with the Land\",\"Mad Tea Party\",\"Maelstrom\",\"Mayday Falls\",\"Melt-away Bay\",\"Men In Black\",\"Mickey & Minnie's Runaway Railway\",\"Millennium Falcon: Smugglers Run\",\"Typhoon Tillie's\",\"Mission: Space\",\"Na'vi River Journey\",\"Ohno Drop Slide\",\"Peter Pan's Flight\",\"Pirates of the Caribbean\",\"Poseidon's Fury\",\"Dino Diner\",\"Prince Charming Regal Carousel\",\"Puihi Raft Ride\",\"Punga Racers\",\"Remy' s Ratatouille Adventure\",\"Revenge of the Mummy\",\"Rock 'n' Roller Coaster Starring Aerosmith\",\"Runamukka Reef\",\"Seven Dwarfs Mine Train\",\"Slinky Dog Dash\",\"Slush Gusher\",\"Princess Fairytale Hall\",\"Soarin' Around the World\",\"Space Mountain\",\"Spaceship Earth\",\"Splash Mountain\",\"Star Tours: The Adventure Continues\",\"Star Wars: Rise of the Resistance\",\"Storm Force Acceleration\",\"Storm Slides\",\"Mount Gushmore Station\",\"Surf Pool\",\"Teamboat Springs\",\"Te'awa The Fearless River\",\"The Bourne Stuntacular\",\"Test Track\",\"The Amazing Adventures of Spiderman\",\"The Barnstormer\",\"The Cat In The Hat\",\"The Incredible Hulk Coaster\",\"Liberty Square Riverboat Landing\",\"The Magic Carpets of Aladdin\",\"The Many Adventures of Winnie the Pooh\",\"The Seas with Nemo & Friends\",\"The Simpsons Ride\",\"The Twilight Zone Tower of Terror\",\"Toboggan Racers\",\"Tomorrowland Speedway\",\"Tomorrowland Transit Authority People Mover\",\"Toy Story Midway Mania!\",\"Transformers: The Ride 3D\",\"Under the Sea - Journey of the Little Mermaid\",\"Walt Disney World Railroad\",\"Wildlife Express\"],\"palette\":[\"#1f77b3\",\"#ff7e0e\",\"#2ba02b\",\"#d62628\",\"#9367bc\",\"#8c564b\",\"#e277c1\",\"#7e7e7e\",\"#bcbc21\",\"#16bdcf\",\"#3a0182\",\"#004201\",\"#0fffa8\",\"#5d003f\",\"#bcbcff\",\"#d8afa1\",\"#b80080\",\"#004d52\",\"#6b6400\",\"#7c0100\",\"#6026ff\",\"#ffff9a\",\"#564964\",\"#8cb893\",\"#93fbff\",\"#018267\",\"#90ff00\",\"#8200a0\",\"#ac8944\",\"#5b3400\",\"#ffbff2\",\"#ff6e75\",\"#798cff\",\"#dd00ff\",\"#505646\",\"#004489\",\"#ffbf60\",\"#ff018c\",\"#bdc8cf\",\"#af97b5\",\"#b65600\",\"#017000\",\"#cd87ff\",\"#1cd646\",\"#bfebc3\",\"#7997b5\",\"#a56089\",\"#6e8956\",\"#bc7c75\",\"#8a2844\",\"#00acff\",\"#8ed4ff\",\"#4b6d77\",\"#00d4b1\",\"#9300f2\",\"#8a9500\",\"#5d5b9e\",\"#fddfba\",\"#00939e\",\"#ffdb00\",\"#00aa79\",\"#520067\",\"#000091\",\"#0a5d3d\",\"#a5e275\",\"#623b41\",\"#c6c689\",\"#ff9eb5\",\"#cd4f6b\",\"#ff07d6\",\"#8a3a05\",\"#7e3d70\",\"#ff4901\",\"#602ba5\",\"#1c00ff\",\"#e6dfff\",\"#aa3baf\",\"#d89c00\",\"#a3a39e\",\"#3f69ff\",\"#46490c\",\"#7b6985\",\"#6b978c\",\"#ff9a75\",\"#835bff\",\"#7c6b46\",\"#80b654\",\"#bc0049\",\"#fd93ff\",\"#5d0018\",\"#89d1d1\",\"#9c8cd3\",\"#da6d42\",\"#8a5700\",\"#3b5069\",\"#4b6b3b\",\"#edcfd8\",\"#cfedff\",\"#aa1500\",\"#dfff4f\",\"#ff2a56\",\"#d1499e\",\"#707cb8\",\"#598000\",\"#00e4fd\",\"#774b95\"]},\"id\":\"8512\",\"type\":\"CategoricalColorMapper\"},{\"attributes\":{\"active_drag\":{\"id\":\"8469\"},\"tools\":[{\"id\":\"8450\"},{\"id\":\"8468\"},{\"id\":\"8469\"},{\"id\":\"8470\"},{\"id\":\"8471\"},{\"id\":\"8472\"}]},\"id\":\"8474\",\"type\":\"Toolbar\"}],\"root_ids\":[\"8441\"]},\"title\":\"Bokeh Application\",\"version\":\"2.4.3\"}};\n",
       "    var render_items = [{\"docid\":\"2f421247-1a11-4dfe-baf7-2701757f6efd\",\"root_ids\":[\"8441\"],\"roots\":{\"8441\":\"2df0ad88-29c1-408b-b0f8-3d212ca20e7a\"}}];\n",
       "    root.Bokeh.embed.embed_items_notebook(docs_json, render_items);\n",
       "    for (const render_item of render_items) {\n",
       "      for (const root_id of render_item.root_ids) {\n",
       "\tconst id_el = document.getElementById(root_id)\n",
       "\tif (id_el.children.length && (id_el.children[0].className === 'bk-root')) {\n",
       "\t  const root_el = id_el.children[0]\n",
       "\t  root_el.id = root_el.id + '-rendered'\n",
       "\t}\n",
       "      }\n",
       "    }\n",
       "  }\n",
       "  if (root.Bokeh !== undefined && root.Bokeh.Panel !== undefined) {\n",
       "    embed_document(root);\n",
       "  } else {\n",
       "    var attempts = 0;\n",
       "    var timer = setInterval(function(root) {\n",
       "      if (root.Bokeh !== undefined && root.Bokeh.Panel !== undefined) {\n",
       "        clearInterval(timer);\n",
       "        embed_document(root);\n",
       "      } else if (document.readyState == \"complete\") {\n",
       "        attempts++;\n",
       "        if (attempts > 200) {\n",
       "          clearInterval(timer);\n",
       "          console.log(\"Bokeh: ERROR: Unable to run BokehJS code because BokehJS library is missing\");\n",
       "        }\n",
       "      }\n",
       "    }, 25, root)\n",
       "  }\n",
       "})(window);</script>"
      ],
      "text/plain": [
       ":Overlay\n",
       "   .Tiles.I  :Tiles   [x,y]\n",
       "   .Points.I :Points   [lon,lat]   (Ride_name,incident_count)"
      ]
     },
     "execution_count": 65,
     "metadata": {
      "application/vnd.holoviews_exec.v0+json": {
       "id": "8441"
      }
     },
     "output_type": "execute_result"
    }
   ],
   "source": [
    "plot_mapping_data(mapping_data, title=\"all_parks\")\n",
    "#adding comment\n"
   ]
  },
  {
   "cell_type": "markdown",
   "id": "0aaa41fc",
   "metadata": {},
   "source": [
    "## Disney Parks"
   ]
  },
  {
   "cell_type": "code",
   "execution_count": 95,
   "id": "bdc21644",
   "metadata": {
    "scrolled": false
   },
   "outputs": [
    {
     "data": {},
     "metadata": {},
     "output_type": "display_data"
    },
    {
     "data": {
      "application/vnd.holoviews_exec.v0+json": "",
      "text/html": [
       "<div id='16924'>\n",
       "  <div class=\"bk-root\" id=\"873dc35a-56bc-4b47-b1b9-7e99c93235da\" data-root-id=\"16924\"></div>\n",
       "</div>\n",
       "<script type=\"application/javascript\">(function(root) {\n",
       "  function embed_document(root) {\n",
       "    var docs_json = {\"1260922a-da62-424b-b39a-f7702ebfd6f6\":{\"defs\":[{\"extends\":null,\"module\":null,\"name\":\"ReactiveHTML1\",\"overrides\":[],\"properties\":[]},{\"extends\":null,\"module\":null,\"name\":\"FlexBox1\",\"overrides\":[],\"properties\":[{\"default\":\"flex-start\",\"kind\":null,\"name\":\"align_content\"},{\"default\":\"flex-start\",\"kind\":null,\"name\":\"align_items\"},{\"default\":\"row\",\"kind\":null,\"name\":\"flex_direction\"},{\"default\":\"wrap\",\"kind\":null,\"name\":\"flex_wrap\"},{\"default\":\"flex-start\",\"kind\":null,\"name\":\"justify_content\"}]},{\"extends\":null,\"module\":null,\"name\":\"GridStack1\",\"overrides\":[],\"properties\":[{\"default\":\"warn\",\"kind\":null,\"name\":\"mode\"},{\"default\":null,\"kind\":null,\"name\":\"ncols\"},{\"default\":null,\"kind\":null,\"name\":\"nrows\"},{\"default\":true,\"kind\":null,\"name\":\"allow_resize\"},{\"default\":true,\"kind\":null,\"name\":\"allow_drag\"},{\"default\":[],\"kind\":null,\"name\":\"state\"}]},{\"extends\":null,\"module\":null,\"name\":\"click1\",\"overrides\":[],\"properties\":[{\"default\":\"\",\"kind\":null,\"name\":\"terminal_output\"},{\"default\":\"\",\"kind\":null,\"name\":\"debug_name\"},{\"default\":0,\"kind\":null,\"name\":\"clears\"}]},{\"extends\":null,\"module\":null,\"name\":\"NotificationAreaBase1\",\"overrides\":[],\"properties\":[{\"default\":\"bottom-right\",\"kind\":null,\"name\":\"position\"},{\"default\":0,\"kind\":null,\"name\":\"_clear\"}]},{\"extends\":null,\"module\":null,\"name\":\"NotificationArea1\",\"overrides\":[],\"properties\":[{\"default\":[],\"kind\":null,\"name\":\"notifications\"},{\"default\":\"bottom-right\",\"kind\":null,\"name\":\"position\"},{\"default\":0,\"kind\":null,\"name\":\"_clear\"},{\"default\":[{\"background\":\"#ffc107\",\"icon\":{\"className\":\"fas fa-exclamation-triangle\",\"color\":\"white\",\"tagName\":\"i\"},\"type\":\"warning\"},{\"background\":\"#007bff\",\"icon\":{\"className\":\"fas fa-info-circle\",\"color\":\"white\",\"tagName\":\"i\"},\"type\":\"info\"}],\"kind\":null,\"name\":\"types\"}]},{\"extends\":null,\"module\":null,\"name\":\"Notification\",\"overrides\":[],\"properties\":[{\"default\":null,\"kind\":null,\"name\":\"background\"},{\"default\":3000,\"kind\":null,\"name\":\"duration\"},{\"default\":null,\"kind\":null,\"name\":\"icon\"},{\"default\":\"\",\"kind\":null,\"name\":\"message\"},{\"default\":null,\"kind\":null,\"name\":\"notification_type\"},{\"default\":false,\"kind\":null,\"name\":\"_destroyed\"}]},{\"extends\":null,\"module\":null,\"name\":\"TemplateActions1\",\"overrides\":[],\"properties\":[{\"default\":0,\"kind\":null,\"name\":\"open_modal\"},{\"default\":0,\"kind\":null,\"name\":\"close_modal\"}]},{\"extends\":null,\"module\":null,\"name\":\"MaterialTemplateActions1\",\"overrides\":[],\"properties\":[{\"default\":0,\"kind\":null,\"name\":\"open_modal\"},{\"default\":0,\"kind\":null,\"name\":\"close_modal\"}]}],\"roots\":{\"references\":[{\"attributes\":{},\"id\":\"16997\",\"type\":\"Selection\"},{\"attributes\":{\"source\":{\"id\":\"16996\"}},\"id\":\"17005\",\"type\":\"CDSView\"},{\"attributes\":{\"callback\":null,\"formatters\":{\"$x\":{\"id\":\"17014\"},\"$y\":{\"id\":\"17015\"}},\"renderers\":[{\"id\":\"17004\"}],\"tags\":[\"hv_created\"],\"tooltips\":[[\"lon\",\"$x{custom}\"],[\"lat\",\"$y{custom}\"],[\"Ride_name\",\"@{Ride_name}\"],[\"incident_count\",\"@{incident_count}\"]]},\"id\":\"16933\",\"type\":\"HoverTool\"},{\"attributes\":{\"coordinates\":null,\"group\":null,\"level\":\"glyph\",\"tile_source\":{\"id\":\"16990\"}},\"id\":\"16993\",\"type\":\"TileRenderer\"},{\"attributes\":{\"axis\":{\"id\":\"16943\"},\"coordinates\":null,\"grid_line_color\":null,\"group\":null,\"ticker\":null},\"id\":\"16946\",\"type\":\"Grid\"},{\"attributes\":{\"attribution\":\"&copy; <a href=\\\"https://www.openstreetmap.org/copyright\\\">OpenStreetMap</a> contributors, &copy; <a href=\\\"https://cartodb.com/attributions\\\">CartoDB</a>\",\"url\":\"https://cartodb-basemaps-4.global.ssl.fastly.net/light_all/{Z}/{X}/{Y}.png\"},\"id\":\"16990\",\"type\":\"WMTSTileSource\"},{\"attributes\":{\"dimension\":\"lon\"},\"id\":\"16965\",\"type\":\"MercatorTickFormatter\"},{\"attributes\":{\"dimension\":\"lat\"},\"id\":\"16967\",\"type\":\"MercatorTickFormatter\"},{\"attributes\":{\"dimension\":\"lat\"},\"id\":\"16966\",\"type\":\"MercatorTicker\"},{\"attributes\":{\"bottom_units\":\"screen\",\"coordinates\":null,\"fill_alpha\":0.5,\"fill_color\":\"lightgrey\",\"group\":null,\"left_units\":\"screen\",\"level\":\"overlay\",\"line_alpha\":1.0,\"line_color\":\"black\",\"line_dash\":[4,4],\"line_width\":2,\"right_units\":\"screen\",\"syncable\":false,\"top_units\":\"screen\"},\"id\":\"16956\",\"type\":\"BoxAnnotation\"},{\"attributes\":{\"fill_alpha\":{\"value\":0.75},\"fill_color\":{\"field\":\"color\",\"transform\":{\"id\":\"16995\"}},\"hatch_alpha\":{\"value\":0.1},\"hatch_color\":{\"field\":\"color\",\"transform\":{\"id\":\"16995\"}},\"line_alpha\":{\"value\":0.75},\"line_color\":{\"field\":\"color\",\"transform\":{\"id\":\"16995\"}},\"size\":{\"field\":\"size\"},\"tags\":[\"apply_ranges\"],\"x\":{\"field\":\"lon\"},\"y\":{\"field\":\"lat\"}},\"id\":\"17000\",\"type\":\"Scatter\"},{\"attributes\":{\"dimension\":\"lon\"},\"id\":\"16964\",\"type\":\"MercatorTicker\"},{\"attributes\":{\"code\":\"\\n        var projections = Bokeh.require(\\\"core/util/projections\\\");\\n        var x = special_vars.data_x\\n        var y = special_vars.data_y\\n        var coords = projections.wgs84_mercator.invert(x, y)\\n        return \\\"\\\" + (coords[1]).toFixed(4)\\n    \"},\"id\":\"17015\",\"type\":\"CustomJSHover\"},{\"attributes\":{},\"id\":\"16970\",\"type\":\"AllLabels\"},{\"attributes\":{\"factors\":[\"Alien Swirling Saucers\",\"Astro Orbiter\",\"Avatar Flight of Passage\",\"Big Thunder Mountain Railroad\",\"Buzz Lightyears Space Ranger Spin\",\"Carousel of Progress\",\"Castaway Creek\",\"Arctic Expeditions\",\"Cross County Creek\",\"Crush n' Gusher\",\"The Dino Institute Shop\",\"Downhill Double Dipper\",\"Dumbo\",\"Guardians of the Galaxy: Cosmic Rewind\",\"Expedition Everest\",\"Frozen Ever After\",\"Plaza de Los Amigos\",\"Great Movie Ride\",\"Haunted Mansion\",\"Humunga Kowabunga\",\"It's A Small World\",\"Journey info Imagination with Figment\",\"Jungle Cruise\",\"Kali River Rapids\",\"Kilimanjaro Safaris Expedition\",\"Liberty Riverboat\",\"Living with the Land\",\"Mad Tea Party\",\"Maelstrom\",\"Mayday Falls\",\"Melt-away Bay\",\"Mickey & Minnie's Runaway Railway\",\"Millennium Falcon: Smugglers Run\",\"Typhoon Tillie's\",\"Mission: Space\",\"Na'vi River Journey\",\"Peter Pan's Flight\",\"Pirates of the Caribbean\",\"Dino Diner\",\"Prince Charming Regal Carousel\",\"Remy' s Ratatouille Adventure\",\"Rock 'n' Roller Coaster Starring Aerosmith\",\"Seven Dwarfs Mine Train\",\"Slinky Dog Dash\",\"Slush Gusher\",\"Princess Fairytale Hall\",\"Soarin' Around the World\",\"Space Mountain\",\"Spaceship Earth\",\"Splash Mountain\",\"Star Tours: The Adventure Continues\",\"Star Wars: Rise of the Resistance\",\"Storm Slides\",\"Mount Gushmore Station\",\"Surf Pool\",\"Teamboat Springs\",\"Test Track\",\"The Barnstormer\",\"Liberty Square Riverboat Landing\",\"The Magic Carpets of Aladdin\",\"The Many Adventures of Winnie the Pooh\",\"The Seas with Nemo & Friends\",\"The Twilight Zone Tower of Terror\",\"Toboggan Racers\",\"Tomorrowland Speedway\",\"Tomorrowland Transit Authority People Mover\",\"Toy Story Midway Mania!\",\"Under the Sea - Journey of the Little Mermaid\",\"Walt Disney World Railroad\",\"Wildlife Express\"],\"palette\":[\"#1f77b3\",\"#ff7e0e\",\"#2ba02b\",\"#d62628\",\"#9367bc\",\"#8c564b\",\"#e277c1\",\"#7e7e7e\",\"#bcbc21\",\"#16bdcf\",\"#3a0182\",\"#004201\",\"#0fffa8\",\"#5d003f\",\"#bcbcff\",\"#d8afa1\",\"#b80080\",\"#004d52\",\"#6b6400\",\"#7c0100\",\"#6026ff\",\"#ffff9a\",\"#564964\",\"#8cb893\",\"#93fbff\",\"#018267\",\"#90ff00\",\"#8200a0\",\"#ac8944\",\"#5b3400\",\"#ffbff2\",\"#ff6e75\",\"#798cff\",\"#dd00ff\",\"#505646\",\"#004489\",\"#ffbf60\",\"#ff018c\",\"#bdc8cf\",\"#af97b5\",\"#b65600\",\"#017000\",\"#cd87ff\",\"#1cd646\",\"#bfebc3\",\"#7997b5\",\"#a56089\",\"#6e8956\",\"#bc7c75\",\"#8a2844\",\"#00acff\",\"#8ed4ff\",\"#4b6d77\",\"#00d4b1\",\"#9300f2\",\"#8a9500\",\"#5d5b9e\",\"#fddfba\",\"#00939e\",\"#ffdb00\",\"#00aa79\",\"#520067\",\"#000091\",\"#0a5d3d\",\"#a5e275\",\"#623b41\",\"#c6c689\",\"#ff9eb5\",\"#cd4f6b\",\"#ff07d6\"]},\"id\":\"16995\",\"type\":\"CategoricalColorMapper\"},{\"attributes\":{\"children\":[{\"id\":\"16934\"}],\"height\":750,\"margin\":[0,0,0,0],\"name\":\"Row14310\",\"sizing_mode\":\"fixed\",\"tags\":[\"embedded\"],\"width\":1000},\"id\":\"16924\",\"type\":\"Row\"},{\"attributes\":{\"data\":{\"Ride_name\":[\"Alien Swirling Saucers\",\"Astro Orbiter\",\"Avatar Flight of Passage\",\"Big Thunder Mountain Railroad\",\"Buzz Lightyears Space Ranger Spin\",\"Carousel of Progress\",\"Castaway Creek\",\"Arctic Expeditions\",\"Cross County Creek\",\"Crush n' Gusher\",\"The Dino Institute Shop\",\"Downhill Double Dipper\",\"Dumbo\",\"Guardians of the Galaxy: Cosmic Rewind\",\"Expedition Everest\",\"Frozen Ever After\",\"Plaza de Los Amigos\",\"Great Movie Ride\",\"Haunted Mansion\",\"Humunga Kowabunga\",\"It's A Small World\",\"Journey info Imagination with Figment\",\"Jungle Cruise\",\"Kali River Rapids\",\"Kilimanjaro Safaris Expedition\",\"Liberty Riverboat\",\"Living with the Land\",\"Mad Tea Party\",\"Maelstrom\",\"Mayday Falls\",\"Melt-away Bay\",\"Mickey & Minnie's Runaway Railway\",\"Millennium Falcon: Smugglers Run\",\"Typhoon Tillie's\",\"Mission: Space\",\"Na'vi River Journey\",\"Peter Pan's Flight\",\"Pirates of the Caribbean\",\"Dino Diner\",\"Prince Charming Regal Carousel\",\"Remy' s Ratatouille Adventure\",\"Rock 'n' Roller Coaster Starring Aerosmith\",\"Seven Dwarfs Mine Train\",\"Slinky Dog Dash\",\"Slush Gusher\",\"Princess Fairytale Hall\",\"Soarin' Around the World\",\"Space Mountain\",\"Spaceship Earth\",\"Splash Mountain\",\"Star Tours: The Adventure Continues\",\"Star Wars: Rise of the Resistance\",\"Storm Slides\",\"Mount Gushmore Station\",\"Surf Pool\",\"Teamboat Springs\",\"Test Track\",\"The Barnstormer\",\"Liberty Square Riverboat Landing\",\"The Magic Carpets of Aladdin\",\"The Many Adventures of Winnie the Pooh\",\"The Seas with Nemo & Friends\",\"The Twilight Zone Tower of Terror\",\"Toboggan Racers\",\"Tomorrowland Speedway\",\"Tomorrowland Transit Authority People Mover\",\"Toy Story Midway Mania!\",\"Under the Sea - Journey of the Little Mermaid\",\"Walt Disney World Railroad\",\"Wildlife Express\"],\"color\":[\"Alien Swirling Saucers\",\"Astro Orbiter\",\"Avatar Flight of Passage\",\"Big Thunder Mountain Railroad\",\"Buzz Lightyears Space Ranger Spin\",\"Carousel of Progress\",\"Castaway Creek\",\"Arctic Expeditions\",\"Cross County Creek\",\"Crush n' Gusher\",\"The Dino Institute Shop\",\"Downhill Double Dipper\",\"Dumbo\",\"Guardians of the Galaxy: Cosmic Rewind\",\"Expedition Everest\",\"Frozen Ever After\",\"Plaza de Los Amigos\",\"Great Movie Ride\",\"Haunted Mansion\",\"Humunga Kowabunga\",\"It's A Small World\",\"Journey info Imagination with Figment\",\"Jungle Cruise\",\"Kali River Rapids\",\"Kilimanjaro Safaris Expedition\",\"Liberty Riverboat\",\"Living with the Land\",\"Mad Tea Party\",\"Maelstrom\",\"Mayday Falls\",\"Melt-away Bay\",\"Mickey & Minnie's Runaway Railway\",\"Millennium Falcon: Smugglers Run\",\"Typhoon Tillie's\",\"Mission: Space\",\"Na'vi River Journey\",\"Peter Pan's Flight\",\"Pirates of the Caribbean\",\"Dino Diner\",\"Prince Charming Regal Carousel\",\"Remy' s Ratatouille Adventure\",\"Rock 'n' Roller Coaster Starring Aerosmith\",\"Seven Dwarfs Mine Train\",\"Slinky Dog Dash\",\"Slush Gusher\",\"Princess Fairytale Hall\",\"Soarin' Around the World\",\"Space Mountain\",\"Spaceship Earth\",\"Splash Mountain\",\"Star Tours: The Adventure Continues\",\"Star Wars: Rise of the Resistance\",\"Storm Slides\",\"Mount Gushmore Station\",\"Surf Pool\",\"Teamboat Springs\",\"Test Track\",\"The Barnstormer\",\"Liberty Square Riverboat Landing\",\"The Magic Carpets of Aladdin\",\"The Many Adventures of Winnie the Pooh\",\"The Seas with Nemo & Friends\",\"The Twilight Zone Tower of Terror\",\"Toboggan Racers\",\"Tomorrowland Speedway\",\"Tomorrowland Transit Authority People Mover\",\"Toy Story Midway Mania!\",\"Under the Sea - Journey of the Little Mermaid\",\"Walt Disney World Railroad\",\"Wildlife Express\"],\"incident_count\":[1,2,15,12,13,2,5,2,2,2,14,4,1,8,38,1,4,6,12,3,3,2,6,6,21,1,1,10,1,7,3,2,2,2,36,1,8,11,1,10,1,23,4,2,1,2,9,39,12,10,16,1,5,1,14,4,6,2,4,1,1,10,16,2,9,6,7,6,2,1],\"lat\":{\"__ndarray__\":\"1+yE5V8hSUGbzB6B4zBJQf40/t0tIUlBQO/wR1MxSUHTLh9VyTBJQedC7Nu6MElBCMx8e9YjSUGJFbbZiiBJQVxwh18oIElB60Hj2y4kSUHC8TfGRiFJQUGNM5g+IElBa5FfyV4xSUEW5kIcSSZJQepwygn1IUlB0mOxPB4lSUE3C+h/VCVJQWBzJS+GIUlBDxOFG34xSUEf8o50BSRJQezmMtl2MUlBGWP6M5wlSUEsjJLxxDBJQcYV9hZMIklBocgJf8kjSUFTh5KMMTFJQUd9F8nmJUlBeKhX9kUxSUHSY7E8HiVJQWRnIG/SI0lB50TE7lAgSUFgcyUvhiFJQUnNcNXvIElB1qJJbx4kSUFLUJEw4iVJQfACIsUnIUlBWmOQ1lAxSUHmnL72tjBJQb9xYMimIUlBWrqtUVIxSUG03RdaaCRJQZvyD+tbIklB+NkbdGsxSUFAG61/kiFJQetB49suJElBbXOqNT4xSUEr9LLooSVJQdZum9wOMUlBYj2L3DkmSUHFZ1wlFzFJQYqln51CIUlBYy0BefkgSUGhSqlCDiRJQRRF4AhvIElBSEIDRd0jSUHH3qVhdSBJQS01syChJUlBiiZ6kGoxSUHHpANHKzFJQdR0riDlMElBk9QFq0QxSUGO7YY8PSZJQfHRDUZzIklBiS6AY1kgSUEXMhWdIDFJQcpeYzbtMElBAQyvG3ghSUEYqmjzmjFJQduJB1EbMUlBOxHT+M8iSUE=\",\"dtype\":\"float64\",\"order\":\"little\",\"shape\":[70]},\"lon\":{\"__ndarray__\":\"4OQ+QVxRYcFUH8C5QFJhwfsCCfz+UmHBmlKU3olSYcGJs0uCR1JhwZCIcK48UmHBN4imeoJPYcG5aFaX/1FhwRO/twcKUmHBQL3VpnFPYcHY8W7rvVJhwf7+PXARUmHBwsicbzxSYcE8yQTIilBhwbhNH0erUmHBPk1VqnZQYcEKK8wbhFBhwdD5nRk9UWHB1fkaxnRSYcEN/PN5nE9hwVzVVdpoUmHB3hFvdL1QYcFkBfEJfVJhwS5LAmW+UmHBoCS7SBRTYcFO49KadVJhwQOqq5XSUGHBOqKaFElSYcE+TVWqdlBhwVcWIRqcT2HBy9ymeQBSYcHQ+Z0ZPVFhwdqnIb1NUWHBC+K38Y1PYcHnprOle1BhwWsVKSj2UmHB/yhmnWhSYcFtv9T6j1JhwVVSUkG5UmHBRuDPPl1SYcFB8R5Y0lBhwex+cmtTUWHBSFVI3ktSYcEe6y0qYlFhwUC91aZxT2HBla5QB1hSYcEwEtTn1VBhwaO6buclUmHBaYFwqaJQYcExDX6sklJhweL1VnIjUWHBdzv4nT1RYcEiNUdcnk9hwXa6HfwRUmHBznbtzI9PYcEY38iCFFJhwa/b0FiEUGHBsWqmUTZSYcHX1PKWc1JhwWEX5e98UmHBLgf+wFFSYcEHvstBt1BhwTiPqXE1UWHBfdUqDxFSYcHdiTcLQ1JhwTETmKQ8UmHBtcPuv0hRYcEOc470R1JhwbO+OxIuUmHBvY8sOfFSYcE=\",\"dtype\":\"float64\",\"order\":\"little\",\"shape\":[70]},\"size\":{\"__ndarray__\":\"AAAAAAAAFEDACh8AxkgcQEiR0S5rXTNA6i830QxSMUA42LwKGwcyQMAKHwDGSBxA0vF9glVcJkDACh8AxkgcQMAKHwDGSBxAwAofAMZIHECOJ+FKUrUyQAAAAAAAACRAAAAAAAAAFEDACh8AxkgsQO/HNC5z0j5AAAAAAAAAFEAAAAAAAAAkQHppC5mxfihA6i830QxSMUDqLzfRDFIhQOovN9EMUiFAwAofAMZIHEB6aQuZsX4oQHppC5mxfihAJmZaZ7LpNkAAAAAAAAAUQAAAAAAAABRAKPKQSW6fL0AAAAAAAAAUQCS3R5QfdSpA6i830QxSIUDACh8AxkgcQMAKHwDGSBxAwAofAMZIHEAAAAAAAAA+QAAAAAAAABRAwAofAMZILECAZX6cR5UwQAAAAAAAABRAKPKQSW6fL0AAAAAAAAAUQBzF1BKq+jdAAAAAAAAAJEDACh8AxkgcQAAAAAAAABRAwAofAMZIHEAAAAAAAAAuQGyIsfGYOT9A6i830QxSMUAo8pBJbp8vQAAAAAAAADRAAAAAAAAAFEDS8X2CVVwmQAAAAAAAABRAjifhSlK1MkAAAAAAAAAkQHppC5mxfihAwAofAMZIHEAAAAAAAAAkQAAAAAAAABRAAAAAAAAAFEAo8pBJbp8vQAAAAAAAADRAwAofAMZIHEAAAAAAAAAuQHppC5mxfihAJLdHlB91KkB6aQuZsX4oQMAKHwDGSBxAAAAAAAAAFEA=\",\"dtype\":\"float64\",\"order\":\"little\",\"shape\":[70]}},\"selected\":{\"id\":\"16997\"},\"selection_policy\":{\"id\":\"17009\"}},\"id\":\"16996\",\"type\":\"ColumnDataSource\"},{\"attributes\":{\"active_drag\":{\"id\":\"16952\"},\"tools\":[{\"id\":\"16933\"},{\"id\":\"16951\"},{\"id\":\"16952\"},{\"id\":\"16953\"},{\"id\":\"16954\"},{\"id\":\"16955\"}]},\"id\":\"16957\",\"type\":\"Toolbar\"},{\"attributes\":{},\"id\":\"16955\",\"type\":\"ResetTool\"},{\"attributes\":{\"match_aspect\":true,\"overlay\":{\"id\":\"16956\"}},\"id\":\"16954\",\"type\":\"BoxZoomTool\"},{\"attributes\":{\"code\":\"\\n        var projections = Bokeh.require(\\\"core/util/projections\\\");\\n        var x = special_vars.data_x\\n        var y = special_vars.data_y\\n        var coords = projections.wgs84_mercator.invert(x, y)\\n        return \\\"\\\" + (coords[0]).toFixed(4)\\n    \"},\"id\":\"17014\",\"type\":\"CustomJSHover\"},{\"attributes\":{},\"id\":\"16951\",\"type\":\"SaveTool\"},{\"attributes\":{\"axis\":{\"id\":\"16947\"},\"coordinates\":null,\"dimension\":1,\"grid_line_color\":null,\"group\":null,\"ticker\":null},\"id\":\"16950\",\"type\":\"Grid\"},{\"attributes\":{},\"id\":\"16939\",\"type\":\"LinearScale\"},{\"attributes\":{\"axis_label\":\"x\",\"coordinates\":null,\"formatter\":{\"id\":\"16965\"},\"group\":null,\"major_label_policy\":{\"id\":\"16970\"},\"ticker\":{\"id\":\"16964\"}},\"id\":\"16943\",\"type\":\"LinearAxis\"},{\"attributes\":{\"label\":{\"field\":\"color\"},\"renderers\":[{\"id\":\"17004\"}]},\"id\":\"17013\",\"type\":\"LegendItem\"},{\"attributes\":{\"below\":[{\"id\":\"16943\"}],\"center\":[{\"id\":\"16946\"},{\"id\":\"16950\"}],\"frame_height\":750,\"frame_width\":1000,\"height\":750,\"left\":[{\"id\":\"16947\"}],\"margin\":[5,5,5,5],\"match_aspect\":true,\"min_border_bottom\":10,\"min_border_left\":10,\"min_border_right\":10,\"min_border_top\":10,\"output_backend\":\"webgl\",\"renderers\":[{\"id\":\"16993\"},{\"id\":\"17004\"}],\"right\":[{\"id\":\"17012\"}],\"sizing_mode\":\"fixed\",\"title\":{\"id\":\"16935\"},\"toolbar\":{\"id\":\"16957\"},\"width\":1000,\"x_range\":{\"id\":\"16929\"},\"x_scale\":{\"id\":\"16939\"},\"y_range\":{\"id\":\"16930\"},\"y_scale\":{\"id\":\"16941\"}},\"id\":\"16934\",\"subtype\":\"Figure\",\"type\":\"Plot\"},{\"attributes\":{},\"id\":\"17009\",\"type\":\"UnionRenderers\"},{\"attributes\":{\"coordinates\":null,\"data_source\":{\"id\":\"16996\"},\"glyph\":{\"id\":\"16999\"},\"group\":null,\"hover_glyph\":{\"id\":\"17002\"},\"muted_glyph\":{\"id\":\"17003\"},\"nonselection_glyph\":{\"id\":\"17000\"},\"selection_glyph\":{\"id\":\"17001\"},\"view\":{\"id\":\"17005\"}},\"id\":\"17004\",\"type\":\"GlyphRenderer\"},{\"attributes\":{\"end\":3303091.065280585,\"min_interval\":5,\"reset_end\":3303091.065280585,\"reset_start\":3292371.5825875364,\"start\":3292371.5825875364,\"tags\":[[[\"lat\",\"lat\",null]]]},\"id\":\"16930\",\"type\":\"Range1d\"},{\"attributes\":{\"zoom_on_axis\":false},\"id\":\"16953\",\"type\":\"WheelZoomTool\"},{\"attributes\":{\"fill_alpha\":{\"value\":0.75},\"fill_color\":{\"field\":\"color\",\"transform\":{\"id\":\"16995\"}},\"hatch_alpha\":{\"value\":0.75},\"hatch_color\":{\"field\":\"color\",\"transform\":{\"id\":\"16995\"}},\"line_alpha\":{\"value\":0.75},\"line_color\":{\"field\":\"color\",\"transform\":{\"id\":\"16995\"}},\"size\":{\"field\":\"size\"},\"tags\":[\"apply_ranges\"],\"x\":{\"field\":\"lon\"},\"y\":{\"field\":\"lat\"}},\"id\":\"17001\",\"type\":\"Scatter\"},{\"attributes\":{\"click_policy\":\"mute\",\"coordinates\":null,\"group\":null,\"items\":[{\"id\":\"17013\"}],\"location\":[0,0]},\"id\":\"17012\",\"type\":\"Legend\"},{\"attributes\":{\"end\":-9072173.421422552,\"min_interval\":5,\"reset_end\":-9072173.421422552,\"reset_start\":-9086466.065013282,\"start\":-9086466.065013282,\"tags\":[[[\"lon\",\"lon\",null]]]},\"id\":\"16929\",\"type\":\"Range1d\"},{\"attributes\":{},\"id\":\"16977\",\"type\":\"AllLabels\"},{\"attributes\":{\"axis_label\":\"y\",\"coordinates\":null,\"formatter\":{\"id\":\"16967\"},\"group\":null,\"major_label_policy\":{\"id\":\"16977\"},\"ticker\":{\"id\":\"16966\"}},\"id\":\"16947\",\"type\":\"LinearAxis\"},{\"attributes\":{\"fill_alpha\":{\"value\":0.2},\"fill_color\":{\"field\":\"color\",\"transform\":{\"id\":\"16995\"}},\"hatch_alpha\":{\"value\":0.2},\"hatch_color\":{\"field\":\"color\",\"transform\":{\"id\":\"16995\"}},\"line_alpha\":{\"value\":0.2},\"line_color\":{\"field\":\"color\",\"transform\":{\"id\":\"16995\"}},\"size\":{\"field\":\"size\"},\"tags\":[\"apply_ranges\"],\"x\":{\"field\":\"lon\"},\"y\":{\"field\":\"lat\"}},\"id\":\"17003\",\"type\":\"Scatter\"},{\"attributes\":{\"coordinates\":null,\"group\":null,\"text\":\"Disney_Parks\",\"text_color\":\"black\",\"text_font_size\":\"12pt\"},\"id\":\"16935\",\"type\":\"Title\"},{\"attributes\":{\"fill_alpha\":{\"value\":0.75},\"fill_color\":{\"field\":\"color\",\"transform\":{\"id\":\"16995\"}},\"hatch_alpha\":{\"value\":0.75},\"hatch_color\":{\"field\":\"color\",\"transform\":{\"id\":\"16995\"}},\"line_alpha\":{\"value\":0.75},\"line_color\":{\"field\":\"color\",\"transform\":{\"id\":\"16995\"}},\"size\":{\"field\":\"size\"},\"tags\":[\"apply_ranges\"],\"x\":{\"field\":\"lon\"},\"y\":{\"field\":\"lat\"}},\"id\":\"17002\",\"type\":\"Scatter\"},{\"attributes\":{},\"id\":\"16941\",\"type\":\"LinearScale\"},{\"attributes\":{\"fill_alpha\":{\"value\":0.75},\"fill_color\":{\"field\":\"color\",\"transform\":{\"id\":\"16995\"}},\"hatch_alpha\":{\"value\":0.75},\"hatch_color\":{\"field\":\"color\",\"transform\":{\"id\":\"16995\"}},\"line_alpha\":{\"value\":0.75},\"line_color\":{\"field\":\"color\",\"transform\":{\"id\":\"16995\"}},\"size\":{\"field\":\"size\"},\"tags\":[\"apply_ranges\"],\"x\":{\"field\":\"lon\"},\"y\":{\"field\":\"lat\"}},\"id\":\"16999\",\"type\":\"Scatter\"},{\"attributes\":{},\"id\":\"16952\",\"type\":\"PanTool\"}],\"root_ids\":[\"16924\"]},\"title\":\"Bokeh Application\",\"version\":\"2.4.3\"}};\n",
       "    var render_items = [{\"docid\":\"1260922a-da62-424b-b39a-f7702ebfd6f6\",\"root_ids\":[\"16924\"],\"roots\":{\"16924\":\"873dc35a-56bc-4b47-b1b9-7e99c93235da\"}}];\n",
       "    root.Bokeh.embed.embed_items_notebook(docs_json, render_items);\n",
       "    for (const render_item of render_items) {\n",
       "      for (const root_id of render_item.root_ids) {\n",
       "\tconst id_el = document.getElementById(root_id)\n",
       "\tif (id_el.children.length && (id_el.children[0].className === 'bk-root')) {\n",
       "\t  const root_el = id_el.children[0]\n",
       "\t  root_el.id = root_el.id + '-rendered'\n",
       "\t}\n",
       "      }\n",
       "    }\n",
       "  }\n",
       "  if (root.Bokeh !== undefined && root.Bokeh.Panel !== undefined) {\n",
       "    embed_document(root);\n",
       "  } else {\n",
       "    var attempts = 0;\n",
       "    var timer = setInterval(function(root) {\n",
       "      if (root.Bokeh !== undefined && root.Bokeh.Panel !== undefined) {\n",
       "        clearInterval(timer);\n",
       "        embed_document(root);\n",
       "      } else if (document.readyState == \"complete\") {\n",
       "        attempts++;\n",
       "        if (attempts > 200) {\n",
       "          clearInterval(timer);\n",
       "          console.log(\"Bokeh: ERROR: Unable to run BokehJS code because BokehJS library is missing\");\n",
       "        }\n",
       "      }\n",
       "    }, 25, root)\n",
       "  }\n",
       "})(window);</script>"
      ],
      "text/plain": [
       ":Overlay\n",
       "   .Tiles.I  :Tiles   [x,y]\n",
       "   .Points.I :Points   [lon,lat]   (Ride_name,incident_count)"
      ]
     },
     "execution_count": 95,
     "metadata": {
      "application/vnd.holoviews_exec.v0+json": {
       "id": "16924"
      }
     },
     "output_type": "execute_result"
    }
   ],
   "source": [
    "plot_mapping_data(mapping_data, filter_column=\"Company\", filter_value=\"Disney World\", title=\"Disney_Parks\")\n"
   ]
  },
  {
   "cell_type": "markdown",
   "id": "29e19698",
   "metadata": {},
   "source": [
    "### Animal Kingdom"
   ]
  },
  {
   "cell_type": "code",
   "execution_count": 85,
   "id": "20861977",
   "metadata": {},
   "outputs": [
    {
     "data": {},
     "metadata": {},
     "output_type": "display_data"
    },
    {
     "data": {
      "application/vnd.holoviews_exec.v0+json": "",
      "text/html": [
       "<div id='13714'>\n",
       "  <div class=\"bk-root\" id=\"488f9ae1-a6dd-4fea-9b25-4a663bc3cc29\" data-root-id=\"13714\"></div>\n",
       "</div>\n",
       "<script type=\"application/javascript\">(function(root) {\n",
       "  function embed_document(root) {\n",
       "    var docs_json = {\"c3e97187-b413-4476-a975-79efcc3c3d00\":{\"defs\":[{\"extends\":null,\"module\":null,\"name\":\"ReactiveHTML1\",\"overrides\":[],\"properties\":[]},{\"extends\":null,\"module\":null,\"name\":\"FlexBox1\",\"overrides\":[],\"properties\":[{\"default\":\"flex-start\",\"kind\":null,\"name\":\"align_content\"},{\"default\":\"flex-start\",\"kind\":null,\"name\":\"align_items\"},{\"default\":\"row\",\"kind\":null,\"name\":\"flex_direction\"},{\"default\":\"wrap\",\"kind\":null,\"name\":\"flex_wrap\"},{\"default\":\"flex-start\",\"kind\":null,\"name\":\"justify_content\"}]},{\"extends\":null,\"module\":null,\"name\":\"GridStack1\",\"overrides\":[],\"properties\":[{\"default\":\"warn\",\"kind\":null,\"name\":\"mode\"},{\"default\":null,\"kind\":null,\"name\":\"ncols\"},{\"default\":null,\"kind\":null,\"name\":\"nrows\"},{\"default\":true,\"kind\":null,\"name\":\"allow_resize\"},{\"default\":true,\"kind\":null,\"name\":\"allow_drag\"},{\"default\":[],\"kind\":null,\"name\":\"state\"}]},{\"extends\":null,\"module\":null,\"name\":\"click1\",\"overrides\":[],\"properties\":[{\"default\":\"\",\"kind\":null,\"name\":\"terminal_output\"},{\"default\":\"\",\"kind\":null,\"name\":\"debug_name\"},{\"default\":0,\"kind\":null,\"name\":\"clears\"}]},{\"extends\":null,\"module\":null,\"name\":\"NotificationAreaBase1\",\"overrides\":[],\"properties\":[{\"default\":\"bottom-right\",\"kind\":null,\"name\":\"position\"},{\"default\":0,\"kind\":null,\"name\":\"_clear\"}]},{\"extends\":null,\"module\":null,\"name\":\"NotificationArea1\",\"overrides\":[],\"properties\":[{\"default\":[],\"kind\":null,\"name\":\"notifications\"},{\"default\":\"bottom-right\",\"kind\":null,\"name\":\"position\"},{\"default\":0,\"kind\":null,\"name\":\"_clear\"},{\"default\":[{\"background\":\"#ffc107\",\"icon\":{\"className\":\"fas fa-exclamation-triangle\",\"color\":\"white\",\"tagName\":\"i\"},\"type\":\"warning\"},{\"background\":\"#007bff\",\"icon\":{\"className\":\"fas fa-info-circle\",\"color\":\"white\",\"tagName\":\"i\"},\"type\":\"info\"}],\"kind\":null,\"name\":\"types\"}]},{\"extends\":null,\"module\":null,\"name\":\"Notification\",\"overrides\":[],\"properties\":[{\"default\":null,\"kind\":null,\"name\":\"background\"},{\"default\":3000,\"kind\":null,\"name\":\"duration\"},{\"default\":null,\"kind\":null,\"name\":\"icon\"},{\"default\":\"\",\"kind\":null,\"name\":\"message\"},{\"default\":null,\"kind\":null,\"name\":\"notification_type\"},{\"default\":false,\"kind\":null,\"name\":\"_destroyed\"}]},{\"extends\":null,\"module\":null,\"name\":\"TemplateActions1\",\"overrides\":[],\"properties\":[{\"default\":0,\"kind\":null,\"name\":\"open_modal\"},{\"default\":0,\"kind\":null,\"name\":\"close_modal\"}]},{\"extends\":null,\"module\":null,\"name\":\"MaterialTemplateActions1\",\"overrides\":[],\"properties\":[{\"default\":0,\"kind\":null,\"name\":\"open_modal\"},{\"default\":0,\"kind\":null,\"name\":\"close_modal\"}]}],\"roots\":{\"references\":[{\"attributes\":{\"fill_alpha\":{\"value\":0.75},\"fill_color\":{\"field\":\"color\",\"transform\":{\"id\":\"13785\"}},\"hatch_alpha\":{\"value\":0.1},\"hatch_color\":{\"field\":\"color\",\"transform\":{\"id\":\"13785\"}},\"line_alpha\":{\"value\":0.75},\"line_color\":{\"field\":\"color\",\"transform\":{\"id\":\"13785\"}},\"size\":{\"field\":\"size\"},\"tags\":[\"apply_ranges\"],\"x\":{\"field\":\"lon\"},\"y\":{\"field\":\"lat\"}},\"id\":\"13790\",\"type\":\"Scatter\"},{\"attributes\":{\"dimension\":\"lat\"},\"id\":\"13756\",\"type\":\"MercatorTicker\"},{\"attributes\":{\"fill_alpha\":{\"value\":0.75},\"fill_color\":{\"field\":\"color\",\"transform\":{\"id\":\"13785\"}},\"hatch_alpha\":{\"value\":0.75},\"hatch_color\":{\"field\":\"color\",\"transform\":{\"id\":\"13785\"}},\"line_alpha\":{\"value\":0.75},\"line_color\":{\"field\":\"color\",\"transform\":{\"id\":\"13785\"}},\"size\":{\"field\":\"size\"},\"tags\":[\"apply_ranges\"],\"x\":{\"field\":\"lon\"},\"y\":{\"field\":\"lat\"}},\"id\":\"13791\",\"type\":\"Scatter\"},{\"attributes\":{},\"id\":\"13799\",\"type\":\"UnionRenderers\"},{\"attributes\":{\"dimension\":\"lon\"},\"id\":\"13754\",\"type\":\"MercatorTicker\"},{\"attributes\":{\"axis_label\":\"y\",\"coordinates\":null,\"formatter\":{\"id\":\"13757\"},\"group\":null,\"major_label_policy\":{\"id\":\"13767\"},\"ticker\":{\"id\":\"13756\"}},\"id\":\"13737\",\"type\":\"LinearAxis\"},{\"attributes\":{\"axis\":{\"id\":\"13737\"},\"coordinates\":null,\"dimension\":1,\"grid_line_color\":null,\"group\":null,\"ticker\":null},\"id\":\"13740\",\"type\":\"Grid\"},{\"attributes\":{\"code\":\"\\n        var projections = Bokeh.require(\\\"core/util/projections\\\");\\n        var x = special_vars.data_x\\n        var y = special_vars.data_y\\n        var coords = projections.wgs84_mercator.invert(x, y)\\n        return \\\"\\\" + (coords[0]).toFixed(4)\\n    \"},\"id\":\"13804\",\"type\":\"CustomJSHover\"},{\"attributes\":{\"active_drag\":{\"id\":\"13742\"},\"tools\":[{\"id\":\"13723\"},{\"id\":\"13741\"},{\"id\":\"13742\"},{\"id\":\"13743\"},{\"id\":\"13744\"},{\"id\":\"13745\"}]},\"id\":\"13747\",\"type\":\"Toolbar\"},{\"attributes\":{},\"id\":\"13731\",\"type\":\"LinearScale\"},{\"attributes\":{\"callback\":null,\"formatters\":{\"$x\":{\"id\":\"13804\"},\"$y\":{\"id\":\"13805\"}},\"renderers\":[{\"id\":\"13794\"}],\"tags\":[\"hv_created\"],\"tooltips\":[[\"lon\",\"$x{custom}\"],[\"lat\",\"$y{custom}\"],[\"Ride_name\",\"@{Ride_name}\"],[\"incident_count\",\"@{incident_count}\"]]},\"id\":\"13723\",\"type\":\"HoverTool\"},{\"attributes\":{\"factors\":[\"Avatar Flight of Passage\",\"The Dino Institute Shop\",\"Expedition Everest\",\"Kali River Rapids\",\"Kilimanjaro Safaris Expedition\",\"Na'vi River Journey\",\"Dino Diner\",\"Wildlife Express\"],\"palette\":[\"#1f77b3\",\"#ff7e0e\",\"#2ba02b\",\"#d62628\",\"#9367bc\",\"#8c564b\",\"#e277c1\",\"#7e7e7e\"]},\"id\":\"13785\",\"type\":\"CategoricalColorMapper\"},{\"attributes\":{\"dimension\":\"lon\"},\"id\":\"13755\",\"type\":\"MercatorTickFormatter\"},{\"attributes\":{\"label\":{\"field\":\"color\"},\"renderers\":[{\"id\":\"13794\"}]},\"id\":\"13803\",\"type\":\"LegendItem\"},{\"attributes\":{\"code\":\"\\n        var projections = Bokeh.require(\\\"core/util/projections\\\");\\n        var x = special_vars.data_x\\n        var y = special_vars.data_y\\n        var coords = projections.wgs84_mercator.invert(x, y)\\n        return \\\"\\\" + (coords[1]).toFixed(4)\\n    \"},\"id\":\"13805\",\"type\":\"CustomJSHover\"},{\"attributes\":{},\"id\":\"13742\",\"type\":\"PanTool\"},{\"attributes\":{\"attribution\":\"&copy; <a href=\\\"https://www.openstreetmap.org/copyright\\\">OpenStreetMap</a> contributors, &copy; <a href=\\\"https://cartodb.com/attributions\\\">CartoDB</a>\",\"url\":\"https://cartodb-basemaps-4.global.ssl.fastly.net/light_all/{Z}/{X}/{Y}.png\"},\"id\":\"13780\",\"type\":\"WMTSTileSource\"},{\"attributes\":{\"source\":{\"id\":\"13786\"}},\"id\":\"13795\",\"type\":\"CDSView\"},{\"attributes\":{\"coordinates\":null,\"group\":null,\"level\":\"glyph\",\"tile_source\":{\"id\":\"13780\"}},\"id\":\"13783\",\"type\":\"TileRenderer\"},{\"attributes\":{\"fill_alpha\":{\"value\":0.75},\"fill_color\":{\"field\":\"color\",\"transform\":{\"id\":\"13785\"}},\"hatch_alpha\":{\"value\":0.75},\"hatch_color\":{\"field\":\"color\",\"transform\":{\"id\":\"13785\"}},\"line_alpha\":{\"value\":0.75},\"line_color\":{\"field\":\"color\",\"transform\":{\"id\":\"13785\"}},\"size\":{\"field\":\"size\"},\"tags\":[\"apply_ranges\"],\"x\":{\"field\":\"lon\"},\"y\":{\"field\":\"lat\"}},\"id\":\"13789\",\"type\":\"Scatter\"},{\"attributes\":{\"dimension\":\"lat\"},\"id\":\"13757\",\"type\":\"MercatorTickFormatter\"},{\"attributes\":{},\"id\":\"13760\",\"type\":\"AllLabels\"},{\"attributes\":{\"children\":[{\"id\":\"13724\"}],\"height\":750,\"margin\":[0,0,0,0],\"name\":\"Row12230\",\"sizing_mode\":\"fixed\",\"tags\":[\"embedded\"],\"width\":1000},\"id\":\"13714\",\"type\":\"Row\"},{\"attributes\":{\"bottom_units\":\"screen\",\"coordinates\":null,\"fill_alpha\":0.5,\"fill_color\":\"lightgrey\",\"group\":null,\"left_units\":\"screen\",\"level\":\"overlay\",\"line_alpha\":1.0,\"line_color\":\"black\",\"line_dash\":[4,4],\"line_width\":2,\"right_units\":\"screen\",\"syncable\":false,\"top_units\":\"screen\"},\"id\":\"13746\",\"type\":\"BoxAnnotation\"},{\"attributes\":{\"fill_alpha\":{\"value\":0.2},\"fill_color\":{\"field\":\"color\",\"transform\":{\"id\":\"13785\"}},\"hatch_alpha\":{\"value\":0.2},\"hatch_color\":{\"field\":\"color\",\"transform\":{\"id\":\"13785\"}},\"line_alpha\":{\"value\":0.2},\"line_color\":{\"field\":\"color\",\"transform\":{\"id\":\"13785\"}},\"size\":{\"field\":\"size\"},\"tags\":[\"apply_ranges\"],\"x\":{\"field\":\"lon\"},\"y\":{\"field\":\"lat\"}},\"id\":\"13793\",\"type\":\"Scatter\"},{\"attributes\":{\"coordinates\":null,\"data_source\":{\"id\":\"13786\"},\"glyph\":{\"id\":\"13789\"},\"group\":null,\"hover_glyph\":{\"id\":\"13792\"},\"muted_glyph\":{\"id\":\"13793\"},\"nonselection_glyph\":{\"id\":\"13790\"},\"selection_glyph\":{\"id\":\"13791\"},\"view\":{\"id\":\"13795\"}},\"id\":\"13794\",\"type\":\"GlyphRenderer\"},{\"attributes\":{},\"id\":\"13745\",\"type\":\"ResetTool\"},{\"attributes\":{},\"id\":\"13787\",\"type\":\"Selection\"},{\"attributes\":{\"match_aspect\":true,\"overlay\":{\"id\":\"13746\"}},\"id\":\"13744\",\"type\":\"BoxZoomTool\"},{\"attributes\":{},\"id\":\"13767\",\"type\":\"AllLabels\"},{\"attributes\":{\"end\":3295257.585915476,\"min_interval\":5,\"reset_end\":3295257.585915476,\"reset_start\":3293640.9466583533,\"start\":3293640.9466583533,\"tags\":[[[\"lat\",\"lat\",null]]]},\"id\":\"13720\",\"type\":\"Range1d\"},{\"attributes\":{},\"id\":\"13741\",\"type\":\"SaveTool\"},{\"attributes\":{\"data\":{\"Ride_name\":[\"Avatar Flight of Passage\",\"The Dino Institute Shop\",\"Expedition Everest\",\"Kali River Rapids\",\"Kilimanjaro Safaris Expedition\",\"Na'vi River Journey\",\"Dino Diner\",\"Wildlife Express\"],\"color\":[\"Avatar Flight of Passage\",\"The Dino Institute Shop\",\"Expedition Everest\",\"Kali River Rapids\",\"Kilimanjaro Safaris Expedition\",\"Na'vi River Journey\",\"Dino Diner\",\"Wildlife Express\"],\"incident_count\":[15,14,38,6,21,1,1,1],\"lat\":{\"__ndarray__\":\"/jT+3S0hSUHC8TfGRiFJQepwygn1IUlBxhX2FkwiSUGhyAl/ySNJQfACIsUnIUlBv3FgyKYhSUE7EdP4zyJJQQ==\",\"dtype\":\"float64\",\"order\":\"little\",\"shape\":[8]},\"lon\":{\"__ndarray__\":\"+wIJ/P5SYcHY8W7rvVJhwbhNH0erUmHBLksCZb5SYcGgJLtIFFNhwWsVKSj2UmHBVVJSQblSYcG9jyw58VJhwQ==\",\"dtype\":\"float64\",\"order\":\"little\",\"shape\":[8]},\"size\":{\"__ndarray__\":\"SJHRLmtdQ0COJ+FKUrVCQO/HNC5z0k5AemkLmbF+OEAmZlpnsulGQAAAAAAAACRAAAAAAAAAJEAAAAAAAAAkQA==\",\"dtype\":\"float64\",\"order\":\"little\",\"shape\":[8]}},\"selected\":{\"id\":\"13787\"},\"selection_policy\":{\"id\":\"13799\"}},\"id\":\"13786\",\"type\":\"ColumnDataSource\"},{\"attributes\":{\"axis_label\":\"x\",\"coordinates\":null,\"formatter\":{\"id\":\"13755\"},\"group\":null,\"major_label_policy\":{\"id\":\"13760\"},\"ticker\":{\"id\":\"13754\"}},\"id\":\"13733\",\"type\":\"LinearAxis\"},{\"attributes\":{\"fill_alpha\":{\"value\":0.75},\"fill_color\":{\"field\":\"color\",\"transform\":{\"id\":\"13785\"}},\"hatch_alpha\":{\"value\":0.75},\"hatch_color\":{\"field\":\"color\",\"transform\":{\"id\":\"13785\"}},\"line_alpha\":{\"value\":0.75},\"line_color\":{\"field\":\"color\",\"transform\":{\"id\":\"13785\"}},\"size\":{\"field\":\"size\"},\"tags\":[\"apply_ranges\"],\"x\":{\"field\":\"lon\"},\"y\":{\"field\":\"lat\"}},\"id\":\"13792\",\"type\":\"Scatter\"},{\"attributes\":{},\"id\":\"13729\",\"type\":\"LinearScale\"},{\"attributes\":{\"zoom_on_axis\":false},\"id\":\"13743\",\"type\":\"WheelZoomTool\"},{\"attributes\":{\"axis\":{\"id\":\"13733\"},\"coordinates\":null,\"grid_line_color\":null,\"group\":null,\"ticker\":null},\"id\":\"13736\",\"type\":\"Grid\"},{\"attributes\":{\"below\":[{\"id\":\"13733\"}],\"center\":[{\"id\":\"13736\"},{\"id\":\"13740\"}],\"frame_height\":750,\"frame_width\":1000,\"height\":750,\"left\":[{\"id\":\"13737\"}],\"margin\":[5,5,5,5],\"match_aspect\":true,\"min_border_bottom\":10,\"min_border_left\":10,\"min_border_right\":10,\"min_border_top\":10,\"output_backend\":\"webgl\",\"renderers\":[{\"id\":\"13783\"},{\"id\":\"13794\"}],\"right\":[{\"id\":\"13802\"}],\"sizing_mode\":\"fixed\",\"title\":{\"id\":\"13725\"},\"toolbar\":{\"id\":\"13747\"},\"width\":1000,\"x_range\":{\"id\":\"13719\"},\"x_scale\":{\"id\":\"13729\"},\"y_range\":{\"id\":\"13720\"},\"y_scale\":{\"id\":\"13731\"}},\"id\":\"13724\",\"subtype\":\"Figure\",\"type\":\"Plot\"},{\"attributes\":{\"end\":-9081544.48820318,\"min_interval\":5,\"reset_end\":-9081544.48820318,\"reset_start\":-9083700.007212676,\"start\":-9083700.007212676,\"tags\":[[[\"lon\",\"lon\",null]]]},\"id\":\"13719\",\"type\":\"Range1d\"},{\"attributes\":{\"coordinates\":null,\"group\":null,\"text\":\"Animal_Kingdom\",\"text_color\":\"black\",\"text_font_size\":\"12pt\"},\"id\":\"13725\",\"type\":\"Title\"},{\"attributes\":{\"click_policy\":\"mute\",\"coordinates\":null,\"group\":null,\"items\":[{\"id\":\"13803\"}],\"location\":[0,0]},\"id\":\"13802\",\"type\":\"Legend\"}],\"root_ids\":[\"13714\"]},\"title\":\"Bokeh Application\",\"version\":\"2.4.3\"}};\n",
       "    var render_items = [{\"docid\":\"c3e97187-b413-4476-a975-79efcc3c3d00\",\"root_ids\":[\"13714\"],\"roots\":{\"13714\":\"488f9ae1-a6dd-4fea-9b25-4a663bc3cc29\"}}];\n",
       "    root.Bokeh.embed.embed_items_notebook(docs_json, render_items);\n",
       "    for (const render_item of render_items) {\n",
       "      for (const root_id of render_item.root_ids) {\n",
       "\tconst id_el = document.getElementById(root_id)\n",
       "\tif (id_el.children.length && (id_el.children[0].className === 'bk-root')) {\n",
       "\t  const root_el = id_el.children[0]\n",
       "\t  root_el.id = root_el.id + '-rendered'\n",
       "\t}\n",
       "      }\n",
       "    }\n",
       "  }\n",
       "  if (root.Bokeh !== undefined && root.Bokeh.Panel !== undefined) {\n",
       "    embed_document(root);\n",
       "  } else {\n",
       "    var attempts = 0;\n",
       "    var timer = setInterval(function(root) {\n",
       "      if (root.Bokeh !== undefined && root.Bokeh.Panel !== undefined) {\n",
       "        clearInterval(timer);\n",
       "        embed_document(root);\n",
       "      } else if (document.readyState == \"complete\") {\n",
       "        attempts++;\n",
       "        if (attempts > 200) {\n",
       "          clearInterval(timer);\n",
       "          console.log(\"Bokeh: ERROR: Unable to run BokehJS code because BokehJS library is missing\");\n",
       "        }\n",
       "      }\n",
       "    }, 25, root)\n",
       "  }\n",
       "})(window);</script>"
      ],
      "text/plain": [
       ":Overlay\n",
       "   .Tiles.I  :Tiles   [x,y]\n",
       "   .Points.I :Points   [lon,lat]   (Ride_name,incident_count)"
      ]
     },
     "execution_count": 85,
     "metadata": {
      "application/vnd.holoviews_exec.v0+json": {
       "id": "13714"
      }
     },
     "output_type": "execute_result"
    }
   ],
   "source": [
    "plot_mapping_data(mapping_data, filter_column=\"Theme_Park\", filter_value=\"Animal Kingdom\", scale=10, title=\"Animal_Kingdom\")"
   ]
  },
  {
   "cell_type": "markdown",
   "id": "2cf38bac",
   "metadata": {},
   "source": [
    "### Blizzard Beach"
   ]
  },
  {
   "cell_type": "code",
   "execution_count": 86,
   "id": "c4c892b3",
   "metadata": {},
   "outputs": [
    {
     "data": {},
     "metadata": {},
     "output_type": "display_data"
    },
    {
     "data": {
      "application/vnd.holoviews_exec.v0+json": "",
      "text/html": [
       "<div id='14035'>\n",
       "  <div class=\"bk-root\" id=\"76905c2f-5a41-4ee6-838e-0cd1886950e5\" data-root-id=\"14035\"></div>\n",
       "</div>\n",
       "<script type=\"application/javascript\">(function(root) {\n",
       "  function embed_document(root) {\n",
       "    var docs_json = {\"fe93a87d-1a13-4867-8409-20b94f709492\":{\"defs\":[{\"extends\":null,\"module\":null,\"name\":\"ReactiveHTML1\",\"overrides\":[],\"properties\":[]},{\"extends\":null,\"module\":null,\"name\":\"FlexBox1\",\"overrides\":[],\"properties\":[{\"default\":\"flex-start\",\"kind\":null,\"name\":\"align_content\"},{\"default\":\"flex-start\",\"kind\":null,\"name\":\"align_items\"},{\"default\":\"row\",\"kind\":null,\"name\":\"flex_direction\"},{\"default\":\"wrap\",\"kind\":null,\"name\":\"flex_wrap\"},{\"default\":\"flex-start\",\"kind\":null,\"name\":\"justify_content\"}]},{\"extends\":null,\"module\":null,\"name\":\"GridStack1\",\"overrides\":[],\"properties\":[{\"default\":\"warn\",\"kind\":null,\"name\":\"mode\"},{\"default\":null,\"kind\":null,\"name\":\"ncols\"},{\"default\":null,\"kind\":null,\"name\":\"nrows\"},{\"default\":true,\"kind\":null,\"name\":\"allow_resize\"},{\"default\":true,\"kind\":null,\"name\":\"allow_drag\"},{\"default\":[],\"kind\":null,\"name\":\"state\"}]},{\"extends\":null,\"module\":null,\"name\":\"click1\",\"overrides\":[],\"properties\":[{\"default\":\"\",\"kind\":null,\"name\":\"terminal_output\"},{\"default\":\"\",\"kind\":null,\"name\":\"debug_name\"},{\"default\":0,\"kind\":null,\"name\":\"clears\"}]},{\"extends\":null,\"module\":null,\"name\":\"NotificationAreaBase1\",\"overrides\":[],\"properties\":[{\"default\":\"bottom-right\",\"kind\":null,\"name\":\"position\"},{\"default\":0,\"kind\":null,\"name\":\"_clear\"}]},{\"extends\":null,\"module\":null,\"name\":\"NotificationArea1\",\"overrides\":[],\"properties\":[{\"default\":[],\"kind\":null,\"name\":\"notifications\"},{\"default\":\"bottom-right\",\"kind\":null,\"name\":\"position\"},{\"default\":0,\"kind\":null,\"name\":\"_clear\"},{\"default\":[{\"background\":\"#ffc107\",\"icon\":{\"className\":\"fas fa-exclamation-triangle\",\"color\":\"white\",\"tagName\":\"i\"},\"type\":\"warning\"},{\"background\":\"#007bff\",\"icon\":{\"className\":\"fas fa-info-circle\",\"color\":\"white\",\"tagName\":\"i\"},\"type\":\"info\"}],\"kind\":null,\"name\":\"types\"}]},{\"extends\":null,\"module\":null,\"name\":\"Notification\",\"overrides\":[],\"properties\":[{\"default\":null,\"kind\":null,\"name\":\"background\"},{\"default\":3000,\"kind\":null,\"name\":\"duration\"},{\"default\":null,\"kind\":null,\"name\":\"icon\"},{\"default\":\"\",\"kind\":null,\"name\":\"message\"},{\"default\":null,\"kind\":null,\"name\":\"notification_type\"},{\"default\":false,\"kind\":null,\"name\":\"_destroyed\"}]},{\"extends\":null,\"module\":null,\"name\":\"TemplateActions1\",\"overrides\":[],\"properties\":[{\"default\":0,\"kind\":null,\"name\":\"open_modal\"},{\"default\":0,\"kind\":null,\"name\":\"close_modal\"}]},{\"extends\":null,\"module\":null,\"name\":\"MaterialTemplateActions1\",\"overrides\":[],\"properties\":[{\"default\":0,\"kind\":null,\"name\":\"open_modal\"},{\"default\":0,\"kind\":null,\"name\":\"close_modal\"}]}],\"roots\":{\"references\":[{\"attributes\":{\"fill_alpha\":{\"value\":0.75},\"fill_color\":{\"field\":\"color\",\"transform\":{\"id\":\"14106\"}},\"hatch_alpha\":{\"value\":0.75},\"hatch_color\":{\"field\":\"color\",\"transform\":{\"id\":\"14106\"}},\"line_alpha\":{\"value\":0.75},\"line_color\":{\"field\":\"color\",\"transform\":{\"id\":\"14106\"}},\"size\":{\"field\":\"size\"},\"tags\":[\"apply_ranges\"],\"x\":{\"field\":\"lon\"},\"y\":{\"field\":\"lat\"}},\"id\":\"14112\",\"type\":\"Scatter\"},{\"attributes\":{},\"id\":\"14063\",\"type\":\"PanTool\"},{\"attributes\":{},\"id\":\"14081\",\"type\":\"AllLabels\"},{\"attributes\":{\"zoom_on_axis\":false},\"id\":\"14064\",\"type\":\"WheelZoomTool\"},{\"attributes\":{},\"id\":\"14062\",\"type\":\"SaveTool\"},{\"attributes\":{\"below\":[{\"id\":\"14054\"}],\"center\":[{\"id\":\"14057\"},{\"id\":\"14061\"}],\"frame_height\":750,\"frame_width\":1000,\"height\":750,\"left\":[{\"id\":\"14058\"}],\"margin\":[5,5,5,5],\"match_aspect\":true,\"min_border_bottom\":10,\"min_border_left\":10,\"min_border_right\":10,\"min_border_top\":10,\"output_backend\":\"webgl\",\"renderers\":[{\"id\":\"14104\"},{\"id\":\"14115\"}],\"right\":[{\"id\":\"14123\"}],\"sizing_mode\":\"fixed\",\"title\":{\"id\":\"14046\"},\"toolbar\":{\"id\":\"14068\"},\"width\":1000,\"x_range\":{\"id\":\"14040\"},\"x_scale\":{\"id\":\"14050\"},\"y_range\":{\"id\":\"14041\"},\"y_scale\":{\"id\":\"14052\"}},\"id\":\"14045\",\"subtype\":\"Figure\",\"type\":\"Plot\"},{\"attributes\":{\"fill_alpha\":{\"value\":0.75},\"fill_color\":{\"field\":\"color\",\"transform\":{\"id\":\"14106\"}},\"hatch_alpha\":{\"value\":0.75},\"hatch_color\":{\"field\":\"color\",\"transform\":{\"id\":\"14106\"}},\"line_alpha\":{\"value\":0.75},\"line_color\":{\"field\":\"color\",\"transform\":{\"id\":\"14106\"}},\"size\":{\"field\":\"size\"},\"tags\":[\"apply_ranges\"],\"x\":{\"field\":\"lon\"},\"y\":{\"field\":\"lat\"}},\"id\":\"14110\",\"type\":\"Scatter\"},{\"attributes\":{\"match_aspect\":true,\"overlay\":{\"id\":\"14067\"}},\"id\":\"14065\",\"type\":\"BoxZoomTool\"},{\"attributes\":{},\"id\":\"14066\",\"type\":\"ResetTool\"},{\"attributes\":{\"code\":\"\\n        var projections = Bokeh.require(\\\"core/util/projections\\\");\\n        var x = special_vars.data_x\\n        var y = special_vars.data_y\\n        var coords = projections.wgs84_mercator.invert(x, y)\\n        return \\\"\\\" + (coords[0]).toFixed(4)\\n    \"},\"id\":\"14125\",\"type\":\"CustomJSHover\"},{\"attributes\":{},\"id\":\"14052\",\"type\":\"LinearScale\"},{\"attributes\":{\"click_policy\":\"mute\",\"coordinates\":null,\"group\":null,\"items\":[{\"id\":\"14124\"}],\"location\":[0,0]},\"id\":\"14123\",\"type\":\"Legend\"},{\"attributes\":{\"bottom_units\":\"screen\",\"coordinates\":null,\"fill_alpha\":0.5,\"fill_color\":\"lightgrey\",\"group\":null,\"left_units\":\"screen\",\"level\":\"overlay\",\"line_alpha\":1.0,\"line_color\":\"black\",\"line_dash\":[4,4],\"line_width\":2,\"right_units\":\"screen\",\"syncable\":false,\"top_units\":\"screen\"},\"id\":\"14067\",\"type\":\"BoxAnnotation\"},{\"attributes\":{},\"id\":\"14108\",\"type\":\"Selection\"},{\"attributes\":{\"end\":-9080755.0469078,\"min_interval\":5,\"reset_end\":-9080755.0469078,\"reset_start\":-9081069.769410629,\"start\":-9081069.769410629,\"tags\":[[[\"lon\",\"lon\",null]]]},\"id\":\"14040\",\"type\":\"Range1d\"},{\"attributes\":{\"dimension\":\"lat\"},\"id\":\"14078\",\"type\":\"MercatorTickFormatter\"},{\"attributes\":{},\"id\":\"14050\",\"type\":\"LinearScale\"},{\"attributes\":{\"dimension\":\"lon\"},\"id\":\"14076\",\"type\":\"MercatorTickFormatter\"},{\"attributes\":{},\"id\":\"14120\",\"type\":\"UnionRenderers\"},{\"attributes\":{\"end\":3293481.2445326517,\"min_interval\":5,\"reset_end\":3293481.2445326517,\"reset_start\":3293245.2026555305,\"start\":3293245.2026555305,\"tags\":[[[\"lat\",\"lat\",null]]]},\"id\":\"14041\",\"type\":\"Range1d\"},{\"attributes\":{\"active_drag\":{\"id\":\"14063\"},\"tools\":[{\"id\":\"14044\"},{\"id\":\"14062\"},{\"id\":\"14063\"},{\"id\":\"14064\"},{\"id\":\"14065\"},{\"id\":\"14066\"}]},\"id\":\"14068\",\"type\":\"Toolbar\"},{\"attributes\":{\"axis_label\":\"y\",\"coordinates\":null,\"formatter\":{\"id\":\"14078\"},\"group\":null,\"major_label_policy\":{\"id\":\"14088\"},\"ticker\":{\"id\":\"14077\"}},\"id\":\"14058\",\"type\":\"LinearAxis\"},{\"attributes\":{\"data\":{\"Ride_name\":[\"Arctic Expeditions\",\"Cross County Creek\",\"Downhill Double Dipper\",\"Melt-away Bay\",\"Mount Gushmore Station\",\"Teamboat Springs\",\"Toboggan Racers\"],\"color\":[\"Arctic Expeditions\",\"Cross County Creek\",\"Downhill Double Dipper\",\"Melt-away Bay\",\"Mount Gushmore Station\",\"Teamboat Springs\",\"Toboggan Racers\"],\"incident_count\":[2,2,4,3,1,4,2],\"lat\":{\"__ndarray__\":\"iRW22YogSUFccIdfKCBJQUGNM5g+IElB50TE7lAgSUEUReAIbyBJQcfepWF1IElBiS6AY1kgSUE=\",\"dtype\":\"float64\",\"order\":\"little\",\"shape\":[7]},\"lon\":{\"__ndarray__\":\"uWhWl/9RYcETv7cHClJhwf7+PXARUmHBy9ymeQBSYcF2uh38EVJhwRjfyIIUUmHBfdUqDxFSYcE=\",\"dtype\":\"float64\",\"order\":\"little\",\"shape\":[7]},\"size\":{\"__ndarray__\":\"EEgXgJQ2NUAQSBeAlDY1QAAAAAAAAD5A38fSORP7OUAAAAAAAAAuQAAAAAAAAD5AEEgXgJQ2NUA=\",\"dtype\":\"float64\",\"order\":\"little\",\"shape\":[7]}},\"selected\":{\"id\":\"14108\"},\"selection_policy\":{\"id\":\"14120\"}},\"id\":\"14107\",\"type\":\"ColumnDataSource\"},{\"attributes\":{},\"id\":\"14088\",\"type\":\"AllLabels\"},{\"attributes\":{\"dimension\":\"lon\"},\"id\":\"14075\",\"type\":\"MercatorTicker\"},{\"attributes\":{\"dimension\":\"lat\"},\"id\":\"14077\",\"type\":\"MercatorTicker\"},{\"attributes\":{\"factors\":[\"Arctic Expeditions\",\"Cross County Creek\",\"Downhill Double Dipper\",\"Melt-away Bay\",\"Mount Gushmore Station\",\"Teamboat Springs\",\"Toboggan Racers\"],\"palette\":[\"#1f77b3\",\"#ff7e0e\",\"#2ba02b\",\"#d62628\",\"#9367bc\",\"#8c564b\",\"#e277c1\"]},\"id\":\"14106\",\"type\":\"CategoricalColorMapper\"},{\"attributes\":{\"children\":[{\"id\":\"14045\"}],\"height\":750,\"margin\":[0,0,0,0],\"name\":\"Row12438\",\"sizing_mode\":\"fixed\",\"tags\":[\"embedded\"],\"width\":1000},\"id\":\"14035\",\"type\":\"Row\"},{\"attributes\":{\"label\":{\"field\":\"color\"},\"renderers\":[{\"id\":\"14115\"}]},\"id\":\"14124\",\"type\":\"LegendItem\"},{\"attributes\":{\"axis\":{\"id\":\"14058\"},\"coordinates\":null,\"dimension\":1,\"grid_line_color\":null,\"group\":null,\"ticker\":null},\"id\":\"14061\",\"type\":\"Grid\"},{\"attributes\":{\"coordinates\":null,\"group\":null,\"text\":\"Blizzard_Beach\",\"text_color\":\"black\",\"text_font_size\":\"12pt\"},\"id\":\"14046\",\"type\":\"Title\"},{\"attributes\":{\"code\":\"\\n        var projections = Bokeh.require(\\\"core/util/projections\\\");\\n        var x = special_vars.data_x\\n        var y = special_vars.data_y\\n        var coords = projections.wgs84_mercator.invert(x, y)\\n        return \\\"\\\" + (coords[1]).toFixed(4)\\n    \"},\"id\":\"14126\",\"type\":\"CustomJSHover\"},{\"attributes\":{\"attribution\":\"&copy; <a href=\\\"https://www.openstreetmap.org/copyright\\\">OpenStreetMap</a> contributors, &copy; <a href=\\\"https://cartodb.com/attributions\\\">CartoDB</a>\",\"url\":\"https://cartodb-basemaps-4.global.ssl.fastly.net/light_all/{Z}/{X}/{Y}.png\"},\"id\":\"14101\",\"type\":\"WMTSTileSource\"},{\"attributes\":{\"source\":{\"id\":\"14107\"}},\"id\":\"14116\",\"type\":\"CDSView\"},{\"attributes\":{\"axis_label\":\"x\",\"coordinates\":null,\"formatter\":{\"id\":\"14076\"},\"group\":null,\"major_label_policy\":{\"id\":\"14081\"},\"ticker\":{\"id\":\"14075\"}},\"id\":\"14054\",\"type\":\"LinearAxis\"},{\"attributes\":{\"coordinates\":null,\"group\":null,\"level\":\"glyph\",\"tile_source\":{\"id\":\"14101\"}},\"id\":\"14104\",\"type\":\"TileRenderer\"},{\"attributes\":{\"callback\":null,\"formatters\":{\"$x\":{\"id\":\"14125\"},\"$y\":{\"id\":\"14126\"}},\"renderers\":[{\"id\":\"14115\"}],\"tags\":[\"hv_created\"],\"tooltips\":[[\"lon\",\"$x{custom}\"],[\"lat\",\"$y{custom}\"],[\"Ride_name\",\"@{Ride_name}\"],[\"incident_count\",\"@{incident_count}\"]]},\"id\":\"14044\",\"type\":\"HoverTool\"},{\"attributes\":{\"coordinates\":null,\"data_source\":{\"id\":\"14107\"},\"glyph\":{\"id\":\"14110\"},\"group\":null,\"hover_glyph\":{\"id\":\"14113\"},\"muted_glyph\":{\"id\":\"14114\"},\"nonselection_glyph\":{\"id\":\"14111\"},\"selection_glyph\":{\"id\":\"14112\"},\"view\":{\"id\":\"14116\"}},\"id\":\"14115\",\"type\":\"GlyphRenderer\"},{\"attributes\":{\"fill_alpha\":{\"value\":0.75},\"fill_color\":{\"field\":\"color\",\"transform\":{\"id\":\"14106\"}},\"hatch_alpha\":{\"value\":0.1},\"hatch_color\":{\"field\":\"color\",\"transform\":{\"id\":\"14106\"}},\"line_alpha\":{\"value\":0.75},\"line_color\":{\"field\":\"color\",\"transform\":{\"id\":\"14106\"}},\"size\":{\"field\":\"size\"},\"tags\":[\"apply_ranges\"],\"x\":{\"field\":\"lon\"},\"y\":{\"field\":\"lat\"}},\"id\":\"14111\",\"type\":\"Scatter\"},{\"attributes\":{\"axis\":{\"id\":\"14054\"},\"coordinates\":null,\"grid_line_color\":null,\"group\":null,\"ticker\":null},\"id\":\"14057\",\"type\":\"Grid\"},{\"attributes\":{\"fill_alpha\":{\"value\":0.2},\"fill_color\":{\"field\":\"color\",\"transform\":{\"id\":\"14106\"}},\"hatch_alpha\":{\"value\":0.2},\"hatch_color\":{\"field\":\"color\",\"transform\":{\"id\":\"14106\"}},\"line_alpha\":{\"value\":0.2},\"line_color\":{\"field\":\"color\",\"transform\":{\"id\":\"14106\"}},\"size\":{\"field\":\"size\"},\"tags\":[\"apply_ranges\"],\"x\":{\"field\":\"lon\"},\"y\":{\"field\":\"lat\"}},\"id\":\"14114\",\"type\":\"Scatter\"},{\"attributes\":{\"fill_alpha\":{\"value\":0.75},\"fill_color\":{\"field\":\"color\",\"transform\":{\"id\":\"14106\"}},\"hatch_alpha\":{\"value\":0.75},\"hatch_color\":{\"field\":\"color\",\"transform\":{\"id\":\"14106\"}},\"line_alpha\":{\"value\":0.75},\"line_color\":{\"field\":\"color\",\"transform\":{\"id\":\"14106\"}},\"size\":{\"field\":\"size\"},\"tags\":[\"apply_ranges\"],\"x\":{\"field\":\"lon\"},\"y\":{\"field\":\"lat\"}},\"id\":\"14113\",\"type\":\"Scatter\"}],\"root_ids\":[\"14035\"]},\"title\":\"Bokeh Application\",\"version\":\"2.4.3\"}};\n",
       "    var render_items = [{\"docid\":\"fe93a87d-1a13-4867-8409-20b94f709492\",\"root_ids\":[\"14035\"],\"roots\":{\"14035\":\"76905c2f-5a41-4ee6-838e-0cd1886950e5\"}}];\n",
       "    root.Bokeh.embed.embed_items_notebook(docs_json, render_items);\n",
       "    for (const render_item of render_items) {\n",
       "      for (const root_id of render_item.root_ids) {\n",
       "\tconst id_el = document.getElementById(root_id)\n",
       "\tif (id_el.children.length && (id_el.children[0].className === 'bk-root')) {\n",
       "\t  const root_el = id_el.children[0]\n",
       "\t  root_el.id = root_el.id + '-rendered'\n",
       "\t}\n",
       "      }\n",
       "    }\n",
       "  }\n",
       "  if (root.Bokeh !== undefined && root.Bokeh.Panel !== undefined) {\n",
       "    embed_document(root);\n",
       "  } else {\n",
       "    var attempts = 0;\n",
       "    var timer = setInterval(function(root) {\n",
       "      if (root.Bokeh !== undefined && root.Bokeh.Panel !== undefined) {\n",
       "        clearInterval(timer);\n",
       "        embed_document(root);\n",
       "      } else if (document.readyState == \"complete\") {\n",
       "        attempts++;\n",
       "        if (attempts > 200) {\n",
       "          clearInterval(timer);\n",
       "          console.log(\"Bokeh: ERROR: Unable to run BokehJS code because BokehJS library is missing\");\n",
       "        }\n",
       "      }\n",
       "    }, 25, root)\n",
       "  }\n",
       "})(window);</script>"
      ],
      "text/plain": [
       ":Overlay\n",
       "   .Tiles.I  :Tiles   [x,y]\n",
       "   .Points.I :Points   [lon,lat]   (Ride_name,incident_count)"
      ]
     },
     "execution_count": 86,
     "metadata": {
      "application/vnd.holoviews_exec.v0+json": {
       "id": "14035"
      }
     },
     "output_type": "execute_result"
    }
   ],
   "source": [
    "plot_mapping_data(mapping_data, filter_column=\"Theme_Park\", filter_value=\"Blizzard Beach\", scale=15, title=\"Blizzard_Beach\")"
   ]
  },
  {
   "cell_type": "markdown",
   "id": "163d1f73",
   "metadata": {},
   "source": [
    "### Epcot"
   ]
  },
  {
   "cell_type": "code",
   "execution_count": 87,
   "id": "51fe4858",
   "metadata": {},
   "outputs": [
    {
     "data": {},
     "metadata": {},
     "output_type": "display_data"
    },
    {
     "data": {
      "application/vnd.holoviews_exec.v0+json": "",
      "text/html": [
       "<div id='14356'>\n",
       "  <div class=\"bk-root\" id=\"6386a650-3f18-4505-9f65-9145bfd0bf87\" data-root-id=\"14356\"></div>\n",
       "</div>\n",
       "<script type=\"application/javascript\">(function(root) {\n",
       "  function embed_document(root) {\n",
       "    var docs_json = {\"e97414ae-192e-478d-beb7-34ce88ebb6f5\":{\"defs\":[{\"extends\":null,\"module\":null,\"name\":\"ReactiveHTML1\",\"overrides\":[],\"properties\":[]},{\"extends\":null,\"module\":null,\"name\":\"FlexBox1\",\"overrides\":[],\"properties\":[{\"default\":\"flex-start\",\"kind\":null,\"name\":\"align_content\"},{\"default\":\"flex-start\",\"kind\":null,\"name\":\"align_items\"},{\"default\":\"row\",\"kind\":null,\"name\":\"flex_direction\"},{\"default\":\"wrap\",\"kind\":null,\"name\":\"flex_wrap\"},{\"default\":\"flex-start\",\"kind\":null,\"name\":\"justify_content\"}]},{\"extends\":null,\"module\":null,\"name\":\"GridStack1\",\"overrides\":[],\"properties\":[{\"default\":\"warn\",\"kind\":null,\"name\":\"mode\"},{\"default\":null,\"kind\":null,\"name\":\"ncols\"},{\"default\":null,\"kind\":null,\"name\":\"nrows\"},{\"default\":true,\"kind\":null,\"name\":\"allow_resize\"},{\"default\":true,\"kind\":null,\"name\":\"allow_drag\"},{\"default\":[],\"kind\":null,\"name\":\"state\"}]},{\"extends\":null,\"module\":null,\"name\":\"click1\",\"overrides\":[],\"properties\":[{\"default\":\"\",\"kind\":null,\"name\":\"terminal_output\"},{\"default\":\"\",\"kind\":null,\"name\":\"debug_name\"},{\"default\":0,\"kind\":null,\"name\":\"clears\"}]},{\"extends\":null,\"module\":null,\"name\":\"NotificationAreaBase1\",\"overrides\":[],\"properties\":[{\"default\":\"bottom-right\",\"kind\":null,\"name\":\"position\"},{\"default\":0,\"kind\":null,\"name\":\"_clear\"}]},{\"extends\":null,\"module\":null,\"name\":\"NotificationArea1\",\"overrides\":[],\"properties\":[{\"default\":[],\"kind\":null,\"name\":\"notifications\"},{\"default\":\"bottom-right\",\"kind\":null,\"name\":\"position\"},{\"default\":0,\"kind\":null,\"name\":\"_clear\"},{\"default\":[{\"background\":\"#ffc107\",\"icon\":{\"className\":\"fas fa-exclamation-triangle\",\"color\":\"white\",\"tagName\":\"i\"},\"type\":\"warning\"},{\"background\":\"#007bff\",\"icon\":{\"className\":\"fas fa-info-circle\",\"color\":\"white\",\"tagName\":\"i\"},\"type\":\"info\"}],\"kind\":null,\"name\":\"types\"}]},{\"extends\":null,\"module\":null,\"name\":\"Notification\",\"overrides\":[],\"properties\":[{\"default\":null,\"kind\":null,\"name\":\"background\"},{\"default\":3000,\"kind\":null,\"name\":\"duration\"},{\"default\":null,\"kind\":null,\"name\":\"icon\"},{\"default\":\"\",\"kind\":null,\"name\":\"message\"},{\"default\":null,\"kind\":null,\"name\":\"notification_type\"},{\"default\":false,\"kind\":null,\"name\":\"_destroyed\"}]},{\"extends\":null,\"module\":null,\"name\":\"TemplateActions1\",\"overrides\":[],\"properties\":[{\"default\":0,\"kind\":null,\"name\":\"open_modal\"},{\"default\":0,\"kind\":null,\"name\":\"close_modal\"}]},{\"extends\":null,\"module\":null,\"name\":\"MaterialTemplateActions1\",\"overrides\":[],\"properties\":[{\"default\":0,\"kind\":null,\"name\":\"open_modal\"},{\"default\":0,\"kind\":null,\"name\":\"close_modal\"}]}],\"roots\":{\"references\":[{\"attributes\":{},\"id\":\"14429\",\"type\":\"Selection\"},{\"attributes\":{\"match_aspect\":true,\"overlay\":{\"id\":\"14388\"}},\"id\":\"14386\",\"type\":\"BoxZoomTool\"},{\"attributes\":{\"axis\":{\"id\":\"14379\"},\"coordinates\":null,\"dimension\":1,\"grid_line_color\":null,\"group\":null,\"ticker\":null},\"id\":\"14382\",\"type\":\"Grid\"},{\"attributes\":{\"attribution\":\"&copy; <a href=\\\"https://www.openstreetmap.org/copyright\\\">OpenStreetMap</a> contributors, &copy; <a href=\\\"https://cartodb.com/attributions\\\">CartoDB</a>\",\"url\":\"https://cartodb-basemaps-4.global.ssl.fastly.net/light_all/{Z}/{X}/{Y}.png\"},\"id\":\"14422\",\"type\":\"WMTSTileSource\"},{\"attributes\":{\"coordinates\":null,\"group\":null,\"level\":\"glyph\",\"tile_source\":{\"id\":\"14422\"}},\"id\":\"14425\",\"type\":\"TileRenderer\"},{\"attributes\":{\"data\":{\"Ride_name\":[\"Guardians of the Galaxy: Cosmic Rewind\",\"Frozen Ever After\",\"Plaza de Los Amigos\",\"Journey info Imagination with Figment\",\"Living with the Land\",\"Maelstrom\",\"Mission: Space\",\"Remy' s Ratatouille Adventure\",\"Soarin' Around the World\",\"Spaceship Earth\",\"Test Track\",\"The Seas with Nemo & Friends\"],\"color\":[\"Guardians of the Galaxy: Cosmic Rewind\",\"Frozen Ever After\",\"Plaza de Los Amigos\",\"Journey info Imagination with Figment\",\"Living with the Land\",\"Maelstrom\",\"Mission: Space\",\"Remy' s Ratatouille Adventure\",\"Soarin' Around the World\",\"Spaceship Earth\",\"Test Track\",\"The Seas with Nemo & Friends\"],\"incident_count\":[8,1,4,2,1,1,36,1,9,12,6,10],\"lat\":{\"__ndarray__\":\"FuZCHEkmSUHSY7E8HiVJQTcL6H9UJUlBGWP6M5wlSUFHfRfJ5iVJQdJjsTweJUlBS1CRMOIlSUG03RdaaCRJQSv0suihJUlBYj2L3DkmSUEtNbMgoSVJQY7thjw9JklB\",\"dtype\":\"float64\",\"order\":\"little\",\"shape\":[12]},\"lon\":{\"__ndarray__\":\"PMkEyIpQYcE+TVWqdlBhwQorzBuEUGHB3hFvdL1QYcEDqquV0lBhwT5NVap2UGHB56azpXtQYcFB8R5Y0lBhwTAS1OfVUGHBaYFwqaJQYcGv29BYhFBhwQe+y0G3UGHB\",\"dtype\":\"float64\",\"order\":\"little\",\"shape\":[12]},\"size\":{\"__ndarray__\":\"wAofAMZIPEAAAAAAAAAkQAAAAAAAADRAwAofAMZILEAAAAAAAAAkQAAAAAAAACRAAAAAAAAATkAAAAAAAAAkQAAAAAAAAD5A6i830QxSQUB6aQuZsX44QCjykElunz9A\",\"dtype\":\"float64\",\"order\":\"little\",\"shape\":[12]}},\"selected\":{\"id\":\"14429\"},\"selection_policy\":{\"id\":\"14441\"}},\"id\":\"14428\",\"type\":\"ColumnDataSource\"},{\"attributes\":{\"dimension\":\"lon\"},\"id\":\"14396\",\"type\":\"MercatorTicker\"},{\"attributes\":{\"dimension\":\"lon\"},\"id\":\"14397\",\"type\":\"MercatorTickFormatter\"},{\"attributes\":{\"fill_alpha\":{\"value\":0.75},\"fill_color\":{\"field\":\"color\",\"transform\":{\"id\":\"14427\"}},\"hatch_alpha\":{\"value\":0.1},\"hatch_color\":{\"field\":\"color\",\"transform\":{\"id\":\"14427\"}},\"line_alpha\":{\"value\":0.75},\"line_color\":{\"field\":\"color\",\"transform\":{\"id\":\"14427\"}},\"size\":{\"field\":\"size\"},\"tags\":[\"apply_ranges\"],\"x\":{\"field\":\"lon\"},\"y\":{\"field\":\"lat\"}},\"id\":\"14432\",\"type\":\"Scatter\"},{\"attributes\":{\"active_drag\":{\"id\":\"14384\"},\"tools\":[{\"id\":\"14365\"},{\"id\":\"14383\"},{\"id\":\"14384\"},{\"id\":\"14385\"},{\"id\":\"14386\"},{\"id\":\"14387\"}]},\"id\":\"14389\",\"type\":\"Toolbar\"},{\"attributes\":{\"zoom_on_axis\":false},\"id\":\"14385\",\"type\":\"WheelZoomTool\"},{\"attributes\":{\"coordinates\":null,\"data_source\":{\"id\":\"14428\"},\"glyph\":{\"id\":\"14431\"},\"group\":null,\"hover_glyph\":{\"id\":\"14434\"},\"muted_glyph\":{\"id\":\"14435\"},\"nonselection_glyph\":{\"id\":\"14432\"},\"selection_glyph\":{\"id\":\"14433\"},\"view\":{\"id\":\"14437\"}},\"id\":\"14436\",\"type\":\"GlyphRenderer\"},{\"attributes\":{\"children\":[{\"id\":\"14366\"}],\"height\":750,\"margin\":[0,0,0,0],\"name\":\"Row12646\",\"sizing_mode\":\"fixed\",\"tags\":[\"embedded\"],\"width\":1000},\"id\":\"14356\",\"type\":\"Row\"},{\"attributes\":{\"label\":{\"field\":\"color\"},\"renderers\":[{\"id\":\"14436\"}]},\"id\":\"14445\",\"type\":\"LegendItem\"},{\"attributes\":{},\"id\":\"14409\",\"type\":\"AllLabels\"},{\"attributes\":{},\"id\":\"14371\",\"type\":\"LinearScale\"},{\"attributes\":{\"code\":\"\\n        var projections = Bokeh.require(\\\"core/util/projections\\\");\\n        var x = special_vars.data_x\\n        var y = special_vars.data_y\\n        var coords = projections.wgs84_mercator.invert(x, y)\\n        return \\\"\\\" + (coords[1]).toFixed(4)\\n    \"},\"id\":\"14447\",\"type\":\"CustomJSHover\"},{\"attributes\":{\"below\":[{\"id\":\"14375\"}],\"center\":[{\"id\":\"14378\"},{\"id\":\"14382\"}],\"frame_height\":750,\"frame_width\":1000,\"height\":750,\"left\":[{\"id\":\"14379\"}],\"margin\":[5,5,5,5],\"match_aspect\":true,\"min_border_bottom\":10,\"min_border_left\":10,\"min_border_right\":10,\"min_border_top\":10,\"output_backend\":\"webgl\",\"renderers\":[{\"id\":\"14425\"},{\"id\":\"14436\"}],\"right\":[{\"id\":\"14444\"}],\"sizing_mode\":\"fixed\",\"title\":{\"id\":\"14367\"},\"toolbar\":{\"id\":\"14389\"},\"width\":1000,\"x_range\":{\"id\":\"14361\"},\"x_scale\":{\"id\":\"14371\"},\"y_range\":{\"id\":\"14362\"},\"y_scale\":{\"id\":\"14373\"}},\"id\":\"14366\",\"subtype\":\"Figure\",\"type\":\"Plot\"},{\"attributes\":{\"coordinates\":null,\"group\":null,\"text\":\"Epcot\",\"text_color\":\"black\",\"text_font_size\":\"12pt\"},\"id\":\"14367\",\"type\":\"Title\"},{\"attributes\":{},\"id\":\"14383\",\"type\":\"SaveTool\"},{\"attributes\":{},\"id\":\"14384\",\"type\":\"PanTool\"},{\"attributes\":{\"dimension\":\"lat\"},\"id\":\"14399\",\"type\":\"MercatorTickFormatter\"},{\"attributes\":{\"code\":\"\\n        var projections = Bokeh.require(\\\"core/util/projections\\\");\\n        var x = special_vars.data_x\\n        var y = special_vars.data_y\\n        var coords = projections.wgs84_mercator.invert(x, y)\\n        return \\\"\\\" + (coords[0]).toFixed(4)\\n    \"},\"id\":\"14446\",\"type\":\"CustomJSHover\"},{\"attributes\":{},\"id\":\"14441\",\"type\":\"UnionRenderers\"},{\"attributes\":{\"axis_label\":\"x\",\"coordinates\":null,\"formatter\":{\"id\":\"14397\"},\"group\":null,\"major_label_policy\":{\"id\":\"14402\"},\"ticker\":{\"id\":\"14396\"}},\"id\":\"14375\",\"type\":\"LinearAxis\"},{\"attributes\":{\"fill_alpha\":{\"value\":0.75},\"fill_color\":{\"field\":\"color\",\"transform\":{\"id\":\"14427\"}},\"hatch_alpha\":{\"value\":0.75},\"hatch_color\":{\"field\":\"color\",\"transform\":{\"id\":\"14427\"}},\"line_alpha\":{\"value\":0.75},\"line_color\":{\"field\":\"color\",\"transform\":{\"id\":\"14427\"}},\"size\":{\"field\":\"size\"},\"tags\":[\"apply_ranges\"],\"x\":{\"field\":\"lon\"},\"y\":{\"field\":\"lat\"}},\"id\":\"14433\",\"type\":\"Scatter\"},{\"attributes\":{\"end\":-9077297.272650544,\"min_interval\":5,\"reset_end\":-9077297.272650544,\"reset_start\":-9078835.294899853,\"start\":-9078835.294899853,\"tags\":[[[\"lon\",\"lon\",null]]]},\"id\":\"14361\",\"type\":\"Range1d\"},{\"attributes\":{\"callback\":null,\"formatters\":{\"$x\":{\"id\":\"14446\"},\"$y\":{\"id\":\"14447\"}},\"renderers\":[{\"id\":\"14436\"}],\"tags\":[\"hv_created\"],\"tooltips\":[[\"lon\",\"$x{custom}\"],[\"lat\",\"$y{custom}\"],[\"Ride_name\",\"@{Ride_name}\"],[\"incident_count\",\"@{incident_count}\"]]},\"id\":\"14365\",\"type\":\"HoverTool\"},{\"attributes\":{\"bottom_units\":\"screen\",\"coordinates\":null,\"fill_alpha\":0.5,\"fill_color\":\"lightgrey\",\"group\":null,\"left_units\":\"screen\",\"level\":\"overlay\",\"line_alpha\":1.0,\"line_color\":\"black\",\"line_dash\":[4,4],\"line_width\":2,\"right_units\":\"screen\",\"syncable\":false,\"top_units\":\"screen\"},\"id\":\"14388\",\"type\":\"BoxAnnotation\"},{\"attributes\":{},\"id\":\"14402\",\"type\":\"AllLabels\"},{\"attributes\":{\"end\":3296498.2206614204,\"min_interval\":5,\"reset_end\":3296498.2206614204,\"reset_start\":3295344.703974439,\"start\":3295344.703974439,\"tags\":[[[\"lat\",\"lat\",null]]]},\"id\":\"14362\",\"type\":\"Range1d\"},{\"attributes\":{\"click_policy\":\"mute\",\"coordinates\":null,\"group\":null,\"items\":[{\"id\":\"14445\"}],\"location\":[0,0]},\"id\":\"14444\",\"type\":\"Legend\"},{\"attributes\":{\"fill_alpha\":{\"value\":0.2},\"fill_color\":{\"field\":\"color\",\"transform\":{\"id\":\"14427\"}},\"hatch_alpha\":{\"value\":0.2},\"hatch_color\":{\"field\":\"color\",\"transform\":{\"id\":\"14427\"}},\"line_alpha\":{\"value\":0.2},\"line_color\":{\"field\":\"color\",\"transform\":{\"id\":\"14427\"}},\"size\":{\"field\":\"size\"},\"tags\":[\"apply_ranges\"],\"x\":{\"field\":\"lon\"},\"y\":{\"field\":\"lat\"}},\"id\":\"14435\",\"type\":\"Scatter\"},{\"attributes\":{\"axis\":{\"id\":\"14375\"},\"coordinates\":null,\"grid_line_color\":null,\"group\":null,\"ticker\":null},\"id\":\"14378\",\"type\":\"Grid\"},{\"attributes\":{\"fill_alpha\":{\"value\":0.75},\"fill_color\":{\"field\":\"color\",\"transform\":{\"id\":\"14427\"}},\"hatch_alpha\":{\"value\":0.75},\"hatch_color\":{\"field\":\"color\",\"transform\":{\"id\":\"14427\"}},\"line_alpha\":{\"value\":0.75},\"line_color\":{\"field\":\"color\",\"transform\":{\"id\":\"14427\"}},\"size\":{\"field\":\"size\"},\"tags\":[\"apply_ranges\"],\"x\":{\"field\":\"lon\"},\"y\":{\"field\":\"lat\"}},\"id\":\"14434\",\"type\":\"Scatter\"},{\"attributes\":{\"fill_alpha\":{\"value\":0.75},\"fill_color\":{\"field\":\"color\",\"transform\":{\"id\":\"14427\"}},\"hatch_alpha\":{\"value\":0.75},\"hatch_color\":{\"field\":\"color\",\"transform\":{\"id\":\"14427\"}},\"line_alpha\":{\"value\":0.75},\"line_color\":{\"field\":\"color\",\"transform\":{\"id\":\"14427\"}},\"size\":{\"field\":\"size\"},\"tags\":[\"apply_ranges\"],\"x\":{\"field\":\"lon\"},\"y\":{\"field\":\"lat\"}},\"id\":\"14431\",\"type\":\"Scatter\"},{\"attributes\":{\"axis_label\":\"y\",\"coordinates\":null,\"formatter\":{\"id\":\"14399\"},\"group\":null,\"major_label_policy\":{\"id\":\"14409\"},\"ticker\":{\"id\":\"14398\"}},\"id\":\"14379\",\"type\":\"LinearAxis\"},{\"attributes\":{},\"id\":\"14387\",\"type\":\"ResetTool\"},{\"attributes\":{},\"id\":\"14373\",\"type\":\"LinearScale\"},{\"attributes\":{\"dimension\":\"lat\"},\"id\":\"14398\",\"type\":\"MercatorTicker\"},{\"attributes\":{\"source\":{\"id\":\"14428\"}},\"id\":\"14437\",\"type\":\"CDSView\"},{\"attributes\":{\"factors\":[\"Guardians of the Galaxy: Cosmic Rewind\",\"Frozen Ever After\",\"Plaza de Los Amigos\",\"Journey info Imagination with Figment\",\"Living with the Land\",\"Maelstrom\",\"Mission: Space\",\"Remy' s Ratatouille Adventure\",\"Soarin' Around the World\",\"Spaceship Earth\",\"Test Track\",\"The Seas with Nemo & Friends\"],\"palette\":[\"#1f77b3\",\"#ff7e0e\",\"#2ba02b\",\"#d62628\",\"#9367bc\",\"#8c564b\",\"#e277c1\",\"#7e7e7e\",\"#bcbc21\",\"#16bdcf\",\"#3a0182\",\"#004201\"]},\"id\":\"14427\",\"type\":\"CategoricalColorMapper\"}],\"root_ids\":[\"14356\"]},\"title\":\"Bokeh Application\",\"version\":\"2.4.3\"}};\n",
       "    var render_items = [{\"docid\":\"e97414ae-192e-478d-beb7-34ce88ebb6f5\",\"root_ids\":[\"14356\"],\"roots\":{\"14356\":\"6386a650-3f18-4505-9f65-9145bfd0bf87\"}}];\n",
       "    root.Bokeh.embed.embed_items_notebook(docs_json, render_items);\n",
       "    for (const render_item of render_items) {\n",
       "      for (const root_id of render_item.root_ids) {\n",
       "\tconst id_el = document.getElementById(root_id)\n",
       "\tif (id_el.children.length && (id_el.children[0].className === 'bk-root')) {\n",
       "\t  const root_el = id_el.children[0]\n",
       "\t  root_el.id = root_el.id + '-rendered'\n",
       "\t}\n",
       "      }\n",
       "    }\n",
       "  }\n",
       "  if (root.Bokeh !== undefined && root.Bokeh.Panel !== undefined) {\n",
       "    embed_document(root);\n",
       "  } else {\n",
       "    var attempts = 0;\n",
       "    var timer = setInterval(function(root) {\n",
       "      if (root.Bokeh !== undefined && root.Bokeh.Panel !== undefined) {\n",
       "        clearInterval(timer);\n",
       "        embed_document(root);\n",
       "      } else if (document.readyState == \"complete\") {\n",
       "        attempts++;\n",
       "        if (attempts > 200) {\n",
       "          clearInterval(timer);\n",
       "          console.log(\"Bokeh: ERROR: Unable to run BokehJS code because BokehJS library is missing\");\n",
       "        }\n",
       "      }\n",
       "    }, 25, root)\n",
       "  }\n",
       "})(window);</script>"
      ],
      "text/plain": [
       ":Overlay\n",
       "   .Tiles.I  :Tiles   [x,y]\n",
       "   .Points.I :Points   [lon,lat]   (Ride_name,incident_count)"
      ]
     },
     "execution_count": 87,
     "metadata": {
      "application/vnd.holoviews_exec.v0+json": {
       "id": "14356"
      }
     },
     "output_type": "execute_result"
    }
   ],
   "source": [
    "plot_mapping_data(mapping_data, filter_column=\"Theme_Park\", filter_value=\"Epcot\", scale=10, title=\"Epcot\")"
   ]
  },
  {
   "cell_type": "markdown",
   "id": "b199b39c",
   "metadata": {},
   "source": [
    "### Hollywood Studios"
   ]
  },
  {
   "cell_type": "code",
   "execution_count": 88,
   "id": "892a0085",
   "metadata": {},
   "outputs": [
    {
     "data": {},
     "metadata": {},
     "output_type": "display_data"
    },
    {
     "data": {
      "application/vnd.holoviews_exec.v0+json": "",
      "text/html": [
       "<div id='14677'>\n",
       "  <div class=\"bk-root\" id=\"8e77d29c-262b-4946-9de2-9f122168d11b\" data-root-id=\"14677\"></div>\n",
       "</div>\n",
       "<script type=\"application/javascript\">(function(root) {\n",
       "  function embed_document(root) {\n",
       "    var docs_json = {\"bcd2b5de-9b97-4119-98dd-4b1ab2a4db34\":{\"defs\":[{\"extends\":null,\"module\":null,\"name\":\"ReactiveHTML1\",\"overrides\":[],\"properties\":[]},{\"extends\":null,\"module\":null,\"name\":\"FlexBox1\",\"overrides\":[],\"properties\":[{\"default\":\"flex-start\",\"kind\":null,\"name\":\"align_content\"},{\"default\":\"flex-start\",\"kind\":null,\"name\":\"align_items\"},{\"default\":\"row\",\"kind\":null,\"name\":\"flex_direction\"},{\"default\":\"wrap\",\"kind\":null,\"name\":\"flex_wrap\"},{\"default\":\"flex-start\",\"kind\":null,\"name\":\"justify_content\"}]},{\"extends\":null,\"module\":null,\"name\":\"GridStack1\",\"overrides\":[],\"properties\":[{\"default\":\"warn\",\"kind\":null,\"name\":\"mode\"},{\"default\":null,\"kind\":null,\"name\":\"ncols\"},{\"default\":null,\"kind\":null,\"name\":\"nrows\"},{\"default\":true,\"kind\":null,\"name\":\"allow_resize\"},{\"default\":true,\"kind\":null,\"name\":\"allow_drag\"},{\"default\":[],\"kind\":null,\"name\":\"state\"}]},{\"extends\":null,\"module\":null,\"name\":\"click1\",\"overrides\":[],\"properties\":[{\"default\":\"\",\"kind\":null,\"name\":\"terminal_output\"},{\"default\":\"\",\"kind\":null,\"name\":\"debug_name\"},{\"default\":0,\"kind\":null,\"name\":\"clears\"}]},{\"extends\":null,\"module\":null,\"name\":\"NotificationAreaBase1\",\"overrides\":[],\"properties\":[{\"default\":\"bottom-right\",\"kind\":null,\"name\":\"position\"},{\"default\":0,\"kind\":null,\"name\":\"_clear\"}]},{\"extends\":null,\"module\":null,\"name\":\"NotificationArea1\",\"overrides\":[],\"properties\":[{\"default\":[],\"kind\":null,\"name\":\"notifications\"},{\"default\":\"bottom-right\",\"kind\":null,\"name\":\"position\"},{\"default\":0,\"kind\":null,\"name\":\"_clear\"},{\"default\":[{\"background\":\"#ffc107\",\"icon\":{\"className\":\"fas fa-exclamation-triangle\",\"color\":\"white\",\"tagName\":\"i\"},\"type\":\"warning\"},{\"background\":\"#007bff\",\"icon\":{\"className\":\"fas fa-info-circle\",\"color\":\"white\",\"tagName\":\"i\"},\"type\":\"info\"}],\"kind\":null,\"name\":\"types\"}]},{\"extends\":null,\"module\":null,\"name\":\"Notification\",\"overrides\":[],\"properties\":[{\"default\":null,\"kind\":null,\"name\":\"background\"},{\"default\":3000,\"kind\":null,\"name\":\"duration\"},{\"default\":null,\"kind\":null,\"name\":\"icon\"},{\"default\":\"\",\"kind\":null,\"name\":\"message\"},{\"default\":null,\"kind\":null,\"name\":\"notification_type\"},{\"default\":false,\"kind\":null,\"name\":\"_destroyed\"}]},{\"extends\":null,\"module\":null,\"name\":\"TemplateActions1\",\"overrides\":[],\"properties\":[{\"default\":0,\"kind\":null,\"name\":\"open_modal\"},{\"default\":0,\"kind\":null,\"name\":\"close_modal\"}]},{\"extends\":null,\"module\":null,\"name\":\"MaterialTemplateActions1\",\"overrides\":[],\"properties\":[{\"default\":0,\"kind\":null,\"name\":\"open_modal\"},{\"default\":0,\"kind\":null,\"name\":\"close_modal\"}]}],\"roots\":{\"references\":[{\"attributes\":{\"fill_alpha\":{\"value\":0.75},\"fill_color\":{\"field\":\"color\",\"transform\":{\"id\":\"14748\"}},\"hatch_alpha\":{\"value\":0.1},\"hatch_color\":{\"field\":\"color\",\"transform\":{\"id\":\"14748\"}},\"line_alpha\":{\"value\":0.75},\"line_color\":{\"field\":\"color\",\"transform\":{\"id\":\"14748\"}},\"size\":{\"field\":\"size\"},\"tags\":[\"apply_ranges\"],\"x\":{\"field\":\"lon\"},\"y\":{\"field\":\"lat\"}},\"id\":\"14753\",\"type\":\"Scatter\"},{\"attributes\":{\"code\":\"\\n        var projections = Bokeh.require(\\\"core/util/projections\\\");\\n        var x = special_vars.data_x\\n        var y = special_vars.data_y\\n        var coords = projections.wgs84_mercator.invert(x, y)\\n        return \\\"\\\" + (coords[1]).toFixed(4)\\n    \"},\"id\":\"14768\",\"type\":\"CustomJSHover\"},{\"attributes\":{},\"id\":\"14723\",\"type\":\"AllLabels\"},{\"attributes\":{\"fill_alpha\":{\"value\":0.2},\"fill_color\":{\"field\":\"color\",\"transform\":{\"id\":\"14748\"}},\"hatch_alpha\":{\"value\":0.2},\"hatch_color\":{\"field\":\"color\",\"transform\":{\"id\":\"14748\"}},\"line_alpha\":{\"value\":0.2},\"line_color\":{\"field\":\"color\",\"transform\":{\"id\":\"14748\"}},\"size\":{\"field\":\"size\"},\"tags\":[\"apply_ranges\"],\"x\":{\"field\":\"lon\"},\"y\":{\"field\":\"lat\"}},\"id\":\"14756\",\"type\":\"Scatter\"},{\"attributes\":{\"children\":[{\"id\":\"14687\"}],\"height\":750,\"margin\":[0,0,0,0],\"name\":\"Row12854\",\"sizing_mode\":\"fixed\",\"tags\":[\"embedded\"],\"width\":1000},\"id\":\"14677\",\"type\":\"Row\"},{\"attributes\":{\"click_policy\":\"mute\",\"coordinates\":null,\"group\":null,\"items\":[{\"id\":\"14766\"}],\"location\":[0,0]},\"id\":\"14765\",\"type\":\"Legend\"},{\"attributes\":{\"source\":{\"id\":\"14749\"}},\"id\":\"14758\",\"type\":\"CDSView\"},{\"attributes\":{},\"id\":\"14750\",\"type\":\"Selection\"},{\"attributes\":{\"fill_alpha\":{\"value\":0.75},\"fill_color\":{\"field\":\"color\",\"transform\":{\"id\":\"14748\"}},\"hatch_alpha\":{\"value\":0.75},\"hatch_color\":{\"field\":\"color\",\"transform\":{\"id\":\"14748\"}},\"line_alpha\":{\"value\":0.75},\"line_color\":{\"field\":\"color\",\"transform\":{\"id\":\"14748\"}},\"size\":{\"field\":\"size\"},\"tags\":[\"apply_ranges\"],\"x\":{\"field\":\"lon\"},\"y\":{\"field\":\"lat\"}},\"id\":\"14755\",\"type\":\"Scatter\"},{\"attributes\":{},\"id\":\"14730\",\"type\":\"AllLabels\"},{\"attributes\":{\"end\":3294515.8834739737,\"min_interval\":5,\"reset_end\":3294515.8834739737,\"reset_start\":3293586.3313204246,\"start\":3293586.3313204246,\"tags\":[[[\"lat\",\"lat\",null]]]},\"id\":\"14683\",\"type\":\"Range1d\"},{\"attributes\":{\"axis_label\":\"x\",\"coordinates\":null,\"formatter\":{\"id\":\"14718\"},\"group\":null,\"major_label_policy\":{\"id\":\"14723\"},\"ticker\":{\"id\":\"14717\"}},\"id\":\"14696\",\"type\":\"LinearAxis\"},{\"attributes\":{\"zoom_on_axis\":false},\"id\":\"14706\",\"type\":\"WheelZoomTool\"},{\"attributes\":{\"dimension\":\"lon\"},\"id\":\"14718\",\"type\":\"MercatorTickFormatter\"},{\"attributes\":{\"data\":{\"Ride_name\":[\"Alien Swirling Saucers\",\"Great Movie Ride\",\"Mickey & Minnie's Runaway Railway\",\"Millennium Falcon: Smugglers Run\",\"Rock 'n' Roller Coaster Starring Aerosmith\",\"Slinky Dog Dash\",\"Star Tours: The Adventure Continues\",\"Star Wars: Rise of the Resistance\",\"The Twilight Zone Tower of Terror\",\"Toy Story Midway Mania!\"],\"color\":[\"Alien Swirling Saucers\",\"Great Movie Ride\",\"Mickey & Minnie's Runaway Railway\",\"Millennium Falcon: Smugglers Run\",\"Rock 'n' Roller Coaster Starring Aerosmith\",\"Slinky Dog Dash\",\"Star Tours: The Adventure Continues\",\"Star Wars: Rise of the Resistance\",\"The Twilight Zone Tower of Terror\",\"Toy Story Midway Mania!\"],\"incident_count\":[1,6,2,2,23,2,16,1,16,7],\"lat\":{\"__ndarray__\":\"1+yE5V8hSUFgcyUvhiFJQWBzJS+GIUlBSc1w1e8gSUGb8g/rWyJJQUAbrX+SIUlBiqWfnUIhSUFjLQF5+SBJQfHRDUZzIklBAQyvG3ghSUE=\",\"dtype\":\"float64\",\"order\":\"little\",\"shape\":[10]},\"lon\":{\"__ndarray__\":\"4OQ+QVxRYcHQ+Z0ZPVFhwdD5nRk9UWHB2qchvU1RYcHsfnJrU1FhwR7rLSpiUWHB4vVWciNRYcF3O/idPVFhwTiPqXE1UWHBtcPuv0hRYcE=\",\"dtype\":\"float64\",\"order\":\"little\",\"shape\":[10]},\"size\":{\"__ndarray__\":\"AAAAAAAALkAbj8gyBV9CQBBIF4CUNjVAEEgXgJQ2NUDVkx+O//tRQBBIF4CUNjVAAAAAAAAATkAAAAAAAAAuQAAAAAAAAE5AW8k1r9fXQ0A=\",\"dtype\":\"float64\",\"order\":\"little\",\"shape\":[10]}},\"selected\":{\"id\":\"14750\"},\"selection_policy\":{\"id\":\"14762\"}},\"id\":\"14749\",\"type\":\"ColumnDataSource\"},{\"attributes\":{\"axis\":{\"id\":\"14696\"},\"coordinates\":null,\"grid_line_color\":null,\"group\":null,\"ticker\":null},\"id\":\"14699\",\"type\":\"Grid\"},{\"attributes\":{\"active_drag\":{\"id\":\"14705\"},\"tools\":[{\"id\":\"14686\"},{\"id\":\"14704\"},{\"id\":\"14705\"},{\"id\":\"14706\"},{\"id\":\"14707\"},{\"id\":\"14708\"}]},\"id\":\"14710\",\"type\":\"Toolbar\"},{\"attributes\":{\"dimension\":\"lat\"},\"id\":\"14720\",\"type\":\"MercatorTickFormatter\"},{\"attributes\":{\"bottom_units\":\"screen\",\"coordinates\":null,\"fill_alpha\":0.5,\"fill_color\":\"lightgrey\",\"group\":null,\"left_units\":\"screen\",\"level\":\"overlay\",\"line_alpha\":1.0,\"line_color\":\"black\",\"line_dash\":[4,4],\"line_width\":2,\"right_units\":\"screen\",\"syncable\":false,\"top_units\":\"screen\"},\"id\":\"14709\",\"type\":\"BoxAnnotation\"},{\"attributes\":{\"end\":-9078698.744174592,\"min_interval\":5,\"reset_end\":-9078698.744174592,\"reset_start\":-9079938.14704599,\"start\":-9079938.14704599,\"tags\":[[[\"lon\",\"lon\",null]]]},\"id\":\"14682\",\"type\":\"Range1d\"},{\"attributes\":{\"coordinates\":null,\"group\":null,\"text\":\"Hollywood_Studios\",\"text_color\":\"black\",\"text_font_size\":\"12pt\"},\"id\":\"14688\",\"type\":\"Title\"},{\"attributes\":{\"attribution\":\"&copy; <a href=\\\"https://www.openstreetmap.org/copyright\\\">OpenStreetMap</a> contributors, &copy; <a href=\\\"https://cartodb.com/attributions\\\">CartoDB</a>\",\"url\":\"https://cartodb-basemaps-4.global.ssl.fastly.net/light_all/{Z}/{X}/{Y}.png\"},\"id\":\"14743\",\"type\":\"WMTSTileSource\"},{\"attributes\":{},\"id\":\"14708\",\"type\":\"ResetTool\"},{\"attributes\":{\"coordinates\":null,\"group\":null,\"level\":\"glyph\",\"tile_source\":{\"id\":\"14743\"}},\"id\":\"14746\",\"type\":\"TileRenderer\"},{\"attributes\":{\"match_aspect\":true,\"overlay\":{\"id\":\"14709\"}},\"id\":\"14707\",\"type\":\"BoxZoomTool\"},{\"attributes\":{\"factors\":[\"Alien Swirling Saucers\",\"Great Movie Ride\",\"Mickey & Minnie's Runaway Railway\",\"Millennium Falcon: Smugglers Run\",\"Rock 'n' Roller Coaster Starring Aerosmith\",\"Slinky Dog Dash\",\"Star Tours: The Adventure Continues\",\"Star Wars: Rise of the Resistance\",\"The Twilight Zone Tower of Terror\",\"Toy Story Midway Mania!\"],\"palette\":[\"#1f77b3\",\"#ff7e0e\",\"#2ba02b\",\"#d62628\",\"#9367bc\",\"#8c564b\",\"#e277c1\",\"#7e7e7e\",\"#bcbc21\",\"#16bdcf\"]},\"id\":\"14748\",\"type\":\"CategoricalColorMapper\"},{\"attributes\":{},\"id\":\"14704\",\"type\":\"SaveTool\"},{\"attributes\":{},\"id\":\"14705\",\"type\":\"PanTool\"},{\"attributes\":{\"code\":\"\\n        var projections = Bokeh.require(\\\"core/util/projections\\\");\\n        var x = special_vars.data_x\\n        var y = special_vars.data_y\\n        var coords = projections.wgs84_mercator.invert(x, y)\\n        return \\\"\\\" + (coords[0]).toFixed(4)\\n    \"},\"id\":\"14767\",\"type\":\"CustomJSHover\"},{\"attributes\":{\"dimension\":\"lon\"},\"id\":\"14717\",\"type\":\"MercatorTicker\"},{\"attributes\":{\"callback\":null,\"formatters\":{\"$x\":{\"id\":\"14767\"},\"$y\":{\"id\":\"14768\"}},\"renderers\":[{\"id\":\"14757\"}],\"tags\":[\"hv_created\"],\"tooltips\":[[\"lon\",\"$x{custom}\"],[\"lat\",\"$y{custom}\"],[\"Ride_name\",\"@{Ride_name}\"],[\"incident_count\",\"@{incident_count}\"]]},\"id\":\"14686\",\"type\":\"HoverTool\"},{\"attributes\":{},\"id\":\"14692\",\"type\":\"LinearScale\"},{\"attributes\":{\"fill_alpha\":{\"value\":0.75},\"fill_color\":{\"field\":\"color\",\"transform\":{\"id\":\"14748\"}},\"hatch_alpha\":{\"value\":0.75},\"hatch_color\":{\"field\":\"color\",\"transform\":{\"id\":\"14748\"}},\"line_alpha\":{\"value\":0.75},\"line_color\":{\"field\":\"color\",\"transform\":{\"id\":\"14748\"}},\"size\":{\"field\":\"size\"},\"tags\":[\"apply_ranges\"],\"x\":{\"field\":\"lon\"},\"y\":{\"field\":\"lat\"}},\"id\":\"14754\",\"type\":\"Scatter\"},{\"attributes\":{\"axis_label\":\"y\",\"coordinates\":null,\"formatter\":{\"id\":\"14720\"},\"group\":null,\"major_label_policy\":{\"id\":\"14730\"},\"ticker\":{\"id\":\"14719\"}},\"id\":\"14700\",\"type\":\"LinearAxis\"},{\"attributes\":{\"below\":[{\"id\":\"14696\"}],\"center\":[{\"id\":\"14699\"},{\"id\":\"14703\"}],\"frame_height\":750,\"frame_width\":1000,\"height\":750,\"left\":[{\"id\":\"14700\"}],\"margin\":[5,5,5,5],\"match_aspect\":true,\"min_border_bottom\":10,\"min_border_left\":10,\"min_border_right\":10,\"min_border_top\":10,\"output_backend\":\"webgl\",\"renderers\":[{\"id\":\"14746\"},{\"id\":\"14757\"}],\"right\":[{\"id\":\"14765\"}],\"sizing_mode\":\"fixed\",\"title\":{\"id\":\"14688\"},\"toolbar\":{\"id\":\"14710\"},\"width\":1000,\"x_range\":{\"id\":\"14682\"},\"x_scale\":{\"id\":\"14692\"},\"y_range\":{\"id\":\"14683\"},\"y_scale\":{\"id\":\"14694\"}},\"id\":\"14687\",\"subtype\":\"Figure\",\"type\":\"Plot\"},{\"attributes\":{\"axis\":{\"id\":\"14700\"},\"coordinates\":null,\"dimension\":1,\"grid_line_color\":null,\"group\":null,\"ticker\":null},\"id\":\"14703\",\"type\":\"Grid\"},{\"attributes\":{\"dimension\":\"lat\"},\"id\":\"14719\",\"type\":\"MercatorTicker\"},{\"attributes\":{\"fill_alpha\":{\"value\":0.75},\"fill_color\":{\"field\":\"color\",\"transform\":{\"id\":\"14748\"}},\"hatch_alpha\":{\"value\":0.75},\"hatch_color\":{\"field\":\"color\",\"transform\":{\"id\":\"14748\"}},\"line_alpha\":{\"value\":0.75},\"line_color\":{\"field\":\"color\",\"transform\":{\"id\":\"14748\"}},\"size\":{\"field\":\"size\"},\"tags\":[\"apply_ranges\"],\"x\":{\"field\":\"lon\"},\"y\":{\"field\":\"lat\"}},\"id\":\"14752\",\"type\":\"Scatter\"},{\"attributes\":{\"coordinates\":null,\"data_source\":{\"id\":\"14749\"},\"glyph\":{\"id\":\"14752\"},\"group\":null,\"hover_glyph\":{\"id\":\"14755\"},\"muted_glyph\":{\"id\":\"14756\"},\"nonselection_glyph\":{\"id\":\"14753\"},\"selection_glyph\":{\"id\":\"14754\"},\"view\":{\"id\":\"14758\"}},\"id\":\"14757\",\"type\":\"GlyphRenderer\"},{\"attributes\":{},\"id\":\"14694\",\"type\":\"LinearScale\"},{\"attributes\":{\"label\":{\"field\":\"color\"},\"renderers\":[{\"id\":\"14757\"}]},\"id\":\"14766\",\"type\":\"LegendItem\"},{\"attributes\":{},\"id\":\"14762\",\"type\":\"UnionRenderers\"}],\"root_ids\":[\"14677\"]},\"title\":\"Bokeh Application\",\"version\":\"2.4.3\"}};\n",
       "    var render_items = [{\"docid\":\"bcd2b5de-9b97-4119-98dd-4b1ab2a4db34\",\"root_ids\":[\"14677\"],\"roots\":{\"14677\":\"8e77d29c-262b-4946-9de2-9f122168d11b\"}}];\n",
       "    root.Bokeh.embed.embed_items_notebook(docs_json, render_items);\n",
       "    for (const render_item of render_items) {\n",
       "      for (const root_id of render_item.root_ids) {\n",
       "\tconst id_el = document.getElementById(root_id)\n",
       "\tif (id_el.children.length && (id_el.children[0].className === 'bk-root')) {\n",
       "\t  const root_el = id_el.children[0]\n",
       "\t  root_el.id = root_el.id + '-rendered'\n",
       "\t}\n",
       "      }\n",
       "    }\n",
       "  }\n",
       "  if (root.Bokeh !== undefined && root.Bokeh.Panel !== undefined) {\n",
       "    embed_document(root);\n",
       "  } else {\n",
       "    var attempts = 0;\n",
       "    var timer = setInterval(function(root) {\n",
       "      if (root.Bokeh !== undefined && root.Bokeh.Panel !== undefined) {\n",
       "        clearInterval(timer);\n",
       "        embed_document(root);\n",
       "      } else if (document.readyState == \"complete\") {\n",
       "        attempts++;\n",
       "        if (attempts > 200) {\n",
       "          clearInterval(timer);\n",
       "          console.log(\"Bokeh: ERROR: Unable to run BokehJS code because BokehJS library is missing\");\n",
       "        }\n",
       "      }\n",
       "    }, 25, root)\n",
       "  }\n",
       "})(window);</script>"
      ],
      "text/plain": [
       ":Overlay\n",
       "   .Tiles.I  :Tiles   [x,y]\n",
       "   .Points.I :Points   [lon,lat]   (Ride_name,incident_count)"
      ]
     },
     "execution_count": 88,
     "metadata": {
      "application/vnd.holoviews_exec.v0+json": {
       "id": "14677"
      }
     },
     "output_type": "execute_result"
    }
   ],
   "source": [
    "plot_mapping_data(mapping_data, filter_column=\"Theme_Park\", filter_value=\"Hollywood Studios\", \n",
    "                  scale=15, title=\"Hollywood_Studios\")"
   ]
  },
  {
   "cell_type": "markdown",
   "id": "8d9335a6",
   "metadata": {},
   "source": [
    "### Magic Kingdom"
   ]
  },
  {
   "cell_type": "code",
   "execution_count": 89,
   "id": "1145d3f6",
   "metadata": {},
   "outputs": [
    {
     "data": {},
     "metadata": {},
     "output_type": "display_data"
    },
    {
     "data": {
      "application/vnd.holoviews_exec.v0+json": "",
      "text/html": [
       "<div id='14998'>\n",
       "  <div class=\"bk-root\" id=\"fc60f4f3-8120-44e7-97e7-60351eea1e18\" data-root-id=\"14998\"></div>\n",
       "</div>\n",
       "<script type=\"application/javascript\">(function(root) {\n",
       "  function embed_document(root) {\n",
       "    var docs_json = {\"c473eae6-2dff-49e0-984f-3c46a25bb18e\":{\"defs\":[{\"extends\":null,\"module\":null,\"name\":\"ReactiveHTML1\",\"overrides\":[],\"properties\":[]},{\"extends\":null,\"module\":null,\"name\":\"FlexBox1\",\"overrides\":[],\"properties\":[{\"default\":\"flex-start\",\"kind\":null,\"name\":\"align_content\"},{\"default\":\"flex-start\",\"kind\":null,\"name\":\"align_items\"},{\"default\":\"row\",\"kind\":null,\"name\":\"flex_direction\"},{\"default\":\"wrap\",\"kind\":null,\"name\":\"flex_wrap\"},{\"default\":\"flex-start\",\"kind\":null,\"name\":\"justify_content\"}]},{\"extends\":null,\"module\":null,\"name\":\"GridStack1\",\"overrides\":[],\"properties\":[{\"default\":\"warn\",\"kind\":null,\"name\":\"mode\"},{\"default\":null,\"kind\":null,\"name\":\"ncols\"},{\"default\":null,\"kind\":null,\"name\":\"nrows\"},{\"default\":true,\"kind\":null,\"name\":\"allow_resize\"},{\"default\":true,\"kind\":null,\"name\":\"allow_drag\"},{\"default\":[],\"kind\":null,\"name\":\"state\"}]},{\"extends\":null,\"module\":null,\"name\":\"click1\",\"overrides\":[],\"properties\":[{\"default\":\"\",\"kind\":null,\"name\":\"terminal_output\"},{\"default\":\"\",\"kind\":null,\"name\":\"debug_name\"},{\"default\":0,\"kind\":null,\"name\":\"clears\"}]},{\"extends\":null,\"module\":null,\"name\":\"NotificationAreaBase1\",\"overrides\":[],\"properties\":[{\"default\":\"bottom-right\",\"kind\":null,\"name\":\"position\"},{\"default\":0,\"kind\":null,\"name\":\"_clear\"}]},{\"extends\":null,\"module\":null,\"name\":\"NotificationArea1\",\"overrides\":[],\"properties\":[{\"default\":[],\"kind\":null,\"name\":\"notifications\"},{\"default\":\"bottom-right\",\"kind\":null,\"name\":\"position\"},{\"default\":0,\"kind\":null,\"name\":\"_clear\"},{\"default\":[{\"background\":\"#ffc107\",\"icon\":{\"className\":\"fas fa-exclamation-triangle\",\"color\":\"white\",\"tagName\":\"i\"},\"type\":\"warning\"},{\"background\":\"#007bff\",\"icon\":{\"className\":\"fas fa-info-circle\",\"color\":\"white\",\"tagName\":\"i\"},\"type\":\"info\"}],\"kind\":null,\"name\":\"types\"}]},{\"extends\":null,\"module\":null,\"name\":\"Notification\",\"overrides\":[],\"properties\":[{\"default\":null,\"kind\":null,\"name\":\"background\"},{\"default\":3000,\"kind\":null,\"name\":\"duration\"},{\"default\":null,\"kind\":null,\"name\":\"icon\"},{\"default\":\"\",\"kind\":null,\"name\":\"message\"},{\"default\":null,\"kind\":null,\"name\":\"notification_type\"},{\"default\":false,\"kind\":null,\"name\":\"_destroyed\"}]},{\"extends\":null,\"module\":null,\"name\":\"TemplateActions1\",\"overrides\":[],\"properties\":[{\"default\":0,\"kind\":null,\"name\":\"open_modal\"},{\"default\":0,\"kind\":null,\"name\":\"close_modal\"}]},{\"extends\":null,\"module\":null,\"name\":\"MaterialTemplateActions1\",\"overrides\":[],\"properties\":[{\"default\":0,\"kind\":null,\"name\":\"open_modal\"},{\"default\":0,\"kind\":null,\"name\":\"close_modal\"}]}],\"roots\":{\"references\":[{\"attributes\":{\"dimension\":\"lon\"},\"id\":\"15038\",\"type\":\"MercatorTicker\"},{\"attributes\":{\"fill_alpha\":{\"value\":0.75},\"fill_color\":{\"field\":\"color\",\"transform\":{\"id\":\"15069\"}},\"hatch_alpha\":{\"value\":0.1},\"hatch_color\":{\"field\":\"color\",\"transform\":{\"id\":\"15069\"}},\"line_alpha\":{\"value\":0.75},\"line_color\":{\"field\":\"color\",\"transform\":{\"id\":\"15069\"}},\"size\":{\"field\":\"size\"},\"tags\":[\"apply_ranges\"],\"x\":{\"field\":\"lon\"},\"y\":{\"field\":\"lat\"}},\"id\":\"15074\",\"type\":\"Scatter\"},{\"attributes\":{\"factors\":[\"Astro Orbiter\",\"Big Thunder Mountain Railroad\",\"Buzz Lightyears Space Ranger Spin\",\"Carousel of Progress\",\"Dumbo\",\"Haunted Mansion\",\"It's A Small World\",\"Jungle Cruise\",\"Liberty Riverboat\",\"Mad Tea Party\",\"Peter Pan's Flight\",\"Pirates of the Caribbean\",\"Prince Charming Regal Carousel\",\"Seven Dwarfs Mine Train\",\"Princess Fairytale Hall\",\"Space Mountain\",\"Splash Mountain\",\"The Barnstormer\",\"Liberty Square Riverboat Landing\",\"The Magic Carpets of Aladdin\",\"The Many Adventures of Winnie the Pooh\",\"Tomorrowland Speedway\",\"Tomorrowland Transit Authority People Mover\",\"Under the Sea - Journey of the Little Mermaid\",\"Walt Disney World Railroad\"],\"palette\":[\"#1f77b3\",\"#ff7e0e\",\"#2ba02b\",\"#d62628\",\"#9367bc\",\"#8c564b\",\"#e277c1\",\"#7e7e7e\",\"#bcbc21\",\"#16bdcf\",\"#3a0182\",\"#004201\",\"#0fffa8\",\"#5d003f\",\"#bcbcff\",\"#d8afa1\",\"#b80080\",\"#004d52\",\"#6b6400\",\"#7c0100\",\"#6026ff\",\"#ffff9a\",\"#564964\",\"#8cb893\",\"#93fbff\"]},\"id\":\"15069\",\"type\":\"CategoricalColorMapper\"},{\"attributes\":{},\"id\":\"15071\",\"type\":\"Selection\"},{\"attributes\":{},\"id\":\"15029\",\"type\":\"ResetTool\"},{\"attributes\":{\"attribution\":\"&copy; <a href=\\\"https://www.openstreetmap.org/copyright\\\">OpenStreetMap</a> contributors, &copy; <a href=\\\"https://cartodb.com/attributions\\\">CartoDB</a>\",\"url\":\"https://cartodb-basemaps-4.global.ssl.fastly.net/light_all/{Z}/{X}/{Y}.png\"},\"id\":\"15064\",\"type\":\"WMTSTileSource\"},{\"attributes\":{\"coordinates\":null,\"group\":null,\"level\":\"glyph\",\"tile_source\":{\"id\":\"15064\"}},\"id\":\"15067\",\"type\":\"TileRenderer\"},{\"attributes\":{\"fill_alpha\":{\"value\":0.75},\"fill_color\":{\"field\":\"color\",\"transform\":{\"id\":\"15069\"}},\"hatch_alpha\":{\"value\":0.75},\"hatch_color\":{\"field\":\"color\",\"transform\":{\"id\":\"15069\"}},\"line_alpha\":{\"value\":0.75},\"line_color\":{\"field\":\"color\",\"transform\":{\"id\":\"15069\"}},\"size\":{\"field\":\"size\"},\"tags\":[\"apply_ranges\"],\"x\":{\"field\":\"lon\"},\"y\":{\"field\":\"lat\"}},\"id\":\"15075\",\"type\":\"Scatter\"},{\"attributes\":{\"source\":{\"id\":\"15070\"}},\"id\":\"15079\",\"type\":\"CDSView\"},{\"attributes\":{\"dimension\":\"lat\"},\"id\":\"15041\",\"type\":\"MercatorTickFormatter\"},{\"attributes\":{\"callback\":null,\"formatters\":{\"$x\":{\"id\":\"15088\"},\"$y\":{\"id\":\"15089\"}},\"renderers\":[{\"id\":\"15078\"}],\"tags\":[\"hv_created\"],\"tooltips\":[[\"lon\",\"$x{custom}\"],[\"lat\",\"$y{custom}\"],[\"Ride_name\",\"@{Ride_name}\"],[\"incident_count\",\"@{incident_count}\"]]},\"id\":\"15007\",\"type\":\"HoverTool\"},{\"attributes\":{},\"id\":\"15013\",\"type\":\"LinearScale\"},{\"attributes\":{\"axis\":{\"id\":\"15021\"},\"coordinates\":null,\"dimension\":1,\"grid_line_color\":null,\"group\":null,\"ticker\":null},\"id\":\"15024\",\"type\":\"Grid\"},{\"attributes\":{},\"id\":\"15026\",\"type\":\"PanTool\"},{\"attributes\":{\"fill_alpha\":{\"value\":0.2},\"fill_color\":{\"field\":\"color\",\"transform\":{\"id\":\"15069\"}},\"hatch_alpha\":{\"value\":0.2},\"hatch_color\":{\"field\":\"color\",\"transform\":{\"id\":\"15069\"}},\"line_alpha\":{\"value\":0.2},\"line_color\":{\"field\":\"color\",\"transform\":{\"id\":\"15069\"}},\"size\":{\"field\":\"size\"},\"tags\":[\"apply_ranges\"],\"x\":{\"field\":\"lon\"},\"y\":{\"field\":\"lat\"}},\"id\":\"15077\",\"type\":\"Scatter\"},{\"attributes\":{\"match_aspect\":true,\"overlay\":{\"id\":\"15030\"}},\"id\":\"15028\",\"type\":\"BoxZoomTool\"},{\"attributes\":{\"dimension\":\"lon\"},\"id\":\"15039\",\"type\":\"MercatorTickFormatter\"},{\"attributes\":{\"end\":3302345.0743360408,\"min_interval\":5,\"reset_end\":3302345.0743360408,\"reset_start\":3301594.7549833003,\"start\":3301594.7549833003,\"tags\":[[[\"lat\",\"lat\",null]]]},\"id\":\"15004\",\"type\":\"Range1d\"},{\"attributes\":{\"axis_label\":\"x\",\"coordinates\":null,\"formatter\":{\"id\":\"15039\"},\"group\":null,\"major_label_policy\":{\"id\":\"15044\"},\"ticker\":{\"id\":\"15038\"}},\"id\":\"15017\",\"type\":\"LinearAxis\"},{\"attributes\":{\"axis\":{\"id\":\"15017\"},\"coordinates\":null,\"grid_line_color\":null,\"group\":null,\"ticker\":null},\"id\":\"15020\",\"type\":\"Grid\"},{\"attributes\":{\"coordinates\":null,\"group\":null,\"text\":\"Magic_Kingdom\",\"text_color\":\"black\",\"text_font_size\":\"12pt\"},\"id\":\"15009\",\"type\":\"Title\"},{\"attributes\":{\"end\":-9081070.098425113,\"min_interval\":5,\"reset_end\":-9081070.098425113,\"reset_start\":-9082070.524228767,\"start\":-9082070.524228767,\"tags\":[[[\"lon\",\"lon\",null]]]},\"id\":\"15003\",\"type\":\"Range1d\"},{\"attributes\":{\"fill_alpha\":{\"value\":0.75},\"fill_color\":{\"field\":\"color\",\"transform\":{\"id\":\"15069\"}},\"hatch_alpha\":{\"value\":0.75},\"hatch_color\":{\"field\":\"color\",\"transform\":{\"id\":\"15069\"}},\"line_alpha\":{\"value\":0.75},\"line_color\":{\"field\":\"color\",\"transform\":{\"id\":\"15069\"}},\"size\":{\"field\":\"size\"},\"tags\":[\"apply_ranges\"],\"x\":{\"field\":\"lon\"},\"y\":{\"field\":\"lat\"}},\"id\":\"15076\",\"type\":\"Scatter\"},{\"attributes\":{\"zoom_on_axis\":false},\"id\":\"15027\",\"type\":\"WheelZoomTool\"},{\"attributes\":{},\"id\":\"15051\",\"type\":\"AllLabels\"},{\"attributes\":{\"below\":[{\"id\":\"15017\"}],\"center\":[{\"id\":\"15020\"},{\"id\":\"15024\"}],\"frame_height\":750,\"frame_width\":1000,\"height\":750,\"left\":[{\"id\":\"15021\"}],\"margin\":[5,5,5,5],\"match_aspect\":true,\"min_border_bottom\":10,\"min_border_left\":10,\"min_border_right\":10,\"min_border_top\":10,\"output_backend\":\"webgl\",\"renderers\":[{\"id\":\"15067\"},{\"id\":\"15078\"}],\"right\":[{\"id\":\"15086\"}],\"sizing_mode\":\"fixed\",\"title\":{\"id\":\"15009\"},\"toolbar\":{\"id\":\"15031\"},\"width\":1000,\"x_range\":{\"id\":\"15003\"},\"x_scale\":{\"id\":\"15013\"},\"y_range\":{\"id\":\"15004\"},\"y_scale\":{\"id\":\"15015\"}},\"id\":\"15008\",\"subtype\":\"Figure\",\"type\":\"Plot\"},{\"attributes\":{\"axis_label\":\"y\",\"coordinates\":null,\"formatter\":{\"id\":\"15041\"},\"group\":null,\"major_label_policy\":{\"id\":\"15051\"},\"ticker\":{\"id\":\"15040\"}},\"id\":\"15021\",\"type\":\"LinearAxis\"},{\"attributes\":{\"dimension\":\"lat\"},\"id\":\"15040\",\"type\":\"MercatorTicker\"},{\"attributes\":{\"code\":\"\\n        var projections = Bokeh.require(\\\"core/util/projections\\\");\\n        var x = special_vars.data_x\\n        var y = special_vars.data_y\\n        var coords = projections.wgs84_mercator.invert(x, y)\\n        return \\\"\\\" + (coords[0]).toFixed(4)\\n    \"},\"id\":\"15088\",\"type\":\"CustomJSHover\"},{\"attributes\":{},\"id\":\"15025\",\"type\":\"SaveTool\"},{\"attributes\":{\"fill_alpha\":{\"value\":0.75},\"fill_color\":{\"field\":\"color\",\"transform\":{\"id\":\"15069\"}},\"hatch_alpha\":{\"value\":0.75},\"hatch_color\":{\"field\":\"color\",\"transform\":{\"id\":\"15069\"}},\"line_alpha\":{\"value\":0.75},\"line_color\":{\"field\":\"color\",\"transform\":{\"id\":\"15069\"}},\"size\":{\"field\":\"size\"},\"tags\":[\"apply_ranges\"],\"x\":{\"field\":\"lon\"},\"y\":{\"field\":\"lat\"}},\"id\":\"15073\",\"type\":\"Scatter\"},{\"attributes\":{},\"id\":\"15044\",\"type\":\"AllLabels\"},{\"attributes\":{\"click_policy\":\"mute\",\"coordinates\":null,\"group\":null,\"items\":[{\"id\":\"15087\"}],\"location\":[0,0]},\"id\":\"15086\",\"type\":\"Legend\"},{\"attributes\":{\"data\":{\"Ride_name\":[\"Astro Orbiter\",\"Big Thunder Mountain Railroad\",\"Buzz Lightyears Space Ranger Spin\",\"Carousel of Progress\",\"Dumbo\",\"Haunted Mansion\",\"It's A Small World\",\"Jungle Cruise\",\"Liberty Riverboat\",\"Mad Tea Party\",\"Peter Pan's Flight\",\"Pirates of the Caribbean\",\"Prince Charming Regal Carousel\",\"Seven Dwarfs Mine Train\",\"Princess Fairytale Hall\",\"Space Mountain\",\"Splash Mountain\",\"The Barnstormer\",\"Liberty Square Riverboat Landing\",\"The Magic Carpets of Aladdin\",\"The Many Adventures of Winnie the Pooh\",\"Tomorrowland Speedway\",\"Tomorrowland Transit Authority People Mover\",\"Under the Sea - Journey of the Little Mermaid\",\"Walt Disney World Railroad\"],\"color\":[\"Astro Orbiter\",\"Big Thunder Mountain Railroad\",\"Buzz Lightyears Space Ranger Spin\",\"Carousel of Progress\",\"Dumbo\",\"Haunted Mansion\",\"It's A Small World\",\"Jungle Cruise\",\"Liberty Riverboat\",\"Mad Tea Party\",\"Peter Pan's Flight\",\"Pirates of the Caribbean\",\"Prince Charming Regal Carousel\",\"Seven Dwarfs Mine Train\",\"Princess Fairytale Hall\",\"Space Mountain\",\"Splash Mountain\",\"The Barnstormer\",\"Liberty Square Riverboat Landing\",\"The Magic Carpets of Aladdin\",\"The Many Adventures of Winnie the Pooh\",\"Tomorrowland Speedway\",\"Tomorrowland Transit Authority People Mover\",\"Under the Sea - Journey of the Little Mermaid\",\"Walt Disney World Railroad\"],\"incident_count\":[2,12,13,2,1,12,3,6,1,10,8,11,10,4,2,39,10,2,4,1,1,9,6,6,2],\"lat\":{\"__ndarray__\":\"m8wegeMwSUFA7/BHUzFJQdMuH1XJMElB50Ls27owSUFrkV/JXjFJQQ8ThRt+MUlB7OYy2XYxSUEsjJLxxDBJQVOHkowxMUlBeKhX9kUxSUFaY5DWUDFJQeacvva2MElBWrqtUVIxSUH42Rt0azFJQW1zqjU+MUlB1m6b3A4xSUHFZ1wlFzFJQYomepBqMUlBx6QDRysxSUHUdK4g5TBJQZPUBatEMUlBFzIVnSAxSUHKXmM27TBJQRiqaPOaMUlB24kHURsxSUE=\",\"dtype\":\"float64\",\"order\":\"little\",\"shape\":[25]},\"lon\":{\"__ndarray__\":\"VB/AuUBSYcGaUpTeiVJhwYmzS4JHUmHBkIhwrjxSYcHCyJxvPFJhwdX5GsZ0UmHBXNVV2mhSYcFkBfEJfVJhwU7j0pp1UmHBOqKaFElSYcH/KGadaFJhwW2/1PqPUmHBRuDPPl1SYcFIVUjeS1JhwZWuUAdYUmHBo7pu5yVSYcExDX6sklJhwbFqplE2UmHB19TylnNSYcFhF+XvfFJhwS4H/sBRUmHB3Yk3C0NSYcExE5ikPFJhwQ5zjvRHUmHBs747Ei5SYcE=\",\"dtype\":\"float64\",\"order\":\"little\",\"shape\":[25]},\"size\":{\"__ndarray__\":\"EEgXgJQ2NUDfx9I5E/tJQFREG5CoCktAEEgXgJQ2NUAAAAAAAAAuQN/H0jkT+0lA38fSORP7OUAbj8gyBV9CQAAAAAAAAC5AnrUst5K3R0AQSBeAlDZFQEGYvWrr30hAnrUst5K3R0AAAAAAAAA+QBBIF4CUNjVAUSZFtTJrV0CetSy3krdHQBBIF4CUNjVAAAAAAAAAPkAAAAAAAAAuQAAAAAAAAC5AAAAAAACARkAbj8gyBV9CQBuPyDIFX0JAEEgXgJQ2NUA=\",\"dtype\":\"float64\",\"order\":\"little\",\"shape\":[25]}},\"selected\":{\"id\":\"15071\"},\"selection_policy\":{\"id\":\"15083\"}},\"id\":\"15070\",\"type\":\"ColumnDataSource\"},{\"attributes\":{\"code\":\"\\n        var projections = Bokeh.require(\\\"core/util/projections\\\");\\n        var x = special_vars.data_x\\n        var y = special_vars.data_y\\n        var coords = projections.wgs84_mercator.invert(x, y)\\n        return \\\"\\\" + (coords[1]).toFixed(4)\\n    \"},\"id\":\"15089\",\"type\":\"CustomJSHover\"},{\"attributes\":{\"bottom_units\":\"screen\",\"coordinates\":null,\"fill_alpha\":0.5,\"fill_color\":\"lightgrey\",\"group\":null,\"left_units\":\"screen\",\"level\":\"overlay\",\"line_alpha\":1.0,\"line_color\":\"black\",\"line_dash\":[4,4],\"line_width\":2,\"right_units\":\"screen\",\"syncable\":false,\"top_units\":\"screen\"},\"id\":\"15030\",\"type\":\"BoxAnnotation\"},{\"attributes\":{},\"id\":\"15015\",\"type\":\"LinearScale\"},{\"attributes\":{\"children\":[{\"id\":\"15008\"}],\"height\":750,\"margin\":[0,0,0,0],\"name\":\"Row13062\",\"sizing_mode\":\"fixed\",\"tags\":[\"embedded\"],\"width\":1000},\"id\":\"14998\",\"type\":\"Row\"},{\"attributes\":{\"active_drag\":{\"id\":\"15026\"},\"tools\":[{\"id\":\"15007\"},{\"id\":\"15025\"},{\"id\":\"15026\"},{\"id\":\"15027\"},{\"id\":\"15028\"},{\"id\":\"15029\"}]},\"id\":\"15031\",\"type\":\"Toolbar\"},{\"attributes\":{},\"id\":\"15083\",\"type\":\"UnionRenderers\"},{\"attributes\":{\"label\":{\"field\":\"color\"},\"renderers\":[{\"id\":\"15078\"}]},\"id\":\"15087\",\"type\":\"LegendItem\"},{\"attributes\":{\"coordinates\":null,\"data_source\":{\"id\":\"15070\"},\"glyph\":{\"id\":\"15073\"},\"group\":null,\"hover_glyph\":{\"id\":\"15076\"},\"muted_glyph\":{\"id\":\"15077\"},\"nonselection_glyph\":{\"id\":\"15074\"},\"selection_glyph\":{\"id\":\"15075\"},\"view\":{\"id\":\"15079\"}},\"id\":\"15078\",\"type\":\"GlyphRenderer\"}],\"root_ids\":[\"14998\"]},\"title\":\"Bokeh Application\",\"version\":\"2.4.3\"}};\n",
       "    var render_items = [{\"docid\":\"c473eae6-2dff-49e0-984f-3c46a25bb18e\",\"root_ids\":[\"14998\"],\"roots\":{\"14998\":\"fc60f4f3-8120-44e7-97e7-60351eea1e18\"}}];\n",
       "    root.Bokeh.embed.embed_items_notebook(docs_json, render_items);\n",
       "    for (const render_item of render_items) {\n",
       "      for (const root_id of render_item.root_ids) {\n",
       "\tconst id_el = document.getElementById(root_id)\n",
       "\tif (id_el.children.length && (id_el.children[0].className === 'bk-root')) {\n",
       "\t  const root_el = id_el.children[0]\n",
       "\t  root_el.id = root_el.id + '-rendered'\n",
       "\t}\n",
       "      }\n",
       "    }\n",
       "  }\n",
       "  if (root.Bokeh !== undefined && root.Bokeh.Panel !== undefined) {\n",
       "    embed_document(root);\n",
       "  } else {\n",
       "    var attempts = 0;\n",
       "    var timer = setInterval(function(root) {\n",
       "      if (root.Bokeh !== undefined && root.Bokeh.Panel !== undefined) {\n",
       "        clearInterval(timer);\n",
       "        embed_document(root);\n",
       "      } else if (document.readyState == \"complete\") {\n",
       "        attempts++;\n",
       "        if (attempts > 200) {\n",
       "          clearInterval(timer);\n",
       "          console.log(\"Bokeh: ERROR: Unable to run BokehJS code because BokehJS library is missing\");\n",
       "        }\n",
       "      }\n",
       "    }, 25, root)\n",
       "  }\n",
       "})(window);</script>"
      ],
      "text/plain": [
       ":Overlay\n",
       "   .Tiles.I  :Tiles   [x,y]\n",
       "   .Points.I :Points   [lon,lat]   (Ride_name,incident_count)"
      ]
     },
     "execution_count": 89,
     "metadata": {
      "application/vnd.holoviews_exec.v0+json": {
       "id": "14998"
      }
     },
     "output_type": "execute_result"
    }
   ],
   "source": [
    "plot_mapping_data(mapping_data, filter_column=\"Theme_Park\", filter_value=\"Magic Kingdom\", scale=15, title=\"Magic_Kingdom\")"
   ]
  },
  {
   "cell_type": "markdown",
   "id": "662596bf",
   "metadata": {},
   "source": [
    "### Typhoon Lagoon"
   ]
  },
  {
   "cell_type": "code",
   "execution_count": 90,
   "id": "89d16433",
   "metadata": {},
   "outputs": [
    {
     "data": {},
     "metadata": {},
     "output_type": "display_data"
    },
    {
     "data": {
      "application/vnd.holoviews_exec.v0+json": "",
      "text/html": [
       "<div id='15319'>\n",
       "  <div class=\"bk-root\" id=\"46add1d5-521d-4a4c-97bb-639e77ee8b3f\" data-root-id=\"15319\"></div>\n",
       "</div>\n",
       "<script type=\"application/javascript\">(function(root) {\n",
       "  function embed_document(root) {\n",
       "    var docs_json = {\"ebba3de3-ad38-4590-8e31-7a8a660976c1\":{\"defs\":[{\"extends\":null,\"module\":null,\"name\":\"ReactiveHTML1\",\"overrides\":[],\"properties\":[]},{\"extends\":null,\"module\":null,\"name\":\"FlexBox1\",\"overrides\":[],\"properties\":[{\"default\":\"flex-start\",\"kind\":null,\"name\":\"align_content\"},{\"default\":\"flex-start\",\"kind\":null,\"name\":\"align_items\"},{\"default\":\"row\",\"kind\":null,\"name\":\"flex_direction\"},{\"default\":\"wrap\",\"kind\":null,\"name\":\"flex_wrap\"},{\"default\":\"flex-start\",\"kind\":null,\"name\":\"justify_content\"}]},{\"extends\":null,\"module\":null,\"name\":\"GridStack1\",\"overrides\":[],\"properties\":[{\"default\":\"warn\",\"kind\":null,\"name\":\"mode\"},{\"default\":null,\"kind\":null,\"name\":\"ncols\"},{\"default\":null,\"kind\":null,\"name\":\"nrows\"},{\"default\":true,\"kind\":null,\"name\":\"allow_resize\"},{\"default\":true,\"kind\":null,\"name\":\"allow_drag\"},{\"default\":[],\"kind\":null,\"name\":\"state\"}]},{\"extends\":null,\"module\":null,\"name\":\"click1\",\"overrides\":[],\"properties\":[{\"default\":\"\",\"kind\":null,\"name\":\"terminal_output\"},{\"default\":\"\",\"kind\":null,\"name\":\"debug_name\"},{\"default\":0,\"kind\":null,\"name\":\"clears\"}]},{\"extends\":null,\"module\":null,\"name\":\"NotificationAreaBase1\",\"overrides\":[],\"properties\":[{\"default\":\"bottom-right\",\"kind\":null,\"name\":\"position\"},{\"default\":0,\"kind\":null,\"name\":\"_clear\"}]},{\"extends\":null,\"module\":null,\"name\":\"NotificationArea1\",\"overrides\":[],\"properties\":[{\"default\":[],\"kind\":null,\"name\":\"notifications\"},{\"default\":\"bottom-right\",\"kind\":null,\"name\":\"position\"},{\"default\":0,\"kind\":null,\"name\":\"_clear\"},{\"default\":[{\"background\":\"#ffc107\",\"icon\":{\"className\":\"fas fa-exclamation-triangle\",\"color\":\"white\",\"tagName\":\"i\"},\"type\":\"warning\"},{\"background\":\"#007bff\",\"icon\":{\"className\":\"fas fa-info-circle\",\"color\":\"white\",\"tagName\":\"i\"},\"type\":\"info\"}],\"kind\":null,\"name\":\"types\"}]},{\"extends\":null,\"module\":null,\"name\":\"Notification\",\"overrides\":[],\"properties\":[{\"default\":null,\"kind\":null,\"name\":\"background\"},{\"default\":3000,\"kind\":null,\"name\":\"duration\"},{\"default\":null,\"kind\":null,\"name\":\"icon\"},{\"default\":\"\",\"kind\":null,\"name\":\"message\"},{\"default\":null,\"kind\":null,\"name\":\"notification_type\"},{\"default\":false,\"kind\":null,\"name\":\"_destroyed\"}]},{\"extends\":null,\"module\":null,\"name\":\"TemplateActions1\",\"overrides\":[],\"properties\":[{\"default\":0,\"kind\":null,\"name\":\"open_modal\"},{\"default\":0,\"kind\":null,\"name\":\"close_modal\"}]},{\"extends\":null,\"module\":null,\"name\":\"MaterialTemplateActions1\",\"overrides\":[],\"properties\":[{\"default\":0,\"kind\":null,\"name\":\"open_modal\"},{\"default\":0,\"kind\":null,\"name\":\"close_modal\"}]}],\"roots\":{\"references\":[{\"attributes\":{\"dimension\":\"lon\"},\"id\":\"15360\",\"type\":\"MercatorTickFormatter\"},{\"attributes\":{},\"id\":\"15404\",\"type\":\"UnionRenderers\"},{\"attributes\":{\"active_drag\":{\"id\":\"15347\"},\"tools\":[{\"id\":\"15328\"},{\"id\":\"15346\"},{\"id\":\"15347\"},{\"id\":\"15348\"},{\"id\":\"15349\"},{\"id\":\"15350\"}]},\"id\":\"15352\",\"type\":\"Toolbar\"},{\"attributes\":{\"axis_label\":\"x\",\"coordinates\":null,\"formatter\":{\"id\":\"15360\"},\"group\":null,\"major_label_policy\":{\"id\":\"15365\"},\"ticker\":{\"id\":\"15359\"}},\"id\":\"15338\",\"type\":\"LinearAxis\"},{\"attributes\":{\"fill_alpha\":{\"value\":0.75},\"fill_color\":{\"field\":\"color\",\"transform\":{\"id\":\"15390\"}},\"hatch_alpha\":{\"value\":0.1},\"hatch_color\":{\"field\":\"color\",\"transform\":{\"id\":\"15390\"}},\"line_alpha\":{\"value\":0.75},\"line_color\":{\"field\":\"color\",\"transform\":{\"id\":\"15390\"}},\"size\":{\"field\":\"size\"},\"tags\":[\"apply_ranges\"],\"x\":{\"field\":\"lon\"},\"y\":{\"field\":\"lat\"}},\"id\":\"15395\",\"type\":\"Scatter\"},{\"attributes\":{\"dimension\":\"lon\"},\"id\":\"15359\",\"type\":\"MercatorTicker\"},{\"attributes\":{\"dimension\":\"lat\"},\"id\":\"15361\",\"type\":\"MercatorTicker\"},{\"attributes\":{\"coordinates\":null,\"data_source\":{\"id\":\"15391\"},\"glyph\":{\"id\":\"15394\"},\"group\":null,\"hover_glyph\":{\"id\":\"15397\"},\"muted_glyph\":{\"id\":\"15398\"},\"nonselection_glyph\":{\"id\":\"15395\"},\"selection_glyph\":{\"id\":\"15396\"},\"view\":{\"id\":\"15400\"}},\"id\":\"15399\",\"type\":\"GlyphRenderer\"},{\"attributes\":{\"end\":-9075570.516351046,\"min_interval\":5,\"reset_end\":-9075570.516351046,\"reset_start\":-9075981.580932494,\"start\":-9075981.580932494,\"tags\":[[[\"lon\",\"lon\",null]]]},\"id\":\"15324\",\"type\":\"Range1d\"},{\"attributes\":{\"label\":{\"field\":\"color\"},\"renderers\":[{\"id\":\"15399\"}]},\"id\":\"15408\",\"type\":\"LegendItem\"},{\"attributes\":{\"zoom_on_axis\":false},\"id\":\"15348\",\"type\":\"WheelZoomTool\"},{\"attributes\":{\"code\":\"\\n        var projections = Bokeh.require(\\\"core/util/projections\\\");\\n        var x = special_vars.data_x\\n        var y = special_vars.data_y\\n        var coords = projections.wgs84_mercator.invert(x, y)\\n        return \\\"\\\" + (coords[0]).toFixed(4)\\n    \"},\"id\":\"15409\",\"type\":\"CustomJSHover\"},{\"attributes\":{},\"id\":\"15336\",\"type\":\"LinearScale\"},{\"attributes\":{\"attribution\":\"&copy; <a href=\\\"https://www.openstreetmap.org/copyright\\\">OpenStreetMap</a> contributors, &copy; <a href=\\\"https://cartodb.com/attributions\\\">CartoDB</a>\",\"url\":\"https://cartodb-basemaps-4.global.ssl.fastly.net/light_all/{Z}/{X}/{Y}.png\"},\"id\":\"15385\",\"type\":\"WMTSTileSource\"},{\"attributes\":{\"source\":{\"id\":\"15391\"}},\"id\":\"15400\",\"type\":\"CDSView\"},{\"attributes\":{\"callback\":null,\"formatters\":{\"$x\":{\"id\":\"15409\"},\"$y\":{\"id\":\"15410\"}},\"renderers\":[{\"id\":\"15399\"}],\"tags\":[\"hv_created\"],\"tooltips\":[[\"lon\",\"$x{custom}\"],[\"lat\",\"$y{custom}\"],[\"Ride_name\",\"@{Ride_name}\"],[\"incident_count\",\"@{incident_count}\"]]},\"id\":\"15328\",\"type\":\"HoverTool\"},{\"attributes\":{\"coordinates\":null,\"group\":null,\"level\":\"glyph\",\"tile_source\":{\"id\":\"15385\"}},\"id\":\"15388\",\"type\":\"TileRenderer\"},{\"attributes\":{\"axis\":{\"id\":\"15342\"},\"coordinates\":null,\"dimension\":1,\"grid_line_color\":null,\"group\":null,\"ticker\":null},\"id\":\"15345\",\"type\":\"Grid\"},{\"attributes\":{\"axis\":{\"id\":\"15338\"},\"coordinates\":null,\"grid_line_color\":null,\"group\":null,\"ticker\":null},\"id\":\"15341\",\"type\":\"Grid\"},{\"attributes\":{\"children\":[{\"id\":\"15329\"}],\"height\":750,\"margin\":[0,0,0,0],\"name\":\"Row13270\",\"sizing_mode\":\"fixed\",\"tags\":[\"embedded\"],\"width\":1000},\"id\":\"15319\",\"type\":\"Row\"},{\"attributes\":{\"factors\":[\"Castaway Creek\",\"Crush n' Gusher\",\"Humunga Kowabunga\",\"Mayday Falls\",\"Typhoon Tillie's\",\"Slush Gusher\",\"Storm Slides\",\"Surf Pool\"],\"palette\":[\"#1f77b3\",\"#ff7e0e\",\"#2ba02b\",\"#d62628\",\"#9367bc\",\"#8c564b\",\"#e277c1\",\"#7e7e7e\"]},\"id\":\"15390\",\"type\":\"CategoricalColorMapper\"},{\"attributes\":{\"fill_alpha\":{\"value\":0.75},\"fill_color\":{\"field\":\"color\",\"transform\":{\"id\":\"15390\"}},\"hatch_alpha\":{\"value\":0.75},\"hatch_color\":{\"field\":\"color\",\"transform\":{\"id\":\"15390\"}},\"line_alpha\":{\"value\":0.75},\"line_color\":{\"field\":\"color\",\"transform\":{\"id\":\"15390\"}},\"size\":{\"field\":\"size\"},\"tags\":[\"apply_ranges\"],\"x\":{\"field\":\"lon\"},\"y\":{\"field\":\"lat\"}},\"id\":\"15394\",\"type\":\"Scatter\"},{\"attributes\":{\"data\":{\"Ride_name\":[\"Castaway Creek\",\"Crush n' Gusher\",\"Humunga Kowabunga\",\"Mayday Falls\",\"Typhoon Tillie's\",\"Slush Gusher\",\"Storm Slides\",\"Surf Pool\",\"Surf Pool\"],\"color\":[\"Castaway Creek\",\"Crush n' Gusher\",\"Humunga Kowabunga\",\"Mayday Falls\",\"Typhoon Tillie's\",\"Slush Gusher\",\"Storm Slides\",\"Surf Pool\",\"Surf Pool\"],\"incident_count\":[5,2,3,7,2,1,5,1,14],\"lat\":{\"__ndarray__\":\"CMx8e9YjSUHrQePbLiRJQR/yjnQFJElBZGcgb9IjSUHWoklvHiRJQetB49suJElBoUqpQg4kSUFIQgNF3SNJQUhCA0XdI0lB\",\"dtype\":\"float64\",\"order\":\"little\",\"shape\":[9]},\"lon\":{\"__ndarray__\":\"N4imeoJPYcFAvdWmcU9hwQ3883mcT2HBVxYhGpxPYcEL4rfxjU9hwUC91aZxT2HBIjVHXJ5PYcHOdu3Mj09hwc527cyPT2HB\",\"dtype\":\"float64\",\"order\":\"little\",\"shape\":[9]},\"size\":{\"__ndarray__\":\"XnXeIUDFQEAQSBeAlDY1QN/H0jkT+zlAW8k1r9fXQ0AQSBeAlDY1QAAAAAAAAC5AXnXeIUDFQEAAAAAAAAAuQFS7UXD7D0xA\",\"dtype\":\"float64\",\"order\":\"little\",\"shape\":[9]}},\"selected\":{\"id\":\"15392\"},\"selection_policy\":{\"id\":\"15404\"}},\"id\":\"15391\",\"type\":\"ColumnDataSource\"},{\"attributes\":{\"fill_alpha\":{\"value\":0.75},\"fill_color\":{\"field\":\"color\",\"transform\":{\"id\":\"15390\"}},\"hatch_alpha\":{\"value\":0.75},\"hatch_color\":{\"field\":\"color\",\"transform\":{\"id\":\"15390\"}},\"line_alpha\":{\"value\":0.75},\"line_color\":{\"field\":\"color\",\"transform\":{\"id\":\"15390\"}},\"size\":{\"field\":\"size\"},\"tags\":[\"apply_ranges\"],\"x\":{\"field\":\"lon\"},\"y\":{\"field\":\"lat\"}},\"id\":\"15397\",\"type\":\"Scatter\"},{\"attributes\":{\"fill_alpha\":{\"value\":0.2},\"fill_color\":{\"field\":\"color\",\"transform\":{\"id\":\"15390\"}},\"hatch_alpha\":{\"value\":0.2},\"hatch_color\":{\"field\":\"color\",\"transform\":{\"id\":\"15390\"}},\"line_alpha\":{\"value\":0.2},\"line_color\":{\"field\":\"color\",\"transform\":{\"id\":\"15390\"}},\"size\":{\"field\":\"size\"},\"tags\":[\"apply_ranges\"],\"x\":{\"field\":\"lon\"},\"y\":{\"field\":\"lat\"}},\"id\":\"15398\",\"type\":\"Scatter\"},{\"attributes\":{\"axis_label\":\"y\",\"coordinates\":null,\"formatter\":{\"id\":\"15362\"},\"group\":null,\"major_label_policy\":{\"id\":\"15372\"},\"ticker\":{\"id\":\"15361\"}},\"id\":\"15342\",\"type\":\"LinearAxis\"},{\"attributes\":{\"coordinates\":null,\"group\":null,\"text\":\"Typhoon_Lagoon\",\"text_color\":\"black\",\"text_font_size\":\"12pt\"},\"id\":\"15330\",\"type\":\"Title\"},{\"attributes\":{},\"id\":\"15392\",\"type\":\"Selection\"},{\"attributes\":{},\"id\":\"15372\",\"type\":\"AllLabels\"},{\"attributes\":{\"fill_alpha\":{\"value\":0.75},\"fill_color\":{\"field\":\"color\",\"transform\":{\"id\":\"15390\"}},\"hatch_alpha\":{\"value\":0.75},\"hatch_color\":{\"field\":\"color\",\"transform\":{\"id\":\"15390\"}},\"line_alpha\":{\"value\":0.75},\"line_color\":{\"field\":\"color\",\"transform\":{\"id\":\"15390\"}},\"size\":{\"field\":\"size\"},\"tags\":[\"apply_ranges\"],\"x\":{\"field\":\"lon\"},\"y\":{\"field\":\"lat\"}},\"id\":\"15396\",\"type\":\"Scatter\"},{\"attributes\":{},\"id\":\"15347\",\"type\":\"PanTool\"},{\"attributes\":{},\"id\":\"15334\",\"type\":\"LinearScale\"},{\"attributes\":{},\"id\":\"15365\",\"type\":\"AllLabels\"},{\"attributes\":{\"code\":\"\\n        var projections = Bokeh.require(\\\"core/util/projections\\\");\\n        var x = special_vars.data_x\\n        var y = special_vars.data_y\\n        var coords = projections.wgs84_mercator.invert(x, y)\\n        return \\\"\\\" + (coords[1]).toFixed(4)\\n    \"},\"id\":\"15410\",\"type\":\"CustomJSHover\"},{\"attributes\":{},\"id\":\"15346\",\"type\":\"SaveTool\"},{\"attributes\":{\"match_aspect\":true,\"overlay\":{\"id\":\"15351\"}},\"id\":\"15349\",\"type\":\"BoxZoomTool\"},{\"attributes\":{},\"id\":\"15350\",\"type\":\"ResetTool\"},{\"attributes\":{\"below\":[{\"id\":\"15338\"}],\"center\":[{\"id\":\"15341\"},{\"id\":\"15345\"}],\"frame_height\":750,\"frame_width\":1000,\"height\":750,\"left\":[{\"id\":\"15342\"}],\"margin\":[5,5,5,5],\"match_aspect\":true,\"min_border_bottom\":10,\"min_border_left\":10,\"min_border_right\":10,\"min_border_top\":10,\"output_backend\":\"webgl\",\"renderers\":[{\"id\":\"15388\"},{\"id\":\"15399\"}],\"right\":[{\"id\":\"15407\"}],\"sizing_mode\":\"fixed\",\"title\":{\"id\":\"15330\"},\"toolbar\":{\"id\":\"15352\"},\"width\":1000,\"x_range\":{\"id\":\"15324\"},\"x_scale\":{\"id\":\"15334\"},\"y_range\":{\"id\":\"15325\"},\"y_scale\":{\"id\":\"15336\"}},\"id\":\"15329\",\"subtype\":\"Figure\",\"type\":\"Plot\"},{\"attributes\":{\"click_policy\":\"mute\",\"coordinates\":null,\"group\":null,\"items\":[{\"id\":\"15408\"}],\"location\":[0,0]},\"id\":\"15407\",\"type\":\"Legend\"},{\"attributes\":{\"bottom_units\":\"screen\",\"coordinates\":null,\"fill_alpha\":0.5,\"fill_color\":\"lightgrey\",\"group\":null,\"left_units\":\"screen\",\"level\":\"overlay\",\"line_alpha\":1.0,\"line_color\":\"black\",\"line_dash\":[4,4],\"line_width\":2,\"right_units\":\"screen\",\"syncable\":false,\"top_units\":\"screen\"},\"id\":\"15351\",\"type\":\"BoxAnnotation\"},{\"attributes\":{\"end\":3295387.44224179,\"min_interval\":5,\"reset_end\":3295387.44224179,\"reset_start\":3295079.143805704,\"start\":3295079.143805704,\"tags\":[[[\"lat\",\"lat\",null]]]},\"id\":\"15325\",\"type\":\"Range1d\"},{\"attributes\":{\"dimension\":\"lat\"},\"id\":\"15362\",\"type\":\"MercatorTickFormatter\"}],\"root_ids\":[\"15319\"]},\"title\":\"Bokeh Application\",\"version\":\"2.4.3\"}};\n",
       "    var render_items = [{\"docid\":\"ebba3de3-ad38-4590-8e31-7a8a660976c1\",\"root_ids\":[\"15319\"],\"roots\":{\"15319\":\"46add1d5-521d-4a4c-97bb-639e77ee8b3f\"}}];\n",
       "    root.Bokeh.embed.embed_items_notebook(docs_json, render_items);\n",
       "    for (const render_item of render_items) {\n",
       "      for (const root_id of render_item.root_ids) {\n",
       "\tconst id_el = document.getElementById(root_id)\n",
       "\tif (id_el.children.length && (id_el.children[0].className === 'bk-root')) {\n",
       "\t  const root_el = id_el.children[0]\n",
       "\t  root_el.id = root_el.id + '-rendered'\n",
       "\t}\n",
       "      }\n",
       "    }\n",
       "  }\n",
       "  if (root.Bokeh !== undefined && root.Bokeh.Panel !== undefined) {\n",
       "    embed_document(root);\n",
       "  } else {\n",
       "    var attempts = 0;\n",
       "    var timer = setInterval(function(root) {\n",
       "      if (root.Bokeh !== undefined && root.Bokeh.Panel !== undefined) {\n",
       "        clearInterval(timer);\n",
       "        embed_document(root);\n",
       "      } else if (document.readyState == \"complete\") {\n",
       "        attempts++;\n",
       "        if (attempts > 200) {\n",
       "          clearInterval(timer);\n",
       "          console.log(\"Bokeh: ERROR: Unable to run BokehJS code because BokehJS library is missing\");\n",
       "        }\n",
       "      }\n",
       "    }, 25, root)\n",
       "  }\n",
       "})(window);</script>"
      ],
      "text/plain": [
       ":Overlay\n",
       "   .Tiles.I  :Tiles   [x,y]\n",
       "   .Points.I :Points   [lon,lat]   (Ride_name,incident_count)"
      ]
     },
     "execution_count": 90,
     "metadata": {
      "application/vnd.holoviews_exec.v0+json": {
       "id": "15319"
      }
     },
     "output_type": "execute_result"
    }
   ],
   "source": [
    "plot_mapping_data(mapping_data, filter_column=\"Theme_Park\", filter_value=\"Typhoon Lagoon\", \n",
    "                  scale=15, title=\"Typhoon_Lagoon\")"
   ]
  },
  {
   "cell_type": "markdown",
   "id": "f7baf8ea",
   "metadata": {},
   "source": [
    "## Universal Parks"
   ]
  },
  {
   "cell_type": "code",
   "execution_count": 91,
   "id": "1331cdc6",
   "metadata": {},
   "outputs": [
    {
     "data": {},
     "metadata": {},
     "output_type": "display_data"
    },
    {
     "data": {
      "application/vnd.holoviews_exec.v0+json": "",
      "text/html": [
       "<div id='15640'>\n",
       "  <div class=\"bk-root\" id=\"e87eda6b-34db-48d1-a1e4-64a8e88570e7\" data-root-id=\"15640\"></div>\n",
       "</div>\n",
       "<script type=\"application/javascript\">(function(root) {\n",
       "  function embed_document(root) {\n",
       "    var docs_json = {\"a9a4bfd3-798e-49cd-acce-973f7680d28a\":{\"defs\":[{\"extends\":null,\"module\":null,\"name\":\"ReactiveHTML1\",\"overrides\":[],\"properties\":[]},{\"extends\":null,\"module\":null,\"name\":\"FlexBox1\",\"overrides\":[],\"properties\":[{\"default\":\"flex-start\",\"kind\":null,\"name\":\"align_content\"},{\"default\":\"flex-start\",\"kind\":null,\"name\":\"align_items\"},{\"default\":\"row\",\"kind\":null,\"name\":\"flex_direction\"},{\"default\":\"wrap\",\"kind\":null,\"name\":\"flex_wrap\"},{\"default\":\"flex-start\",\"kind\":null,\"name\":\"justify_content\"}]},{\"extends\":null,\"module\":null,\"name\":\"GridStack1\",\"overrides\":[],\"properties\":[{\"default\":\"warn\",\"kind\":null,\"name\":\"mode\"},{\"default\":null,\"kind\":null,\"name\":\"ncols\"},{\"default\":null,\"kind\":null,\"name\":\"nrows\"},{\"default\":true,\"kind\":null,\"name\":\"allow_resize\"},{\"default\":true,\"kind\":null,\"name\":\"allow_drag\"},{\"default\":[],\"kind\":null,\"name\":\"state\"}]},{\"extends\":null,\"module\":null,\"name\":\"click1\",\"overrides\":[],\"properties\":[{\"default\":\"\",\"kind\":null,\"name\":\"terminal_output\"},{\"default\":\"\",\"kind\":null,\"name\":\"debug_name\"},{\"default\":0,\"kind\":null,\"name\":\"clears\"}]},{\"extends\":null,\"module\":null,\"name\":\"NotificationAreaBase1\",\"overrides\":[],\"properties\":[{\"default\":\"bottom-right\",\"kind\":null,\"name\":\"position\"},{\"default\":0,\"kind\":null,\"name\":\"_clear\"}]},{\"extends\":null,\"module\":null,\"name\":\"NotificationArea1\",\"overrides\":[],\"properties\":[{\"default\":[],\"kind\":null,\"name\":\"notifications\"},{\"default\":\"bottom-right\",\"kind\":null,\"name\":\"position\"},{\"default\":0,\"kind\":null,\"name\":\"_clear\"},{\"default\":[{\"background\":\"#ffc107\",\"icon\":{\"className\":\"fas fa-exclamation-triangle\",\"color\":\"white\",\"tagName\":\"i\"},\"type\":\"warning\"},{\"background\":\"#007bff\",\"icon\":{\"className\":\"fas fa-info-circle\",\"color\":\"white\",\"tagName\":\"i\"},\"type\":\"info\"}],\"kind\":null,\"name\":\"types\"}]},{\"extends\":null,\"module\":null,\"name\":\"Notification\",\"overrides\":[],\"properties\":[{\"default\":null,\"kind\":null,\"name\":\"background\"},{\"default\":3000,\"kind\":null,\"name\":\"duration\"},{\"default\":null,\"kind\":null,\"name\":\"icon\"},{\"default\":\"\",\"kind\":null,\"name\":\"message\"},{\"default\":null,\"kind\":null,\"name\":\"notification_type\"},{\"default\":false,\"kind\":null,\"name\":\"_destroyed\"}]},{\"extends\":null,\"module\":null,\"name\":\"TemplateActions1\",\"overrides\":[],\"properties\":[{\"default\":0,\"kind\":null,\"name\":\"open_modal\"},{\"default\":0,\"kind\":null,\"name\":\"close_modal\"}]},{\"extends\":null,\"module\":null,\"name\":\"MaterialTemplateActions1\",\"overrides\":[],\"properties\":[{\"default\":0,\"kind\":null,\"name\":\"open_modal\"},{\"default\":0,\"kind\":null,\"name\":\"close_modal\"}]}],\"roots\":{\"references\":[{\"attributes\":{},\"id\":\"15713\",\"type\":\"Selection\"},{\"attributes\":{\"below\":[{\"id\":\"15659\"}],\"center\":[{\"id\":\"15662\"},{\"id\":\"15666\"}],\"frame_height\":750,\"frame_width\":1000,\"height\":750,\"left\":[{\"id\":\"15663\"}],\"margin\":[5,5,5,5],\"match_aspect\":true,\"min_border_bottom\":10,\"min_border_left\":10,\"min_border_right\":10,\"min_border_top\":10,\"output_backend\":\"webgl\",\"renderers\":[{\"id\":\"15709\"},{\"id\":\"15720\"}],\"right\":[{\"id\":\"15728\"}],\"sizing_mode\":\"fixed\",\"title\":{\"id\":\"15651\"},\"toolbar\":{\"id\":\"15673\"},\"width\":1000,\"x_range\":{\"id\":\"15645\"},\"x_scale\":{\"id\":\"15655\"},\"y_range\":{\"id\":\"15646\"},\"y_scale\":{\"id\":\"15657\"}},\"id\":\"15650\",\"subtype\":\"Figure\",\"type\":\"Plot\"},{\"attributes\":{\"zoom_on_axis\":false},\"id\":\"15669\",\"type\":\"WheelZoomTool\"},{\"attributes\":{\"fill_alpha\":{\"value\":0.2},\"fill_color\":{\"field\":\"color\",\"transform\":{\"id\":\"15711\"}},\"hatch_alpha\":{\"value\":0.2},\"hatch_color\":{\"field\":\"color\",\"transform\":{\"id\":\"15711\"}},\"line_alpha\":{\"value\":0.2},\"line_color\":{\"field\":\"color\",\"transform\":{\"id\":\"15711\"}},\"size\":{\"field\":\"size\"},\"tags\":[\"apply_ranges\"],\"x\":{\"field\":\"lon\"},\"y\":{\"field\":\"lat\"}},\"id\":\"15719\",\"type\":\"Scatter\"},{\"attributes\":{\"coordinates\":null,\"group\":null,\"level\":\"glyph\",\"tile_source\":{\"id\":\"15706\"}},\"id\":\"15709\",\"type\":\"TileRenderer\"},{\"attributes\":{\"attribution\":\"&copy; <a href=\\\"https://www.openstreetmap.org/copyright\\\">OpenStreetMap</a> contributors, &copy; <a href=\\\"https://cartodb.com/attributions\\\">CartoDB</a>\",\"url\":\"https://cartodb-basemaps-4.global.ssl.fastly.net/light_all/{Z}/{X}/{Y}.png\"},\"id\":\"15706\",\"type\":\"WMTSTileSource\"},{\"attributes\":{\"dimension\":\"lon\"},\"id\":\"15681\",\"type\":\"MercatorTickFormatter\"},{\"attributes\":{\"end\":-9067104.999065347,\"min_interval\":5,\"reset_end\":-9067104.999065347,\"reset_start\":-9071349.778184947,\"start\":-9071349.778184947,\"tags\":[[[\"lon\",\"lon\",null]]]},\"id\":\"15645\",\"type\":\"Range1d\"},{\"attributes\":{},\"id\":\"15693\",\"type\":\"AllLabels\"},{\"attributes\":{\"dimension\":\"lat\"},\"id\":\"15683\",\"type\":\"MercatorTickFormatter\"},{\"attributes\":{\"fill_alpha\":{\"value\":0.75},\"fill_color\":{\"field\":\"color\",\"transform\":{\"id\":\"15711\"}},\"hatch_alpha\":{\"value\":0.75},\"hatch_color\":{\"field\":\"color\",\"transform\":{\"id\":\"15711\"}},\"line_alpha\":{\"value\":0.75},\"line_color\":{\"field\":\"color\",\"transform\":{\"id\":\"15711\"}},\"size\":{\"field\":\"size\"},\"tags\":[\"apply_ranges\"],\"x\":{\"field\":\"lon\"},\"y\":{\"field\":\"lat\"}},\"id\":\"15715\",\"type\":\"Scatter\"},{\"attributes\":{\"dimension\":\"lat\"},\"id\":\"15682\",\"type\":\"MercatorTicker\"},{\"attributes\":{\"bottom_units\":\"screen\",\"coordinates\":null,\"fill_alpha\":0.5,\"fill_color\":\"lightgrey\",\"group\":null,\"left_units\":\"screen\",\"level\":\"overlay\",\"line_alpha\":1.0,\"line_color\":\"black\",\"line_dash\":[4,4],\"line_width\":2,\"right_units\":\"screen\",\"syncable\":false,\"top_units\":\"screen\"},\"id\":\"15672\",\"type\":\"BoxAnnotation\"},{\"attributes\":{\"dimension\":\"lon\"},\"id\":\"15680\",\"type\":\"MercatorTicker\"},{\"attributes\":{},\"id\":\"15668\",\"type\":\"PanTool\"},{\"attributes\":{\"active_drag\":{\"id\":\"15668\"},\"tools\":[{\"id\":\"15649\"},{\"id\":\"15667\"},{\"id\":\"15668\"},{\"id\":\"15669\"},{\"id\":\"15670\"},{\"id\":\"15671\"}]},\"id\":\"15673\",\"type\":\"Toolbar\"},{\"attributes\":{},\"id\":\"15671\",\"type\":\"ResetTool\"},{\"attributes\":{\"match_aspect\":true,\"overlay\":{\"id\":\"15672\"}},\"id\":\"15670\",\"type\":\"BoxZoomTool\"},{\"attributes\":{},\"id\":\"15667\",\"type\":\"SaveTool\"},{\"attributes\":{\"callback\":null,\"formatters\":{\"$x\":{\"id\":\"15730\"},\"$y\":{\"id\":\"15731\"}},\"renderers\":[{\"id\":\"15720\"}],\"tags\":[\"hv_created\"],\"tooltips\":[[\"lon\",\"$x{custom}\"],[\"lat\",\"$y{custom}\"],[\"Ride_name\",\"@{Ride_name}\"],[\"incident_count\",\"@{incident_count}\"]]},\"id\":\"15649\",\"type\":\"HoverTool\"},{\"attributes\":{\"axis_label\":\"x\",\"coordinates\":null,\"formatter\":{\"id\":\"15681\"},\"group\":null,\"major_label_policy\":{\"id\":\"15686\"},\"ticker\":{\"id\":\"15680\"}},\"id\":\"15659\",\"type\":\"LinearAxis\"},{\"attributes\":{\"axis\":{\"id\":\"15659\"},\"coordinates\":null,\"grid_line_color\":null,\"group\":null,\"ticker\":null},\"id\":\"15662\",\"type\":\"Grid\"},{\"attributes\":{\"code\":\"\\n        var projections = Bokeh.require(\\\"core/util/projections\\\");\\n        var x = special_vars.data_x\\n        var y = special_vars.data_y\\n        var coords = projections.wgs84_mercator.invert(x, y)\\n        return \\\"\\\" + (coords[0]).toFixed(4)\\n    \"},\"id\":\"15730\",\"type\":\"CustomJSHover\"},{\"attributes\":{\"fill_alpha\":{\"value\":0.75},\"fill_color\":{\"field\":\"color\",\"transform\":{\"id\":\"15711\"}},\"hatch_alpha\":{\"value\":0.1},\"hatch_color\":{\"field\":\"color\",\"transform\":{\"id\":\"15711\"}},\"line_alpha\":{\"value\":0.75},\"line_color\":{\"field\":\"color\",\"transform\":{\"id\":\"15711\"}},\"size\":{\"field\":\"size\"},\"tags\":[\"apply_ranges\"],\"x\":{\"field\":\"lon\"},\"y\":{\"field\":\"lat\"}},\"id\":\"15716\",\"type\":\"Scatter\"},{\"attributes\":{\"factors\":[\"Back to the Future\",\"Camp Jurassic\",\"Caro-Seuss-el\",\"Despicable Me Minion Mayhem\",\"Fast & Furious - Supercharged\",\"Cafe 4\",\"Hagrid's Magical Creatures Motorbike Adventure\",\"Dudley Do Rights Ripsaw Falls\",\"E.T Adventure\",\"Fievel's Playground\",\"Flight of the Hippogriff\",\"Harry Potter and the Escape from Gringotts\",\"Harry Potter and the Forbidden Journey\",\"Hollywood Rip Ride Rocket\",\"If I Ran the Zoo\",\"Jurassic Park River Adventure\",\"VelociCoaster\",\"Kala & Tai Nui Serpentine Body Slides\",\"Kang & Kodos Twirl n' Hurl\",\"Ko'okiri Body Plunge\",\"Kopiko Wai Winding River\",\"Men In Black\",\"Ohno Drop Slide\",\"Poseidon's Fury\",\"Puihi Raft Ride\",\"Punga Racers\",\"Revenge of the Mummy\",\"Runamukka Reef\",\"Storm Force Acceleration\",\"Te'awa The Fearless River\",\"The Bourne Stuntacular\",\"The Amazing Adventures of Spiderman\",\"The Cat In The Hat\",\"The Incredible Hulk Coaster\",\"The Simpsons Ride\",\"Transformers: The Ride 3D\"],\"palette\":[\"#1f77b3\",\"#ff7e0e\",\"#2ba02b\",\"#d62628\",\"#9367bc\",\"#8c564b\",\"#e277c1\",\"#7e7e7e\",\"#bcbc21\",\"#16bdcf\",\"#3a0182\",\"#004201\",\"#0fffa8\",\"#5d003f\",\"#bcbcff\",\"#d8afa1\",\"#b80080\",\"#004d52\",\"#6b6400\",\"#7c0100\",\"#6026ff\",\"#ffff9a\",\"#564964\",\"#8cb893\",\"#93fbff\",\"#018267\",\"#90ff00\",\"#8200a0\",\"#ac8944\",\"#5b3400\",\"#ffbff2\",\"#ff6e75\",\"#798cff\",\"#dd00ff\",\"#505646\",\"#004489\"]},\"id\":\"15711\",\"type\":\"CategoricalColorMapper\"},{\"attributes\":{\"click_policy\":\"mute\",\"coordinates\":null,\"group\":null,\"items\":[{\"id\":\"15729\"}],\"location\":[0,0]},\"id\":\"15728\",\"type\":\"Legend\"},{\"attributes\":{\"end\":3310006.5562362988,\"min_interval\":5,\"reset_end\":3310006.5562362988,\"reset_start\":3306822.971896599,\"start\":3306822.971896599,\"tags\":[[[\"lat\",\"lat\",null]]]},\"id\":\"15646\",\"type\":\"Range1d\"},{\"attributes\":{\"data\":{\"Ride_name\":[\"Back to the Future\",\"Camp Jurassic\",\"Caro-Seuss-el\",\"Despicable Me Minion Mayhem\",\"Fast & Furious - Supercharged\",\"Cafe 4\",\"Hagrid's Magical Creatures Motorbike Adventure\",\"Dudley Do Rights Ripsaw Falls\",\"E.T Adventure\",\"Fievel's Playground\",\"Flight of the Hippogriff\",\"Harry Potter and the Escape from Gringotts\",\"Harry Potter and the Forbidden Journey\",\"Hollywood Rip Ride Rocket\",\"If I Ran the Zoo\",\"Jurassic Park River Adventure\",\"VelociCoaster\",\"Kala & Tai Nui Serpentine Body Slides\",\"Kang & Kodos Twirl n' Hurl\",\"Ko'okiri Body Plunge\",\"Kopiko Wai Winding River\",\"Men In Black\",\"Ohno Drop Slide\",\"Poseidon's Fury\",\"Puihi Raft Ride\",\"Punga Racers\",\"Revenge of the Mummy\",\"Runamukka Reef\",\"Storm Force Acceleration\",\"Te'awa The Fearless River\",\"The Bourne Stuntacular\",\"The Amazing Adventures of Spiderman\",\"The Cat In The Hat\",\"The Incredible Hulk Coaster\",\"The Simpsons Ride\",\"Transformers: The Ride 3D\"],\"color\":[\"Back to the Future\",\"Camp Jurassic\",\"Caro-Seuss-el\",\"Despicable Me Minion Mayhem\",\"Fast & Furious - Supercharged\",\"Cafe 4\",\"Hagrid's Magical Creatures Motorbike Adventure\",\"Dudley Do Rights Ripsaw Falls\",\"E.T Adventure\",\"Fievel's Playground\",\"Flight of the Hippogriff\",\"Harry Potter and the Escape from Gringotts\",\"Harry Potter and the Forbidden Journey\",\"Hollywood Rip Ride Rocket\",\"If I Ran the Zoo\",\"Jurassic Park River Adventure\",\"VelociCoaster\",\"Kala & Tai Nui Serpentine Body Slides\",\"Kang & Kodos Twirl n' Hurl\",\"Ko'okiri Body Plunge\",\"Kopiko Wai Winding River\",\"Men In Black\",\"Ohno Drop Slide\",\"Poseidon's Fury\",\"Puihi Raft Ride\",\"Punga Racers\",\"Revenge of the Mummy\",\"Runamukka Reef\",\"Storm Force Acceleration\",\"Te'awa The Fearless River\",\"The Bourne Stuntacular\",\"The Amazing Adventures of Spiderman\",\"The Cat In The Hat\",\"The Incredible Hulk Coaster\",\"The Simpsons Ride\",\"Transformers: The Ride 3D\"],\"incident_count\":[1,3,6,4,4,2,14,4,7,2,1,4,44,14,1,2,1,5,1,1,3,6,1,2,1,1,17,1,1,3,1,3,1,11,3,2],\"lat\":{\"__ndarray__\":\"pIP6ZD1ASUFM8nROpD1JQcbFjmxaPklBrJZAW/Q+SUHzT0ybtz9JQRzVctDdPUlBNzI4un0+SUFO7EcRcT1JQbZEhouGP0lBIIZe5q4/SUGLlrcXPz5JQfa0ylYnQElBh8qnQRg+SUH1q09a3j5JQQjYN8BNPklB0pt/H7Q9SUFcFQDI6T1JQYh0nR6CO0lB6Sg6le4/SUFV2mZUmTtJQerV3/uMO0lBaBMtsVZASUGEHzUsdjtJQellU2d7PklBF5ttEig7SUHqpJsydTtJQYMEFLNWP0lBOEFrLZg7SUETRB5I4z1JQcUS3IBTO0lBA6TVXB0/SUGQiqywjj1JQUpJ+01cPklBD3r0PAM+SUG+M6+w+j9JQfd2B2U5P0lB\",\"dtype\":\"float64\",\"order\":\"little\",\"shape\":[36]},\"lon\":{\"__ndarray__\":\"MFaoAylMYcEemEjNeUxhwbZyGPRMTGHBAGn4vDhMYcEDs1DAU0xhwQaI0ExITGHBcrPDsIJMYcGqMGJHakxhwToKefMhTGHBVEh7hyJMYcFtIms1h0xhwZOqb2FSTGHByjFm5YhMYcGufh2SOkxhwRR2HGxPTGHBxjLlfIZMYcGti1YqdExhwW1dT2p6TGHBv1oxoDZMYcG/XTyUfExhwXzP5gWDTGHBi5JGSTBMYcH3nK/1dUxhwZI4GylgTGHB9O0fHoNMYcF8MTHVfUxhwVHsRKlRTGHByG4T5IVMYcGdXfYeP0xhwZwQZa6DTGHBP1RXAidMYcH7ooaoS0xhwVsXFn1ATGHBQBYM1EBMYcFNSMczL0xhwWPskyM8TGHB\",\"dtype\":\"float64\",\"order\":\"little\",\"shape\":[36]},\"size\":{\"__ndarray__\":\"AAAAAAAALkDfx9I5E/s5QBuPyDIFX0JAAAAAAAAAPkAAAAAAAAA+QBBIF4CUNjVAVLtRcPsPTEAAAAAAAAA+QFvJNa/X10NAEEgXgJQ2NUAAAAAAAAAuQAAAAAAAAD5AQZi9auvfWEBUu1Fw+w9MQAAAAAAAAC5AEEgXgJQ2NUAAAAAAAAAuQF513iFAxUBAAAAAAAAALkAAAAAAAAAuQN/H0jkT+zlAG4/IMgVfQkAAAAAAAAAuQBBIF4CUNjVAAAAAAAAALkAAAAAAAAAuQG3cieBc7E5AAAAAAAAALkAAAAAAAAAuQN/H0jkT+zlAAAAAAAAALkDfx9I5E/s5QAAAAAAAAC5AQZi9auvfSEDfx9I5E/s5QBBIF4CUNjVA\",\"dtype\":\"float64\",\"order\":\"little\",\"shape\":[36]}},\"selected\":{\"id\":\"15713\"},\"selection_policy\":{\"id\":\"15725\"}},\"id\":\"15712\",\"type\":\"ColumnDataSource\"},{\"attributes\":{\"label\":{\"field\":\"color\"},\"renderers\":[{\"id\":\"15720\"}]},\"id\":\"15729\",\"type\":\"LegendItem\"},{\"attributes\":{},\"id\":\"15686\",\"type\":\"AllLabels\"},{\"attributes\":{\"fill_alpha\":{\"value\":0.75},\"fill_color\":{\"field\":\"color\",\"transform\":{\"id\":\"15711\"}},\"hatch_alpha\":{\"value\":0.75},\"hatch_color\":{\"field\":\"color\",\"transform\":{\"id\":\"15711\"}},\"line_alpha\":{\"value\":0.75},\"line_color\":{\"field\":\"color\",\"transform\":{\"id\":\"15711\"}},\"size\":{\"field\":\"size\"},\"tags\":[\"apply_ranges\"],\"x\":{\"field\":\"lon\"},\"y\":{\"field\":\"lat\"}},\"id\":\"15717\",\"type\":\"Scatter\"},{\"attributes\":{\"children\":[{\"id\":\"15650\"}],\"height\":750,\"margin\":[0,0,0,0],\"name\":\"Row13478\",\"sizing_mode\":\"fixed\",\"tags\":[\"embedded\"],\"width\":1000},\"id\":\"15640\",\"type\":\"Row\"},{\"attributes\":{\"fill_alpha\":{\"value\":0.75},\"fill_color\":{\"field\":\"color\",\"transform\":{\"id\":\"15711\"}},\"hatch_alpha\":{\"value\":0.75},\"hatch_color\":{\"field\":\"color\",\"transform\":{\"id\":\"15711\"}},\"line_alpha\":{\"value\":0.75},\"line_color\":{\"field\":\"color\",\"transform\":{\"id\":\"15711\"}},\"size\":{\"field\":\"size\"},\"tags\":[\"apply_ranges\"],\"x\":{\"field\":\"lon\"},\"y\":{\"field\":\"lat\"}},\"id\":\"15718\",\"type\":\"Scatter\"},{\"attributes\":{},\"id\":\"15725\",\"type\":\"UnionRenderers\"},{\"attributes\":{\"code\":\"\\n        var projections = Bokeh.require(\\\"core/util/projections\\\");\\n        var x = special_vars.data_x\\n        var y = special_vars.data_y\\n        var coords = projections.wgs84_mercator.invert(x, y)\\n        return \\\"\\\" + (coords[1]).toFixed(4)\\n    \"},\"id\":\"15731\",\"type\":\"CustomJSHover\"},{\"attributes\":{\"coordinates\":null,\"data_source\":{\"id\":\"15712\"},\"glyph\":{\"id\":\"15715\"},\"group\":null,\"hover_glyph\":{\"id\":\"15718\"},\"muted_glyph\":{\"id\":\"15719\"},\"nonselection_glyph\":{\"id\":\"15716\"},\"selection_glyph\":{\"id\":\"15717\"},\"view\":{\"id\":\"15721\"}},\"id\":\"15720\",\"type\":\"GlyphRenderer\"},{\"attributes\":{\"source\":{\"id\":\"15712\"}},\"id\":\"15721\",\"type\":\"CDSView\"},{\"attributes\":{\"axis_label\":\"y\",\"coordinates\":null,\"formatter\":{\"id\":\"15683\"},\"group\":null,\"major_label_policy\":{\"id\":\"15693\"},\"ticker\":{\"id\":\"15682\"}},\"id\":\"15663\",\"type\":\"LinearAxis\"},{\"attributes\":{\"axis\":{\"id\":\"15663\"},\"coordinates\":null,\"dimension\":1,\"grid_line_color\":null,\"group\":null,\"ticker\":null},\"id\":\"15666\",\"type\":\"Grid\"},{\"attributes\":{\"coordinates\":null,\"group\":null,\"text\":\"Universal_Parks\",\"text_color\":\"black\",\"text_font_size\":\"12pt\"},\"id\":\"15651\",\"type\":\"Title\"},{\"attributes\":{},\"id\":\"15655\",\"type\":\"LinearScale\"},{\"attributes\":{},\"id\":\"15657\",\"type\":\"LinearScale\"}],\"root_ids\":[\"15640\"]},\"title\":\"Bokeh Application\",\"version\":\"2.4.3\"}};\n",
       "    var render_items = [{\"docid\":\"a9a4bfd3-798e-49cd-acce-973f7680d28a\",\"root_ids\":[\"15640\"],\"roots\":{\"15640\":\"e87eda6b-34db-48d1-a1e4-64a8e88570e7\"}}];\n",
       "    root.Bokeh.embed.embed_items_notebook(docs_json, render_items);\n",
       "    for (const render_item of render_items) {\n",
       "      for (const root_id of render_item.root_ids) {\n",
       "\tconst id_el = document.getElementById(root_id)\n",
       "\tif (id_el.children.length && (id_el.children[0].className === 'bk-root')) {\n",
       "\t  const root_el = id_el.children[0]\n",
       "\t  root_el.id = root_el.id + '-rendered'\n",
       "\t}\n",
       "      }\n",
       "    }\n",
       "  }\n",
       "  if (root.Bokeh !== undefined && root.Bokeh.Panel !== undefined) {\n",
       "    embed_document(root);\n",
       "  } else {\n",
       "    var attempts = 0;\n",
       "    var timer = setInterval(function(root) {\n",
       "      if (root.Bokeh !== undefined && root.Bokeh.Panel !== undefined) {\n",
       "        clearInterval(timer);\n",
       "        embed_document(root);\n",
       "      } else if (document.readyState == \"complete\") {\n",
       "        attempts++;\n",
       "        if (attempts > 200) {\n",
       "          clearInterval(timer);\n",
       "          console.log(\"Bokeh: ERROR: Unable to run BokehJS code because BokehJS library is missing\");\n",
       "        }\n",
       "      }\n",
       "    }, 25, root)\n",
       "  }\n",
       "})(window);</script>"
      ],
      "text/plain": [
       ":Overlay\n",
       "   .Tiles.I  :Tiles   [x,y]\n",
       "   .Points.I :Points   [lon,lat]   (Ride_name,incident_count)"
      ]
     },
     "execution_count": 91,
     "metadata": {
      "application/vnd.holoviews_exec.v0+json": {
       "id": "15640"
      }
     },
     "output_type": "execute_result"
    }
   ],
   "source": [
    "plot_mapping_data(mapping_data, filter_column=\"Company\", filter_value=\"Universal\", scale=15, title=\"Universal_Parks\")"
   ]
  },
  {
   "cell_type": "markdown",
   "id": "9c0674a4",
   "metadata": {},
   "source": [
    "### Islands of Adventure"
   ]
  },
  {
   "cell_type": "code",
   "execution_count": 92,
   "id": "dce85542",
   "metadata": {},
   "outputs": [
    {
     "data": {},
     "metadata": {},
     "output_type": "display_data"
    },
    {
     "data": {
      "application/vnd.holoviews_exec.v0+json": "",
      "text/html": [
       "<div id='15961'>\n",
       "  <div class=\"bk-root\" id=\"d48711dd-4d4e-403b-9c2b-197be066dacd\" data-root-id=\"15961\"></div>\n",
       "</div>\n",
       "<script type=\"application/javascript\">(function(root) {\n",
       "  function embed_document(root) {\n",
       "    var docs_json = {\"0fbfc038-a97a-4bde-b038-5d0ce5bca40c\":{\"defs\":[{\"extends\":null,\"module\":null,\"name\":\"ReactiveHTML1\",\"overrides\":[],\"properties\":[]},{\"extends\":null,\"module\":null,\"name\":\"FlexBox1\",\"overrides\":[],\"properties\":[{\"default\":\"flex-start\",\"kind\":null,\"name\":\"align_content\"},{\"default\":\"flex-start\",\"kind\":null,\"name\":\"align_items\"},{\"default\":\"row\",\"kind\":null,\"name\":\"flex_direction\"},{\"default\":\"wrap\",\"kind\":null,\"name\":\"flex_wrap\"},{\"default\":\"flex-start\",\"kind\":null,\"name\":\"justify_content\"}]},{\"extends\":null,\"module\":null,\"name\":\"GridStack1\",\"overrides\":[],\"properties\":[{\"default\":\"warn\",\"kind\":null,\"name\":\"mode\"},{\"default\":null,\"kind\":null,\"name\":\"ncols\"},{\"default\":null,\"kind\":null,\"name\":\"nrows\"},{\"default\":true,\"kind\":null,\"name\":\"allow_resize\"},{\"default\":true,\"kind\":null,\"name\":\"allow_drag\"},{\"default\":[],\"kind\":null,\"name\":\"state\"}]},{\"extends\":null,\"module\":null,\"name\":\"click1\",\"overrides\":[],\"properties\":[{\"default\":\"\",\"kind\":null,\"name\":\"terminal_output\"},{\"default\":\"\",\"kind\":null,\"name\":\"debug_name\"},{\"default\":0,\"kind\":null,\"name\":\"clears\"}]},{\"extends\":null,\"module\":null,\"name\":\"NotificationAreaBase1\",\"overrides\":[],\"properties\":[{\"default\":\"bottom-right\",\"kind\":null,\"name\":\"position\"},{\"default\":0,\"kind\":null,\"name\":\"_clear\"}]},{\"extends\":null,\"module\":null,\"name\":\"NotificationArea1\",\"overrides\":[],\"properties\":[{\"default\":[],\"kind\":null,\"name\":\"notifications\"},{\"default\":\"bottom-right\",\"kind\":null,\"name\":\"position\"},{\"default\":0,\"kind\":null,\"name\":\"_clear\"},{\"default\":[{\"background\":\"#ffc107\",\"icon\":{\"className\":\"fas fa-exclamation-triangle\",\"color\":\"white\",\"tagName\":\"i\"},\"type\":\"warning\"},{\"background\":\"#007bff\",\"icon\":{\"className\":\"fas fa-info-circle\",\"color\":\"white\",\"tagName\":\"i\"},\"type\":\"info\"}],\"kind\":null,\"name\":\"types\"}]},{\"extends\":null,\"module\":null,\"name\":\"Notification\",\"overrides\":[],\"properties\":[{\"default\":null,\"kind\":null,\"name\":\"background\"},{\"default\":3000,\"kind\":null,\"name\":\"duration\"},{\"default\":null,\"kind\":null,\"name\":\"icon\"},{\"default\":\"\",\"kind\":null,\"name\":\"message\"},{\"default\":null,\"kind\":null,\"name\":\"notification_type\"},{\"default\":false,\"kind\":null,\"name\":\"_destroyed\"}]},{\"extends\":null,\"module\":null,\"name\":\"TemplateActions1\",\"overrides\":[],\"properties\":[{\"default\":0,\"kind\":null,\"name\":\"open_modal\"},{\"default\":0,\"kind\":null,\"name\":\"close_modal\"}]},{\"extends\":null,\"module\":null,\"name\":\"MaterialTemplateActions1\",\"overrides\":[],\"properties\":[{\"default\":0,\"kind\":null,\"name\":\"open_modal\"},{\"default\":0,\"kind\":null,\"name\":\"close_modal\"}]}],\"roots\":{\"references\":[{\"attributes\":{\"active_drag\":{\"id\":\"15989\"},\"tools\":[{\"id\":\"15970\"},{\"id\":\"15988\"},{\"id\":\"15989\"},{\"id\":\"15990\"},{\"id\":\"15991\"},{\"id\":\"15992\"}]},\"id\":\"15994\",\"type\":\"Toolbar\"},{\"attributes\":{},\"id\":\"16007\",\"type\":\"AllLabels\"},{\"attributes\":{\"children\":[{\"id\":\"15971\"}],\"height\":750,\"margin\":[0,0,0,0],\"name\":\"Row13686\",\"sizing_mode\":\"fixed\",\"tags\":[\"embedded\"],\"width\":1000},\"id\":\"15961\",\"type\":\"Row\"},{\"attributes\":{\"click_policy\":\"mute\",\"coordinates\":null,\"group\":null,\"items\":[{\"id\":\"16050\"}],\"location\":[0,0]},\"id\":\"16049\",\"type\":\"Legend\"},{\"attributes\":{\"data\":{\"Ride_name\":[\"Camp Jurassic\",\"Caro-Seuss-el\",\"Cafe 4\",\"Hagrid's Magical Creatures Motorbike Adventure\",\"Dudley Do Rights Ripsaw Falls\",\"Flight of the Hippogriff\",\"Harry Potter and the Forbidden Journey\",\"If I Ran the Zoo\",\"Jurassic Park River Adventure\",\"VelociCoaster\",\"Poseidon's Fury\",\"Storm Force Acceleration\",\"The Amazing Adventures of Spiderman\",\"The Cat In The Hat\",\"The Incredible Hulk Coaster\"],\"color\":[\"Camp Jurassic\",\"Caro-Seuss-el\",\"Cafe 4\",\"Hagrid's Magical Creatures Motorbike Adventure\",\"Dudley Do Rights Ripsaw Falls\",\"Flight of the Hippogriff\",\"Harry Potter and the Forbidden Journey\",\"If I Ran the Zoo\",\"Jurassic Park River Adventure\",\"VelociCoaster\",\"Poseidon's Fury\",\"Storm Force Acceleration\",\"The Amazing Adventures of Spiderman\",\"The Cat In The Hat\",\"The Incredible Hulk Coaster\"],\"incident_count\":[3,6,2,14,4,1,44,1,2,1,2,1,3,1,11],\"lat\":{\"__ndarray__\":\"TPJ0TqQ9SUHGxY5sWj5JQRzVctDdPUlBNzI4un0+SUFO7EcRcT1JQYuWtxc/PklBh8qnQRg+SUEI2DfATT5JQdKbfx+0PUlBXBUAyOk9SUHpZVNnez5JQRNEHkjjPUlBkIqssI49SUFKSftNXD5JQQ969DwDPklB\",\"dtype\":\"float64\",\"order\":\"little\",\"shape\":[15]},\"lon\":{\"__ndarray__\":\"HphIzXlMYcG2chj0TExhwQaI0ExITGHBcrPDsIJMYcGqMGJHakxhwW0iazWHTGHByjFm5YhMYcEUdhxsT0xhwcYy5XyGTGHBrYtWKnRMYcGSOBspYExhwZ1d9h4/TGHB+6KGqEtMYcFbFxZ9QExhwUAWDNRATGHB\",\"dtype\":\"float64\",\"order\":\"little\",\"shape\":[15]},\"size\":{\"__ndarray__\":\"38fSORP7OUAbj8gyBV9CQBBIF4CUNjVAVLtRcPsPTEAAAAAAAAA+QAAAAAAAAC5AQZi9auvfWEAAAAAAAAAuQBBIF4CUNjVAAAAAAAAALkAQSBeAlDY1QAAAAAAAAC5A38fSORP7OUAAAAAAAAAuQEGYvWrr30hA\",\"dtype\":\"float64\",\"order\":\"little\",\"shape\":[15]}},\"selected\":{\"id\":\"16034\"},\"selection_policy\":{\"id\":\"16046\"}},\"id\":\"16033\",\"type\":\"ColumnDataSource\"},{\"attributes\":{\"axis\":{\"id\":\"15984\"},\"coordinates\":null,\"dimension\":1,\"grid_line_color\":null,\"group\":null,\"ticker\":null},\"id\":\"15987\",\"type\":\"Grid\"},{\"attributes\":{\"dimension\":\"lon\"},\"id\":\"16002\",\"type\":\"MercatorTickFormatter\"},{\"attributes\":{},\"id\":\"15976\",\"type\":\"LinearScale\"},{\"attributes\":{\"fill_alpha\":{\"value\":0.75},\"fill_color\":{\"field\":\"color\",\"transform\":{\"id\":\"16032\"}},\"hatch_alpha\":{\"value\":0.1},\"hatch_color\":{\"field\":\"color\",\"transform\":{\"id\":\"16032\"}},\"line_alpha\":{\"value\":0.75},\"line_color\":{\"field\":\"color\",\"transform\":{\"id\":\"16032\"}},\"size\":{\"field\":\"size\"},\"tags\":[\"apply_ranges\"],\"x\":{\"field\":\"lon\"},\"y\":{\"field\":\"lat\"}},\"id\":\"16037\",\"type\":\"Scatter\"},{\"attributes\":{\"dimension\":\"lat\"},\"id\":\"16004\",\"type\":\"MercatorTickFormatter\"},{\"attributes\":{\"code\":\"\\n        var projections = Bokeh.require(\\\"core/util/projections\\\");\\n        var x = special_vars.data_x\\n        var y = special_vars.data_y\\n        var coords = projections.wgs84_mercator.invert(x, y)\\n        return \\\"\\\" + (coords[0]).toFixed(4)\\n    \"},\"id\":\"16051\",\"type\":\"CustomJSHover\"},{\"attributes\":{\"bottom_units\":\"screen\",\"coordinates\":null,\"fill_alpha\":0.5,\"fill_color\":\"lightgrey\",\"group\":null,\"left_units\":\"screen\",\"level\":\"overlay\",\"line_alpha\":1.0,\"line_color\":\"black\",\"line_dash\":[4,4],\"line_width\":2,\"right_units\":\"screen\",\"syncable\":false,\"top_units\":\"screen\"},\"id\":\"15993\",\"type\":\"BoxAnnotation\"},{\"attributes\":{\"fill_alpha\":{\"value\":0.75},\"fill_color\":{\"field\":\"color\",\"transform\":{\"id\":\"16032\"}},\"hatch_alpha\":{\"value\":0.75},\"hatch_color\":{\"field\":\"color\",\"transform\":{\"id\":\"16032\"}},\"line_alpha\":{\"value\":0.75},\"line_color\":{\"field\":\"color\",\"transform\":{\"id\":\"16032\"}},\"size\":{\"field\":\"size\"},\"tags\":[\"apply_ranges\"],\"x\":{\"field\":\"lon\"},\"y\":{\"field\":\"lat\"}},\"id\":\"16036\",\"type\":\"Scatter\"},{\"attributes\":{\"source\":{\"id\":\"16033\"}},\"id\":\"16042\",\"type\":\"CDSView\"},{\"attributes\":{},\"id\":\"16034\",\"type\":\"Selection\"},{\"attributes\":{\"below\":[{\"id\":\"15980\"}],\"center\":[{\"id\":\"15983\"},{\"id\":\"15987\"}],\"frame_height\":750,\"frame_width\":1000,\"height\":750,\"left\":[{\"id\":\"15984\"}],\"margin\":[5,5,5,5],\"match_aspect\":true,\"min_border_bottom\":10,\"min_border_left\":10,\"min_border_right\":10,\"min_border_top\":10,\"output_backend\":\"webgl\",\"renderers\":[{\"id\":\"16030\"},{\"id\":\"16041\"}],\"right\":[{\"id\":\"16049\"}],\"sizing_mode\":\"fixed\",\"title\":{\"id\":\"15972\"},\"toolbar\":{\"id\":\"15994\"},\"width\":1000,\"x_range\":{\"id\":\"15966\"},\"x_scale\":{\"id\":\"15976\"},\"y_range\":{\"id\":\"15967\"},\"y_scale\":{\"id\":\"15978\"}},\"id\":\"15971\",\"subtype\":\"Figure\",\"type\":\"Plot\"},{\"attributes\":{},\"id\":\"15992\",\"type\":\"ResetTool\"},{\"attributes\":{\"match_aspect\":true,\"overlay\":{\"id\":\"15993\"}},\"id\":\"15991\",\"type\":\"BoxZoomTool\"},{\"attributes\":{\"factors\":[\"Camp Jurassic\",\"Caro-Seuss-el\",\"Cafe 4\",\"Hagrid's Magical Creatures Motorbike Adventure\",\"Dudley Do Rights Ripsaw Falls\",\"Flight of the Hippogriff\",\"Harry Potter and the Forbidden Journey\",\"If I Ran the Zoo\",\"Jurassic Park River Adventure\",\"VelociCoaster\",\"Poseidon's Fury\",\"Storm Force Acceleration\",\"The Amazing Adventures of Spiderman\",\"The Cat In The Hat\",\"The Incredible Hulk Coaster\"],\"palette\":[\"#1f77b3\",\"#ff7e0e\",\"#2ba02b\",\"#d62628\",\"#9367bc\",\"#8c564b\",\"#e277c1\",\"#7e7e7e\",\"#bcbc21\",\"#16bdcf\",\"#3a0182\",\"#004201\",\"#0fffa8\",\"#5d003f\",\"#bcbcff\"]},\"id\":\"16032\",\"type\":\"CategoricalColorMapper\"},{\"attributes\":{\"zoom_on_axis\":false},\"id\":\"15990\",\"type\":\"WheelZoomTool\"},{\"attributes\":{},\"id\":\"15988\",\"type\":\"SaveTool\"},{\"attributes\":{\"code\":\"\\n        var projections = Bokeh.require(\\\"core/util/projections\\\");\\n        var x = special_vars.data_x\\n        var y = special_vars.data_y\\n        var coords = projections.wgs84_mercator.invert(x, y)\\n        return \\\"\\\" + (coords[1]).toFixed(4)\\n    \"},\"id\":\"16052\",\"type\":\"CustomJSHover\"},{\"attributes\":{},\"id\":\"16046\",\"type\":\"UnionRenderers\"},{\"attributes\":{\"end\":-9068914.414899834,\"min_interval\":5,\"reset_end\":-9068914.414899834,\"reset_start\":-9069773.721399015,\"start\":-9069773.721399015,\"tags\":[[[\"lon\",\"lon\",null]]]},\"id\":\"15966\",\"type\":\"Range1d\"},{\"attributes\":{\"coordinates\":null,\"data_source\":{\"id\":\"16033\"},\"glyph\":{\"id\":\"16036\"},\"group\":null,\"hover_glyph\":{\"id\":\"16039\"},\"muted_glyph\":{\"id\":\"16040\"},\"nonselection_glyph\":{\"id\":\"16037\"},\"selection_glyph\":{\"id\":\"16038\"},\"view\":{\"id\":\"16042\"}},\"id\":\"16041\",\"type\":\"GlyphRenderer\"},{\"attributes\":{\"axis_label\":\"x\",\"coordinates\":null,\"formatter\":{\"id\":\"16002\"},\"group\":null,\"major_label_policy\":{\"id\":\"16007\"},\"ticker\":{\"id\":\"16001\"}},\"id\":\"15980\",\"type\":\"LinearAxis\"},{\"attributes\":{},\"id\":\"16014\",\"type\":\"AllLabels\"},{\"attributes\":{\"fill_alpha\":{\"value\":0.2},\"fill_color\":{\"field\":\"color\",\"transform\":{\"id\":\"16032\"}},\"hatch_alpha\":{\"value\":0.2},\"hatch_color\":{\"field\":\"color\",\"transform\":{\"id\":\"16032\"}},\"line_alpha\":{\"value\":0.2},\"line_color\":{\"field\":\"color\",\"transform\":{\"id\":\"16032\"}},\"size\":{\"field\":\"size\"},\"tags\":[\"apply_ranges\"],\"x\":{\"field\":\"lon\"},\"y\":{\"field\":\"lat\"}},\"id\":\"16040\",\"type\":\"Scatter\"},{\"attributes\":{\"end\":3308849.034858345,\"min_interval\":5,\"reset_end\":3308849.034858345,\"reset_start\":3308204.554983958,\"start\":3308204.554983958,\"tags\":[[[\"lat\",\"lat\",null]]]},\"id\":\"15967\",\"type\":\"Range1d\"},{\"attributes\":{\"fill_alpha\":{\"value\":0.75},\"fill_color\":{\"field\":\"color\",\"transform\":{\"id\":\"16032\"}},\"hatch_alpha\":{\"value\":0.75},\"hatch_color\":{\"field\":\"color\",\"transform\":{\"id\":\"16032\"}},\"line_alpha\":{\"value\":0.75},\"line_color\":{\"field\":\"color\",\"transform\":{\"id\":\"16032\"}},\"size\":{\"field\":\"size\"},\"tags\":[\"apply_ranges\"],\"x\":{\"field\":\"lon\"},\"y\":{\"field\":\"lat\"}},\"id\":\"16039\",\"type\":\"Scatter\"},{\"attributes\":{},\"id\":\"15989\",\"type\":\"PanTool\"},{\"attributes\":{\"coordinates\":null,\"group\":null,\"level\":\"glyph\",\"tile_source\":{\"id\":\"16027\"}},\"id\":\"16030\",\"type\":\"TileRenderer\"},{\"attributes\":{\"callback\":null,\"formatters\":{\"$x\":{\"id\":\"16051\"},\"$y\":{\"id\":\"16052\"}},\"renderers\":[{\"id\":\"16041\"}],\"tags\":[\"hv_created\"],\"tooltips\":[[\"lon\",\"$x{custom}\"],[\"lat\",\"$y{custom}\"],[\"Ride_name\",\"@{Ride_name}\"],[\"incident_count\",\"@{incident_count}\"]]},\"id\":\"15970\",\"type\":\"HoverTool\"},{\"attributes\":{\"attribution\":\"&copy; <a href=\\\"https://www.openstreetmap.org/copyright\\\">OpenStreetMap</a> contributors, &copy; <a href=\\\"https://cartodb.com/attributions\\\">CartoDB</a>\",\"url\":\"https://cartodb-basemaps-4.global.ssl.fastly.net/light_all/{Z}/{X}/{Y}.png\"},\"id\":\"16027\",\"type\":\"WMTSTileSource\"},{\"attributes\":{\"axis_label\":\"y\",\"coordinates\":null,\"formatter\":{\"id\":\"16004\"},\"group\":null,\"major_label_policy\":{\"id\":\"16014\"},\"ticker\":{\"id\":\"16003\"}},\"id\":\"15984\",\"type\":\"LinearAxis\"},{\"attributes\":{\"axis\":{\"id\":\"15980\"},\"coordinates\":null,\"grid_line_color\":null,\"group\":null,\"ticker\":null},\"id\":\"15983\",\"type\":\"Grid\"},{\"attributes\":{\"fill_alpha\":{\"value\":0.75},\"fill_color\":{\"field\":\"color\",\"transform\":{\"id\":\"16032\"}},\"hatch_alpha\":{\"value\":0.75},\"hatch_color\":{\"field\":\"color\",\"transform\":{\"id\":\"16032\"}},\"line_alpha\":{\"value\":0.75},\"line_color\":{\"field\":\"color\",\"transform\":{\"id\":\"16032\"}},\"size\":{\"field\":\"size\"},\"tags\":[\"apply_ranges\"],\"x\":{\"field\":\"lon\"},\"y\":{\"field\":\"lat\"}},\"id\":\"16038\",\"type\":\"Scatter\"},{\"attributes\":{\"coordinates\":null,\"group\":null,\"text\":\"Islands_of_Adventure\",\"text_color\":\"black\",\"text_font_size\":\"12pt\"},\"id\":\"15972\",\"type\":\"Title\"},{\"attributes\":{\"label\":{\"field\":\"color\"},\"renderers\":[{\"id\":\"16041\"}]},\"id\":\"16050\",\"type\":\"LegendItem\"},{\"attributes\":{},\"id\":\"15978\",\"type\":\"LinearScale\"},{\"attributes\":{\"dimension\":\"lat\"},\"id\":\"16003\",\"type\":\"MercatorTicker\"},{\"attributes\":{\"dimension\":\"lon\"},\"id\":\"16001\",\"type\":\"MercatorTicker\"}],\"root_ids\":[\"15961\"]},\"title\":\"Bokeh Application\",\"version\":\"2.4.3\"}};\n",
       "    var render_items = [{\"docid\":\"0fbfc038-a97a-4bde-b038-5d0ce5bca40c\",\"root_ids\":[\"15961\"],\"roots\":{\"15961\":\"d48711dd-4d4e-403b-9c2b-197be066dacd\"}}];\n",
       "    root.Bokeh.embed.embed_items_notebook(docs_json, render_items);\n",
       "    for (const render_item of render_items) {\n",
       "      for (const root_id of render_item.root_ids) {\n",
       "\tconst id_el = document.getElementById(root_id)\n",
       "\tif (id_el.children.length && (id_el.children[0].className === 'bk-root')) {\n",
       "\t  const root_el = id_el.children[0]\n",
       "\t  root_el.id = root_el.id + '-rendered'\n",
       "\t}\n",
       "      }\n",
       "    }\n",
       "  }\n",
       "  if (root.Bokeh !== undefined && root.Bokeh.Panel !== undefined) {\n",
       "    embed_document(root);\n",
       "  } else {\n",
       "    var attempts = 0;\n",
       "    var timer = setInterval(function(root) {\n",
       "      if (root.Bokeh !== undefined && root.Bokeh.Panel !== undefined) {\n",
       "        clearInterval(timer);\n",
       "        embed_document(root);\n",
       "      } else if (document.readyState == \"complete\") {\n",
       "        attempts++;\n",
       "        if (attempts > 200) {\n",
       "          clearInterval(timer);\n",
       "          console.log(\"Bokeh: ERROR: Unable to run BokehJS code because BokehJS library is missing\");\n",
       "        }\n",
       "      }\n",
       "    }, 25, root)\n",
       "  }\n",
       "})(window);</script>"
      ],
      "text/plain": [
       ":Overlay\n",
       "   .Tiles.I  :Tiles   [x,y]\n",
       "   .Points.I :Points   [lon,lat]   (Ride_name,incident_count)"
      ]
     },
     "execution_count": 92,
     "metadata": {
      "application/vnd.holoviews_exec.v0+json": {
       "id": "15961"
      }
     },
     "output_type": "execute_result"
    }
   ],
   "source": [
    "plot_mapping_data(mapping_data, filter_column=\"Theme_Park\", filter_value=\"Islands of Adventure\", \n",
    "                  scale=15, title=\"Islands_of_Adventure\")"
   ]
  },
  {
   "cell_type": "markdown",
   "id": "1fa8dd60",
   "metadata": {},
   "source": [
    "### Universal Studios"
   ]
  },
  {
   "cell_type": "code",
   "execution_count": 93,
   "id": "dfa12f7b",
   "metadata": {},
   "outputs": [
    {
     "data": {},
     "metadata": {},
     "output_type": "display_data"
    },
    {
     "data": {
      "application/vnd.holoviews_exec.v0+json": "",
      "text/html": [
       "<div id='16282'>\n",
       "  <div class=\"bk-root\" id=\"c0f8b0fe-58cb-4b86-8280-649d7b2b2287\" data-root-id=\"16282\"></div>\n",
       "</div>\n",
       "<script type=\"application/javascript\">(function(root) {\n",
       "  function embed_document(root) {\n",
       "    var docs_json = {\"54d86c0c-bfee-4198-a793-eed8995a69e1\":{\"defs\":[{\"extends\":null,\"module\":null,\"name\":\"ReactiveHTML1\",\"overrides\":[],\"properties\":[]},{\"extends\":null,\"module\":null,\"name\":\"FlexBox1\",\"overrides\":[],\"properties\":[{\"default\":\"flex-start\",\"kind\":null,\"name\":\"align_content\"},{\"default\":\"flex-start\",\"kind\":null,\"name\":\"align_items\"},{\"default\":\"row\",\"kind\":null,\"name\":\"flex_direction\"},{\"default\":\"wrap\",\"kind\":null,\"name\":\"flex_wrap\"},{\"default\":\"flex-start\",\"kind\":null,\"name\":\"justify_content\"}]},{\"extends\":null,\"module\":null,\"name\":\"GridStack1\",\"overrides\":[],\"properties\":[{\"default\":\"warn\",\"kind\":null,\"name\":\"mode\"},{\"default\":null,\"kind\":null,\"name\":\"ncols\"},{\"default\":null,\"kind\":null,\"name\":\"nrows\"},{\"default\":true,\"kind\":null,\"name\":\"allow_resize\"},{\"default\":true,\"kind\":null,\"name\":\"allow_drag\"},{\"default\":[],\"kind\":null,\"name\":\"state\"}]},{\"extends\":null,\"module\":null,\"name\":\"click1\",\"overrides\":[],\"properties\":[{\"default\":\"\",\"kind\":null,\"name\":\"terminal_output\"},{\"default\":\"\",\"kind\":null,\"name\":\"debug_name\"},{\"default\":0,\"kind\":null,\"name\":\"clears\"}]},{\"extends\":null,\"module\":null,\"name\":\"NotificationAreaBase1\",\"overrides\":[],\"properties\":[{\"default\":\"bottom-right\",\"kind\":null,\"name\":\"position\"},{\"default\":0,\"kind\":null,\"name\":\"_clear\"}]},{\"extends\":null,\"module\":null,\"name\":\"NotificationArea1\",\"overrides\":[],\"properties\":[{\"default\":[],\"kind\":null,\"name\":\"notifications\"},{\"default\":\"bottom-right\",\"kind\":null,\"name\":\"position\"},{\"default\":0,\"kind\":null,\"name\":\"_clear\"},{\"default\":[{\"background\":\"#ffc107\",\"icon\":{\"className\":\"fas fa-exclamation-triangle\",\"color\":\"white\",\"tagName\":\"i\"},\"type\":\"warning\"},{\"background\":\"#007bff\",\"icon\":{\"className\":\"fas fa-info-circle\",\"color\":\"white\",\"tagName\":\"i\"},\"type\":\"info\"}],\"kind\":null,\"name\":\"types\"}]},{\"extends\":null,\"module\":null,\"name\":\"Notification\",\"overrides\":[],\"properties\":[{\"default\":null,\"kind\":null,\"name\":\"background\"},{\"default\":3000,\"kind\":null,\"name\":\"duration\"},{\"default\":null,\"kind\":null,\"name\":\"icon\"},{\"default\":\"\",\"kind\":null,\"name\":\"message\"},{\"default\":null,\"kind\":null,\"name\":\"notification_type\"},{\"default\":false,\"kind\":null,\"name\":\"_destroyed\"}]},{\"extends\":null,\"module\":null,\"name\":\"TemplateActions1\",\"overrides\":[],\"properties\":[{\"default\":0,\"kind\":null,\"name\":\"open_modal\"},{\"default\":0,\"kind\":null,\"name\":\"close_modal\"}]},{\"extends\":null,\"module\":null,\"name\":\"MaterialTemplateActions1\",\"overrides\":[],\"properties\":[{\"default\":0,\"kind\":null,\"name\":\"open_modal\"},{\"default\":0,\"kind\":null,\"name\":\"close_modal\"}]}],\"roots\":{\"references\":[{\"attributes\":{},\"id\":\"16335\",\"type\":\"AllLabels\"},{\"attributes\":{\"data\":{\"Ride_name\":[\"Back to the Future\",\"Despicable Me Minion Mayhem\",\"Fast & Furious - Supercharged\",\"E.T Adventure\",\"Fievel's Playground\",\"Harry Potter and the Escape from Gringotts\",\"Hollywood Rip Ride Rocket\",\"Kang & Kodos Twirl n' Hurl\",\"Men In Black\",\"Revenge of the Mummy\",\"The Bourne Stuntacular\",\"The Simpsons Ride\",\"Transformers: The Ride 3D\"],\"color\":[\"Back to the Future\",\"Despicable Me Minion Mayhem\",\"Fast & Furious - Supercharged\",\"E.T Adventure\",\"Fievel's Playground\",\"Harry Potter and the Escape from Gringotts\",\"Hollywood Rip Ride Rocket\",\"Kang & Kodos Twirl n' Hurl\",\"Men In Black\",\"Revenge of the Mummy\",\"The Bourne Stuntacular\",\"The Simpsons Ride\",\"Transformers: The Ride 3D\"],\"incident_count\":[1,4,4,7,2,4,14,1,6,17,1,3,2],\"lat\":{\"__ndarray__\":\"pIP6ZD1ASUGslkBb9D5JQfNPTJu3P0lBtkSGi4Y/SUEghl7mrj9JQfa0ylYnQElB9atPWt4+SUHpKDqV7j9JQWgTLbFWQElBgwQUs1Y/SUEDpNVcHT9JQb4zr7D6P0lB93YHZTk/SUE=\",\"dtype\":\"float64\",\"order\":\"little\",\"shape\":[13]},\"lon\":{\"__ndarray__\":\"MFaoAylMYcEAafi8OExhwQOzUMBTTGHBOgp58yFMYcFUSHuHIkxhwZOqb2FSTGHBrn4dkjpMYcG/WjGgNkxhwYuSRkkwTGHBUexEqVFMYcE/VFcCJ0xhwU1IxzMvTGHBY+yTIzxMYcE=\",\"dtype\":\"float64\",\"order\":\"little\",\"shape\":[13]},\"size\":{\"__ndarray__\":\"AAAAAAAALkAAAAAAAAA+QAAAAAAAAD5AW8k1r9fXQ0AQSBeAlDY1QAAAAAAAAD5AVLtRcPsPTEAAAAAAAAAuQBuPyDIFX0JAbdyJ4FzsTkAAAAAAAAAuQN/H0jkT+zlAEEgXgJQ2NUA=\",\"dtype\":\"float64\",\"order\":\"little\",\"shape\":[13]}},\"selected\":{\"id\":\"16355\"},\"selection_policy\":{\"id\":\"16367\"}},\"id\":\"16354\",\"type\":\"ColumnDataSource\"},{\"attributes\":{\"label\":{\"field\":\"color\"},\"renderers\":[{\"id\":\"16362\"}]},\"id\":\"16371\",\"type\":\"LegendItem\"},{\"attributes\":{\"factors\":[\"Back to the Future\",\"Despicable Me Minion Mayhem\",\"Fast & Furious - Supercharged\",\"E.T Adventure\",\"Fievel's Playground\",\"Harry Potter and the Escape from Gringotts\",\"Hollywood Rip Ride Rocket\",\"Kang & Kodos Twirl n' Hurl\",\"Men In Black\",\"Revenge of the Mummy\",\"The Bourne Stuntacular\",\"The Simpsons Ride\",\"Transformers: The Ride 3D\"],\"palette\":[\"#1f77b3\",\"#ff7e0e\",\"#2ba02b\",\"#d62628\",\"#9367bc\",\"#8c564b\",\"#e277c1\",\"#7e7e7e\",\"#bcbc21\",\"#16bdcf\",\"#3a0182\",\"#004201\",\"#0fffa8\"]},\"id\":\"16353\",\"type\":\"CategoricalColorMapper\"},{\"attributes\":{},\"id\":\"16310\",\"type\":\"PanTool\"},{\"attributes\":{\"axis_label\":\"y\",\"coordinates\":null,\"formatter\":{\"id\":\"16325\"},\"group\":null,\"major_label_policy\":{\"id\":\"16335\"},\"ticker\":{\"id\":\"16324\"}},\"id\":\"16305\",\"type\":\"LinearAxis\"},{\"attributes\":{\"children\":[{\"id\":\"16292\"}],\"height\":750,\"margin\":[0,0,0,0],\"name\":\"Row13894\",\"sizing_mode\":\"fixed\",\"tags\":[\"embedded\"],\"width\":1000},\"id\":\"16282\",\"type\":\"Row\"},{\"attributes\":{},\"id\":\"16328\",\"type\":\"AllLabels\"},{\"attributes\":{\"dimension\":\"lat\"},\"id\":\"16324\",\"type\":\"MercatorTicker\"},{\"attributes\":{\"zoom_on_axis\":false},\"id\":\"16311\",\"type\":\"WheelZoomTool\"},{\"attributes\":{\"dimension\":\"lon\"},\"id\":\"16322\",\"type\":\"MercatorTicker\"},{\"attributes\":{\"axis\":{\"id\":\"16305\"},\"coordinates\":null,\"dimension\":1,\"grid_line_color\":null,\"group\":null,\"ticker\":null},\"id\":\"16308\",\"type\":\"Grid\"},{\"attributes\":{\"below\":[{\"id\":\"16301\"}],\"center\":[{\"id\":\"16304\"},{\"id\":\"16308\"}],\"frame_height\":750,\"frame_width\":1000,\"height\":750,\"left\":[{\"id\":\"16305\"}],\"margin\":[5,5,5,5],\"match_aspect\":true,\"min_border_bottom\":10,\"min_border_left\":10,\"min_border_right\":10,\"min_border_top\":10,\"output_backend\":\"webgl\",\"renderers\":[{\"id\":\"16351\"},{\"id\":\"16362\"}],\"right\":[{\"id\":\"16370\"}],\"sizing_mode\":\"fixed\",\"title\":{\"id\":\"16293\"},\"toolbar\":{\"id\":\"16315\"},\"width\":1000,\"x_range\":{\"id\":\"16287\"},\"x_scale\":{\"id\":\"16297\"},\"y_range\":{\"id\":\"16288\"},\"y_scale\":{\"id\":\"16299\"}},\"id\":\"16292\",\"subtype\":\"Figure\",\"type\":\"Plot\"},{\"attributes\":{},\"id\":\"16355\",\"type\":\"Selection\"},{\"attributes\":{},\"id\":\"16309\",\"type\":\"SaveTool\"},{\"attributes\":{\"code\":\"\\n        var projections = Bokeh.require(\\\"core/util/projections\\\");\\n        var x = special_vars.data_x\\n        var y = special_vars.data_y\\n        var coords = projections.wgs84_mercator.invert(x, y)\\n        return \\\"\\\" + (coords[0]).toFixed(4)\\n    \"},\"id\":\"16372\",\"type\":\"CustomJSHover\"},{\"attributes\":{\"active_drag\":{\"id\":\"16310\"},\"tools\":[{\"id\":\"16291\"},{\"id\":\"16309\"},{\"id\":\"16310\"},{\"id\":\"16311\"},{\"id\":\"16312\"},{\"id\":\"16313\"}]},\"id\":\"16315\",\"type\":\"Toolbar\"},{\"attributes\":{\"callback\":null,\"formatters\":{\"$x\":{\"id\":\"16372\"},\"$y\":{\"id\":\"16373\"}},\"renderers\":[{\"id\":\"16362\"}],\"tags\":[\"hv_created\"],\"tooltips\":[[\"lon\",\"$x{custom}\"],[\"lat\",\"$y{custom}\"],[\"Ride_name\",\"@{Ride_name}\"],[\"incident_count\",\"@{incident_count}\"]]},\"id\":\"16291\",\"type\":\"HoverTool\"},{\"attributes\":{\"match_aspect\":true,\"overlay\":{\"id\":\"16314\"}},\"id\":\"16312\",\"type\":\"BoxZoomTool\"},{\"attributes\":{},\"id\":\"16313\",\"type\":\"ResetTool\"},{\"attributes\":{\"code\":\"\\n        var projections = Bokeh.require(\\\"core/util/projections\\\");\\n        var x = special_vars.data_x\\n        var y = special_vars.data_y\\n        var coords = projections.wgs84_mercator.invert(x, y)\\n        return \\\"\\\" + (coords[1]).toFixed(4)\\n    \"},\"id\":\"16373\",\"type\":\"CustomJSHover\"},{\"attributes\":{\"fill_alpha\":{\"value\":0.2},\"fill_color\":{\"field\":\"color\",\"transform\":{\"id\":\"16353\"}},\"hatch_alpha\":{\"value\":0.2},\"hatch_color\":{\"field\":\"color\",\"transform\":{\"id\":\"16353\"}},\"line_alpha\":{\"value\":0.2},\"line_color\":{\"field\":\"color\",\"transform\":{\"id\":\"16353\"}},\"size\":{\"field\":\"size\"},\"tags\":[\"apply_ranges\"],\"x\":{\"field\":\"lon\"},\"y\":{\"field\":\"lat\"}},\"id\":\"16361\",\"type\":\"Scatter\"},{\"attributes\":{\"bottom_units\":\"screen\",\"coordinates\":null,\"fill_alpha\":0.5,\"fill_color\":\"lightgrey\",\"group\":null,\"left_units\":\"screen\",\"level\":\"overlay\",\"line_alpha\":1.0,\"line_color\":\"black\",\"line_dash\":[4,4],\"line_width\":2,\"right_units\":\"screen\",\"syncable\":false,\"top_units\":\"screen\"},\"id\":\"16314\",\"type\":\"BoxAnnotation\"},{\"attributes\":{},\"id\":\"16297\",\"type\":\"LinearScale\"},{\"attributes\":{},\"id\":\"16367\",\"type\":\"UnionRenderers\"},{\"attributes\":{\"coordinates\":null,\"group\":null,\"text\":\"Universal_Studios\",\"text_color\":\"black\",\"text_font_size\":\"12pt\"},\"id\":\"16293\",\"type\":\"Title\"},{\"attributes\":{\"axis_label\":\"x\",\"coordinates\":null,\"formatter\":{\"id\":\"16323\"},\"group\":null,\"major_label_policy\":{\"id\":\"16328\"},\"ticker\":{\"id\":\"16322\"}},\"id\":\"16301\",\"type\":\"LinearAxis\"},{\"attributes\":{\"fill_alpha\":{\"value\":0.75},\"fill_color\":{\"field\":\"color\",\"transform\":{\"id\":\"16353\"}},\"hatch_alpha\":{\"value\":0.75},\"hatch_color\":{\"field\":\"color\",\"transform\":{\"id\":\"16353\"}},\"line_alpha\":{\"value\":0.75},\"line_color\":{\"field\":\"color\",\"transform\":{\"id\":\"16353\"}},\"size\":{\"field\":\"size\"},\"tags\":[\"apply_ranges\"],\"x\":{\"field\":\"lon\"},\"y\":{\"field\":\"lat\"}},\"id\":\"16359\",\"type\":\"Scatter\"},{\"attributes\":{\"axis\":{\"id\":\"16301\"},\"coordinates\":null,\"grid_line_color\":null,\"group\":null,\"ticker\":null},\"id\":\"16304\",\"type\":\"Grid\"},{\"attributes\":{\"end\":-9068412.868911961,\"min_interval\":5,\"reset_end\":-9068412.868911961,\"reset_start\":-9069616.74946441,\"start\":-9069616.74946441,\"tags\":[[[\"lon\",\"lon\",null]]]},\"id\":\"16287\",\"type\":\"Range1d\"},{\"attributes\":{\"fill_alpha\":{\"value\":0.75},\"fill_color\":{\"field\":\"color\",\"transform\":{\"id\":\"16353\"}},\"hatch_alpha\":{\"value\":0.75},\"hatch_color\":{\"field\":\"color\",\"transform\":{\"id\":\"16353\"}},\"line_alpha\":{\"value\":0.75},\"line_color\":{\"field\":\"color\",\"transform\":{\"id\":\"16353\"}},\"size\":{\"field\":\"size\"},\"tags\":[\"apply_ranges\"],\"x\":{\"field\":\"lon\"},\"y\":{\"field\":\"lat\"}},\"id\":\"16360\",\"type\":\"Scatter\"},{\"attributes\":{\"click_policy\":\"mute\",\"coordinates\":null,\"group\":null,\"items\":[{\"id\":\"16371\"}],\"location\":[0,0]},\"id\":\"16370\",\"type\":\"Legend\"},{\"attributes\":{\"fill_alpha\":{\"value\":0.75},\"fill_color\":{\"field\":\"color\",\"transform\":{\"id\":\"16353\"}},\"hatch_alpha\":{\"value\":0.1},\"hatch_color\":{\"field\":\"color\",\"transform\":{\"id\":\"16353\"}},\"line_alpha\":{\"value\":0.75},\"line_color\":{\"field\":\"color\",\"transform\":{\"id\":\"16353\"}},\"size\":{\"field\":\"size\"},\"tags\":[\"apply_ranges\"],\"x\":{\"field\":\"lon\"},\"y\":{\"field\":\"lat\"}},\"id\":\"16358\",\"type\":\"Scatter\"},{\"attributes\":{},\"id\":\"16299\",\"type\":\"LinearScale\"},{\"attributes\":{\"fill_alpha\":{\"value\":0.75},\"fill_color\":{\"field\":\"color\",\"transform\":{\"id\":\"16353\"}},\"hatch_alpha\":{\"value\":0.75},\"hatch_color\":{\"field\":\"color\",\"transform\":{\"id\":\"16353\"}},\"line_alpha\":{\"value\":0.75},\"line_color\":{\"field\":\"color\",\"transform\":{\"id\":\"16353\"}},\"size\":{\"field\":\"size\"},\"tags\":[\"apply_ranges\"],\"x\":{\"field\":\"lon\"},\"y\":{\"field\":\"lat\"}},\"id\":\"16357\",\"type\":\"Scatter\"},{\"attributes\":{\"dimension\":\"lat\"},\"id\":\"16325\",\"type\":\"MercatorTickFormatter\"},{\"attributes\":{\"coordinates\":null,\"group\":null,\"level\":\"glyph\",\"tile_source\":{\"id\":\"16348\"}},\"id\":\"16351\",\"type\":\"TileRenderer\"},{\"attributes\":{\"dimension\":\"lon\"},\"id\":\"16323\",\"type\":\"MercatorTickFormatter\"},{\"attributes\":{\"attribution\":\"&copy; <a href=\\\"https://www.openstreetmap.org/copyright\\\">OpenStreetMap</a> contributors, &copy; <a href=\\\"https://cartodb.com/attributions\\\">CartoDB</a>\",\"url\":\"https://cartodb-basemaps-4.global.ssl.fastly.net/light_all/{Z}/{X}/{Y}.png\"},\"id\":\"16348\",\"type\":\"WMTSTileSource\"},{\"attributes\":{\"source\":{\"id\":\"16354\"}},\"id\":\"16363\",\"type\":\"CDSView\"},{\"attributes\":{\"coordinates\":null,\"data_source\":{\"id\":\"16354\"},\"glyph\":{\"id\":\"16357\"},\"group\":null,\"hover_glyph\":{\"id\":\"16360\"},\"muted_glyph\":{\"id\":\"16361\"},\"nonselection_glyph\":{\"id\":\"16358\"},\"selection_glyph\":{\"id\":\"16359\"},\"view\":{\"id\":\"16363\"}},\"id\":\"16362\",\"type\":\"GlyphRenderer\"},{\"attributes\":{\"end\":3309816.5000758516,\"min_interval\":5,\"reset_end\":3309816.5000758516,\"reset_start\":3308913.5896615144,\"start\":3308913.5896615144,\"tags\":[[[\"lat\",\"lat\",null]]]},\"id\":\"16288\",\"type\":\"Range1d\"}],\"root_ids\":[\"16282\"]},\"title\":\"Bokeh Application\",\"version\":\"2.4.3\"}};\n",
       "    var render_items = [{\"docid\":\"54d86c0c-bfee-4198-a793-eed8995a69e1\",\"root_ids\":[\"16282\"],\"roots\":{\"16282\":\"c0f8b0fe-58cb-4b86-8280-649d7b2b2287\"}}];\n",
       "    root.Bokeh.embed.embed_items_notebook(docs_json, render_items);\n",
       "    for (const render_item of render_items) {\n",
       "      for (const root_id of render_item.root_ids) {\n",
       "\tconst id_el = document.getElementById(root_id)\n",
       "\tif (id_el.children.length && (id_el.children[0].className === 'bk-root')) {\n",
       "\t  const root_el = id_el.children[0]\n",
       "\t  root_el.id = root_el.id + '-rendered'\n",
       "\t}\n",
       "      }\n",
       "    }\n",
       "  }\n",
       "  if (root.Bokeh !== undefined && root.Bokeh.Panel !== undefined) {\n",
       "    embed_document(root);\n",
       "  } else {\n",
       "    var attempts = 0;\n",
       "    var timer = setInterval(function(root) {\n",
       "      if (root.Bokeh !== undefined && root.Bokeh.Panel !== undefined) {\n",
       "        clearInterval(timer);\n",
       "        embed_document(root);\n",
       "      } else if (document.readyState == \"complete\") {\n",
       "        attempts++;\n",
       "        if (attempts > 200) {\n",
       "          clearInterval(timer);\n",
       "          console.log(\"Bokeh: ERROR: Unable to run BokehJS code because BokehJS library is missing\");\n",
       "        }\n",
       "      }\n",
       "    }, 25, root)\n",
       "  }\n",
       "})(window);</script>"
      ],
      "text/plain": [
       ":Overlay\n",
       "   .Tiles.I  :Tiles   [x,y]\n",
       "   .Points.I :Points   [lon,lat]   (Ride_name,incident_count)"
      ]
     },
     "execution_count": 93,
     "metadata": {
      "application/vnd.holoviews_exec.v0+json": {
       "id": "16282"
      }
     },
     "output_type": "execute_result"
    }
   ],
   "source": [
    "plot_mapping_data(mapping_data, filter_column=\"Theme_Park\", filter_value=\"Universal Studios\", \n",
    "                  scale=15, title=\"Universal_Studios\")"
   ]
  },
  {
   "cell_type": "markdown",
   "id": "a1951a18",
   "metadata": {},
   "source": [
    "### Volcano Bay"
   ]
  },
  {
   "cell_type": "code",
   "execution_count": 94,
   "id": "10d4399e",
   "metadata": {},
   "outputs": [
    {
     "data": {},
     "metadata": {},
     "output_type": "display_data"
    },
    {
     "data": {
      "application/vnd.holoviews_exec.v0+json": "",
      "text/html": [
       "<div id='16603'>\n",
       "  <div class=\"bk-root\" id=\"76e3e43f-232f-4541-950f-d72f95ad0fab\" data-root-id=\"16603\"></div>\n",
       "</div>\n",
       "<script type=\"application/javascript\">(function(root) {\n",
       "  function embed_document(root) {\n",
       "    var docs_json = {\"bf9dcd8a-df62-42a9-9366-149f5d1522b6\":{\"defs\":[{\"extends\":null,\"module\":null,\"name\":\"ReactiveHTML1\",\"overrides\":[],\"properties\":[]},{\"extends\":null,\"module\":null,\"name\":\"FlexBox1\",\"overrides\":[],\"properties\":[{\"default\":\"flex-start\",\"kind\":null,\"name\":\"align_content\"},{\"default\":\"flex-start\",\"kind\":null,\"name\":\"align_items\"},{\"default\":\"row\",\"kind\":null,\"name\":\"flex_direction\"},{\"default\":\"wrap\",\"kind\":null,\"name\":\"flex_wrap\"},{\"default\":\"flex-start\",\"kind\":null,\"name\":\"justify_content\"}]},{\"extends\":null,\"module\":null,\"name\":\"GridStack1\",\"overrides\":[],\"properties\":[{\"default\":\"warn\",\"kind\":null,\"name\":\"mode\"},{\"default\":null,\"kind\":null,\"name\":\"ncols\"},{\"default\":null,\"kind\":null,\"name\":\"nrows\"},{\"default\":true,\"kind\":null,\"name\":\"allow_resize\"},{\"default\":true,\"kind\":null,\"name\":\"allow_drag\"},{\"default\":[],\"kind\":null,\"name\":\"state\"}]},{\"extends\":null,\"module\":null,\"name\":\"click1\",\"overrides\":[],\"properties\":[{\"default\":\"\",\"kind\":null,\"name\":\"terminal_output\"},{\"default\":\"\",\"kind\":null,\"name\":\"debug_name\"},{\"default\":0,\"kind\":null,\"name\":\"clears\"}]},{\"extends\":null,\"module\":null,\"name\":\"NotificationAreaBase1\",\"overrides\":[],\"properties\":[{\"default\":\"bottom-right\",\"kind\":null,\"name\":\"position\"},{\"default\":0,\"kind\":null,\"name\":\"_clear\"}]},{\"extends\":null,\"module\":null,\"name\":\"NotificationArea1\",\"overrides\":[],\"properties\":[{\"default\":[],\"kind\":null,\"name\":\"notifications\"},{\"default\":\"bottom-right\",\"kind\":null,\"name\":\"position\"},{\"default\":0,\"kind\":null,\"name\":\"_clear\"},{\"default\":[{\"background\":\"#ffc107\",\"icon\":{\"className\":\"fas fa-exclamation-triangle\",\"color\":\"white\",\"tagName\":\"i\"},\"type\":\"warning\"},{\"background\":\"#007bff\",\"icon\":{\"className\":\"fas fa-info-circle\",\"color\":\"white\",\"tagName\":\"i\"},\"type\":\"info\"}],\"kind\":null,\"name\":\"types\"}]},{\"extends\":null,\"module\":null,\"name\":\"Notification\",\"overrides\":[],\"properties\":[{\"default\":null,\"kind\":null,\"name\":\"background\"},{\"default\":3000,\"kind\":null,\"name\":\"duration\"},{\"default\":null,\"kind\":null,\"name\":\"icon\"},{\"default\":\"\",\"kind\":null,\"name\":\"message\"},{\"default\":null,\"kind\":null,\"name\":\"notification_type\"},{\"default\":false,\"kind\":null,\"name\":\"_destroyed\"}]},{\"extends\":null,\"module\":null,\"name\":\"TemplateActions1\",\"overrides\":[],\"properties\":[{\"default\":0,\"kind\":null,\"name\":\"open_modal\"},{\"default\":0,\"kind\":null,\"name\":\"close_modal\"}]},{\"extends\":null,\"module\":null,\"name\":\"MaterialTemplateActions1\",\"overrides\":[],\"properties\":[{\"default\":0,\"kind\":null,\"name\":\"open_modal\"},{\"default\":0,\"kind\":null,\"name\":\"close_modal\"}]}],\"roots\":{\"references\":[{\"attributes\":{},\"id\":\"16656\",\"type\":\"AllLabels\"},{\"attributes\":{\"fill_alpha\":{\"value\":0.75},\"fill_color\":{\"field\":\"color\",\"transform\":{\"id\":\"16674\"}},\"hatch_alpha\":{\"value\":0.75},\"hatch_color\":{\"field\":\"color\",\"transform\":{\"id\":\"16674\"}},\"line_alpha\":{\"value\":0.75},\"line_color\":{\"field\":\"color\",\"transform\":{\"id\":\"16674\"}},\"size\":{\"field\":\"size\"},\"tags\":[\"apply_ranges\"],\"x\":{\"field\":\"lon\"},\"y\":{\"field\":\"lat\"}},\"id\":\"16681\",\"type\":\"Scatter\"},{\"attributes\":{\"callback\":null,\"formatters\":{\"$x\":{\"id\":\"16693\"},\"$y\":{\"id\":\"16694\"}},\"renderers\":[{\"id\":\"16683\"}],\"tags\":[\"hv_created\"],\"tooltips\":[[\"lon\",\"$x{custom}\"],[\"lat\",\"$y{custom}\"],[\"Ride_name\",\"@{Ride_name}\"],[\"incident_count\",\"@{incident_count}\"]]},\"id\":\"16612\",\"type\":\"HoverTool\"},{\"attributes\":{\"zoom_on_axis\":false},\"id\":\"16632\",\"type\":\"WheelZoomTool\"},{\"attributes\":{\"attribution\":\"&copy; <a href=\\\"https://www.openstreetmap.org/copyright\\\">OpenStreetMap</a> contributors, &copy; <a href=\\\"https://cartodb.com/attributions\\\">CartoDB</a>\",\"url\":\"https://cartodb-basemaps-4.global.ssl.fastly.net/light_all/{Z}/{X}/{Y}.png\"},\"id\":\"16669\",\"type\":\"WMTSTileSource\"},{\"attributes\":{},\"id\":\"16676\",\"type\":\"Selection\"},{\"attributes\":{\"below\":[{\"id\":\"16622\"}],\"center\":[{\"id\":\"16625\"},{\"id\":\"16629\"}],\"frame_height\":750,\"frame_width\":1000,\"height\":750,\"left\":[{\"id\":\"16626\"}],\"margin\":[5,5,5,5],\"match_aspect\":true,\"min_border_bottom\":10,\"min_border_left\":10,\"min_border_right\":10,\"min_border_top\":10,\"output_backend\":\"webgl\",\"renderers\":[{\"id\":\"16672\"},{\"id\":\"16683\"}],\"right\":[{\"id\":\"16691\"}],\"sizing_mode\":\"fixed\",\"title\":{\"id\":\"16614\"},\"toolbar\":{\"id\":\"16636\"},\"width\":1000,\"x_range\":{\"id\":\"16608\"},\"x_scale\":{\"id\":\"16618\"},\"y_range\":{\"id\":\"16609\"},\"y_scale\":{\"id\":\"16620\"}},\"id\":\"16613\",\"subtype\":\"Figure\",\"type\":\"Plot\"},{\"attributes\":{\"match_aspect\":true,\"overlay\":{\"id\":\"16635\"}},\"id\":\"16633\",\"type\":\"BoxZoomTool\"},{\"attributes\":{\"axis_label\":\"x\",\"coordinates\":null,\"formatter\":{\"id\":\"16644\"},\"group\":null,\"major_label_policy\":{\"id\":\"16649\"},\"ticker\":{\"id\":\"16643\"}},\"id\":\"16622\",\"type\":\"LinearAxis\"},{\"attributes\":{\"data\":{\"Ride_name\":[\"Kala & Tai Nui Serpentine Body Slides\",\"Ko'okiri Body Plunge\",\"Kopiko Wai Winding River\",\"Ohno Drop Slide\",\"Puihi Raft Ride\",\"Punga Racers\",\"Runamukka Reef\",\"Te'awa The Fearless River\"],\"color\":[\"Kala & Tai Nui Serpentine Body Slides\",\"Ko'okiri Body Plunge\",\"Kopiko Wai Winding River\",\"Ohno Drop Slide\",\"Puihi Raft Ride\",\"Punga Racers\",\"Runamukka Reef\",\"Te'awa The Fearless River\"],\"incident_count\":[5,1,3,1,1,1,1,3],\"lat\":{\"__ndarray__\":\"iHSdHoI7SUFV2mZUmTtJQerV3/uMO0lBhB81LHY7SUEXm20SKDtJQeqkmzJ1O0lBOEFrLZg7SUHFEtyAUztJQQ==\",\"dtype\":\"float64\",\"order\":\"little\",\"shape\":[8]},\"lon\":{\"__ndarray__\":\"bV1PanpMYcG/XTyUfExhwXzP5gWDTGHB95yv9XVMYcH07R8eg0xhwXwxMdV9TGHByG4T5IVMYcGcEGWug0xhwQ==\",\"dtype\":\"float64\",\"order\":\"little\",\"shape\":[8]},\"size\":{\"__ndarray__\":\"XnXeIUDFQEAAAAAAAAAuQN/H0jkT+zlAAAAAAAAALkAAAAAAAAAuQAAAAAAAAC5AAAAAAAAALkDfx9I5E/s5QA==\",\"dtype\":\"float64\",\"order\":\"little\",\"shape\":[8]}},\"selected\":{\"id\":\"16676\"},\"selection_policy\":{\"id\":\"16688\"}},\"id\":\"16675\",\"type\":\"ColumnDataSource\"},{\"attributes\":{\"factors\":[\"Kala & Tai Nui Serpentine Body Slides\",\"Ko'okiri Body Plunge\",\"Kopiko Wai Winding River\",\"Ohno Drop Slide\",\"Puihi Raft Ride\",\"Punga Racers\",\"Runamukka Reef\",\"Te'awa The Fearless River\"],\"palette\":[\"#1f77b3\",\"#ff7e0e\",\"#2ba02b\",\"#d62628\",\"#9367bc\",\"#8c564b\",\"#e277c1\",\"#7e7e7e\"]},\"id\":\"16674\",\"type\":\"CategoricalColorMapper\"},{\"attributes\":{\"children\":[{\"id\":\"16613\"}],\"height\":750,\"margin\":[0,0,0,0],\"name\":\"Row14102\",\"sizing_mode\":\"fixed\",\"tags\":[\"embedded\"],\"width\":1000},\"id\":\"16603\",\"type\":\"Row\"},{\"attributes\":{\"label\":{\"field\":\"color\"},\"renderers\":[{\"id\":\"16683\"}]},\"id\":\"16692\",\"type\":\"LegendItem\"},{\"attributes\":{},\"id\":\"16618\",\"type\":\"LinearScale\"},{\"attributes\":{\"active_drag\":{\"id\":\"16631\"},\"tools\":[{\"id\":\"16612\"},{\"id\":\"16630\"},{\"id\":\"16631\"},{\"id\":\"16632\"},{\"id\":\"16633\"},{\"id\":\"16634\"}]},\"id\":\"16636\",\"type\":\"Toolbar\"},{\"attributes\":{},\"id\":\"16631\",\"type\":\"PanTool\"},{\"attributes\":{\"click_policy\":\"mute\",\"coordinates\":null,\"group\":null,\"items\":[{\"id\":\"16692\"}],\"location\":[0,0]},\"id\":\"16691\",\"type\":\"Legend\"},{\"attributes\":{\"code\":\"\\n        var projections = Bokeh.require(\\\"core/util/projections\\\");\\n        var x = special_vars.data_x\\n        var y = special_vars.data_y\\n        var coords = projections.wgs84_mercator.invert(x, y)\\n        return \\\"\\\" + (coords[1]).toFixed(4)\\n    \"},\"id\":\"16694\",\"type\":\"CustomJSHover\"},{\"attributes\":{\"end\":-9069370.392790906,\"min_interval\":5,\"reset_end\":-9069370.392790906,\"reset_start\":-9069732.412268404,\"start\":-9069732.412268404,\"tags\":[[[\"lon\",\"lon\",null]]]},\"id\":\"16608\",\"type\":\"Range1d\"},{\"attributes\":{\"coordinates\":null,\"group\":null,\"level\":\"glyph\",\"tile_source\":{\"id\":\"16669\"}},\"id\":\"16672\",\"type\":\"TileRenderer\"},{\"attributes\":{\"source\":{\"id\":\"16675\"}},\"id\":\"16684\",\"type\":\"CDSView\"},{\"attributes\":{\"code\":\"\\n        var projections = Bokeh.require(\\\"core/util/projections\\\");\\n        var x = special_vars.data_x\\n        var y = special_vars.data_y\\n        var coords = projections.wgs84_mercator.invert(x, y)\\n        return \\\"\\\" + (coords[0]).toFixed(4)\\n    \"},\"id\":\"16693\",\"type\":\"CustomJSHover\"},{\"attributes\":{\"axis_label\":\"y\",\"coordinates\":null,\"formatter\":{\"id\":\"16646\"},\"group\":null,\"major_label_policy\":{\"id\":\"16656\"},\"ticker\":{\"id\":\"16645\"}},\"id\":\"16626\",\"type\":\"LinearAxis\"},{\"attributes\":{\"end\":3307337.1589823533,\"min_interval\":5,\"reset_end\":3307337.1589823533,\"reset_start\":3307065.64437423,\"start\":3307065.64437423,\"tags\":[[[\"lat\",\"lat\",null]]]},\"id\":\"16609\",\"type\":\"Range1d\"},{\"attributes\":{\"fill_alpha\":{\"value\":0.75},\"fill_color\":{\"field\":\"color\",\"transform\":{\"id\":\"16674\"}},\"hatch_alpha\":{\"value\":0.1},\"hatch_color\":{\"field\":\"color\",\"transform\":{\"id\":\"16674\"}},\"line_alpha\":{\"value\":0.75},\"line_color\":{\"field\":\"color\",\"transform\":{\"id\":\"16674\"}},\"size\":{\"field\":\"size\"},\"tags\":[\"apply_ranges\"],\"x\":{\"field\":\"lon\"},\"y\":{\"field\":\"lat\"}},\"id\":\"16679\",\"type\":\"Scatter\"},{\"attributes\":{\"fill_alpha\":{\"value\":0.2},\"fill_color\":{\"field\":\"color\",\"transform\":{\"id\":\"16674\"}},\"hatch_alpha\":{\"value\":0.2},\"hatch_color\":{\"field\":\"color\",\"transform\":{\"id\":\"16674\"}},\"line_alpha\":{\"value\":0.2},\"line_color\":{\"field\":\"color\",\"transform\":{\"id\":\"16674\"}},\"size\":{\"field\":\"size\"},\"tags\":[\"apply_ranges\"],\"x\":{\"field\":\"lon\"},\"y\":{\"field\":\"lat\"}},\"id\":\"16682\",\"type\":\"Scatter\"},{\"attributes\":{\"fill_alpha\":{\"value\":0.75},\"fill_color\":{\"field\":\"color\",\"transform\":{\"id\":\"16674\"}},\"hatch_alpha\":{\"value\":0.75},\"hatch_color\":{\"field\":\"color\",\"transform\":{\"id\":\"16674\"}},\"line_alpha\":{\"value\":0.75},\"line_color\":{\"field\":\"color\",\"transform\":{\"id\":\"16674\"}},\"size\":{\"field\":\"size\"},\"tags\":[\"apply_ranges\"],\"x\":{\"field\":\"lon\"},\"y\":{\"field\":\"lat\"}},\"id\":\"16678\",\"type\":\"Scatter\"},{\"attributes\":{\"fill_alpha\":{\"value\":0.75},\"fill_color\":{\"field\":\"color\",\"transform\":{\"id\":\"16674\"}},\"hatch_alpha\":{\"value\":0.75},\"hatch_color\":{\"field\":\"color\",\"transform\":{\"id\":\"16674\"}},\"line_alpha\":{\"value\":0.75},\"line_color\":{\"field\":\"color\",\"transform\":{\"id\":\"16674\"}},\"size\":{\"field\":\"size\"},\"tags\":[\"apply_ranges\"],\"x\":{\"field\":\"lon\"},\"y\":{\"field\":\"lat\"}},\"id\":\"16680\",\"type\":\"Scatter\"},{\"attributes\":{\"dimension\":\"lat\"},\"id\":\"16646\",\"type\":\"MercatorTickFormatter\"},{\"attributes\":{\"dimension\":\"lon\"},\"id\":\"16644\",\"type\":\"MercatorTickFormatter\"},{\"attributes\":{},\"id\":\"16634\",\"type\":\"ResetTool\"},{\"attributes\":{\"coordinates\":null,\"group\":null,\"text\":\"Volcano_Bay\",\"text_color\":\"black\",\"text_font_size\":\"12pt\"},\"id\":\"16614\",\"type\":\"Title\"},{\"attributes\":{\"axis\":{\"id\":\"16622\"},\"coordinates\":null,\"grid_line_color\":null,\"group\":null,\"ticker\":null},\"id\":\"16625\",\"type\":\"Grid\"},{\"attributes\":{\"dimension\":\"lon\"},\"id\":\"16643\",\"type\":\"MercatorTicker\"},{\"attributes\":{\"coordinates\":null,\"data_source\":{\"id\":\"16675\"},\"glyph\":{\"id\":\"16678\"},\"group\":null,\"hover_glyph\":{\"id\":\"16681\"},\"muted_glyph\":{\"id\":\"16682\"},\"nonselection_glyph\":{\"id\":\"16679\"},\"selection_glyph\":{\"id\":\"16680\"},\"view\":{\"id\":\"16684\"}},\"id\":\"16683\",\"type\":\"GlyphRenderer\"},{\"attributes\":{},\"id\":\"16688\",\"type\":\"UnionRenderers\"},{\"attributes\":{\"dimension\":\"lat\"},\"id\":\"16645\",\"type\":\"MercatorTicker\"},{\"attributes\":{},\"id\":\"16649\",\"type\":\"AllLabels\"},{\"attributes\":{\"bottom_units\":\"screen\",\"coordinates\":null,\"fill_alpha\":0.5,\"fill_color\":\"lightgrey\",\"group\":null,\"left_units\":\"screen\",\"level\":\"overlay\",\"line_alpha\":1.0,\"line_color\":\"black\",\"line_dash\":[4,4],\"line_width\":2,\"right_units\":\"screen\",\"syncable\":false,\"top_units\":\"screen\"},\"id\":\"16635\",\"type\":\"BoxAnnotation\"},{\"attributes\":{},\"id\":\"16620\",\"type\":\"LinearScale\"},{\"attributes\":{},\"id\":\"16630\",\"type\":\"SaveTool\"},{\"attributes\":{\"axis\":{\"id\":\"16626\"},\"coordinates\":null,\"dimension\":1,\"grid_line_color\":null,\"group\":null,\"ticker\":null},\"id\":\"16629\",\"type\":\"Grid\"}],\"root_ids\":[\"16603\"]},\"title\":\"Bokeh Application\",\"version\":\"2.4.3\"}};\n",
       "    var render_items = [{\"docid\":\"bf9dcd8a-df62-42a9-9366-149f5d1522b6\",\"root_ids\":[\"16603\"],\"roots\":{\"16603\":\"76e3e43f-232f-4541-950f-d72f95ad0fab\"}}];\n",
       "    root.Bokeh.embed.embed_items_notebook(docs_json, render_items);\n",
       "    for (const render_item of render_items) {\n",
       "      for (const root_id of render_item.root_ids) {\n",
       "\tconst id_el = document.getElementById(root_id)\n",
       "\tif (id_el.children.length && (id_el.children[0].className === 'bk-root')) {\n",
       "\t  const root_el = id_el.children[0]\n",
       "\t  root_el.id = root_el.id + '-rendered'\n",
       "\t}\n",
       "      }\n",
       "    }\n",
       "  }\n",
       "  if (root.Bokeh !== undefined && root.Bokeh.Panel !== undefined) {\n",
       "    embed_document(root);\n",
       "  } else {\n",
       "    var attempts = 0;\n",
       "    var timer = setInterval(function(root) {\n",
       "      if (root.Bokeh !== undefined && root.Bokeh.Panel !== undefined) {\n",
       "        clearInterval(timer);\n",
       "        embed_document(root);\n",
       "      } else if (document.readyState == \"complete\") {\n",
       "        attempts++;\n",
       "        if (attempts > 200) {\n",
       "          clearInterval(timer);\n",
       "          console.log(\"Bokeh: ERROR: Unable to run BokehJS code because BokehJS library is missing\");\n",
       "        }\n",
       "      }\n",
       "    }, 25, root)\n",
       "  }\n",
       "})(window);</script>"
      ],
      "text/plain": [
       ":Overlay\n",
       "   .Tiles.I  :Tiles   [x,y]\n",
       "   .Points.I :Points   [lon,lat]   (Ride_name,incident_count)"
      ]
     },
     "execution_count": 94,
     "metadata": {
      "application/vnd.holoviews_exec.v0+json": {
       "id": "16603"
      }
     },
     "output_type": "execute_result"
    }
   ],
   "source": [
    "plot_mapping_data(mapping_data, filter_column=\"Theme_Park\", filter_value=\"Volcano Bay\", scale=15, title=\"Volcano_Bay\")"
   ]
  },
  {
   "cell_type": "code",
   "execution_count": null,
   "id": "3596c854",
   "metadata": {},
   "outputs": [],
   "source": []
  }
 ],
 "metadata": {
  "kernelspec": {
   "display_name": "Python 3 (ipykernel)",
   "language": "python",
   "name": "python3"
  },
  "language_info": {
   "codemirror_mode": {
    "name": "ipython",
    "version": 3
   },
   "file_extension": ".py",
   "mimetype": "text/x-python",
   "name": "python",
   "nbconvert_exporter": "python",
   "pygments_lexer": "ipython3",
   "version": "3.10.11"
  }
 },
 "nbformat": 4,
 "nbformat_minor": 5
}
