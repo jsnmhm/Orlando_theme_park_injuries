{
 "cells": [
  {
   "cell_type": "code",
   "execution_count": 35,
   "id": "e561cb30",
   "metadata": {},
   "outputs": [],
   "source": [
    "import requests\n",
    "import pandas as pd\n",
    "import hvplot.pandas\n",
    "import json\n",
    "import holoviews as hv\n",
    "\n",
    "api_key = \"a9b5c9761f814b12b3b59d73ca004a4d\""
   ]
  },
  {
   "cell_type": "code",
   "execution_count": 4,
   "id": "ea51eebb",
   "metadata": {},
   "outputs": [
    {
     "data": {
      "text/html": [
       "<div>\n",
       "<style scoped>\n",
       "    .dataframe tbody tr th:only-of-type {\n",
       "        vertical-align: middle;\n",
       "    }\n",
       "\n",
       "    .dataframe tbody tr th {\n",
       "        vertical-align: top;\n",
       "    }\n",
       "\n",
       "    .dataframe thead th {\n",
       "        text-align: right;\n",
       "    }\n",
       "</style>\n",
       "<table border=\"1\" class=\"dataframe\">\n",
       "  <thead>\n",
       "    <tr style=\"text-align: right;\">\n",
       "      <th></th>\n",
       "      <th>Company</th>\n",
       "      <th>Incident_date</th>\n",
       "      <th>Ride_name_dirty</th>\n",
       "      <th>Ride_name</th>\n",
       "      <th>Theme_Park</th>\n",
       "      <th>age_gender</th>\n",
       "      <th>description</th>\n",
       "    </tr>\n",
       "  </thead>\n",
       "  <tbody>\n",
       "    <tr>\n",
       "      <th>0</th>\n",
       "      <td>Disney World</td>\n",
       "      <td>6/9/2022</td>\n",
       "      <td>Alien Swirling Saucers</td>\n",
       "      <td>Alien Swirling Saucers</td>\n",
       "      <td>Hollywood Studios</td>\n",
       "      <td>59 yof</td>\n",
       "      <td>guest with pre-existing condition sustained in...</td>\n",
       "    </tr>\n",
       "    <tr>\n",
       "      <th>1</th>\n",
       "      <td>Disney World</td>\n",
       "      <td>10/5/2014</td>\n",
       "      <td>Astro Orbiter</td>\n",
       "      <td>Astro Orbiter</td>\n",
       "      <td>Magic Kingdom</td>\n",
       "      <td>68 yom</td>\n",
       "      <td>guest fell exiting vehicle, developed blood c...</td>\n",
       "    </tr>\n",
       "    <tr>\n",
       "      <th>2</th>\n",
       "      <td>Disney World</td>\n",
       "      <td>12/3/2009</td>\n",
       "      <td>Astro Orbitor</td>\n",
       "      <td>Astro Orbiter</td>\n",
       "      <td>Magic Kingdom</td>\n",
       "      <td>40 yof</td>\n",
       "      <td>fractured left ankle exiting ride</td>\n",
       "    </tr>\n",
       "    <tr>\n",
       "      <th>3</th>\n",
       "      <td>Disney World</td>\n",
       "      <td>8/7/2022</td>\n",
       "      <td>Avatar Flight of Passage</td>\n",
       "      <td>Avatar Flight of Passage</td>\n",
       "      <td>Animal Kingdom</td>\n",
       "      <td>83 yom</td>\n",
       "      <td>guest with pre-existing condition was briefly ...</td>\n",
       "    </tr>\n",
       "    <tr>\n",
       "      <th>4</th>\n",
       "      <td>Disney World</td>\n",
       "      <td>4/19/2022</td>\n",
       "      <td>Avatar Flight of Passage</td>\n",
       "      <td>Avatar Flight of Passage</td>\n",
       "      <td>Animal Kingdom</td>\n",
       "      <td>42 yof</td>\n",
       "      <td>guest with pre-existing condition had motion s...</td>\n",
       "    </tr>\n",
       "  </tbody>\n",
       "</table>\n",
       "</div>"
      ],
      "text/plain": [
       "        Company Incident_date           Ride_name_dirty  \\\n",
       "0  Disney World      6/9/2022    Alien Swirling Saucers   \n",
       "1  Disney World     10/5/2014             Astro Orbiter   \n",
       "2  Disney World     12/3/2009             Astro Orbitor   \n",
       "3  Disney World      8/7/2022  Avatar Flight of Passage   \n",
       "4  Disney World     4/19/2022  Avatar Flight of Passage   \n",
       "\n",
       "                  Ride_name         Theme_Park age_gender  \\\n",
       "0    Alien Swirling Saucers  Hollywood Studios     59 yof   \n",
       "1             Astro Orbiter      Magic Kingdom     68 yom   \n",
       "2             Astro Orbiter      Magic Kingdom     40 yof   \n",
       "3  Avatar Flight of Passage     Animal Kingdom     83 yom   \n",
       "4  Avatar Flight of Passage     Animal Kingdom     42 yof   \n",
       "\n",
       "                                         description  \n",
       "0  guest with pre-existing condition sustained in...  \n",
       "1   guest fell exiting vehicle, developed blood c...  \n",
       "2                  fractured left ankle exiting ride  \n",
       "3  guest with pre-existing condition was briefly ...  \n",
       "4  guest with pre-existing condition had motion s...  "
      ]
     },
     "execution_count": 4,
     "metadata": {},
     "output_type": "execute_result"
    }
   ],
   "source": [
    "data = pd.read_csv(\"theme_park_injuries.csv\")\n",
    "\n",
    "\n",
    "\n",
    "#Halloween Horror Nights - drop, not a ride\n",
    "#Studio Backlot Tour - drop \n",
    "#Honey I Shrunk The Kids - demolished to make room for Star Wars: Galaxy's Edge\n",
    "drop_areas = data[(data[\"Ride_name\"] != \"Halloween Horror Nights\") &\n",
    "                 (data[\"Ride_name\"] != \"Studio Backlot Tour\") &\n",
    "                 (data[\"Ride_name\"] != \"Honey I Shrunk The Kids\")].copy()\n",
    "\n",
    "#correct company name\n",
    "drop_areas.loc[drop_areas[\"Company\"] == \"Universal:\", \"Company\"] = \"Universal\"\n",
    "\n",
    "#further cleaning data - some rides have been redesigned/renamed\n",
    "#Jurassic World VelociCoaster -> VelociCoaster\n",
    "#Miss Adventure Falls -> Typhoon Tillie's\n",
    "#Oh! No! Drop Slide -> Ohno Drop Slide\n",
    "#Terminator 2: 3D -> The Bourne Stuntacular\n",
    "\n",
    "drop_areas.loc[drop_areas[\"Ride_name\"] == \"Dinosaur\", \"Ride_name\"] = \"The Dino Institute Shop\"\n",
    "drop_areas.loc[drop_areas[\"Ride_name\"] == \"Disaster\", \"Ride_name\"] = \"Fast & Furious - Supercharged\"\n",
    "drop_areas.loc[drop_areas[\"Ride_name\"] == \"Gran Fiesta Tour Attraction\", \"Ride_name\"] = \"Plaza de Los Amigos\"\n",
    "drop_areas.loc[drop_areas[\"Ride_name\"] == \"Jurassic World VelociCoaster\", \"Ride_name\"] = \"VelociCoaster\"\n",
    "drop_areas.loc[drop_areas[\"Ride_name\"] == \"Oh! No! Drop Slide\", \"Ride_name\"] = \"Ohno Drop Slide\"\n",
    "drop_areas.loc[drop_areas[\"Ride_name\"] == \"Miss Adventure Falls\", \"Ride_name\"] = \"Typhoon Tillie's\"\n",
    "drop_areas.loc[drop_areas[\"Ride_name\"] == \"Terminator 2: 3D\", \"Ride_name\"] = \"The Bourne Stuntacular\"\n",
    "drop_areas.loc[drop_areas[\"Ride_name\"] == \"Dragon Challenge\", \"Ride_name\"] = \"Hagrid's Magical Creatures Motorbike Adventure\"\n",
    "drop_areas.loc[drop_areas[\"Ride_name\"] == \"The Liberty Belle\", \"Ride_name\"] = \"Liberty Square Riverboat Landing\"\n",
    "drop_areas.loc[drop_areas[\"Ride_name\"] == \"Kala Serpentine Body Slide\", \"Ride_name\"] = \"Kala & Tai Nui Serpentine Body Slides\"\n",
    "drop_areas.loc[drop_areas[\"Ride_name\"] == \"Tai Nui Serpentine Body Slide\", \"Ride_name\"] = \"Kala & Tai Nui Serpentine Body Slides\"\n",
    "drop_areas.loc[drop_areas[\"Ride_name\"] == \"Chair Lift\", \"Ride_name\"] = \"Arctic Expeditions\"\n",
    "drop_areas.loc[drop_areas[\"Ride_name\"] == \"Meltaway Bay\", \"Ride_name\"] = \"Melt-away Bay\"\n",
    "drop_areas.loc[drop_areas[\"Ride_name\"] == \"Snow White's Scary Adventures\", \"Ride_name\"] = \"Princess Fairytale Hall\"\n",
    "drop_areas.loc[drop_areas[\"Ride_name\"] == \"Primeval Whirl\", \"Ride_name\"] = \"Dino Diner\"\n",
    "drop_areas.loc[drop_areas[\"Ride_name\"] == \"Ellen's Energy Adventure\", \"Ride_name\"] = \"Guardians of the Galaxy: Cosmic Rewind\"\n",
    "drop_areas.loc[drop_areas[\"Ride_name\"] == \"Dr Doom's Fearfall\", \"Ride_name\"] = \"Cafe 4\"\n",
    "drop_areas.loc[drop_areas[\"Ride_name\"] == \"Summit Plummet\", \"Ride_name\"] = \"Mount Gushmore Station\"\n",
    "drop_areas.loc[drop_areas[\"Ride_name\"] == \"Storm Slide-Rudder Buster\", \"Ride_name\"] = \"Storm Slides\"\n",
    "drop_areas.loc[drop_areas[\"Ride_name\"] == \"Harry Potter and the Forbidden Journey\", \"Theme_Park\"] = \"Islands of Adventure\"\n",
    "drop_areas.loc[drop_areas[\"Ride_name\"] == \"Castaway Creek\", \"Theme_Park\"] = \"Typhoon Lagoon\"\n",
    "drop_areas.loc[drop_areas[\"Ride_name\"] == \"Crush n' Gusher\", \"Theme_Park\"] = \"Typhoon Lagoon\"\n",
    "drop_areas.loc[drop_areas[\"Ride_name\"] == \"Slush Gusher\", \"Theme_Park\"] = \"Typhoon Lagoon\"\n",
    "drop_areas.loc[(drop_areas[\"Ride_name_dirty\"] == \"Transformers: The Ride 3D\"), [\"Company\"]] = [\"Disney\"]\n",
    "drop_areas.loc[(drop_areas[\"Ride_name_dirty\"] == \"Blizzard Beach\") & (drop_areas[\"Ride_name\"] == \"Surf Pool\"), \"Ride_name\"] = \"Melt-away Bay\"\n",
    "\n",
    "#create list of unique ride name to use for retrieving coordinates\n",
    "rides = pd.DataFrame(drop_areas[\"Ride_name\"].unique(), columns=[\"Ride_name\"])\n",
    "\n",
    "rides.head()\n",
    "\n",
    "drop_areas.head()"
   ]
  },
  {
   "cell_type": "code",
   "execution_count": 5,
   "id": "68f979cb",
   "metadata": {},
   "outputs": [
    {
     "data": {
      "text/html": [
       "<div>\n",
       "<style scoped>\n",
       "    .dataframe tbody tr th:only-of-type {\n",
       "        vertical-align: middle;\n",
       "    }\n",
       "\n",
       "    .dataframe tbody tr th {\n",
       "        vertical-align: top;\n",
       "    }\n",
       "\n",
       "    .dataframe thead th {\n",
       "        text-align: right;\n",
       "    }\n",
       "</style>\n",
       "<table border=\"1\" class=\"dataframe\">\n",
       "  <thead>\n",
       "    <tr style=\"text-align: right;\">\n",
       "      <th></th>\n",
       "      <th>Ride_name</th>\n",
       "      <th>lat</th>\n",
       "      <th>lon</th>\n",
       "    </tr>\n",
       "  </thead>\n",
       "  <tbody>\n",
       "    <tr>\n",
       "      <th>0</th>\n",
       "      <td>Alien Swirling Saucers</td>\n",
       "      <td>28.355652</td>\n",
       "      <td>-81.562734</td>\n",
       "    </tr>\n",
       "    <tr>\n",
       "      <th>1</th>\n",
       "      <td>Astro Orbiter</td>\n",
       "      <td>28.418427</td>\n",
       "      <td>-81.579153</td>\n",
       "    </tr>\n",
       "    <tr>\n",
       "      <th>2</th>\n",
       "      <td>Avatar Flight of Passage</td>\n",
       "      <td>28.354861</td>\n",
       "      <td>-81.592826</td>\n",
       "    </tr>\n",
       "    <tr>\n",
       "      <th>3</th>\n",
       "      <td>Back to the Future</td>\n",
       "      <td>28.480506</td>\n",
       "      <td>-81.467064</td>\n",
       "    </tr>\n",
       "    <tr>\n",
       "      <th>4</th>\n",
       "      <td>Big Thunder Mountain Railroad</td>\n",
       "      <td>28.420193</td>\n",
       "      <td>-81.58441</td>\n",
       "    </tr>\n",
       "  </tbody>\n",
       "</table>\n",
       "</div>"
      ],
      "text/plain": [
       "                       Ride_name        lat        lon\n",
       "0         Alien Swirling Saucers  28.355652 -81.562734\n",
       "1                  Astro Orbiter  28.418427 -81.579153\n",
       "2       Avatar Flight of Passage  28.354861 -81.592826\n",
       "3             Back to the Future  28.480506 -81.467064\n",
       "4  Big Thunder Mountain Railroad  28.420193  -81.58441"
      ]
     },
     "execution_count": 5,
     "metadata": {},
     "output_type": "execute_result"
    }
   ],
   "source": [
    "orl_lat = 28.5384\n",
    "orl_lon = -81.3789\n",
    "radius = 75000\n",
    "\n",
    "params = {\n",
    "    \"apiKey\":api_key,\n",
    "    \"filter\":f\"circle:{orl_lon},{orl_lat},{radius}\"\n",
    "}\n",
    "\n",
    "#add empty columns for lat, lon\n",
    "rides[\"lat\"] = None\n",
    "rides[\"lon\"] = None\n",
    "\n",
    "    \n",
    "base_url = \"https://api.geoapify.com/v1/geocode/search\"\n",
    "\n",
    "for index, row in rides.iterrows():\n",
    "    ride_name = row[\"Ride_name\"]\n",
    "    params[\"text\"] = ride_name\n",
    "    ride_data = requests.get(base_url, params=params).json()\n",
    "    try:\n",
    "        rides.loc[index, \"lat\"] = ride_data[\"features\"][0][\"properties\"][\"lat\"]\n",
    "        rides.loc[index, \"lon\"] = ride_data[\"features\"][0][\"properties\"][\"lon\"]\n",
    "    except IndexError:\n",
    "        print(\"No record found\")\n",
    "        \n",
    "rides.head()\n"
   ]
  },
  {
   "cell_type": "code",
   "execution_count": 6,
   "id": "01d0f032",
   "metadata": {},
   "outputs": [
    {
     "data": {
      "text/html": [
       "<div>\n",
       "<style scoped>\n",
       "    .dataframe tbody tr th:only-of-type {\n",
       "        vertical-align: middle;\n",
       "    }\n",
       "\n",
       "    .dataframe tbody tr th {\n",
       "        vertical-align: top;\n",
       "    }\n",
       "\n",
       "    .dataframe thead th {\n",
       "        text-align: right;\n",
       "    }\n",
       "</style>\n",
       "<table border=\"1\" class=\"dataframe\">\n",
       "  <thead>\n",
       "    <tr style=\"text-align: right;\">\n",
       "      <th></th>\n",
       "      <th>Ride_name</th>\n",
       "      <th>lat</th>\n",
       "      <th>lon</th>\n",
       "      <th>Company</th>\n",
       "      <th>Theme_Park</th>\n",
       "      <th>incident_count</th>\n",
       "    </tr>\n",
       "  </thead>\n",
       "  <tbody>\n",
       "    <tr>\n",
       "      <th>0</th>\n",
       "      <td>Alien Swirling Saucers</td>\n",
       "      <td>28.355652</td>\n",
       "      <td>-81.562734</td>\n",
       "      <td>Disney World</td>\n",
       "      <td>Hollywood Studios</td>\n",
       "      <td>1</td>\n",
       "    </tr>\n",
       "    <tr>\n",
       "      <th>1</th>\n",
       "      <td>Astro Orbiter</td>\n",
       "      <td>28.418427</td>\n",
       "      <td>-81.579153</td>\n",
       "      <td>Disney World</td>\n",
       "      <td>Magic Kingdom</td>\n",
       "      <td>2</td>\n",
       "    </tr>\n",
       "    <tr>\n",
       "      <th>2</th>\n",
       "      <td>Avatar Flight of Passage</td>\n",
       "      <td>28.354861</td>\n",
       "      <td>-81.592826</td>\n",
       "      <td>Disney World</td>\n",
       "      <td>Animal Kingdom</td>\n",
       "      <td>15</td>\n",
       "    </tr>\n",
       "    <tr>\n",
       "      <th>3</th>\n",
       "      <td>Back to the Future</td>\n",
       "      <td>28.480506</td>\n",
       "      <td>-81.467064</td>\n",
       "      <td>Universal</td>\n",
       "      <td>Universal Studios</td>\n",
       "      <td>1</td>\n",
       "    </tr>\n",
       "    <tr>\n",
       "      <th>4</th>\n",
       "      <td>Big Thunder Mountain Railroad</td>\n",
       "      <td>28.420193</td>\n",
       "      <td>-81.58441</td>\n",
       "      <td>Disney World</td>\n",
       "      <td>Magic Kingdom</td>\n",
       "      <td>12</td>\n",
       "    </tr>\n",
       "  </tbody>\n",
       "</table>\n",
       "</div>"
      ],
      "text/plain": [
       "                       Ride_name        lat        lon       Company  \\\n",
       "0         Alien Swirling Saucers  28.355652 -81.562734  Disney World   \n",
       "1                  Astro Orbiter  28.418427 -81.579153  Disney World   \n",
       "2       Avatar Flight of Passage  28.354861 -81.592826  Disney World   \n",
       "3             Back to the Future  28.480506 -81.467064     Universal   \n",
       "4  Big Thunder Mountain Railroad  28.420193  -81.58441  Disney World   \n",
       "\n",
       "          Theme_Park  incident_count  \n",
       "0  Hollywood Studios               1  \n",
       "1      Magic Kingdom               2  \n",
       "2     Animal Kingdom              15  \n",
       "3  Universal Studios               1  \n",
       "4      Magic Kingdom              12  "
      ]
     },
     "execution_count": 6,
     "metadata": {},
     "output_type": "execute_result"
    }
   ],
   "source": [
    "#merge incident count with ride name location\n",
    "incident_count = drop_areas.groupby([\"Company\", \"Theme_Park\", \"Ride_name\"]).size().rename(\"incident_count\").reset_index()\n",
    "incident_count.head()\n",
    "\n",
    "mapping_data = pd.merge(rides, incident_count, how=\"inner\", on=\"Ride_name\")\n",
    "mapping_data.head()\n",
    "\n",
    "\n"
   ]
  },
  {
   "cell_type": "code",
   "execution_count": 64,
   "id": "29b1b81a",
   "metadata": {},
   "outputs": [],
   "source": [
    "def plot_mapping_data(mapping_data, filter_column=None, \n",
    "                      filter_value=None, scale=5, save_file=None, title=\"title\"):\n",
    "    \n",
    "    if filter_column is not None and filter_value is not None:\n",
    "        filtered_data = mapping_data[mapping_data[filter_column] == filter_value]\n",
    "    else:\n",
    "        filtered_data = mapping_data\n",
    "    \n",
    "    map_plot = filtered_data.hvplot.points(\"lon\",\n",
    "                                     \"lat\",\n",
    "                                     legend=False,\n",
    "                                     color=\"Ride_name\",\n",
    "                                     tiles=\"CartoLight\",\n",
    "                                     size=\"incident_count\",\n",
    "                                     scale=scale,\n",
    "                                     width=750,\n",
    "                                     height=750,\n",
    "                                     alpha=0.75,\n",
    "                                     title=title)\n",
    "    \n",
    "    hvplot.save(map_plot, f\"maps\\{title}.png\")\n",
    "    \n",
    "    return map_plot"
   ]
  },
  {
   "cell_type": "markdown",
   "id": "cb09881e",
   "metadata": {},
   "source": [
    "## All Parks"
   ]
  },
  {
   "cell_type": "code",
   "execution_count": 65,
   "id": "79208f09",
   "metadata": {
    "scrolled": true
   },
   "outputs": [
    {
     "data": {},
     "metadata": {},
     "output_type": "display_data"
    },
    {
     "data": {
      "application/vnd.holoviews_exec.v0+json": "",
      "text/html": [
       "<div id='8441'>\n",
       "  <div class=\"bk-root\" id=\"2df0ad88-29c1-408b-b0f8-3d212ca20e7a\" data-root-id=\"8441\"></div>\n",
       "</div>\n",
       "<script type=\"application/javascript\">(function(root) {\n",
       "  function embed_document(root) {\n",
       "    var docs_json = {\"2f421247-1a11-4dfe-baf7-2701757f6efd\":{\"defs\":[{\"extends\":null,\"module\":null,\"name\":\"ReactiveHTML1\",\"overrides\":[],\"properties\":[]},{\"extends\":null,\"module\":null,\"name\":\"FlexBox1\",\"overrides\":[],\"properties\":[{\"default\":\"flex-start\",\"kind\":null,\"name\":\"align_content\"},{\"default\":\"flex-start\",\"kind\":null,\"name\":\"align_items\"},{\"default\":\"row\",\"kind\":null,\"name\":\"flex_direction\"},{\"default\":\"wrap\",\"kind\":null,\"name\":\"flex_wrap\"},{\"default\":\"flex-start\",\"kind\":null,\"name\":\"justify_content\"}]},{\"extends\":null,\"module\":null,\"name\":\"GridStack1\",\"overrides\":[],\"properties\":[{\"default\":\"warn\",\"kind\":null,\"name\":\"mode\"},{\"default\":null,\"kind\":null,\"name\":\"ncols\"},{\"default\":null,\"kind\":null,\"name\":\"nrows\"},{\"default\":true,\"kind\":null,\"name\":\"allow_resize\"},{\"default\":true,\"kind\":null,\"name\":\"allow_drag\"},{\"default\":[],\"kind\":null,\"name\":\"state\"}]},{\"extends\":null,\"module\":null,\"name\":\"click1\",\"overrides\":[],\"properties\":[{\"default\":\"\",\"kind\":null,\"name\":\"terminal_output\"},{\"default\":\"\",\"kind\":null,\"name\":\"debug_name\"},{\"default\":0,\"kind\":null,\"name\":\"clears\"}]},{\"extends\":null,\"module\":null,\"name\":\"NotificationAreaBase1\",\"overrides\":[],\"properties\":[{\"default\":\"bottom-right\",\"kind\":null,\"name\":\"position\"},{\"default\":0,\"kind\":null,\"name\":\"_clear\"}]},{\"extends\":null,\"module\":null,\"name\":\"NotificationArea1\",\"overrides\":[],\"properties\":[{\"default\":[],\"kind\":null,\"name\":\"notifications\"},{\"default\":\"bottom-right\",\"kind\":null,\"name\":\"position\"},{\"default\":0,\"kind\":null,\"name\":\"_clear\"},{\"default\":[{\"background\":\"#ffc107\",\"icon\":{\"className\":\"fas fa-exclamation-triangle\",\"color\":\"white\",\"tagName\":\"i\"},\"type\":\"warning\"},{\"background\":\"#007bff\",\"icon\":{\"className\":\"fas fa-info-circle\",\"color\":\"white\",\"tagName\":\"i\"},\"type\":\"info\"}],\"kind\":null,\"name\":\"types\"}]},{\"extends\":null,\"module\":null,\"name\":\"Notification\",\"overrides\":[],\"properties\":[{\"default\":null,\"kind\":null,\"name\":\"background\"},{\"default\":3000,\"kind\":null,\"name\":\"duration\"},{\"default\":null,\"kind\":null,\"name\":\"icon\"},{\"default\":\"\",\"kind\":null,\"name\":\"message\"},{\"default\":null,\"kind\":null,\"name\":\"notification_type\"},{\"default\":false,\"kind\":null,\"name\":\"_destroyed\"}]},{\"extends\":null,\"module\":null,\"name\":\"TemplateActions1\",\"overrides\":[],\"properties\":[{\"default\":0,\"kind\":null,\"name\":\"open_modal\"},{\"default\":0,\"kind\":null,\"name\":\"close_modal\"}]},{\"extends\":null,\"module\":null,\"name\":\"MaterialTemplateActions1\",\"overrides\":[],\"properties\":[{\"default\":0,\"kind\":null,\"name\":\"open_modal\"},{\"default\":0,\"kind\":null,\"name\":\"close_modal\"}]}],\"roots\":{\"references\":[{\"attributes\":{\"end\":-9066043.109847378,\"min_interval\":5,\"reset_end\":-9066043.109847378,\"reset_start\":-9085814.771522619,\"start\":-9085814.771522619,\"tags\":[[[\"lon\",\"lon\",null]]]},\"id\":\"8446\",\"type\":\"Range1d\"},{\"attributes\":{\"fill_alpha\":{\"value\":0.75},\"fill_color\":{\"field\":\"color\",\"transform\":{\"id\":\"8512\"}},\"hatch_alpha\":{\"value\":0.1},\"hatch_color\":{\"field\":\"color\",\"transform\":{\"id\":\"8512\"}},\"line_alpha\":{\"value\":0.75},\"line_color\":{\"field\":\"color\",\"transform\":{\"id\":\"8512\"}},\"size\":{\"field\":\"size\"},\"tags\":[\"apply_ranges\"],\"x\":{\"field\":\"lon\"},\"y\":{\"field\":\"lat\"}},\"id\":\"8517\",\"type\":\"Scatter\"},{\"attributes\":{},\"id\":\"8472\",\"type\":\"ResetTool\"},{\"attributes\":{},\"id\":\"8494\",\"type\":\"AllLabels\"},{\"attributes\":{\"coordinates\":null,\"group\":null,\"level\":\"glyph\",\"tile_source\":{\"id\":\"8507\"}},\"id\":\"8510\",\"type\":\"TileRenderer\"},{\"attributes\":{},\"id\":\"8514\",\"type\":\"Selection\"},{\"attributes\":{\"coordinates\":null,\"data_source\":{\"id\":\"8513\"},\"glyph\":{\"id\":\"8516\"},\"group\":null,\"hover_glyph\":{\"id\":\"8519\"},\"muted_glyph\":{\"id\":\"8520\"},\"nonselection_glyph\":{\"id\":\"8517\"},\"selection_glyph\":{\"id\":\"8518\"},\"view\":{\"id\":\"8522\"}},\"id\":\"8521\",\"type\":\"GlyphRenderer\"},{\"attributes\":{\"bottom_units\":\"screen\",\"coordinates\":null,\"fill_alpha\":0.5,\"fill_color\":\"lightgrey\",\"group\":null,\"left_units\":\"screen\",\"level\":\"overlay\",\"line_alpha\":1.0,\"line_color\":\"black\",\"line_dash\":[4,4],\"line_width\":2,\"right_units\":\"screen\",\"syncable\":false,\"top_units\":\"screen\"},\"id\":\"8473\",\"type\":\"BoxAnnotation\"},{\"attributes\":{\"dimension\":\"lat\"},\"id\":\"8484\",\"type\":\"MercatorTickFormatter\"},{\"attributes\":{\"dimension\":\"lon\"},\"id\":\"8481\",\"type\":\"MercatorTicker\"},{\"attributes\":{},\"id\":\"8487\",\"type\":\"AllLabels\"},{\"attributes\":{\"match_aspect\":true,\"overlay\":{\"id\":\"8473\"}},\"id\":\"8471\",\"type\":\"BoxZoomTool\"},{\"attributes\":{\"dimension\":\"lon\"},\"id\":\"8482\",\"type\":\"MercatorTickFormatter\"},{\"attributes\":{\"dimension\":\"lat\"},\"id\":\"8483\",\"type\":\"MercatorTicker\"},{\"attributes\":{},\"id\":\"8530\",\"type\":\"UnionRenderers\"},{\"attributes\":{\"data\":{\"Ride_name\":[\"Alien Swirling Saucers\",\"Astro Orbiter\",\"Avatar Flight of Passage\",\"Back to the Future\",\"Big Thunder Mountain Railroad\",\"Buzz Lightyears Space Ranger Spin\",\"Camp Jurassic\",\"Caro-Seuss-el\",\"Carousel of Progress\",\"Castaway Creek\",\"Arctic Expeditions\",\"Cross County Creek\",\"Crush n' Gusher\",\"Despicable Me Minion Mayhem\",\"The Dino Institute Shop\",\"Fast & Furious - Supercharged\",\"Downhill Double Dipper\",\"Cafe 4\",\"Hagrid's Magical Creatures Motorbike Adventure\",\"Dudley Do Rights Ripsaw Falls\",\"Dumbo\",\"E.T Adventure\",\"Guardians of the Galaxy: Cosmic Rewind\",\"Expedition Everest\",\"Fievel's Playground\",\"Flight of the Hippogriff\",\"Frozen Ever After\",\"Plaza de Los Amigos\",\"Great Movie Ride\",\"Harry Potter and the Escape from Gringotts\",\"Harry Potter and the Forbidden Journey\",\"Haunted Mansion\",\"Hollywood Rip Ride Rocket\",\"Humunga Kowabunga\",\"If I Ran the Zoo\",\"It's A Small World\",\"Journey info Imagination with Figment\",\"Jungle Cruise\",\"Jurassic Park River Adventure\",\"VelociCoaster\",\"Kala & Tai Nui Serpentine Body Slides\",\"Kali River Rapids\",\"Kang & Kodos Twirl n' Hurl\",\"Kilimanjaro Safaris Expedition\",\"Ko'okiri Body Plunge\",\"Kopiko Wai Winding River\",\"Liberty Riverboat\",\"Living with the Land\",\"Mad Tea Party\",\"Maelstrom\",\"Mayday Falls\",\"Melt-away Bay\",\"Men In Black\",\"Mickey & Minnie's Runaway Railway\",\"Millennium Falcon: Smugglers Run\",\"Typhoon Tillie's\",\"Mission: Space\",\"Na'vi River Journey\",\"Ohno Drop Slide\",\"Peter Pan's Flight\",\"Pirates of the Caribbean\",\"Poseidon's Fury\",\"Dino Diner\",\"Prince Charming Regal Carousel\",\"Puihi Raft Ride\",\"Punga Racers\",\"Remy' s Ratatouille Adventure\",\"Revenge of the Mummy\",\"Rock 'n' Roller Coaster Starring Aerosmith\",\"Runamukka Reef\",\"Seven Dwarfs Mine Train\",\"Slinky Dog Dash\",\"Slush Gusher\",\"Princess Fairytale Hall\",\"Soarin' Around the World\",\"Space Mountain\",\"Spaceship Earth\",\"Splash Mountain\",\"Star Tours: The Adventure Continues\",\"Star Wars: Rise of the Resistance\",\"Storm Force Acceleration\",\"Storm Slides\",\"Mount Gushmore Station\",\"Surf Pool\",\"Surf Pool\",\"Teamboat Springs\",\"Te'awa The Fearless River\",\"The Bourne Stuntacular\",\"Test Track\",\"The Amazing Adventures of Spiderman\",\"The Barnstormer\",\"The Cat In The Hat\",\"The Incredible Hulk Coaster\",\"Liberty Square Riverboat Landing\",\"The Magic Carpets of Aladdin\",\"The Many Adventures of Winnie the Pooh\",\"The Seas with Nemo & Friends\",\"The Simpsons Ride\",\"The Twilight Zone Tower of Terror\",\"Toboggan Racers\",\"Tomorrowland Speedway\",\"Tomorrowland Transit Authority People Mover\",\"Toy Story Midway Mania!\",\"Transformers: The Ride 3D\",\"Under the Sea - Journey of the Little Mermaid\",\"Walt Disney World Railroad\",\"Wildlife Express\"],\"color\":[\"Alien Swirling Saucers\",\"Astro Orbiter\",\"Avatar Flight of Passage\",\"Back to the Future\",\"Big Thunder Mountain Railroad\",\"Buzz Lightyears Space Ranger Spin\",\"Camp Jurassic\",\"Caro-Seuss-el\",\"Carousel of Progress\",\"Castaway Creek\",\"Arctic Expeditions\",\"Cross County Creek\",\"Crush n' Gusher\",\"Despicable Me Minion Mayhem\",\"The Dino Institute Shop\",\"Fast & Furious - Supercharged\",\"Downhill Double Dipper\",\"Cafe 4\",\"Hagrid's Magical Creatures Motorbike Adventure\",\"Dudley Do Rights Ripsaw Falls\",\"Dumbo\",\"E.T Adventure\",\"Guardians of the Galaxy: Cosmic Rewind\",\"Expedition Everest\",\"Fievel's Playground\",\"Flight of the Hippogriff\",\"Frozen Ever After\",\"Plaza de Los Amigos\",\"Great Movie Ride\",\"Harry Potter and the Escape from Gringotts\",\"Harry Potter and the Forbidden Journey\",\"Haunted Mansion\",\"Hollywood Rip Ride Rocket\",\"Humunga Kowabunga\",\"If I Ran the Zoo\",\"It's A Small World\",\"Journey info Imagination with Figment\",\"Jungle Cruise\",\"Jurassic Park River Adventure\",\"VelociCoaster\",\"Kala & Tai Nui Serpentine Body Slides\",\"Kali River Rapids\",\"Kang & Kodos Twirl n' Hurl\",\"Kilimanjaro Safaris Expedition\",\"Ko'okiri Body Plunge\",\"Kopiko Wai Winding River\",\"Liberty Riverboat\",\"Living with the Land\",\"Mad Tea Party\",\"Maelstrom\",\"Mayday Falls\",\"Melt-away Bay\",\"Men In Black\",\"Mickey & Minnie's Runaway Railway\",\"Millennium Falcon: Smugglers Run\",\"Typhoon Tillie's\",\"Mission: Space\",\"Na'vi River Journey\",\"Ohno Drop Slide\",\"Peter Pan's Flight\",\"Pirates of the Caribbean\",\"Poseidon's Fury\",\"Dino Diner\",\"Prince Charming Regal Carousel\",\"Puihi Raft Ride\",\"Punga Racers\",\"Remy' s Ratatouille Adventure\",\"Revenge of the Mummy\",\"Rock 'n' Roller Coaster Starring Aerosmith\",\"Runamukka Reef\",\"Seven Dwarfs Mine Train\",\"Slinky Dog Dash\",\"Slush Gusher\",\"Princess Fairytale Hall\",\"Soarin' Around the World\",\"Space Mountain\",\"Spaceship Earth\",\"Splash Mountain\",\"Star Tours: The Adventure Continues\",\"Star Wars: Rise of the Resistance\",\"Storm Force Acceleration\",\"Storm Slides\",\"Mount Gushmore Station\",\"Surf Pool\",\"Surf Pool\",\"Teamboat Springs\",\"Te'awa The Fearless River\",\"The Bourne Stuntacular\",\"Test Track\",\"The Amazing Adventures of Spiderman\",\"The Barnstormer\",\"The Cat In The Hat\",\"The Incredible Hulk Coaster\",\"Liberty Square Riverboat Landing\",\"The Magic Carpets of Aladdin\",\"The Many Adventures of Winnie the Pooh\",\"The Seas with Nemo & Friends\",\"The Simpsons Ride\",\"The Twilight Zone Tower of Terror\",\"Toboggan Racers\",\"Tomorrowland Speedway\",\"Tomorrowland Transit Authority People Mover\",\"Toy Story Midway Mania!\",\"Transformers: The Ride 3D\",\"Under the Sea - Journey of the Little Mermaid\",\"Walt Disney World Railroad\",\"Wildlife Express\"],\"incident_count\":[1,2,15,1,12,13,3,6,2,5,2,2,2,4,14,4,4,2,14,4,1,7,8,38,2,1,1,4,6,4,44,12,14,3,1,3,2,6,2,1,5,6,1,21,1,3,1,1,10,1,7,3,6,2,2,2,36,1,1,8,11,2,1,10,1,1,1,17,23,1,4,2,1,2,9,39,12,10,16,1,1,5,1,1,14,4,3,1,6,3,2,1,11,4,1,1,10,3,16,2,9,6,7,2,6,2,1],\"lat\":{\"__ndarray__\":\"1+yE5V8hSUGbzB6B4zBJQf40/t0tIUlBpIP6ZD1ASUFA7/BHUzFJQdMuH1XJMElBTPJ0TqQ9SUHGxY5sWj5JQedC7Nu6MElBCMx8e9YjSUGJFbbZiiBJQVxwh18oIElB60Hj2y4kSUGslkBb9D5JQcLxN8ZGIUlB809Mm7c/SUFBjTOYPiBJQRzVctDdPUlBNzI4un0+SUFO7EcRcT1JQWuRX8leMUlBtkSGi4Y/SUEW5kIcSSZJQepwygn1IUlBIIZe5q4/SUGLlrcXPz5JQdJjsTweJUlBNwvof1QlSUFgcyUvhiFJQfa0ylYnQElBh8qnQRg+SUEPE4UbfjFJQfWrT1rePklBH/KOdAUkSUEI2DfATT5JQezmMtl2MUlBGWP6M5wlSUEsjJLxxDBJQdKbfx+0PUlBXBUAyOk9SUGIdJ0egjtJQcYV9hZMIklB6Sg6le4/SUGhyAl/ySNJQVXaZlSZO0lB6tXf+4w7SUFTh5KMMTFJQUd9F8nmJUlBeKhX9kUxSUHSY7E8HiVJQWRnIG/SI0lB50TE7lAgSUFoEy2xVkBJQWBzJS+GIUlBSc1w1e8gSUHWoklvHiRJQUtQkTDiJUlB8AIixSchSUGEHzUsdjtJQVpjkNZQMUlB5py+9rYwSUHpZVNnez5JQb9xYMimIUlBWrqtUVIxSUEXm20SKDtJQeqkmzJ1O0lBtN0XWmgkSUGDBBSzVj9JQZvyD+tbIklBOEFrLZg7SUH42Rt0azFJQUAbrX+SIUlB60Hj2y4kSUFtc6o1PjFJQSv0suihJUlB1m6b3A4xSUFiPYvcOSZJQcVnXCUXMUlBiqWfnUIhSUFjLQF5+SBJQRNEHkjjPUlBoUqpQg4kSUEUReAIbyBJQUhCA0XdI0lBSEIDRd0jSUHH3qVhdSBJQcUS3IBTO0lBA6TVXB0/SUEtNbMgoSVJQZCKrLCOPUlBiiZ6kGoxSUFKSftNXD5JQQ969DwDPklBx6QDRysxSUHUdK4g5TBJQZPUBatEMUlBju2GPD0mSUG+M6+w+j9JQfHRDUZzIklBiS6AY1kgSUEXMhWdIDFJQcpeYzbtMElBAQyvG3ghSUH3dgdlOT9JQRiqaPOaMUlB24kHURsxSUE7EdP4zyJJQQ==\",\"dtype\":\"float64\",\"order\":\"little\",\"shape\":[107]},\"lon\":{\"__ndarray__\":\"4OQ+QVxRYcFUH8C5QFJhwfsCCfz+UmHBMFaoAylMYcGaUpTeiVJhwYmzS4JHUmHBHphIzXlMYcG2chj0TExhwZCIcK48UmHBN4imeoJPYcG5aFaX/1FhwRO/twcKUmHBQL3VpnFPYcEAafi8OExhwdjxbuu9UmHBA7NQwFNMYcH+/j1wEVJhwQaI0ExITGHBcrPDsIJMYcGqMGJHakxhwcLInG88UmHBOgp58yFMYcE8yQTIilBhwbhNH0erUmHBVEh7hyJMYcFtIms1h0xhwT5NVap2UGHBCivMG4RQYcHQ+Z0ZPVFhwZOqb2FSTGHByjFm5YhMYcHV+RrGdFJhwa5+HZI6TGHBDfzzeZxPYcEUdhxsT0xhwVzVVdpoUmHB3hFvdL1QYcFkBfEJfVJhwcYy5XyGTGHBrYtWKnRMYcFtXU9qekxhwS5LAmW+UmHBv1oxoDZMYcGgJLtIFFNhwb9dPJR8TGHBfM/mBYNMYcFO49KadVJhwQOqq5XSUGHBOqKaFElSYcE+TVWqdlBhwVcWIRqcT2HBy9ymeQBSYcGLkkZJMExhwdD5nRk9UWHB2qchvU1RYcEL4rfxjU9hweems6V7UGHBaxUpKPZSYcH3nK/1dUxhwf8oZp1oUmHBbb/U+o9SYcGSOBspYExhwVVSUkG5UmHBRuDPPl1SYcH07R8eg0xhwXwxMdV9TGHBQfEeWNJQYcFR7ESpUUxhwex+cmtTUWHByG4T5IVMYcFIVUjeS1JhwR7rLSpiUWHBQL3VpnFPYcGVrlAHWFJhwTAS1OfVUGHBo7pu5yVSYcFpgXCpolBhwTENfqySUmHB4vVWciNRYcF3O/idPVFhwZ1d9h4/TGHBIjVHXJ5PYcF2uh38EVJhwc527cyPT2HBznbtzI9PYcEY38iCFFJhwZwQZa6DTGHBP1RXAidMYcGv29BYhFBhwfuihqhLTGHBsWqmUTZSYcFbFxZ9QExhwUAWDNRATGHB19TylnNSYcFhF+XvfFJhwS4H/sBRUmHBB77LQbdQYcFNSMczL0xhwTiPqXE1UWHBfdUqDxFSYcHdiTcLQ1JhwTETmKQ8UmHBtcPuv0hRYcFj7JMjPExhwQ5zjvRHUmHBs747Ei5SYcG9jyw58VJhwQ==\",\"dtype\":\"float64\",\"order\":\"little\",\"shape\":[107]},\"size\":{\"__ndarray__\":\"AAAAAAAAFEDACh8AxkgcQEiR0S5rXTNAAAAAAAAAFEDqLzfRDFIxQDjYvAobBzJA6i830QxSIUB6aQuZsX4oQMAKHwDGSBxA0vF9glVcJkDACh8AxkgcQMAKHwDGSBxAwAofAMZIHEAAAAAAAAAkQI4n4UpStTJAAAAAAAAAJEAAAAAAAAAkQMAKHwDGSBxAjifhSlK1MkAAAAAAAAAkQAAAAAAAABRAJLdHlB91KkDACh8AxkgsQO/HNC5z0j5AwAofAMZIHEAAAAAAAAAUQAAAAAAAABRAAAAAAAAAJEB6aQuZsX4oQAAAAAAAACRAgGV+nEeVQEDqLzfRDFIxQI4n4UpStTJA6i830QxSIUAAAAAAAAAUQOovN9EMUiFAwAofAMZIHEB6aQuZsX4oQMAKHwDGSBxAAAAAAAAAFEDS8X2CVVwmQHppC5mxfihAAAAAAAAAFEAmZlpnsuk2QAAAAAAAABRA6i830QxSIUAAAAAAAAAUQAAAAAAAABRAKPKQSW6fL0AAAAAAAAAUQCS3R5QfdSpA6i830QxSIUB6aQuZsX4oQMAKHwDGSBxAwAofAMZIHEDACh8AxkgcQAAAAAAAAD5AAAAAAAAAFEAAAAAAAAAUQMAKHwDGSCxAgGV+nEeVMEDACh8AxkgcQAAAAAAAABRAKPKQSW6fL0AAAAAAAAAUQAAAAAAAABRAAAAAAAAAFEBJ6FtAk500QBzF1BKq+jdAAAAAAAAAFEAAAAAAAAAkQMAKHwDGSBxAAAAAAAAAFEDACh8AxkgcQAAAAAAAAC5AbIix8Zg5P0DqLzfRDFIxQCjykEluny9AAAAAAAAANEAAAAAAAAAUQAAAAAAAABRA0vF9glVcJkAAAAAAAAAUQAAAAAAAABRAjifhSlK1MkAAAAAAAAAkQOovN9EMUiFAAAAAAAAAFEB6aQuZsX4oQOovN9EMUiFAwAofAMZIHEAAAAAAAAAUQIBlfpxHlTBAAAAAAAAAJEAAAAAAAAAUQAAAAAAAABRAKPKQSW6fL0DqLzfRDFIhQAAAAAAAADRAwAofAMZIHEAAAAAAAAAuQHppC5mxfihAJLdHlB91KkDACh8AxkgcQHppC5mxfihAwAofAMZIHEAAAAAAAAAUQA==\",\"dtype\":\"float64\",\"order\":\"little\",\"shape\":[107]}},\"selected\":{\"id\":\"8514\"},\"selection_policy\":{\"id\":\"8530\"}},\"id\":\"8513\",\"type\":\"ColumnDataSource\"},{\"attributes\":{\"zoom_on_axis\":false},\"id\":\"8470\",\"type\":\"WheelZoomTool\"},{\"attributes\":{},\"id\":\"8469\",\"type\":\"PanTool\"},{\"attributes\":{\"source\":{\"id\":\"8513\"}},\"id\":\"8522\",\"type\":\"CDSView\"},{\"attributes\":{\"fill_alpha\":{\"value\":0.75},\"fill_color\":{\"field\":\"color\",\"transform\":{\"id\":\"8512\"}},\"hatch_alpha\":{\"value\":0.75},\"hatch_color\":{\"field\":\"color\",\"transform\":{\"id\":\"8512\"}},\"line_alpha\":{\"value\":0.75},\"line_color\":{\"field\":\"color\",\"transform\":{\"id\":\"8512\"}},\"size\":{\"field\":\"size\"},\"tags\":[\"apply_ranges\"],\"x\":{\"field\":\"lon\"},\"y\":{\"field\":\"lat\"}},\"id\":\"8519\",\"type\":\"Scatter\"},{\"attributes\":{},\"id\":\"8468\",\"type\":\"SaveTool\"},{\"attributes\":{\"attribution\":\"&copy; <a href=\\\"https://www.openstreetmap.org/copyright\\\">OpenStreetMap</a> contributors, &copy; <a href=\\\"https://cartodb.com/attributions\\\">CartoDB</a>\",\"url\":\"https://cartodb-basemaps-4.global.ssl.fastly.net/light_all/{Z}/{X}/{Y}.png\"},\"id\":\"8507\",\"type\":\"WMTSTileSource\"},{\"attributes\":{\"code\":\"\\n        var projections = Bokeh.require(\\\"core/util/projections\\\");\\n        var x = special_vars.data_x\\n        var y = special_vars.data_y\\n        var coords = projections.wgs84_mercator.invert(x, y)\\n        return \\\"\\\" + (coords[0]).toFixed(4)\\n    \"},\"id\":\"8523\",\"type\":\"CustomJSHover\"},{\"attributes\":{},\"id\":\"8456\",\"type\":\"LinearScale\"},{\"attributes\":{\"axis_label\":\"y\",\"coordinates\":null,\"formatter\":{\"id\":\"8484\"},\"group\":null,\"major_label_policy\":{\"id\":\"8494\"},\"ticker\":{\"id\":\"8483\"}},\"id\":\"8464\",\"type\":\"LinearAxis\"},{\"attributes\":{\"fill_alpha\":{\"value\":0.2},\"fill_color\":{\"field\":\"color\",\"transform\":{\"id\":\"8512\"}},\"hatch_alpha\":{\"value\":0.2},\"hatch_color\":{\"field\":\"color\",\"transform\":{\"id\":\"8512\"}},\"line_alpha\":{\"value\":0.2},\"line_color\":{\"field\":\"color\",\"transform\":{\"id\":\"8512\"}},\"size\":{\"field\":\"size\"},\"tags\":[\"apply_ranges\"],\"x\":{\"field\":\"lon\"},\"y\":{\"field\":\"lat\"}},\"id\":\"8520\",\"type\":\"Scatter\"},{\"attributes\":{\"fill_alpha\":{\"value\":0.75},\"fill_color\":{\"field\":\"color\",\"transform\":{\"id\":\"8512\"}},\"hatch_alpha\":{\"value\":0.75},\"hatch_color\":{\"field\":\"color\",\"transform\":{\"id\":\"8512\"}},\"line_alpha\":{\"value\":0.75},\"line_color\":{\"field\":\"color\",\"transform\":{\"id\":\"8512\"}},\"size\":{\"field\":\"size\"},\"tags\":[\"apply_ranges\"],\"x\":{\"field\":\"lon\"},\"y\":{\"field\":\"lat\"}},\"id\":\"8518\",\"type\":\"Scatter\"},{\"attributes\":{\"children\":[{\"id\":\"8451\"}],\"height\":750,\"margin\":[0,0,0,0],\"name\":\"Row08694\",\"sizing_mode\":\"fixed\",\"tags\":[\"embedded\"],\"width\":750},\"id\":\"8441\",\"type\":\"Row\"},{\"attributes\":{\"below\":[{\"id\":\"8460\"}],\"center\":[{\"id\":\"8463\"},{\"id\":\"8467\"}],\"frame_height\":750,\"frame_width\":750,\"height\":750,\"left\":[{\"id\":\"8464\"}],\"margin\":[5,5,5,5],\"match_aspect\":true,\"min_border_bottom\":10,\"min_border_left\":10,\"min_border_right\":10,\"min_border_top\":10,\"output_backend\":\"webgl\",\"renderers\":[{\"id\":\"8510\"},{\"id\":\"8521\"}],\"sizing_mode\":\"fixed\",\"title\":{\"id\":\"8452\"},\"toolbar\":{\"id\":\"8474\"},\"width\":750,\"x_range\":{\"id\":\"8446\"},\"x_scale\":{\"id\":\"8456\"},\"y_range\":{\"id\":\"8447\"},\"y_scale\":{\"id\":\"8458\"}},\"id\":\"8451\",\"subtype\":\"Figure\",\"type\":\"Plot\"},{\"attributes\":{\"end\":3311388.89601426,\"min_interval\":5,\"reset_end\":3311388.89601426,\"reset_start\":3291617.2343390207,\"start\":3291617.2343390207,\"tags\":[[[\"lat\",\"lat\",null]]]},\"id\":\"8447\",\"type\":\"Range1d\"},{\"attributes\":{},\"id\":\"8458\",\"type\":\"LinearScale\"},{\"attributes\":{\"axis\":{\"id\":\"8464\"},\"coordinates\":null,\"dimension\":1,\"grid_line_color\":null,\"group\":null,\"ticker\":null},\"id\":\"8467\",\"type\":\"Grid\"},{\"attributes\":{\"callback\":null,\"formatters\":{\"$x\":{\"id\":\"8523\"},\"$y\":{\"id\":\"8524\"}},\"renderers\":[{\"id\":\"8521\"}],\"tags\":[\"hv_created\"],\"tooltips\":[[\"lon\",\"$x{custom}\"],[\"lat\",\"$y{custom}\"],[\"Ride_name\",\"@{Ride_name}\"],[\"incident_count\",\"@{incident_count}\"]]},\"id\":\"8450\",\"type\":\"HoverTool\"},{\"attributes\":{\"code\":\"\\n        var projections = Bokeh.require(\\\"core/util/projections\\\");\\n        var x = special_vars.data_x\\n        var y = special_vars.data_y\\n        var coords = projections.wgs84_mercator.invert(x, y)\\n        return \\\"\\\" + (coords[1]).toFixed(4)\\n    \"},\"id\":\"8524\",\"type\":\"CustomJSHover\"},{\"attributes\":{\"coordinates\":null,\"group\":null,\"text\":\"all_parks\",\"text_color\":\"black\",\"text_font_size\":\"12pt\"},\"id\":\"8452\",\"type\":\"Title\"},{\"attributes\":{\"axis_label\":\"x\",\"coordinates\":null,\"formatter\":{\"id\":\"8482\"},\"group\":null,\"major_label_policy\":{\"id\":\"8487\"},\"ticker\":{\"id\":\"8481\"}},\"id\":\"8460\",\"type\":\"LinearAxis\"},{\"attributes\":{\"fill_alpha\":{\"value\":0.75},\"fill_color\":{\"field\":\"color\",\"transform\":{\"id\":\"8512\"}},\"hatch_alpha\":{\"value\":0.75},\"hatch_color\":{\"field\":\"color\",\"transform\":{\"id\":\"8512\"}},\"line_alpha\":{\"value\":0.75},\"line_color\":{\"field\":\"color\",\"transform\":{\"id\":\"8512\"}},\"size\":{\"field\":\"size\"},\"tags\":[\"apply_ranges\"],\"x\":{\"field\":\"lon\"},\"y\":{\"field\":\"lat\"}},\"id\":\"8516\",\"type\":\"Scatter\"},{\"attributes\":{\"axis\":{\"id\":\"8460\"},\"coordinates\":null,\"grid_line_color\":null,\"group\":null,\"ticker\":null},\"id\":\"8463\",\"type\":\"Grid\"},{\"attributes\":{\"factors\":[\"Alien Swirling Saucers\",\"Astro Orbiter\",\"Avatar Flight of Passage\",\"Back to the Future\",\"Big Thunder Mountain Railroad\",\"Buzz Lightyears Space Ranger Spin\",\"Camp Jurassic\",\"Caro-Seuss-el\",\"Carousel of Progress\",\"Castaway Creek\",\"Arctic Expeditions\",\"Cross County Creek\",\"Crush n' Gusher\",\"Despicable Me Minion Mayhem\",\"The Dino Institute Shop\",\"Fast & Furious - Supercharged\",\"Downhill Double Dipper\",\"Cafe 4\",\"Hagrid's Magical Creatures Motorbike Adventure\",\"Dudley Do Rights Ripsaw Falls\",\"Dumbo\",\"E.T Adventure\",\"Guardians of the Galaxy: Cosmic Rewind\",\"Expedition Everest\",\"Fievel's Playground\",\"Flight of the Hippogriff\",\"Frozen Ever After\",\"Plaza de Los Amigos\",\"Great Movie Ride\",\"Harry Potter and the Escape from Gringotts\",\"Harry Potter and the Forbidden Journey\",\"Haunted Mansion\",\"Hollywood Rip Ride Rocket\",\"Humunga Kowabunga\",\"If I Ran the Zoo\",\"It's A Small World\",\"Journey info Imagination with Figment\",\"Jungle Cruise\",\"Jurassic Park River Adventure\",\"VelociCoaster\",\"Kala & Tai Nui Serpentine Body Slides\",\"Kali River Rapids\",\"Kang & Kodos Twirl n' Hurl\",\"Kilimanjaro Safaris Expedition\",\"Ko'okiri Body Plunge\",\"Kopiko Wai Winding River\",\"Liberty Riverboat\",\"Living with the Land\",\"Mad Tea Party\",\"Maelstrom\",\"Mayday Falls\",\"Melt-away Bay\",\"Men In Black\",\"Mickey & Minnie's Runaway Railway\",\"Millennium Falcon: Smugglers Run\",\"Typhoon Tillie's\",\"Mission: Space\",\"Na'vi River Journey\",\"Ohno Drop Slide\",\"Peter Pan's Flight\",\"Pirates of the Caribbean\",\"Poseidon's Fury\",\"Dino Diner\",\"Prince Charming Regal Carousel\",\"Puihi Raft Ride\",\"Punga Racers\",\"Remy' s Ratatouille Adventure\",\"Revenge of the Mummy\",\"Rock 'n' Roller Coaster Starring Aerosmith\",\"Runamukka Reef\",\"Seven Dwarfs Mine Train\",\"Slinky Dog Dash\",\"Slush Gusher\",\"Princess Fairytale Hall\",\"Soarin' Around the World\",\"Space Mountain\",\"Spaceship Earth\",\"Splash Mountain\",\"Star Tours: The Adventure Continues\",\"Star Wars: Rise of the Resistance\",\"Storm Force Acceleration\",\"Storm Slides\",\"Mount Gushmore Station\",\"Surf Pool\",\"Teamboat Springs\",\"Te'awa The Fearless River\",\"The Bourne Stuntacular\",\"Test Track\",\"The Amazing Adventures of Spiderman\",\"The Barnstormer\",\"The Cat In The Hat\",\"The Incredible Hulk Coaster\",\"Liberty Square Riverboat Landing\",\"The Magic Carpets of Aladdin\",\"The Many Adventures of Winnie the Pooh\",\"The Seas with Nemo & Friends\",\"The Simpsons Ride\",\"The Twilight Zone Tower of Terror\",\"Toboggan Racers\",\"Tomorrowland Speedway\",\"Tomorrowland Transit Authority People Mover\",\"Toy Story Midway Mania!\",\"Transformers: The Ride 3D\",\"Under the Sea - Journey of the Little Mermaid\",\"Walt Disney World Railroad\",\"Wildlife Express\"],\"palette\":[\"#1f77b3\",\"#ff7e0e\",\"#2ba02b\",\"#d62628\",\"#9367bc\",\"#8c564b\",\"#e277c1\",\"#7e7e7e\",\"#bcbc21\",\"#16bdcf\",\"#3a0182\",\"#004201\",\"#0fffa8\",\"#5d003f\",\"#bcbcff\",\"#d8afa1\",\"#b80080\",\"#004d52\",\"#6b6400\",\"#7c0100\",\"#6026ff\",\"#ffff9a\",\"#564964\",\"#8cb893\",\"#93fbff\",\"#018267\",\"#90ff00\",\"#8200a0\",\"#ac8944\",\"#5b3400\",\"#ffbff2\",\"#ff6e75\",\"#798cff\",\"#dd00ff\",\"#505646\",\"#004489\",\"#ffbf60\",\"#ff018c\",\"#bdc8cf\",\"#af97b5\",\"#b65600\",\"#017000\",\"#cd87ff\",\"#1cd646\",\"#bfebc3\",\"#7997b5\",\"#a56089\",\"#6e8956\",\"#bc7c75\",\"#8a2844\",\"#00acff\",\"#8ed4ff\",\"#4b6d77\",\"#00d4b1\",\"#9300f2\",\"#8a9500\",\"#5d5b9e\",\"#fddfba\",\"#00939e\",\"#ffdb00\",\"#00aa79\",\"#520067\",\"#000091\",\"#0a5d3d\",\"#a5e275\",\"#623b41\",\"#c6c689\",\"#ff9eb5\",\"#cd4f6b\",\"#ff07d6\",\"#8a3a05\",\"#7e3d70\",\"#ff4901\",\"#602ba5\",\"#1c00ff\",\"#e6dfff\",\"#aa3baf\",\"#d89c00\",\"#a3a39e\",\"#3f69ff\",\"#46490c\",\"#7b6985\",\"#6b978c\",\"#ff9a75\",\"#835bff\",\"#7c6b46\",\"#80b654\",\"#bc0049\",\"#fd93ff\",\"#5d0018\",\"#89d1d1\",\"#9c8cd3\",\"#da6d42\",\"#8a5700\",\"#3b5069\",\"#4b6b3b\",\"#edcfd8\",\"#cfedff\",\"#aa1500\",\"#dfff4f\",\"#ff2a56\",\"#d1499e\",\"#707cb8\",\"#598000\",\"#00e4fd\",\"#774b95\"]},\"id\":\"8512\",\"type\":\"CategoricalColorMapper\"},{\"attributes\":{\"active_drag\":{\"id\":\"8469\"},\"tools\":[{\"id\":\"8450\"},{\"id\":\"8468\"},{\"id\":\"8469\"},{\"id\":\"8470\"},{\"id\":\"8471\"},{\"id\":\"8472\"}]},\"id\":\"8474\",\"type\":\"Toolbar\"}],\"root_ids\":[\"8441\"]},\"title\":\"Bokeh Application\",\"version\":\"2.4.3\"}};\n",
       "    var render_items = [{\"docid\":\"2f421247-1a11-4dfe-baf7-2701757f6efd\",\"root_ids\":[\"8441\"],\"roots\":{\"8441\":\"2df0ad88-29c1-408b-b0f8-3d212ca20e7a\"}}];\n",
       "    root.Bokeh.embed.embed_items_notebook(docs_json, render_items);\n",
       "    for (const render_item of render_items) {\n",
       "      for (const root_id of render_item.root_ids) {\n",
       "\tconst id_el = document.getElementById(root_id)\n",
       "\tif (id_el.children.length && (id_el.children[0].className === 'bk-root')) {\n",
       "\t  const root_el = id_el.children[0]\n",
       "\t  root_el.id = root_el.id + '-rendered'\n",
       "\t}\n",
       "      }\n",
       "    }\n",
       "  }\n",
       "  if (root.Bokeh !== undefined && root.Bokeh.Panel !== undefined) {\n",
       "    embed_document(root);\n",
       "  } else {\n",
       "    var attempts = 0;\n",
       "    var timer = setInterval(function(root) {\n",
       "      if (root.Bokeh !== undefined && root.Bokeh.Panel !== undefined) {\n",
       "        clearInterval(timer);\n",
       "        embed_document(root);\n",
       "      } else if (document.readyState == \"complete\") {\n",
       "        attempts++;\n",
       "        if (attempts > 200) {\n",
       "          clearInterval(timer);\n",
       "          console.log(\"Bokeh: ERROR: Unable to run BokehJS code because BokehJS library is missing\");\n",
       "        }\n",
       "      }\n",
       "    }, 25, root)\n",
       "  }\n",
       "})(window);</script>"
      ],
      "text/plain": [
       ":Overlay\n",
       "   .Tiles.I  :Tiles   [x,y]\n",
       "   .Points.I :Points   [lon,lat]   (Ride_name,incident_count)"
      ]
     },
     "execution_count": 65,
     "metadata": {
      "application/vnd.holoviews_exec.v0+json": {
       "id": "8441"
      }
     },
     "output_type": "execute_result"
    }
   ],
   "source": [
    "plot_mapping_data(mapping_data, title=\"all_parks\")\n"
   ]
  },
  {
   "cell_type": "markdown",
   "id": "0aaa41fc",
   "metadata": {},
   "source": [
    "## Disney Parks"
   ]
  },
  {
   "cell_type": "code",
   "execution_count": 66,
   "id": "bdc21644",
   "metadata": {
    "scrolled": false
   },
   "outputs": [
    {
     "data": {},
     "metadata": {},
     "output_type": "display_data"
    },
    {
     "data": {
      "application/vnd.holoviews_exec.v0+json": "",
      "text/html": [
       "<div id='8746'>\n",
       "  <div class=\"bk-root\" id=\"8bdca8c6-2d98-466b-8491-2071ac73053b\" data-root-id=\"8746\"></div>\n",
       "</div>\n",
       "<script type=\"application/javascript\">(function(root) {\n",
       "  function embed_document(root) {\n",
       "    var docs_json = {\"ceb5e8a9-cf90-4cc7-8afd-52b81aa35110\":{\"defs\":[{\"extends\":null,\"module\":null,\"name\":\"ReactiveHTML1\",\"overrides\":[],\"properties\":[]},{\"extends\":null,\"module\":null,\"name\":\"FlexBox1\",\"overrides\":[],\"properties\":[{\"default\":\"flex-start\",\"kind\":null,\"name\":\"align_content\"},{\"default\":\"flex-start\",\"kind\":null,\"name\":\"align_items\"},{\"default\":\"row\",\"kind\":null,\"name\":\"flex_direction\"},{\"default\":\"wrap\",\"kind\":null,\"name\":\"flex_wrap\"},{\"default\":\"flex-start\",\"kind\":null,\"name\":\"justify_content\"}]},{\"extends\":null,\"module\":null,\"name\":\"GridStack1\",\"overrides\":[],\"properties\":[{\"default\":\"warn\",\"kind\":null,\"name\":\"mode\"},{\"default\":null,\"kind\":null,\"name\":\"ncols\"},{\"default\":null,\"kind\":null,\"name\":\"nrows\"},{\"default\":true,\"kind\":null,\"name\":\"allow_resize\"},{\"default\":true,\"kind\":null,\"name\":\"allow_drag\"},{\"default\":[],\"kind\":null,\"name\":\"state\"}]},{\"extends\":null,\"module\":null,\"name\":\"click1\",\"overrides\":[],\"properties\":[{\"default\":\"\",\"kind\":null,\"name\":\"terminal_output\"},{\"default\":\"\",\"kind\":null,\"name\":\"debug_name\"},{\"default\":0,\"kind\":null,\"name\":\"clears\"}]},{\"extends\":null,\"module\":null,\"name\":\"NotificationAreaBase1\",\"overrides\":[],\"properties\":[{\"default\":\"bottom-right\",\"kind\":null,\"name\":\"position\"},{\"default\":0,\"kind\":null,\"name\":\"_clear\"}]},{\"extends\":null,\"module\":null,\"name\":\"NotificationArea1\",\"overrides\":[],\"properties\":[{\"default\":[],\"kind\":null,\"name\":\"notifications\"},{\"default\":\"bottom-right\",\"kind\":null,\"name\":\"position\"},{\"default\":0,\"kind\":null,\"name\":\"_clear\"},{\"default\":[{\"background\":\"#ffc107\",\"icon\":{\"className\":\"fas fa-exclamation-triangle\",\"color\":\"white\",\"tagName\":\"i\"},\"type\":\"warning\"},{\"background\":\"#007bff\",\"icon\":{\"className\":\"fas fa-info-circle\",\"color\":\"white\",\"tagName\":\"i\"},\"type\":\"info\"}],\"kind\":null,\"name\":\"types\"}]},{\"extends\":null,\"module\":null,\"name\":\"Notification\",\"overrides\":[],\"properties\":[{\"default\":null,\"kind\":null,\"name\":\"background\"},{\"default\":3000,\"kind\":null,\"name\":\"duration\"},{\"default\":null,\"kind\":null,\"name\":\"icon\"},{\"default\":\"\",\"kind\":null,\"name\":\"message\"},{\"default\":null,\"kind\":null,\"name\":\"notification_type\"},{\"default\":false,\"kind\":null,\"name\":\"_destroyed\"}]},{\"extends\":null,\"module\":null,\"name\":\"TemplateActions1\",\"overrides\":[],\"properties\":[{\"default\":0,\"kind\":null,\"name\":\"open_modal\"},{\"default\":0,\"kind\":null,\"name\":\"close_modal\"}]},{\"extends\":null,\"module\":null,\"name\":\"MaterialTemplateActions1\",\"overrides\":[],\"properties\":[{\"default\":0,\"kind\":null,\"name\":\"open_modal\"},{\"default\":0,\"kind\":null,\"name\":\"close_modal\"}]}],\"roots\":{\"references\":[{\"attributes\":{\"source\":{\"id\":\"8818\"}},\"id\":\"8827\",\"type\":\"CDSView\"},{\"attributes\":{},\"id\":\"8777\",\"type\":\"ResetTool\"},{\"attributes\":{\"fill_alpha\":{\"value\":0.75},\"fill_color\":{\"field\":\"color\",\"transform\":{\"id\":\"8817\"}},\"hatch_alpha\":{\"value\":0.75},\"hatch_color\":{\"field\":\"color\",\"transform\":{\"id\":\"8817\"}},\"line_alpha\":{\"value\":0.75},\"line_color\":{\"field\":\"color\",\"transform\":{\"id\":\"8817\"}},\"size\":{\"field\":\"size\"},\"tags\":[\"apply_ranges\"],\"x\":{\"field\":\"lon\"},\"y\":{\"field\":\"lat\"}},\"id\":\"8821\",\"type\":\"Scatter\"},{\"attributes\":{\"axis\":{\"id\":\"8769\"},\"coordinates\":null,\"dimension\":1,\"grid_line_color\":null,\"group\":null,\"ticker\":null},\"id\":\"8772\",\"type\":\"Grid\"},{\"attributes\":{\"match_aspect\":true,\"overlay\":{\"id\":\"8778\"}},\"id\":\"8776\",\"type\":\"BoxZoomTool\"},{\"attributes\":{},\"id\":\"8792\",\"type\":\"AllLabels\"},{\"attributes\":{\"children\":[{\"id\":\"8756\"}],\"height\":750,\"margin\":[0,0,0,0],\"name\":\"Row08902\",\"sizing_mode\":\"fixed\",\"tags\":[\"embedded\"],\"width\":750},\"id\":\"8746\",\"type\":\"Row\"},{\"attributes\":{},\"id\":\"8773\",\"type\":\"SaveTool\"},{\"attributes\":{},\"id\":\"8799\",\"type\":\"AllLabels\"},{\"attributes\":{\"axis_label\":\"y\",\"coordinates\":null,\"formatter\":{\"id\":\"8789\"},\"group\":null,\"major_label_policy\":{\"id\":\"8799\"},\"ticker\":{\"id\":\"8788\"}},\"id\":\"8769\",\"type\":\"LinearAxis\"},{\"attributes\":{},\"id\":\"8835\",\"type\":\"UnionRenderers\"},{\"attributes\":{\"code\":\"\\n        var projections = Bokeh.require(\\\"core/util/projections\\\");\\n        var x = special_vars.data_x\\n        var y = special_vars.data_y\\n        var coords = projections.wgs84_mercator.invert(x, y)\\n        return \\\"\\\" + (coords[0]).toFixed(4)\\n    \"},\"id\":\"8828\",\"type\":\"CustomJSHover\"},{\"attributes\":{\"callback\":null,\"formatters\":{\"$x\":{\"id\":\"8828\"},\"$y\":{\"id\":\"8829\"}},\"renderers\":[{\"id\":\"8826\"}],\"tags\":[\"hv_created\"],\"tooltips\":[[\"lon\",\"$x{custom}\"],[\"lat\",\"$y{custom}\"],[\"Ride_name\",\"@{Ride_name}\"],[\"incident_count\",\"@{incident_count}\"]]},\"id\":\"8755\",\"type\":\"HoverTool\"},{\"attributes\":{\"end\":-9073960.001871392,\"min_interval\":5,\"reset_end\":-9073960.001871392,\"reset_start\":-9084679.484564442,\"start\":-9084679.484564442,\"tags\":[[[\"lon\",\"lon\",null]]]},\"id\":\"8751\",\"type\":\"Range1d\"},{\"attributes\":{\"factors\":[\"Alien Swirling Saucers\",\"Astro Orbiter\",\"Avatar Flight of Passage\",\"Big Thunder Mountain Railroad\",\"Buzz Lightyears Space Ranger Spin\",\"Carousel of Progress\",\"Castaway Creek\",\"Arctic Expeditions\",\"Cross County Creek\",\"Crush n' Gusher\",\"The Dino Institute Shop\",\"Downhill Double Dipper\",\"Dumbo\",\"Guardians of the Galaxy: Cosmic Rewind\",\"Expedition Everest\",\"Frozen Ever After\",\"Plaza de Los Amigos\",\"Great Movie Ride\",\"Haunted Mansion\",\"Humunga Kowabunga\",\"It's A Small World\",\"Journey info Imagination with Figment\",\"Jungle Cruise\",\"Kali River Rapids\",\"Kilimanjaro Safaris Expedition\",\"Liberty Riverboat\",\"Living with the Land\",\"Mad Tea Party\",\"Maelstrom\",\"Mayday Falls\",\"Melt-away Bay\",\"Mickey & Minnie's Runaway Railway\",\"Millennium Falcon: Smugglers Run\",\"Typhoon Tillie's\",\"Mission: Space\",\"Na'vi River Journey\",\"Peter Pan's Flight\",\"Pirates of the Caribbean\",\"Dino Diner\",\"Prince Charming Regal Carousel\",\"Remy' s Ratatouille Adventure\",\"Rock 'n' Roller Coaster Starring Aerosmith\",\"Seven Dwarfs Mine Train\",\"Slinky Dog Dash\",\"Slush Gusher\",\"Princess Fairytale Hall\",\"Soarin' Around the World\",\"Space Mountain\",\"Spaceship Earth\",\"Splash Mountain\",\"Star Tours: The Adventure Continues\",\"Star Wars: Rise of the Resistance\",\"Storm Slides\",\"Mount Gushmore Station\",\"Surf Pool\",\"Teamboat Springs\",\"Test Track\",\"The Barnstormer\",\"Liberty Square Riverboat Landing\",\"The Magic Carpets of Aladdin\",\"The Many Adventures of Winnie the Pooh\",\"The Seas with Nemo & Friends\",\"The Twilight Zone Tower of Terror\",\"Toboggan Racers\",\"Tomorrowland Speedway\",\"Tomorrowland Transit Authority People Mover\",\"Toy Story Midway Mania!\",\"Under the Sea - Journey of the Little Mermaid\",\"Walt Disney World Railroad\",\"Wildlife Express\"],\"palette\":[\"#1f77b3\",\"#ff7e0e\",\"#2ba02b\",\"#d62628\",\"#9367bc\",\"#8c564b\",\"#e277c1\",\"#7e7e7e\",\"#bcbc21\",\"#16bdcf\",\"#3a0182\",\"#004201\",\"#0fffa8\",\"#5d003f\",\"#bcbcff\",\"#d8afa1\",\"#b80080\",\"#004d52\",\"#6b6400\",\"#7c0100\",\"#6026ff\",\"#ffff9a\",\"#564964\",\"#8cb893\",\"#93fbff\",\"#018267\",\"#90ff00\",\"#8200a0\",\"#ac8944\",\"#5b3400\",\"#ffbff2\",\"#ff6e75\",\"#798cff\",\"#dd00ff\",\"#505646\",\"#004489\",\"#ffbf60\",\"#ff018c\",\"#bdc8cf\",\"#af97b5\",\"#b65600\",\"#017000\",\"#cd87ff\",\"#1cd646\",\"#bfebc3\",\"#7997b5\",\"#a56089\",\"#6e8956\",\"#bc7c75\",\"#8a2844\",\"#00acff\",\"#8ed4ff\",\"#4b6d77\",\"#00d4b1\",\"#9300f2\",\"#8a9500\",\"#5d5b9e\",\"#fddfba\",\"#00939e\",\"#ffdb00\",\"#00aa79\",\"#520067\",\"#000091\",\"#0a5d3d\",\"#a5e275\",\"#623b41\",\"#c6c689\",\"#ff9eb5\",\"#cd4f6b\",\"#ff07d6\"]},\"id\":\"8817\",\"type\":\"CategoricalColorMapper\"},{\"attributes\":{\"coordinates\":null,\"data_source\":{\"id\":\"8818\"},\"glyph\":{\"id\":\"8821\"},\"group\":null,\"hover_glyph\":{\"id\":\"8824\"},\"muted_glyph\":{\"id\":\"8825\"},\"nonselection_glyph\":{\"id\":\"8822\"},\"selection_glyph\":{\"id\":\"8823\"},\"view\":{\"id\":\"8827\"}},\"id\":\"8826\",\"type\":\"GlyphRenderer\"},{\"attributes\":{},\"id\":\"8774\",\"type\":\"PanTool\"},{\"attributes\":{\"code\":\"\\n        var projections = Bokeh.require(\\\"core/util/projections\\\");\\n        var x = special_vars.data_x\\n        var y = special_vars.data_y\\n        var coords = projections.wgs84_mercator.invert(x, y)\\n        return \\\"\\\" + (coords[1]).toFixed(4)\\n    \"},\"id\":\"8829\",\"type\":\"CustomJSHover\"},{\"attributes\":{},\"id\":\"8819\",\"type\":\"Selection\"},{\"attributes\":{\"below\":[{\"id\":\"8765\"}],\"center\":[{\"id\":\"8768\"},{\"id\":\"8772\"}],\"frame_height\":750,\"frame_width\":750,\"height\":750,\"left\":[{\"id\":\"8769\"}],\"margin\":[5,5,5,5],\"match_aspect\":true,\"min_border_bottom\":10,\"min_border_left\":10,\"min_border_right\":10,\"min_border_top\":10,\"output_backend\":\"webgl\",\"renderers\":[{\"id\":\"8815\"},{\"id\":\"8826\"}],\"sizing_mode\":\"fixed\",\"title\":{\"id\":\"8757\"},\"toolbar\":{\"id\":\"8779\"},\"width\":750,\"x_range\":{\"id\":\"8751\"},\"x_scale\":{\"id\":\"8761\"},\"y_range\":{\"id\":\"8752\"},\"y_scale\":{\"id\":\"8763\"}},\"id\":\"8756\",\"subtype\":\"Figure\",\"type\":\"Plot\"},{\"attributes\":{\"coordinates\":null,\"group\":null,\"level\":\"glyph\",\"tile_source\":{\"id\":\"8812\"}},\"id\":\"8815\",\"type\":\"TileRenderer\"},{\"attributes\":{\"attribution\":\"&copy; <a href=\\\"https://www.openstreetmap.org/copyright\\\">OpenStreetMap</a> contributors, &copy; <a href=\\\"https://cartodb.com/attributions\\\">CartoDB</a>\",\"url\":\"https://cartodb-basemaps-4.global.ssl.fastly.net/light_all/{Z}/{X}/{Y}.png\"},\"id\":\"8812\",\"type\":\"WMTSTileSource\"},{\"attributes\":{\"fill_alpha\":{\"value\":0.75},\"fill_color\":{\"field\":\"color\",\"transform\":{\"id\":\"8817\"}},\"hatch_alpha\":{\"value\":0.75},\"hatch_color\":{\"field\":\"color\",\"transform\":{\"id\":\"8817\"}},\"line_alpha\":{\"value\":0.75},\"line_color\":{\"field\":\"color\",\"transform\":{\"id\":\"8817\"}},\"size\":{\"field\":\"size\"},\"tags\":[\"apply_ranges\"],\"x\":{\"field\":\"lon\"},\"y\":{\"field\":\"lat\"}},\"id\":\"8823\",\"type\":\"Scatter\"},{\"attributes\":{\"fill_alpha\":{\"value\":0.75},\"fill_color\":{\"field\":\"color\",\"transform\":{\"id\":\"8817\"}},\"hatch_alpha\":{\"value\":0.75},\"hatch_color\":{\"field\":\"color\",\"transform\":{\"id\":\"8817\"}},\"line_alpha\":{\"value\":0.75},\"line_color\":{\"field\":\"color\",\"transform\":{\"id\":\"8817\"}},\"size\":{\"field\":\"size\"},\"tags\":[\"apply_ranges\"],\"x\":{\"field\":\"lon\"},\"y\":{\"field\":\"lat\"}},\"id\":\"8824\",\"type\":\"Scatter\"},{\"attributes\":{\"zoom_on_axis\":false},\"id\":\"8775\",\"type\":\"WheelZoomTool\"},{\"attributes\":{\"dimension\":\"lat\"},\"id\":\"8788\",\"type\":\"MercatorTicker\"},{\"attributes\":{\"dimension\":\"lon\"},\"id\":\"8786\",\"type\":\"MercatorTicker\"},{\"attributes\":{},\"id\":\"8761\",\"type\":\"LinearScale\"},{\"attributes\":{},\"id\":\"8763\",\"type\":\"LinearScale\"},{\"attributes\":{\"active_drag\":{\"id\":\"8774\"},\"tools\":[{\"id\":\"8755\"},{\"id\":\"8773\"},{\"id\":\"8774\"},{\"id\":\"8775\"},{\"id\":\"8776\"},{\"id\":\"8777\"}]},\"id\":\"8779\",\"type\":\"Toolbar\"},{\"attributes\":{\"axis\":{\"id\":\"8765\"},\"coordinates\":null,\"grid_line_color\":null,\"group\":null,\"ticker\":null},\"id\":\"8768\",\"type\":\"Grid\"},{\"attributes\":{\"fill_alpha\":{\"value\":0.2},\"fill_color\":{\"field\":\"color\",\"transform\":{\"id\":\"8817\"}},\"hatch_alpha\":{\"value\":0.2},\"hatch_color\":{\"field\":\"color\",\"transform\":{\"id\":\"8817\"}},\"line_alpha\":{\"value\":0.2},\"line_color\":{\"field\":\"color\",\"transform\":{\"id\":\"8817\"}},\"size\":{\"field\":\"size\"},\"tags\":[\"apply_ranges\"],\"x\":{\"field\":\"lon\"},\"y\":{\"field\":\"lat\"}},\"id\":\"8825\",\"type\":\"Scatter\"},{\"attributes\":{\"coordinates\":null,\"group\":null,\"text\":\"Disney_Parks\",\"text_color\":\"black\",\"text_font_size\":\"12pt\"},\"id\":\"8757\",\"type\":\"Title\"},{\"attributes\":{\"axis_label\":\"x\",\"coordinates\":null,\"formatter\":{\"id\":\"8787\"},\"group\":null,\"major_label_policy\":{\"id\":\"8792\"},\"ticker\":{\"id\":\"8786\"}},\"id\":\"8765\",\"type\":\"LinearAxis\"},{\"attributes\":{\"dimension\":\"lon\"},\"id\":\"8787\",\"type\":\"MercatorTickFormatter\"},{\"attributes\":{\"fill_alpha\":{\"value\":0.75},\"fill_color\":{\"field\":\"color\",\"transform\":{\"id\":\"8817\"}},\"hatch_alpha\":{\"value\":0.1},\"hatch_color\":{\"field\":\"color\",\"transform\":{\"id\":\"8817\"}},\"line_alpha\":{\"value\":0.75},\"line_color\":{\"field\":\"color\",\"transform\":{\"id\":\"8817\"}},\"size\":{\"field\":\"size\"},\"tags\":[\"apply_ranges\"],\"x\":{\"field\":\"lon\"},\"y\":{\"field\":\"lat\"}},\"id\":\"8822\",\"type\":\"Scatter\"},{\"attributes\":{\"dimension\":\"lat\"},\"id\":\"8789\",\"type\":\"MercatorTickFormatter\"},{\"attributes\":{\"end\":3303091.065280585,\"min_interval\":5,\"reset_end\":3303091.065280585,\"reset_start\":3292371.5825875364,\"start\":3292371.5825875364,\"tags\":[[[\"lat\",\"lat\",null]]]},\"id\":\"8752\",\"type\":\"Range1d\"},{\"attributes\":{\"data\":{\"Ride_name\":[\"Alien Swirling Saucers\",\"Astro Orbiter\",\"Avatar Flight of Passage\",\"Big Thunder Mountain Railroad\",\"Buzz Lightyears Space Ranger Spin\",\"Carousel of Progress\",\"Castaway Creek\",\"Arctic Expeditions\",\"Cross County Creek\",\"Crush n' Gusher\",\"The Dino Institute Shop\",\"Downhill Double Dipper\",\"Dumbo\",\"Guardians of the Galaxy: Cosmic Rewind\",\"Expedition Everest\",\"Frozen Ever After\",\"Plaza de Los Amigos\",\"Great Movie Ride\",\"Haunted Mansion\",\"Humunga Kowabunga\",\"It's A Small World\",\"Journey info Imagination with Figment\",\"Jungle Cruise\",\"Kali River Rapids\",\"Kilimanjaro Safaris Expedition\",\"Liberty Riverboat\",\"Living with the Land\",\"Mad Tea Party\",\"Maelstrom\",\"Mayday Falls\",\"Melt-away Bay\",\"Mickey & Minnie's Runaway Railway\",\"Millennium Falcon: Smugglers Run\",\"Typhoon Tillie's\",\"Mission: Space\",\"Na'vi River Journey\",\"Peter Pan's Flight\",\"Pirates of the Caribbean\",\"Dino Diner\",\"Prince Charming Regal Carousel\",\"Remy' s Ratatouille Adventure\",\"Rock 'n' Roller Coaster Starring Aerosmith\",\"Seven Dwarfs Mine Train\",\"Slinky Dog Dash\",\"Slush Gusher\",\"Princess Fairytale Hall\",\"Soarin' Around the World\",\"Space Mountain\",\"Spaceship Earth\",\"Splash Mountain\",\"Star Tours: The Adventure Continues\",\"Star Wars: Rise of the Resistance\",\"Storm Slides\",\"Mount Gushmore Station\",\"Surf Pool\",\"Teamboat Springs\",\"Test Track\",\"The Barnstormer\",\"Liberty Square Riverboat Landing\",\"The Magic Carpets of Aladdin\",\"The Many Adventures of Winnie the Pooh\",\"The Seas with Nemo & Friends\",\"The Twilight Zone Tower of Terror\",\"Toboggan Racers\",\"Tomorrowland Speedway\",\"Tomorrowland Transit Authority People Mover\",\"Toy Story Midway Mania!\",\"Under the Sea - Journey of the Little Mermaid\",\"Walt Disney World Railroad\",\"Wildlife Express\"],\"color\":[\"Alien Swirling Saucers\",\"Astro Orbiter\",\"Avatar Flight of Passage\",\"Big Thunder Mountain Railroad\",\"Buzz Lightyears Space Ranger Spin\",\"Carousel of Progress\",\"Castaway Creek\",\"Arctic Expeditions\",\"Cross County Creek\",\"Crush n' Gusher\",\"The Dino Institute Shop\",\"Downhill Double Dipper\",\"Dumbo\",\"Guardians of the Galaxy: Cosmic Rewind\",\"Expedition Everest\",\"Frozen Ever After\",\"Plaza de Los Amigos\",\"Great Movie Ride\",\"Haunted Mansion\",\"Humunga Kowabunga\",\"It's A Small World\",\"Journey info Imagination with Figment\",\"Jungle Cruise\",\"Kali River Rapids\",\"Kilimanjaro Safaris Expedition\",\"Liberty Riverboat\",\"Living with the Land\",\"Mad Tea Party\",\"Maelstrom\",\"Mayday Falls\",\"Melt-away Bay\",\"Mickey & Minnie's Runaway Railway\",\"Millennium Falcon: Smugglers Run\",\"Typhoon Tillie's\",\"Mission: Space\",\"Na'vi River Journey\",\"Peter Pan's Flight\",\"Pirates of the Caribbean\",\"Dino Diner\",\"Prince Charming Regal Carousel\",\"Remy' s Ratatouille Adventure\",\"Rock 'n' Roller Coaster Starring Aerosmith\",\"Seven Dwarfs Mine Train\",\"Slinky Dog Dash\",\"Slush Gusher\",\"Princess Fairytale Hall\",\"Soarin' Around the World\",\"Space Mountain\",\"Spaceship Earth\",\"Splash Mountain\",\"Star Tours: The Adventure Continues\",\"Star Wars: Rise of the Resistance\",\"Storm Slides\",\"Mount Gushmore Station\",\"Surf Pool\",\"Teamboat Springs\",\"Test Track\",\"The Barnstormer\",\"Liberty Square Riverboat Landing\",\"The Magic Carpets of Aladdin\",\"The Many Adventures of Winnie the Pooh\",\"The Seas with Nemo & Friends\",\"The Twilight Zone Tower of Terror\",\"Toboggan Racers\",\"Tomorrowland Speedway\",\"Tomorrowland Transit Authority People Mover\",\"Toy Story Midway Mania!\",\"Under the Sea - Journey of the Little Mermaid\",\"Walt Disney World Railroad\",\"Wildlife Express\"],\"incident_count\":[1,2,15,12,13,2,5,2,2,2,14,4,1,8,38,1,4,6,12,3,3,2,6,6,21,1,1,10,1,7,3,2,2,2,36,1,8,11,1,10,1,23,4,2,1,2,9,39,12,10,16,1,5,1,14,4,6,2,4,1,1,10,16,2,9,6,7,6,2,1],\"lat\":{\"__ndarray__\":\"1+yE5V8hSUGbzB6B4zBJQf40/t0tIUlBQO/wR1MxSUHTLh9VyTBJQedC7Nu6MElBCMx8e9YjSUGJFbbZiiBJQVxwh18oIElB60Hj2y4kSUHC8TfGRiFJQUGNM5g+IElBa5FfyV4xSUEW5kIcSSZJQepwygn1IUlB0mOxPB4lSUE3C+h/VCVJQWBzJS+GIUlBDxOFG34xSUEf8o50BSRJQezmMtl2MUlBGWP6M5wlSUEsjJLxxDBJQcYV9hZMIklBocgJf8kjSUFTh5KMMTFJQUd9F8nmJUlBeKhX9kUxSUHSY7E8HiVJQWRnIG/SI0lB50TE7lAgSUFgcyUvhiFJQUnNcNXvIElB1qJJbx4kSUFLUJEw4iVJQfACIsUnIUlBWmOQ1lAxSUHmnL72tjBJQb9xYMimIUlBWrqtUVIxSUG03RdaaCRJQZvyD+tbIklB+NkbdGsxSUFAG61/kiFJQetB49suJElBbXOqNT4xSUEr9LLooSVJQdZum9wOMUlBYj2L3DkmSUHFZ1wlFzFJQYqln51CIUlBYy0BefkgSUGhSqlCDiRJQRRF4AhvIElBSEIDRd0jSUHH3qVhdSBJQS01syChJUlBiiZ6kGoxSUHHpANHKzFJQdR0riDlMElBk9QFq0QxSUGO7YY8PSZJQfHRDUZzIklBiS6AY1kgSUEXMhWdIDFJQcpeYzbtMElBAQyvG3ghSUEYqmjzmjFJQduJB1EbMUlBOxHT+M8iSUE=\",\"dtype\":\"float64\",\"order\":\"little\",\"shape\":[70]},\"lon\":{\"__ndarray__\":\"4OQ+QVxRYcFUH8C5QFJhwfsCCfz+UmHBmlKU3olSYcGJs0uCR1JhwZCIcK48UmHBN4imeoJPYcG5aFaX/1FhwRO/twcKUmHBQL3VpnFPYcHY8W7rvVJhwf7+PXARUmHBwsicbzxSYcE8yQTIilBhwbhNH0erUmHBPk1VqnZQYcEKK8wbhFBhwdD5nRk9UWHB1fkaxnRSYcEN/PN5nE9hwVzVVdpoUmHB3hFvdL1QYcFkBfEJfVJhwS5LAmW+UmHBoCS7SBRTYcFO49KadVJhwQOqq5XSUGHBOqKaFElSYcE+TVWqdlBhwVcWIRqcT2HBy9ymeQBSYcHQ+Z0ZPVFhwdqnIb1NUWHBC+K38Y1PYcHnprOle1BhwWsVKSj2UmHB/yhmnWhSYcFtv9T6j1JhwVVSUkG5UmHBRuDPPl1SYcFB8R5Y0lBhwex+cmtTUWHBSFVI3ktSYcEe6y0qYlFhwUC91aZxT2HBla5QB1hSYcEwEtTn1VBhwaO6buclUmHBaYFwqaJQYcExDX6sklJhweL1VnIjUWHBdzv4nT1RYcEiNUdcnk9hwXa6HfwRUmHBznbtzI9PYcEY38iCFFJhwa/b0FiEUGHBsWqmUTZSYcHX1PKWc1JhwWEX5e98UmHBLgf+wFFSYcEHvstBt1BhwTiPqXE1UWHBfdUqDxFSYcHdiTcLQ1JhwTETmKQ8UmHBtcPuv0hRYcEOc470R1JhwbO+OxIuUmHBvY8sOfFSYcE=\",\"dtype\":\"float64\",\"order\":\"little\",\"shape\":[70]},\"size\":{\"__ndarray__\":\"AAAAAAAAFEDACh8AxkgcQEiR0S5rXTNA6i830QxSMUA42LwKGwcyQMAKHwDGSBxA0vF9glVcJkDACh8AxkgcQMAKHwDGSBxAwAofAMZIHECOJ+FKUrUyQAAAAAAAACRAAAAAAAAAFEDACh8AxkgsQO/HNC5z0j5AAAAAAAAAFEAAAAAAAAAkQHppC5mxfihA6i830QxSMUDqLzfRDFIhQOovN9EMUiFAwAofAMZIHEB6aQuZsX4oQHppC5mxfihAJmZaZ7LpNkAAAAAAAAAUQAAAAAAAABRAKPKQSW6fL0AAAAAAAAAUQCS3R5QfdSpA6i830QxSIUDACh8AxkgcQMAKHwDGSBxAwAofAMZIHEAAAAAAAAA+QAAAAAAAABRAwAofAMZILECAZX6cR5UwQAAAAAAAABRAKPKQSW6fL0AAAAAAAAAUQBzF1BKq+jdAAAAAAAAAJEDACh8AxkgcQAAAAAAAABRAwAofAMZIHEAAAAAAAAAuQGyIsfGYOT9A6i830QxSMUAo8pBJbp8vQAAAAAAAADRAAAAAAAAAFEDS8X2CVVwmQAAAAAAAABRAjifhSlK1MkAAAAAAAAAkQHppC5mxfihAwAofAMZIHEAAAAAAAAAkQAAAAAAAABRAAAAAAAAAFEAo8pBJbp8vQAAAAAAAADRAwAofAMZIHEAAAAAAAAAuQHppC5mxfihAJLdHlB91KkB6aQuZsX4oQMAKHwDGSBxAAAAAAAAAFEA=\",\"dtype\":\"float64\",\"order\":\"little\",\"shape\":[70]}},\"selected\":{\"id\":\"8819\"},\"selection_policy\":{\"id\":\"8835\"}},\"id\":\"8818\",\"type\":\"ColumnDataSource\"},{\"attributes\":{\"bottom_units\":\"screen\",\"coordinates\":null,\"fill_alpha\":0.5,\"fill_color\":\"lightgrey\",\"group\":null,\"left_units\":\"screen\",\"level\":\"overlay\",\"line_alpha\":1.0,\"line_color\":\"black\",\"line_dash\":[4,4],\"line_width\":2,\"right_units\":\"screen\",\"syncable\":false,\"top_units\":\"screen\"},\"id\":\"8778\",\"type\":\"BoxAnnotation\"}],\"root_ids\":[\"8746\"]},\"title\":\"Bokeh Application\",\"version\":\"2.4.3\"}};\n",
       "    var render_items = [{\"docid\":\"ceb5e8a9-cf90-4cc7-8afd-52b81aa35110\",\"root_ids\":[\"8746\"],\"roots\":{\"8746\":\"8bdca8c6-2d98-466b-8491-2071ac73053b\"}}];\n",
       "    root.Bokeh.embed.embed_items_notebook(docs_json, render_items);\n",
       "    for (const render_item of render_items) {\n",
       "      for (const root_id of render_item.root_ids) {\n",
       "\tconst id_el = document.getElementById(root_id)\n",
       "\tif (id_el.children.length && (id_el.children[0].className === 'bk-root')) {\n",
       "\t  const root_el = id_el.children[0]\n",
       "\t  root_el.id = root_el.id + '-rendered'\n",
       "\t}\n",
       "      }\n",
       "    }\n",
       "  }\n",
       "  if (root.Bokeh !== undefined && root.Bokeh.Panel !== undefined) {\n",
       "    embed_document(root);\n",
       "  } else {\n",
       "    var attempts = 0;\n",
       "    var timer = setInterval(function(root) {\n",
       "      if (root.Bokeh !== undefined && root.Bokeh.Panel !== undefined) {\n",
       "        clearInterval(timer);\n",
       "        embed_document(root);\n",
       "      } else if (document.readyState == \"complete\") {\n",
       "        attempts++;\n",
       "        if (attempts > 200) {\n",
       "          clearInterval(timer);\n",
       "          console.log(\"Bokeh: ERROR: Unable to run BokehJS code because BokehJS library is missing\");\n",
       "        }\n",
       "      }\n",
       "    }, 25, root)\n",
       "  }\n",
       "})(window);</script>"
      ],
      "text/plain": [
       ":Overlay\n",
       "   .Tiles.I  :Tiles   [x,y]\n",
       "   .Points.I :Points   [lon,lat]   (Ride_name,incident_count)"
      ]
     },
     "execution_count": 66,
     "metadata": {
      "application/vnd.holoviews_exec.v0+json": {
       "id": "8746"
      }
     },
     "output_type": "execute_result"
    }
   ],
   "source": [
    "plot_mapping_data(mapping_data, filter_column=\"Company\", filter_value=\"Disney World\", title=\"Disney_Parks\")\n"
   ]
  },
  {
   "cell_type": "markdown",
   "id": "29e19698",
   "metadata": {},
   "source": [
    "### Animal Kingdom"
   ]
  },
  {
   "cell_type": "code",
   "execution_count": 67,
   "id": "20861977",
   "metadata": {},
   "outputs": [
    {
     "data": {},
     "metadata": {},
     "output_type": "display_data"
    },
    {
     "data": {
      "application/vnd.holoviews_exec.v0+json": "",
      "text/html": [
       "<div id='9051'>\n",
       "  <div class=\"bk-root\" id=\"aac7cc15-ae83-4c65-bb5c-8ddbdbf98ddc\" data-root-id=\"9051\"></div>\n",
       "</div>\n",
       "<script type=\"application/javascript\">(function(root) {\n",
       "  function embed_document(root) {\n",
       "    var docs_json = {\"be5a55d7-e5c3-4e16-ac9e-4006c6d6fd3f\":{\"defs\":[{\"extends\":null,\"module\":null,\"name\":\"ReactiveHTML1\",\"overrides\":[],\"properties\":[]},{\"extends\":null,\"module\":null,\"name\":\"FlexBox1\",\"overrides\":[],\"properties\":[{\"default\":\"flex-start\",\"kind\":null,\"name\":\"align_content\"},{\"default\":\"flex-start\",\"kind\":null,\"name\":\"align_items\"},{\"default\":\"row\",\"kind\":null,\"name\":\"flex_direction\"},{\"default\":\"wrap\",\"kind\":null,\"name\":\"flex_wrap\"},{\"default\":\"flex-start\",\"kind\":null,\"name\":\"justify_content\"}]},{\"extends\":null,\"module\":null,\"name\":\"GridStack1\",\"overrides\":[],\"properties\":[{\"default\":\"warn\",\"kind\":null,\"name\":\"mode\"},{\"default\":null,\"kind\":null,\"name\":\"ncols\"},{\"default\":null,\"kind\":null,\"name\":\"nrows\"},{\"default\":true,\"kind\":null,\"name\":\"allow_resize\"},{\"default\":true,\"kind\":null,\"name\":\"allow_drag\"},{\"default\":[],\"kind\":null,\"name\":\"state\"}]},{\"extends\":null,\"module\":null,\"name\":\"click1\",\"overrides\":[],\"properties\":[{\"default\":\"\",\"kind\":null,\"name\":\"terminal_output\"},{\"default\":\"\",\"kind\":null,\"name\":\"debug_name\"},{\"default\":0,\"kind\":null,\"name\":\"clears\"}]},{\"extends\":null,\"module\":null,\"name\":\"NotificationAreaBase1\",\"overrides\":[],\"properties\":[{\"default\":\"bottom-right\",\"kind\":null,\"name\":\"position\"},{\"default\":0,\"kind\":null,\"name\":\"_clear\"}]},{\"extends\":null,\"module\":null,\"name\":\"NotificationArea1\",\"overrides\":[],\"properties\":[{\"default\":[],\"kind\":null,\"name\":\"notifications\"},{\"default\":\"bottom-right\",\"kind\":null,\"name\":\"position\"},{\"default\":0,\"kind\":null,\"name\":\"_clear\"},{\"default\":[{\"background\":\"#ffc107\",\"icon\":{\"className\":\"fas fa-exclamation-triangle\",\"color\":\"white\",\"tagName\":\"i\"},\"type\":\"warning\"},{\"background\":\"#007bff\",\"icon\":{\"className\":\"fas fa-info-circle\",\"color\":\"white\",\"tagName\":\"i\"},\"type\":\"info\"}],\"kind\":null,\"name\":\"types\"}]},{\"extends\":null,\"module\":null,\"name\":\"Notification\",\"overrides\":[],\"properties\":[{\"default\":null,\"kind\":null,\"name\":\"background\"},{\"default\":3000,\"kind\":null,\"name\":\"duration\"},{\"default\":null,\"kind\":null,\"name\":\"icon\"},{\"default\":\"\",\"kind\":null,\"name\":\"message\"},{\"default\":null,\"kind\":null,\"name\":\"notification_type\"},{\"default\":false,\"kind\":null,\"name\":\"_destroyed\"}]},{\"extends\":null,\"module\":null,\"name\":\"TemplateActions1\",\"overrides\":[],\"properties\":[{\"default\":0,\"kind\":null,\"name\":\"open_modal\"},{\"default\":0,\"kind\":null,\"name\":\"close_modal\"}]},{\"extends\":null,\"module\":null,\"name\":\"MaterialTemplateActions1\",\"overrides\":[],\"properties\":[{\"default\":0,\"kind\":null,\"name\":\"open_modal\"},{\"default\":0,\"kind\":null,\"name\":\"close_modal\"}]}],\"roots\":{\"references\":[{\"attributes\":{\"dimension\":\"lon\"},\"id\":\"9092\",\"type\":\"MercatorTickFormatter\"},{\"attributes\":{\"dimension\":\"lat\"},\"id\":\"9094\",\"type\":\"MercatorTickFormatter\"},{\"attributes\":{\"coordinates\":null,\"data_source\":{\"id\":\"9123\"},\"glyph\":{\"id\":\"9126\"},\"group\":null,\"hover_glyph\":{\"id\":\"9129\"},\"muted_glyph\":{\"id\":\"9130\"},\"nonselection_glyph\":{\"id\":\"9127\"},\"selection_glyph\":{\"id\":\"9128\"},\"view\":{\"id\":\"9132\"}},\"id\":\"9131\",\"type\":\"GlyphRenderer\"},{\"attributes\":{},\"id\":\"9079\",\"type\":\"PanTool\"},{\"attributes\":{\"dimension\":\"lat\"},\"id\":\"9093\",\"type\":\"MercatorTicker\"},{\"attributes\":{\"bottom_units\":\"screen\",\"coordinates\":null,\"fill_alpha\":0.5,\"fill_color\":\"lightgrey\",\"group\":null,\"left_units\":\"screen\",\"level\":\"overlay\",\"line_alpha\":1.0,\"line_color\":\"black\",\"line_dash\":[4,4],\"line_width\":2,\"right_units\":\"screen\",\"syncable\":false,\"top_units\":\"screen\"},\"id\":\"9083\",\"type\":\"BoxAnnotation\"},{\"attributes\":{\"axis_label\":\"y\",\"coordinates\":null,\"formatter\":{\"id\":\"9094\"},\"group\":null,\"major_label_policy\":{\"id\":\"9104\"},\"ticker\":{\"id\":\"9093\"}},\"id\":\"9074\",\"type\":\"LinearAxis\"},{\"attributes\":{\"fill_alpha\":{\"value\":0.75},\"fill_color\":{\"field\":\"color\",\"transform\":{\"id\":\"9122\"}},\"hatch_alpha\":{\"value\":0.1},\"hatch_color\":{\"field\":\"color\",\"transform\":{\"id\":\"9122\"}},\"line_alpha\":{\"value\":0.75},\"line_color\":{\"field\":\"color\",\"transform\":{\"id\":\"9122\"}},\"size\":{\"field\":\"size\"},\"tags\":[\"apply_ranges\"],\"x\":{\"field\":\"lon\"},\"y\":{\"field\":\"lat\"}},\"id\":\"9127\",\"type\":\"Scatter\"},{\"attributes\":{\"fill_alpha\":{\"value\":0.2},\"fill_color\":{\"field\":\"color\",\"transform\":{\"id\":\"9122\"}},\"hatch_alpha\":{\"value\":0.2},\"hatch_color\":{\"field\":\"color\",\"transform\":{\"id\":\"9122\"}},\"line_alpha\":{\"value\":0.2},\"line_color\":{\"field\":\"color\",\"transform\":{\"id\":\"9122\"}},\"size\":{\"field\":\"size\"},\"tags\":[\"apply_ranges\"],\"x\":{\"field\":\"lon\"},\"y\":{\"field\":\"lat\"}},\"id\":\"9130\",\"type\":\"Scatter\"},{\"attributes\":{},\"id\":\"9140\",\"type\":\"UnionRenderers\"},{\"attributes\":{\"active_drag\":{\"id\":\"9079\"},\"tools\":[{\"id\":\"9060\"},{\"id\":\"9078\"},{\"id\":\"9079\"},{\"id\":\"9080\"},{\"id\":\"9081\"},{\"id\":\"9082\"}]},\"id\":\"9084\",\"type\":\"Toolbar\"},{\"attributes\":{},\"id\":\"9082\",\"type\":\"ResetTool\"},{\"attributes\":{\"match_aspect\":true,\"overlay\":{\"id\":\"9083\"}},\"id\":\"9081\",\"type\":\"BoxZoomTool\"},{\"attributes\":{\"axis\":{\"id\":\"9074\"},\"coordinates\":null,\"dimension\":1,\"grid_line_color\":null,\"group\":null,\"ticker\":null},\"id\":\"9077\",\"type\":\"Grid\"},{\"attributes\":{\"callback\":null,\"formatters\":{\"$x\":{\"id\":\"9133\"},\"$y\":{\"id\":\"9134\"}},\"renderers\":[{\"id\":\"9131\"}],\"tags\":[\"hv_created\"],\"tooltips\":[[\"lon\",\"$x{custom}\"],[\"lat\",\"$y{custom}\"],[\"Ride_name\",\"@{Ride_name}\"],[\"incident_count\",\"@{incident_count}\"]]},\"id\":\"9060\",\"type\":\"HoverTool\"},{\"attributes\":{\"fill_alpha\":{\"value\":0.75},\"fill_color\":{\"field\":\"color\",\"transform\":{\"id\":\"9122\"}},\"hatch_alpha\":{\"value\":0.75},\"hatch_color\":{\"field\":\"color\",\"transform\":{\"id\":\"9122\"}},\"line_alpha\":{\"value\":0.75},\"line_color\":{\"field\":\"color\",\"transform\":{\"id\":\"9122\"}},\"size\":{\"field\":\"size\"},\"tags\":[\"apply_ranges\"],\"x\":{\"field\":\"lon\"},\"y\":{\"field\":\"lat\"}},\"id\":\"9128\",\"type\":\"Scatter\"},{\"attributes\":{\"source\":{\"id\":\"9123\"}},\"id\":\"9132\",\"type\":\"CDSView\"},{\"attributes\":{},\"id\":\"9078\",\"type\":\"SaveTool\"},{\"attributes\":{\"code\":\"\\n        var projections = Bokeh.require(\\\"core/util/projections\\\");\\n        var x = special_vars.data_x\\n        var y = special_vars.data_y\\n        var coords = projections.wgs84_mercator.invert(x, y)\\n        return \\\"\\\" + (coords[0]).toFixed(4)\\n    \"},\"id\":\"9133\",\"type\":\"CustomJSHover\"},{\"attributes\":{\"end\":-9081813.928079367,\"min_interval\":5,\"reset_end\":-9081813.928079367,\"reset_start\":-9083430.56733649,\"start\":-9083430.56733649,\"tags\":[[[\"lon\",\"lon\",null]]]},\"id\":\"9056\",\"type\":\"Range1d\"},{\"attributes\":{},\"id\":\"9124\",\"type\":\"Selection\"},{\"attributes\":{},\"id\":\"9104\",\"type\":\"AllLabels\"},{\"attributes\":{\"axis_label\":\"x\",\"coordinates\":null,\"formatter\":{\"id\":\"9092\"},\"group\":null,\"major_label_policy\":{\"id\":\"9097\"},\"ticker\":{\"id\":\"9091\"}},\"id\":\"9070\",\"type\":\"LinearAxis\"},{\"attributes\":{\"fill_alpha\":{\"value\":0.75},\"fill_color\":{\"field\":\"color\",\"transform\":{\"id\":\"9122\"}},\"hatch_alpha\":{\"value\":0.75},\"hatch_color\":{\"field\":\"color\",\"transform\":{\"id\":\"9122\"}},\"line_alpha\":{\"value\":0.75},\"line_color\":{\"field\":\"color\",\"transform\":{\"id\":\"9122\"}},\"size\":{\"field\":\"size\"},\"tags\":[\"apply_ranges\"],\"x\":{\"field\":\"lon\"},\"y\":{\"field\":\"lat\"}},\"id\":\"9129\",\"type\":\"Scatter\"},{\"attributes\":{\"below\":[{\"id\":\"9070\"}],\"center\":[{\"id\":\"9073\"},{\"id\":\"9077\"}],\"frame_height\":750,\"frame_width\":750,\"height\":750,\"left\":[{\"id\":\"9074\"}],\"margin\":[5,5,5,5],\"match_aspect\":true,\"min_border_bottom\":10,\"min_border_left\":10,\"min_border_right\":10,\"min_border_top\":10,\"output_backend\":\"webgl\",\"renderers\":[{\"id\":\"9120\"},{\"id\":\"9131\"}],\"sizing_mode\":\"fixed\",\"title\":{\"id\":\"9062\"},\"toolbar\":{\"id\":\"9084\"},\"width\":750,\"x_range\":{\"id\":\"9056\"},\"x_scale\":{\"id\":\"9066\"},\"y_range\":{\"id\":\"9057\"},\"y_scale\":{\"id\":\"9068\"}},\"id\":\"9061\",\"subtype\":\"Figure\",\"type\":\"Plot\"},{\"attributes\":{},\"id\":\"9097\",\"type\":\"AllLabels\"},{\"attributes\":{\"factors\":[\"Avatar Flight of Passage\",\"The Dino Institute Shop\",\"Expedition Everest\",\"Kali River Rapids\",\"Kilimanjaro Safaris Expedition\",\"Na'vi River Journey\",\"Dino Diner\",\"Wildlife Express\"],\"palette\":[\"#1f77b3\",\"#ff7e0e\",\"#2ba02b\",\"#d62628\",\"#9367bc\",\"#8c564b\",\"#e277c1\",\"#7e7e7e\"]},\"id\":\"9122\",\"type\":\"CategoricalColorMapper\"},{\"attributes\":{},\"id\":\"9066\",\"type\":\"LinearScale\"},{\"attributes\":{\"axis\":{\"id\":\"9070\"},\"coordinates\":null,\"grid_line_color\":null,\"group\":null,\"ticker\":null},\"id\":\"9073\",\"type\":\"Grid\"},{\"attributes\":{\"dimension\":\"lon\"},\"id\":\"9091\",\"type\":\"MercatorTicker\"},{\"attributes\":{\"children\":[{\"id\":\"9061\"}],\"height\":750,\"margin\":[0,0,0,0],\"name\":\"Row09110\",\"sizing_mode\":\"fixed\",\"tags\":[\"embedded\"],\"width\":750},\"id\":\"9051\",\"type\":\"Row\"},{\"attributes\":{},\"id\":\"9068\",\"type\":\"LinearScale\"},{\"attributes\":{\"fill_alpha\":{\"value\":0.75},\"fill_color\":{\"field\":\"color\",\"transform\":{\"id\":\"9122\"}},\"hatch_alpha\":{\"value\":0.75},\"hatch_color\":{\"field\":\"color\",\"transform\":{\"id\":\"9122\"}},\"line_alpha\":{\"value\":0.75},\"line_color\":{\"field\":\"color\",\"transform\":{\"id\":\"9122\"}},\"size\":{\"field\":\"size\"},\"tags\":[\"apply_ranges\"],\"x\":{\"field\":\"lon\"},\"y\":{\"field\":\"lat\"}},\"id\":\"9126\",\"type\":\"Scatter\"},{\"attributes\":{\"end\":3295257.585915476,\"min_interval\":5,\"reset_end\":3295257.585915476,\"reset_start\":3293640.9466583533,\"start\":3293640.9466583533,\"tags\":[[[\"lat\",\"lat\",null]]]},\"id\":\"9057\",\"type\":\"Range1d\"},{\"attributes\":{\"data\":{\"Ride_name\":[\"Avatar Flight of Passage\",\"The Dino Institute Shop\",\"Expedition Everest\",\"Kali River Rapids\",\"Kilimanjaro Safaris Expedition\",\"Na'vi River Journey\",\"Dino Diner\",\"Wildlife Express\"],\"color\":[\"Avatar Flight of Passage\",\"The Dino Institute Shop\",\"Expedition Everest\",\"Kali River Rapids\",\"Kilimanjaro Safaris Expedition\",\"Na'vi River Journey\",\"Dino Diner\",\"Wildlife Express\"],\"incident_count\":[15,14,38,6,21,1,1,1],\"lat\":{\"__ndarray__\":\"/jT+3S0hSUHC8TfGRiFJQepwygn1IUlBxhX2FkwiSUGhyAl/ySNJQfACIsUnIUlBv3FgyKYhSUE7EdP4zyJJQQ==\",\"dtype\":\"float64\",\"order\":\"little\",\"shape\":[8]},\"lon\":{\"__ndarray__\":\"+wIJ/P5SYcHY8W7rvVJhwbhNH0erUmHBLksCZb5SYcGgJLtIFFNhwWsVKSj2UmHBVVJSQblSYcG9jyw58VJhwQ==\",\"dtype\":\"float64\",\"order\":\"little\",\"shape\":[8]},\"size\":{\"__ndarray__\":\"SJHRLmtdQ0COJ+FKUrVCQO/HNC5z0k5AemkLmbF+OEAmZlpnsulGQAAAAAAAACRAAAAAAAAAJEAAAAAAAAAkQA==\",\"dtype\":\"float64\",\"order\":\"little\",\"shape\":[8]}},\"selected\":{\"id\":\"9124\"},\"selection_policy\":{\"id\":\"9140\"}},\"id\":\"9123\",\"type\":\"ColumnDataSource\"},{\"attributes\":{\"zoom_on_axis\":false},\"id\":\"9080\",\"type\":\"WheelZoomTool\"},{\"attributes\":{\"coordinates\":null,\"group\":null,\"level\":\"glyph\",\"tile_source\":{\"id\":\"9117\"}},\"id\":\"9120\",\"type\":\"TileRenderer\"},{\"attributes\":{\"coordinates\":null,\"group\":null,\"text\":\"Animal_Kingdom\",\"text_color\":\"black\",\"text_font_size\":\"12pt\"},\"id\":\"9062\",\"type\":\"Title\"},{\"attributes\":{\"code\":\"\\n        var projections = Bokeh.require(\\\"core/util/projections\\\");\\n        var x = special_vars.data_x\\n        var y = special_vars.data_y\\n        var coords = projections.wgs84_mercator.invert(x, y)\\n        return \\\"\\\" + (coords[1]).toFixed(4)\\n    \"},\"id\":\"9134\",\"type\":\"CustomJSHover\"},{\"attributes\":{\"attribution\":\"&copy; <a href=\\\"https://www.openstreetmap.org/copyright\\\">OpenStreetMap</a> contributors, &copy; <a href=\\\"https://cartodb.com/attributions\\\">CartoDB</a>\",\"url\":\"https://cartodb-basemaps-4.global.ssl.fastly.net/light_all/{Z}/{X}/{Y}.png\"},\"id\":\"9117\",\"type\":\"WMTSTileSource\"}],\"root_ids\":[\"9051\"]},\"title\":\"Bokeh Application\",\"version\":\"2.4.3\"}};\n",
       "    var render_items = [{\"docid\":\"be5a55d7-e5c3-4e16-ac9e-4006c6d6fd3f\",\"root_ids\":[\"9051\"],\"roots\":{\"9051\":\"aac7cc15-ae83-4c65-bb5c-8ddbdbf98ddc\"}}];\n",
       "    root.Bokeh.embed.embed_items_notebook(docs_json, render_items);\n",
       "    for (const render_item of render_items) {\n",
       "      for (const root_id of render_item.root_ids) {\n",
       "\tconst id_el = document.getElementById(root_id)\n",
       "\tif (id_el.children.length && (id_el.children[0].className === 'bk-root')) {\n",
       "\t  const root_el = id_el.children[0]\n",
       "\t  root_el.id = root_el.id + '-rendered'\n",
       "\t}\n",
       "      }\n",
       "    }\n",
       "  }\n",
       "  if (root.Bokeh !== undefined && root.Bokeh.Panel !== undefined) {\n",
       "    embed_document(root);\n",
       "  } else {\n",
       "    var attempts = 0;\n",
       "    var timer = setInterval(function(root) {\n",
       "      if (root.Bokeh !== undefined && root.Bokeh.Panel !== undefined) {\n",
       "        clearInterval(timer);\n",
       "        embed_document(root);\n",
       "      } else if (document.readyState == \"complete\") {\n",
       "        attempts++;\n",
       "        if (attempts > 200) {\n",
       "          clearInterval(timer);\n",
       "          console.log(\"Bokeh: ERROR: Unable to run BokehJS code because BokehJS library is missing\");\n",
       "        }\n",
       "      }\n",
       "    }, 25, root)\n",
       "  }\n",
       "})(window);</script>"
      ],
      "text/plain": [
       ":Overlay\n",
       "   .Tiles.I  :Tiles   [x,y]\n",
       "   .Points.I :Points   [lon,lat]   (Ride_name,incident_count)"
      ]
     },
     "execution_count": 67,
     "metadata": {
      "application/vnd.holoviews_exec.v0+json": {
       "id": "9051"
      }
     },
     "output_type": "execute_result"
    }
   ],
   "source": [
    "plot_mapping_data(mapping_data, filter_column=\"Theme_Park\", filter_value=\"Animal Kingdom\", scale=10, title=\"Animal_Kingdom\")"
   ]
  },
  {
   "cell_type": "markdown",
   "id": "2cf38bac",
   "metadata": {},
   "source": [
    "### Blizzard Beach"
   ]
  },
  {
   "cell_type": "code",
   "execution_count": 68,
   "id": "c4c892b3",
   "metadata": {},
   "outputs": [
    {
     "data": {},
     "metadata": {},
     "output_type": "display_data"
    },
    {
     "data": {
      "application/vnd.holoviews_exec.v0+json": "",
      "text/html": [
       "<div id='9356'>\n",
       "  <div class=\"bk-root\" id=\"236ac92c-ad30-44f7-9c5c-a32efe667c13\" data-root-id=\"9356\"></div>\n",
       "</div>\n",
       "<script type=\"application/javascript\">(function(root) {\n",
       "  function embed_document(root) {\n",
       "    var docs_json = {\"62ee5977-4bff-4dcb-9a93-0ef6c33126d9\":{\"defs\":[{\"extends\":null,\"module\":null,\"name\":\"ReactiveHTML1\",\"overrides\":[],\"properties\":[]},{\"extends\":null,\"module\":null,\"name\":\"FlexBox1\",\"overrides\":[],\"properties\":[{\"default\":\"flex-start\",\"kind\":null,\"name\":\"align_content\"},{\"default\":\"flex-start\",\"kind\":null,\"name\":\"align_items\"},{\"default\":\"row\",\"kind\":null,\"name\":\"flex_direction\"},{\"default\":\"wrap\",\"kind\":null,\"name\":\"flex_wrap\"},{\"default\":\"flex-start\",\"kind\":null,\"name\":\"justify_content\"}]},{\"extends\":null,\"module\":null,\"name\":\"GridStack1\",\"overrides\":[],\"properties\":[{\"default\":\"warn\",\"kind\":null,\"name\":\"mode\"},{\"default\":null,\"kind\":null,\"name\":\"ncols\"},{\"default\":null,\"kind\":null,\"name\":\"nrows\"},{\"default\":true,\"kind\":null,\"name\":\"allow_resize\"},{\"default\":true,\"kind\":null,\"name\":\"allow_drag\"},{\"default\":[],\"kind\":null,\"name\":\"state\"}]},{\"extends\":null,\"module\":null,\"name\":\"click1\",\"overrides\":[],\"properties\":[{\"default\":\"\",\"kind\":null,\"name\":\"terminal_output\"},{\"default\":\"\",\"kind\":null,\"name\":\"debug_name\"},{\"default\":0,\"kind\":null,\"name\":\"clears\"}]},{\"extends\":null,\"module\":null,\"name\":\"NotificationAreaBase1\",\"overrides\":[],\"properties\":[{\"default\":\"bottom-right\",\"kind\":null,\"name\":\"position\"},{\"default\":0,\"kind\":null,\"name\":\"_clear\"}]},{\"extends\":null,\"module\":null,\"name\":\"NotificationArea1\",\"overrides\":[],\"properties\":[{\"default\":[],\"kind\":null,\"name\":\"notifications\"},{\"default\":\"bottom-right\",\"kind\":null,\"name\":\"position\"},{\"default\":0,\"kind\":null,\"name\":\"_clear\"},{\"default\":[{\"background\":\"#ffc107\",\"icon\":{\"className\":\"fas fa-exclamation-triangle\",\"color\":\"white\",\"tagName\":\"i\"},\"type\":\"warning\"},{\"background\":\"#007bff\",\"icon\":{\"className\":\"fas fa-info-circle\",\"color\":\"white\",\"tagName\":\"i\"},\"type\":\"info\"}],\"kind\":null,\"name\":\"types\"}]},{\"extends\":null,\"module\":null,\"name\":\"Notification\",\"overrides\":[],\"properties\":[{\"default\":null,\"kind\":null,\"name\":\"background\"},{\"default\":3000,\"kind\":null,\"name\":\"duration\"},{\"default\":null,\"kind\":null,\"name\":\"icon\"},{\"default\":\"\",\"kind\":null,\"name\":\"message\"},{\"default\":null,\"kind\":null,\"name\":\"notification_type\"},{\"default\":false,\"kind\":null,\"name\":\"_destroyed\"}]},{\"extends\":null,\"module\":null,\"name\":\"TemplateActions1\",\"overrides\":[],\"properties\":[{\"default\":0,\"kind\":null,\"name\":\"open_modal\"},{\"default\":0,\"kind\":null,\"name\":\"close_modal\"}]},{\"extends\":null,\"module\":null,\"name\":\"MaterialTemplateActions1\",\"overrides\":[],\"properties\":[{\"default\":0,\"kind\":null,\"name\":\"open_modal\"},{\"default\":0,\"kind\":null,\"name\":\"close_modal\"}]}],\"roots\":{\"references\":[{\"attributes\":{\"coordinates\":null,\"group\":null,\"text\":\"Blizzard_Beach\",\"text_color\":\"black\",\"text_font_size\":\"12pt\"},\"id\":\"9367\",\"type\":\"Title\"},{\"attributes\":{},\"id\":\"9429\",\"type\":\"Selection\"},{\"attributes\":{\"code\":\"\\n        var projections = Bokeh.require(\\\"core/util/projections\\\");\\n        var x = special_vars.data_x\\n        var y = special_vars.data_y\\n        var coords = projections.wgs84_mercator.invert(x, y)\\n        return \\\"\\\" + (coords[0]).toFixed(4)\\n    \"},\"id\":\"9438\",\"type\":\"CustomJSHover\"},{\"attributes\":{\"axis_label\":\"x\",\"coordinates\":null,\"formatter\":{\"id\":\"9397\"},\"group\":null,\"major_label_policy\":{\"id\":\"9402\"},\"ticker\":{\"id\":\"9396\"}},\"id\":\"9375\",\"type\":\"LinearAxis\"},{\"attributes\":{\"dimension\":\"lon\"},\"id\":\"9396\",\"type\":\"MercatorTicker\"},{\"attributes\":{\"factors\":[\"Arctic Expeditions\",\"Cross County Creek\",\"Downhill Double Dipper\",\"Melt-away Bay\",\"Mount Gushmore Station\",\"Teamboat Springs\",\"Toboggan Racers\"],\"palette\":[\"#1f77b3\",\"#ff7e0e\",\"#2ba02b\",\"#d62628\",\"#9367bc\",\"#8c564b\",\"#e277c1\"]},\"id\":\"9427\",\"type\":\"CategoricalColorMapper\"},{\"attributes\":{\"dimension\":\"lat\"},\"id\":\"9398\",\"type\":\"MercatorTicker\"},{\"attributes\":{\"attribution\":\"&copy; <a href=\\\"https://www.openstreetmap.org/copyright\\\">OpenStreetMap</a> contributors, &copy; <a href=\\\"https://cartodb.com/attributions\\\">CartoDB</a>\",\"url\":\"https://cartodb-basemaps-4.global.ssl.fastly.net/light_all/{Z}/{X}/{Y}.png\"},\"id\":\"9422\",\"type\":\"WMTSTileSource\"},{\"attributes\":{\"source\":{\"id\":\"9428\"}},\"id\":\"9437\",\"type\":\"CDSView\"},{\"attributes\":{},\"id\":\"9387\",\"type\":\"ResetTool\"},{\"attributes\":{\"coordinates\":null,\"group\":null,\"level\":\"glyph\",\"tile_source\":{\"id\":\"9422\"}},\"id\":\"9425\",\"type\":\"TileRenderer\"},{\"attributes\":{\"active_drag\":{\"id\":\"9384\"},\"tools\":[{\"id\":\"9365\"},{\"id\":\"9383\"},{\"id\":\"9384\"},{\"id\":\"9385\"},{\"id\":\"9386\"},{\"id\":\"9387\"}]},\"id\":\"9389\",\"type\":\"Toolbar\"},{\"attributes\":{\"zoom_on_axis\":false},\"id\":\"9385\",\"type\":\"WheelZoomTool\"},{\"attributes\":{},\"id\":\"9371\",\"type\":\"LinearScale\"},{\"attributes\":{\"coordinates\":null,\"data_source\":{\"id\":\"9428\"},\"glyph\":{\"id\":\"9431\"},\"group\":null,\"hover_glyph\":{\"id\":\"9434\"},\"muted_glyph\":{\"id\":\"9435\"},\"nonselection_glyph\":{\"id\":\"9432\"},\"selection_glyph\":{\"id\":\"9433\"},\"view\":{\"id\":\"9437\"}},\"id\":\"9436\",\"type\":\"GlyphRenderer\"},{\"attributes\":{},\"id\":\"9445\",\"type\":\"UnionRenderers\"},{\"attributes\":{\"fill_alpha\":{\"value\":0.2},\"fill_color\":{\"field\":\"color\",\"transform\":{\"id\":\"9427\"}},\"hatch_alpha\":{\"value\":0.2},\"hatch_color\":{\"field\":\"color\",\"transform\":{\"id\":\"9427\"}},\"line_alpha\":{\"value\":0.2},\"line_color\":{\"field\":\"color\",\"transform\":{\"id\":\"9427\"}},\"size\":{\"field\":\"size\"},\"tags\":[\"apply_ranges\"],\"x\":{\"field\":\"lon\"},\"y\":{\"field\":\"lat\"}},\"id\":\"9435\",\"type\":\"Scatter\"},{\"attributes\":{\"below\":[{\"id\":\"9375\"}],\"center\":[{\"id\":\"9378\"},{\"id\":\"9382\"}],\"frame_height\":750,\"frame_width\":750,\"height\":750,\"left\":[{\"id\":\"9379\"}],\"margin\":[5,5,5,5],\"match_aspect\":true,\"min_border_bottom\":10,\"min_border_left\":10,\"min_border_right\":10,\"min_border_top\":10,\"output_backend\":\"webgl\",\"renderers\":[{\"id\":\"9425\"},{\"id\":\"9436\"}],\"sizing_mode\":\"fixed\",\"title\":{\"id\":\"9367\"},\"toolbar\":{\"id\":\"9389\"},\"width\":750,\"x_range\":{\"id\":\"9361\"},\"x_scale\":{\"id\":\"9371\"},\"y_range\":{\"id\":\"9362\"},\"y_scale\":{\"id\":\"9373\"}},\"id\":\"9366\",\"subtype\":\"Figure\",\"type\":\"Plot\"},{\"attributes\":{},\"id\":\"9373\",\"type\":\"LinearScale\"},{\"attributes\":{\"axis\":{\"id\":\"9375\"},\"coordinates\":null,\"grid_line_color\":null,\"group\":null,\"ticker\":null},\"id\":\"9378\",\"type\":\"Grid\"},{\"attributes\":{\"code\":\"\\n        var projections = Bokeh.require(\\\"core/util/projections\\\");\\n        var x = special_vars.data_x\\n        var y = special_vars.data_y\\n        var coords = projections.wgs84_mercator.invert(x, y)\\n        return \\\"\\\" + (coords[1]).toFixed(4)\\n    \"},\"id\":\"9439\",\"type\":\"CustomJSHover\"},{\"attributes\":{\"axis\":{\"id\":\"9379\"},\"coordinates\":null,\"dimension\":1,\"grid_line_color\":null,\"group\":null,\"ticker\":null},\"id\":\"9382\",\"type\":\"Grid\"},{\"attributes\":{\"match_aspect\":true,\"overlay\":{\"id\":\"9388\"}},\"id\":\"9386\",\"type\":\"BoxZoomTool\"},{\"attributes\":{},\"id\":\"9383\",\"type\":\"SaveTool\"},{\"attributes\":{\"callback\":null,\"formatters\":{\"$x\":{\"id\":\"9438\"},\"$y\":{\"id\":\"9439\"}},\"renderers\":[{\"id\":\"9436\"}],\"tags\":[\"hv_created\"],\"tooltips\":[[\"lon\",\"$x{custom}\"],[\"lat\",\"$y{custom}\"],[\"Ride_name\",\"@{Ride_name}\"],[\"incident_count\",\"@{incident_count}\"]]},\"id\":\"9365\",\"type\":\"HoverTool\"},{\"attributes\":{\"children\":[{\"id\":\"9366\"}],\"height\":750,\"margin\":[0,0,0,0],\"name\":\"Row09318\",\"sizing_mode\":\"fixed\",\"tags\":[\"embedded\"],\"width\":750},\"id\":\"9356\",\"type\":\"Row\"},{\"attributes\":{\"data\":{\"Ride_name\":[\"Arctic Expeditions\",\"Cross County Creek\",\"Downhill Double Dipper\",\"Melt-away Bay\",\"Mount Gushmore Station\",\"Teamboat Springs\",\"Toboggan Racers\"],\"color\":[\"Arctic Expeditions\",\"Cross County Creek\",\"Downhill Double Dipper\",\"Melt-away Bay\",\"Mount Gushmore Station\",\"Teamboat Springs\",\"Toboggan Racers\"],\"incident_count\":[2,2,4,3,1,4,2],\"lat\":{\"__ndarray__\":\"iRW22YogSUFccIdfKCBJQUGNM5g+IElB50TE7lAgSUEUReAIbyBJQcfepWF1IElBiS6AY1kgSUE=\",\"dtype\":\"float64\",\"order\":\"little\",\"shape\":[7]},\"lon\":{\"__ndarray__\":\"uWhWl/9RYcETv7cHClJhwf7+PXARUmHBy9ymeQBSYcF2uh38EVJhwRjfyIIUUmHBfdUqDxFSYcE=\",\"dtype\":\"float64\",\"order\":\"little\",\"shape\":[7]},\"size\":{\"__ndarray__\":\"EEgXgJQ2NUAQSBeAlDY1QAAAAAAAAD5A38fSORP7OUAAAAAAAAAuQAAAAAAAAD5AEEgXgJQ2NUA=\",\"dtype\":\"float64\",\"order\":\"little\",\"shape\":[7]}},\"selected\":{\"id\":\"9429\"},\"selection_policy\":{\"id\":\"9445\"}},\"id\":\"9428\",\"type\":\"ColumnDataSource\"},{\"attributes\":{},\"id\":\"9384\",\"type\":\"PanTool\"},{\"attributes\":{\"dimension\":\"lat\"},\"id\":\"9399\",\"type\":\"MercatorTickFormatter\"},{\"attributes\":{\"fill_alpha\":{\"value\":0.75},\"fill_color\":{\"field\":\"color\",\"transform\":{\"id\":\"9427\"}},\"hatch_alpha\":{\"value\":0.75},\"hatch_color\":{\"field\":\"color\",\"transform\":{\"id\":\"9427\"}},\"line_alpha\":{\"value\":0.75},\"line_color\":{\"field\":\"color\",\"transform\":{\"id\":\"9427\"}},\"size\":{\"field\":\"size\"},\"tags\":[\"apply_ranges\"],\"x\":{\"field\":\"lon\"},\"y\":{\"field\":\"lat\"}},\"id\":\"9434\",\"type\":\"Scatter\"},{\"attributes\":{\"end\":3293481.2445326517,\"min_interval\":5,\"reset_end\":3293481.2445326517,\"reset_start\":3293245.2026555305,\"start\":3293245.2026555305,\"tags\":[[[\"lat\",\"lat\",null]]]},\"id\":\"9362\",\"type\":\"Range1d\"},{\"attributes\":{\"fill_alpha\":{\"value\":0.75},\"fill_color\":{\"field\":\"color\",\"transform\":{\"id\":\"9427\"}},\"hatch_alpha\":{\"value\":0.75},\"hatch_color\":{\"field\":\"color\",\"transform\":{\"id\":\"9427\"}},\"line_alpha\":{\"value\":0.75},\"line_color\":{\"field\":\"color\",\"transform\":{\"id\":\"9427\"}},\"size\":{\"field\":\"size\"},\"tags\":[\"apply_ranges\"],\"x\":{\"field\":\"lon\"},\"y\":{\"field\":\"lat\"}},\"id\":\"9433\",\"type\":\"Scatter\"},{\"attributes\":{\"fill_alpha\":{\"value\":0.75},\"fill_color\":{\"field\":\"color\",\"transform\":{\"id\":\"9427\"}},\"hatch_alpha\":{\"value\":0.1},\"hatch_color\":{\"field\":\"color\",\"transform\":{\"id\":\"9427\"}},\"line_alpha\":{\"value\":0.75},\"line_color\":{\"field\":\"color\",\"transform\":{\"id\":\"9427\"}},\"size\":{\"field\":\"size\"},\"tags\":[\"apply_ranges\"],\"x\":{\"field\":\"lon\"},\"y\":{\"field\":\"lat\"}},\"id\":\"9432\",\"type\":\"Scatter\"},{\"attributes\":{\"end\":-9080794.387220653,\"min_interval\":5,\"reset_end\":-9080794.387220653,\"reset_start\":-9081030.429097775,\"start\":-9081030.429097775,\"tags\":[[[\"lon\",\"lon\",null]]]},\"id\":\"9361\",\"type\":\"Range1d\"},{\"attributes\":{},\"id\":\"9402\",\"type\":\"AllLabels\"},{\"attributes\":{\"bottom_units\":\"screen\",\"coordinates\":null,\"fill_alpha\":0.5,\"fill_color\":\"lightgrey\",\"group\":null,\"left_units\":\"screen\",\"level\":\"overlay\",\"line_alpha\":1.0,\"line_color\":\"black\",\"line_dash\":[4,4],\"line_width\":2,\"right_units\":\"screen\",\"syncable\":false,\"top_units\":\"screen\"},\"id\":\"9388\",\"type\":\"BoxAnnotation\"},{\"attributes\":{\"dimension\":\"lon\"},\"id\":\"9397\",\"type\":\"MercatorTickFormatter\"},{\"attributes\":{\"fill_alpha\":{\"value\":0.75},\"fill_color\":{\"field\":\"color\",\"transform\":{\"id\":\"9427\"}},\"hatch_alpha\":{\"value\":0.75},\"hatch_color\":{\"field\":\"color\",\"transform\":{\"id\":\"9427\"}},\"line_alpha\":{\"value\":0.75},\"line_color\":{\"field\":\"color\",\"transform\":{\"id\":\"9427\"}},\"size\":{\"field\":\"size\"},\"tags\":[\"apply_ranges\"],\"x\":{\"field\":\"lon\"},\"y\":{\"field\":\"lat\"}},\"id\":\"9431\",\"type\":\"Scatter\"},{\"attributes\":{\"axis_label\":\"y\",\"coordinates\":null,\"formatter\":{\"id\":\"9399\"},\"group\":null,\"major_label_policy\":{\"id\":\"9409\"},\"ticker\":{\"id\":\"9398\"}},\"id\":\"9379\",\"type\":\"LinearAxis\"},{\"attributes\":{},\"id\":\"9409\",\"type\":\"AllLabels\"}],\"root_ids\":[\"9356\"]},\"title\":\"Bokeh Application\",\"version\":\"2.4.3\"}};\n",
       "    var render_items = [{\"docid\":\"62ee5977-4bff-4dcb-9a93-0ef6c33126d9\",\"root_ids\":[\"9356\"],\"roots\":{\"9356\":\"236ac92c-ad30-44f7-9c5c-a32efe667c13\"}}];\n",
       "    root.Bokeh.embed.embed_items_notebook(docs_json, render_items);\n",
       "    for (const render_item of render_items) {\n",
       "      for (const root_id of render_item.root_ids) {\n",
       "\tconst id_el = document.getElementById(root_id)\n",
       "\tif (id_el.children.length && (id_el.children[0].className === 'bk-root')) {\n",
       "\t  const root_el = id_el.children[0]\n",
       "\t  root_el.id = root_el.id + '-rendered'\n",
       "\t}\n",
       "      }\n",
       "    }\n",
       "  }\n",
       "  if (root.Bokeh !== undefined && root.Bokeh.Panel !== undefined) {\n",
       "    embed_document(root);\n",
       "  } else {\n",
       "    var attempts = 0;\n",
       "    var timer = setInterval(function(root) {\n",
       "      if (root.Bokeh !== undefined && root.Bokeh.Panel !== undefined) {\n",
       "        clearInterval(timer);\n",
       "        embed_document(root);\n",
       "      } else if (document.readyState == \"complete\") {\n",
       "        attempts++;\n",
       "        if (attempts > 200) {\n",
       "          clearInterval(timer);\n",
       "          console.log(\"Bokeh: ERROR: Unable to run BokehJS code because BokehJS library is missing\");\n",
       "        }\n",
       "      }\n",
       "    }, 25, root)\n",
       "  }\n",
       "})(window);</script>"
      ],
      "text/plain": [
       ":Overlay\n",
       "   .Tiles.I  :Tiles   [x,y]\n",
       "   .Points.I :Points   [lon,lat]   (Ride_name,incident_count)"
      ]
     },
     "execution_count": 68,
     "metadata": {
      "application/vnd.holoviews_exec.v0+json": {
       "id": "9356"
      }
     },
     "output_type": "execute_result"
    }
   ],
   "source": [
    "plot_mapping_data(mapping_data, filter_column=\"Theme_Park\", filter_value=\"Blizzard Beach\", scale=15, title=\"Blizzard_Beach\")"
   ]
  },
  {
   "cell_type": "markdown",
   "id": "163d1f73",
   "metadata": {},
   "source": [
    "### Epcot"
   ]
  },
  {
   "cell_type": "code",
   "execution_count": 69,
   "id": "51fe4858",
   "metadata": {},
   "outputs": [
    {
     "data": {},
     "metadata": {},
     "output_type": "display_data"
    },
    {
     "data": {
      "application/vnd.holoviews_exec.v0+json": "",
      "text/html": [
       "<div id='9661'>\n",
       "  <div class=\"bk-root\" id=\"cdb5d1d6-04ef-4691-a06f-e8f62536a380\" data-root-id=\"9661\"></div>\n",
       "</div>\n",
       "<script type=\"application/javascript\">(function(root) {\n",
       "  function embed_document(root) {\n",
       "    var docs_json = {\"7c9537ff-651f-49a6-b560-225dcb5fc436\":{\"defs\":[{\"extends\":null,\"module\":null,\"name\":\"ReactiveHTML1\",\"overrides\":[],\"properties\":[]},{\"extends\":null,\"module\":null,\"name\":\"FlexBox1\",\"overrides\":[],\"properties\":[{\"default\":\"flex-start\",\"kind\":null,\"name\":\"align_content\"},{\"default\":\"flex-start\",\"kind\":null,\"name\":\"align_items\"},{\"default\":\"row\",\"kind\":null,\"name\":\"flex_direction\"},{\"default\":\"wrap\",\"kind\":null,\"name\":\"flex_wrap\"},{\"default\":\"flex-start\",\"kind\":null,\"name\":\"justify_content\"}]},{\"extends\":null,\"module\":null,\"name\":\"GridStack1\",\"overrides\":[],\"properties\":[{\"default\":\"warn\",\"kind\":null,\"name\":\"mode\"},{\"default\":null,\"kind\":null,\"name\":\"ncols\"},{\"default\":null,\"kind\":null,\"name\":\"nrows\"},{\"default\":true,\"kind\":null,\"name\":\"allow_resize\"},{\"default\":true,\"kind\":null,\"name\":\"allow_drag\"},{\"default\":[],\"kind\":null,\"name\":\"state\"}]},{\"extends\":null,\"module\":null,\"name\":\"click1\",\"overrides\":[],\"properties\":[{\"default\":\"\",\"kind\":null,\"name\":\"terminal_output\"},{\"default\":\"\",\"kind\":null,\"name\":\"debug_name\"},{\"default\":0,\"kind\":null,\"name\":\"clears\"}]},{\"extends\":null,\"module\":null,\"name\":\"NotificationAreaBase1\",\"overrides\":[],\"properties\":[{\"default\":\"bottom-right\",\"kind\":null,\"name\":\"position\"},{\"default\":0,\"kind\":null,\"name\":\"_clear\"}]},{\"extends\":null,\"module\":null,\"name\":\"NotificationArea1\",\"overrides\":[],\"properties\":[{\"default\":[],\"kind\":null,\"name\":\"notifications\"},{\"default\":\"bottom-right\",\"kind\":null,\"name\":\"position\"},{\"default\":0,\"kind\":null,\"name\":\"_clear\"},{\"default\":[{\"background\":\"#ffc107\",\"icon\":{\"className\":\"fas fa-exclamation-triangle\",\"color\":\"white\",\"tagName\":\"i\"},\"type\":\"warning\"},{\"background\":\"#007bff\",\"icon\":{\"className\":\"fas fa-info-circle\",\"color\":\"white\",\"tagName\":\"i\"},\"type\":\"info\"}],\"kind\":null,\"name\":\"types\"}]},{\"extends\":null,\"module\":null,\"name\":\"Notification\",\"overrides\":[],\"properties\":[{\"default\":null,\"kind\":null,\"name\":\"background\"},{\"default\":3000,\"kind\":null,\"name\":\"duration\"},{\"default\":null,\"kind\":null,\"name\":\"icon\"},{\"default\":\"\",\"kind\":null,\"name\":\"message\"},{\"default\":null,\"kind\":null,\"name\":\"notification_type\"},{\"default\":false,\"kind\":null,\"name\":\"_destroyed\"}]},{\"extends\":null,\"module\":null,\"name\":\"TemplateActions1\",\"overrides\":[],\"properties\":[{\"default\":0,\"kind\":null,\"name\":\"open_modal\"},{\"default\":0,\"kind\":null,\"name\":\"close_modal\"}]},{\"extends\":null,\"module\":null,\"name\":\"MaterialTemplateActions1\",\"overrides\":[],\"properties\":[{\"default\":0,\"kind\":null,\"name\":\"open_modal\"},{\"default\":0,\"kind\":null,\"name\":\"close_modal\"}]}],\"roots\":{\"references\":[{\"attributes\":{\"coordinates\":null,\"group\":null,\"text\":\"Epcot\",\"text_color\":\"black\",\"text_font_size\":\"12pt\"},\"id\":\"9672\",\"type\":\"Title\"},{\"attributes\":{\"dimension\":\"lon\"},\"id\":\"9701\",\"type\":\"MercatorTicker\"},{\"attributes\":{\"attribution\":\"&copy; <a href=\\\"https://www.openstreetmap.org/copyright\\\">OpenStreetMap</a> contributors, &copy; <a href=\\\"https://cartodb.com/attributions\\\">CartoDB</a>\",\"url\":\"https://cartodb-basemaps-4.global.ssl.fastly.net/light_all/{Z}/{X}/{Y}.png\"},\"id\":\"9727\",\"type\":\"WMTSTileSource\"},{\"attributes\":{},\"id\":\"9689\",\"type\":\"PanTool\"},{\"attributes\":{},\"id\":\"9707\",\"type\":\"AllLabels\"},{\"attributes\":{\"data\":{\"Ride_name\":[\"Guardians of the Galaxy: Cosmic Rewind\",\"Frozen Ever After\",\"Plaza de Los Amigos\",\"Journey info Imagination with Figment\",\"Living with the Land\",\"Maelstrom\",\"Mission: Space\",\"Remy' s Ratatouille Adventure\",\"Soarin' Around the World\",\"Spaceship Earth\",\"Test Track\",\"The Seas with Nemo & Friends\"],\"color\":[\"Guardians of the Galaxy: Cosmic Rewind\",\"Frozen Ever After\",\"Plaza de Los Amigos\",\"Journey info Imagination with Figment\",\"Living with the Land\",\"Maelstrom\",\"Mission: Space\",\"Remy' s Ratatouille Adventure\",\"Soarin' Around the World\",\"Spaceship Earth\",\"Test Track\",\"The Seas with Nemo & Friends\"],\"incident_count\":[8,1,4,2,1,1,36,1,9,12,6,10],\"lat\":{\"__ndarray__\":\"FuZCHEkmSUHSY7E8HiVJQTcL6H9UJUlBGWP6M5wlSUFHfRfJ5iVJQdJjsTweJUlBS1CRMOIlSUG03RdaaCRJQSv0suihJUlBYj2L3DkmSUEtNbMgoSVJQY7thjw9JklB\",\"dtype\":\"float64\",\"order\":\"little\",\"shape\":[12]},\"lon\":{\"__ndarray__\":\"PMkEyIpQYcE+TVWqdlBhwQorzBuEUGHB3hFvdL1QYcEDqquV0lBhwT5NVap2UGHB56azpXtQYcFB8R5Y0lBhwTAS1OfVUGHBaYFwqaJQYcGv29BYhFBhwQe+y0G3UGHB\",\"dtype\":\"float64\",\"order\":\"little\",\"shape\":[12]},\"size\":{\"__ndarray__\":\"wAofAMZIPEAAAAAAAAAkQAAAAAAAADRAwAofAMZILEAAAAAAAAAkQAAAAAAAACRAAAAAAAAATkAAAAAAAAAkQAAAAAAAAD5A6i830QxSQUB6aQuZsX44QCjykElunz9A\",\"dtype\":\"float64\",\"order\":\"little\",\"shape\":[12]}},\"selected\":{\"id\":\"9734\"},\"selection_policy\":{\"id\":\"9750\"}},\"id\":\"9733\",\"type\":\"ColumnDataSource\"},{\"attributes\":{},\"id\":\"9750\",\"type\":\"UnionRenderers\"},{\"attributes\":{},\"id\":\"9688\",\"type\":\"SaveTool\"},{\"attributes\":{},\"id\":\"9678\",\"type\":\"LinearScale\"},{\"attributes\":{\"match_aspect\":true,\"overlay\":{\"id\":\"9693\"}},\"id\":\"9691\",\"type\":\"BoxZoomTool\"},{\"attributes\":{\"active_drag\":{\"id\":\"9689\"},\"tools\":[{\"id\":\"9670\"},{\"id\":\"9688\"},{\"id\":\"9689\"},{\"id\":\"9690\"},{\"id\":\"9691\"},{\"id\":\"9692\"}]},\"id\":\"9694\",\"type\":\"Toolbar\"},{\"attributes\":{\"axis_label\":\"y\",\"coordinates\":null,\"formatter\":{\"id\":\"9704\"},\"group\":null,\"major_label_policy\":{\"id\":\"9714\"},\"ticker\":{\"id\":\"9703\"}},\"id\":\"9684\",\"type\":\"LinearAxis\"},{\"attributes\":{\"factors\":[\"Guardians of the Galaxy: Cosmic Rewind\",\"Frozen Ever After\",\"Plaza de Los Amigos\",\"Journey info Imagination with Figment\",\"Living with the Land\",\"Maelstrom\",\"Mission: Space\",\"Remy' s Ratatouille Adventure\",\"Soarin' Around the World\",\"Spaceship Earth\",\"Test Track\",\"The Seas with Nemo & Friends\"],\"palette\":[\"#1f77b3\",\"#ff7e0e\",\"#2ba02b\",\"#d62628\",\"#9367bc\",\"#8c564b\",\"#e277c1\",\"#7e7e7e\",\"#bcbc21\",\"#16bdcf\",\"#3a0182\",\"#004201\"]},\"id\":\"9732\",\"type\":\"CategoricalColorMapper\"},{\"attributes\":{},\"id\":\"9734\",\"type\":\"Selection\"},{\"attributes\":{\"fill_alpha\":{\"value\":0.75},\"fill_color\":{\"field\":\"color\",\"transform\":{\"id\":\"9732\"}},\"hatch_alpha\":{\"value\":0.75},\"hatch_color\":{\"field\":\"color\",\"transform\":{\"id\":\"9732\"}},\"line_alpha\":{\"value\":0.75},\"line_color\":{\"field\":\"color\",\"transform\":{\"id\":\"9732\"}},\"size\":{\"field\":\"size\"},\"tags\":[\"apply_ranges\"],\"x\":{\"field\":\"lon\"},\"y\":{\"field\":\"lat\"}},\"id\":\"9738\",\"type\":\"Scatter\"},{\"attributes\":{\"fill_alpha\":{\"value\":0.75},\"fill_color\":{\"field\":\"color\",\"transform\":{\"id\":\"9732\"}},\"hatch_alpha\":{\"value\":0.75},\"hatch_color\":{\"field\":\"color\",\"transform\":{\"id\":\"9732\"}},\"line_alpha\":{\"value\":0.75},\"line_color\":{\"field\":\"color\",\"transform\":{\"id\":\"9732\"}},\"size\":{\"field\":\"size\"},\"tags\":[\"apply_ranges\"],\"x\":{\"field\":\"lon\"},\"y\":{\"field\":\"lat\"}},\"id\":\"9739\",\"type\":\"Scatter\"},{\"attributes\":{\"dimension\":\"lon\"},\"id\":\"9702\",\"type\":\"MercatorTickFormatter\"},{\"attributes\":{\"axis\":{\"id\":\"9680\"},\"coordinates\":null,\"grid_line_color\":null,\"group\":null,\"ticker\":null},\"id\":\"9683\",\"type\":\"Grid\"},{\"attributes\":{\"fill_alpha\":{\"value\":0.75},\"fill_color\":{\"field\":\"color\",\"transform\":{\"id\":\"9732\"}},\"hatch_alpha\":{\"value\":0.1},\"hatch_color\":{\"field\":\"color\",\"transform\":{\"id\":\"9732\"}},\"line_alpha\":{\"value\":0.75},\"line_color\":{\"field\":\"color\",\"transform\":{\"id\":\"9732\"}},\"size\":{\"field\":\"size\"},\"tags\":[\"apply_ranges\"],\"x\":{\"field\":\"lon\"},\"y\":{\"field\":\"lat\"}},\"id\":\"9737\",\"type\":\"Scatter\"},{\"attributes\":{\"callback\":null,\"formatters\":{\"$x\":{\"id\":\"9743\"},\"$y\":{\"id\":\"9744\"}},\"renderers\":[{\"id\":\"9741\"}],\"tags\":[\"hv_created\"],\"tooltips\":[[\"lon\",\"$x{custom}\"],[\"lat\",\"$y{custom}\"],[\"Ride_name\",\"@{Ride_name}\"],[\"incident_count\",\"@{incident_count}\"]]},\"id\":\"9670\",\"type\":\"HoverTool\"},{\"attributes\":{\"coordinates\":null,\"group\":null,\"level\":\"glyph\",\"tile_source\":{\"id\":\"9727\"}},\"id\":\"9730\",\"type\":\"TileRenderer\"},{\"attributes\":{\"source\":{\"id\":\"9733\"}},\"id\":\"9742\",\"type\":\"CDSView\"},{\"attributes\":{\"axis_label\":\"x\",\"coordinates\":null,\"formatter\":{\"id\":\"9702\"},\"group\":null,\"major_label_policy\":{\"id\":\"9707\"},\"ticker\":{\"id\":\"9701\"}},\"id\":\"9680\",\"type\":\"LinearAxis\"},{\"attributes\":{\"children\":[{\"id\":\"9671\"}],\"height\":750,\"margin\":[0,0,0,0],\"name\":\"Row09526\",\"sizing_mode\":\"fixed\",\"tags\":[\"embedded\"],\"width\":750},\"id\":\"9661\",\"type\":\"Row\"},{\"attributes\":{},\"id\":\"9676\",\"type\":\"LinearScale\"},{\"attributes\":{},\"id\":\"9714\",\"type\":\"AllLabels\"},{\"attributes\":{\"dimension\":\"lat\"},\"id\":\"9704\",\"type\":\"MercatorTickFormatter\"},{\"attributes\":{\"fill_alpha\":{\"value\":0.75},\"fill_color\":{\"field\":\"color\",\"transform\":{\"id\":\"9732\"}},\"hatch_alpha\":{\"value\":0.75},\"hatch_color\":{\"field\":\"color\",\"transform\":{\"id\":\"9732\"}},\"line_alpha\":{\"value\":0.75},\"line_color\":{\"field\":\"color\",\"transform\":{\"id\":\"9732\"}},\"size\":{\"field\":\"size\"},\"tags\":[\"apply_ranges\"],\"x\":{\"field\":\"lon\"},\"y\":{\"field\":\"lat\"}},\"id\":\"9736\",\"type\":\"Scatter\"},{\"attributes\":{\"bottom_units\":\"screen\",\"coordinates\":null,\"fill_alpha\":0.5,\"fill_color\":\"lightgrey\",\"group\":null,\"left_units\":\"screen\",\"level\":\"overlay\",\"line_alpha\":1.0,\"line_color\":\"black\",\"line_dash\":[4,4],\"line_width\":2,\"right_units\":\"screen\",\"syncable\":false,\"top_units\":\"screen\"},\"id\":\"9693\",\"type\":\"BoxAnnotation\"},{\"attributes\":{\"coordinates\":null,\"data_source\":{\"id\":\"9733\"},\"glyph\":{\"id\":\"9736\"},\"group\":null,\"hover_glyph\":{\"id\":\"9739\"},\"muted_glyph\":{\"id\":\"9740\"},\"nonselection_glyph\":{\"id\":\"9737\"},\"selection_glyph\":{\"id\":\"9738\"},\"view\":{\"id\":\"9742\"}},\"id\":\"9741\",\"type\":\"GlyphRenderer\"},{\"attributes\":{\"axis\":{\"id\":\"9684\"},\"coordinates\":null,\"dimension\":1,\"grid_line_color\":null,\"group\":null,\"ticker\":null},\"id\":\"9687\",\"type\":\"Grid\"},{\"attributes\":{\"code\":\"\\n        var projections = Bokeh.require(\\\"core/util/projections\\\");\\n        var x = special_vars.data_x\\n        var y = special_vars.data_y\\n        var coords = projections.wgs84_mercator.invert(x, y)\\n        return \\\"\\\" + (coords[1]).toFixed(4)\\n    \"},\"id\":\"9744\",\"type\":\"CustomJSHover\"},{\"attributes\":{\"zoom_on_axis\":false},\"id\":\"9690\",\"type\":\"WheelZoomTool\"},{\"attributes\":{\"below\":[{\"id\":\"9680\"}],\"center\":[{\"id\":\"9683\"},{\"id\":\"9687\"}],\"frame_height\":750,\"frame_width\":750,\"height\":750,\"left\":[{\"id\":\"9684\"}],\"margin\":[5,5,5,5],\"match_aspect\":true,\"min_border_bottom\":10,\"min_border_left\":10,\"min_border_right\":10,\"min_border_top\":10,\"output_backend\":\"webgl\",\"renderers\":[{\"id\":\"9730\"},{\"id\":\"9741\"}],\"sizing_mode\":\"fixed\",\"title\":{\"id\":\"9672\"},\"toolbar\":{\"id\":\"9694\"},\"width\":750,\"x_range\":{\"id\":\"9666\"},\"x_scale\":{\"id\":\"9676\"},\"y_range\":{\"id\":\"9667\"},\"y_scale\":{\"id\":\"9678\"}},\"id\":\"9671\",\"subtype\":\"Figure\",\"type\":\"Plot\"},{\"attributes\":{\"end\":-9077489.525431708,\"min_interval\":5,\"reset_end\":-9077489.525431708,\"reset_start\":-9078643.042118689,\"start\":-9078643.042118689,\"tags\":[[[\"lon\",\"lon\",null]]]},\"id\":\"9666\",\"type\":\"Range1d\"},{\"attributes\":{\"fill_alpha\":{\"value\":0.2},\"fill_color\":{\"field\":\"color\",\"transform\":{\"id\":\"9732\"}},\"hatch_alpha\":{\"value\":0.2},\"hatch_color\":{\"field\":\"color\",\"transform\":{\"id\":\"9732\"}},\"line_alpha\":{\"value\":0.2},\"line_color\":{\"field\":\"color\",\"transform\":{\"id\":\"9732\"}},\"size\":{\"field\":\"size\"},\"tags\":[\"apply_ranges\"],\"x\":{\"field\":\"lon\"},\"y\":{\"field\":\"lat\"}},\"id\":\"9740\",\"type\":\"Scatter\"},{\"attributes\":{\"code\":\"\\n        var projections = Bokeh.require(\\\"core/util/projections\\\");\\n        var x = special_vars.data_x\\n        var y = special_vars.data_y\\n        var coords = projections.wgs84_mercator.invert(x, y)\\n        return \\\"\\\" + (coords[0]).toFixed(4)\\n    \"},\"id\":\"9743\",\"type\":\"CustomJSHover\"},{\"attributes\":{},\"id\":\"9692\",\"type\":\"ResetTool\"},{\"attributes\":{\"dimension\":\"lat\"},\"id\":\"9703\",\"type\":\"MercatorTicker\"},{\"attributes\":{\"end\":3296498.2206614204,\"min_interval\":5,\"reset_end\":3296498.2206614204,\"reset_start\":3295344.703974439,\"start\":3295344.703974439,\"tags\":[[[\"lat\",\"lat\",null]]]},\"id\":\"9667\",\"type\":\"Range1d\"}],\"root_ids\":[\"9661\"]},\"title\":\"Bokeh Application\",\"version\":\"2.4.3\"}};\n",
       "    var render_items = [{\"docid\":\"7c9537ff-651f-49a6-b560-225dcb5fc436\",\"root_ids\":[\"9661\"],\"roots\":{\"9661\":\"cdb5d1d6-04ef-4691-a06f-e8f62536a380\"}}];\n",
       "    root.Bokeh.embed.embed_items_notebook(docs_json, render_items);\n",
       "    for (const render_item of render_items) {\n",
       "      for (const root_id of render_item.root_ids) {\n",
       "\tconst id_el = document.getElementById(root_id)\n",
       "\tif (id_el.children.length && (id_el.children[0].className === 'bk-root')) {\n",
       "\t  const root_el = id_el.children[0]\n",
       "\t  root_el.id = root_el.id + '-rendered'\n",
       "\t}\n",
       "      }\n",
       "    }\n",
       "  }\n",
       "  if (root.Bokeh !== undefined && root.Bokeh.Panel !== undefined) {\n",
       "    embed_document(root);\n",
       "  } else {\n",
       "    var attempts = 0;\n",
       "    var timer = setInterval(function(root) {\n",
       "      if (root.Bokeh !== undefined && root.Bokeh.Panel !== undefined) {\n",
       "        clearInterval(timer);\n",
       "        embed_document(root);\n",
       "      } else if (document.readyState == \"complete\") {\n",
       "        attempts++;\n",
       "        if (attempts > 200) {\n",
       "          clearInterval(timer);\n",
       "          console.log(\"Bokeh: ERROR: Unable to run BokehJS code because BokehJS library is missing\");\n",
       "        }\n",
       "      }\n",
       "    }, 25, root)\n",
       "  }\n",
       "})(window);</script>"
      ],
      "text/plain": [
       ":Overlay\n",
       "   .Tiles.I  :Tiles   [x,y]\n",
       "   .Points.I :Points   [lon,lat]   (Ride_name,incident_count)"
      ]
     },
     "execution_count": 69,
     "metadata": {
      "application/vnd.holoviews_exec.v0+json": {
       "id": "9661"
      }
     },
     "output_type": "execute_result"
    }
   ],
   "source": [
    "plot_mapping_data(mapping_data, filter_column=\"Theme_Park\", filter_value=\"Epcot\", scale=10, title=\"Epcot\")"
   ]
  },
  {
   "cell_type": "markdown",
   "id": "b199b39c",
   "metadata": {},
   "source": [
    "### Hollywood Studios"
   ]
  },
  {
   "cell_type": "code",
   "execution_count": 70,
   "id": "892a0085",
   "metadata": {},
   "outputs": [
    {
     "data": {},
     "metadata": {},
     "output_type": "display_data"
    },
    {
     "data": {
      "application/vnd.holoviews_exec.v0+json": "",
      "text/html": [
       "<div id='9966'>\n",
       "  <div class=\"bk-root\" id=\"58595d07-367f-4897-b6d4-213a1f95a4a4\" data-root-id=\"9966\"></div>\n",
       "</div>\n",
       "<script type=\"application/javascript\">(function(root) {\n",
       "  function embed_document(root) {\n",
       "    var docs_json = {\"4a079a3f-17f4-4d71-b23f-092812d8729e\":{\"defs\":[{\"extends\":null,\"module\":null,\"name\":\"ReactiveHTML1\",\"overrides\":[],\"properties\":[]},{\"extends\":null,\"module\":null,\"name\":\"FlexBox1\",\"overrides\":[],\"properties\":[{\"default\":\"flex-start\",\"kind\":null,\"name\":\"align_content\"},{\"default\":\"flex-start\",\"kind\":null,\"name\":\"align_items\"},{\"default\":\"row\",\"kind\":null,\"name\":\"flex_direction\"},{\"default\":\"wrap\",\"kind\":null,\"name\":\"flex_wrap\"},{\"default\":\"flex-start\",\"kind\":null,\"name\":\"justify_content\"}]},{\"extends\":null,\"module\":null,\"name\":\"GridStack1\",\"overrides\":[],\"properties\":[{\"default\":\"warn\",\"kind\":null,\"name\":\"mode\"},{\"default\":null,\"kind\":null,\"name\":\"ncols\"},{\"default\":null,\"kind\":null,\"name\":\"nrows\"},{\"default\":true,\"kind\":null,\"name\":\"allow_resize\"},{\"default\":true,\"kind\":null,\"name\":\"allow_drag\"},{\"default\":[],\"kind\":null,\"name\":\"state\"}]},{\"extends\":null,\"module\":null,\"name\":\"click1\",\"overrides\":[],\"properties\":[{\"default\":\"\",\"kind\":null,\"name\":\"terminal_output\"},{\"default\":\"\",\"kind\":null,\"name\":\"debug_name\"},{\"default\":0,\"kind\":null,\"name\":\"clears\"}]},{\"extends\":null,\"module\":null,\"name\":\"NotificationAreaBase1\",\"overrides\":[],\"properties\":[{\"default\":\"bottom-right\",\"kind\":null,\"name\":\"position\"},{\"default\":0,\"kind\":null,\"name\":\"_clear\"}]},{\"extends\":null,\"module\":null,\"name\":\"NotificationArea1\",\"overrides\":[],\"properties\":[{\"default\":[],\"kind\":null,\"name\":\"notifications\"},{\"default\":\"bottom-right\",\"kind\":null,\"name\":\"position\"},{\"default\":0,\"kind\":null,\"name\":\"_clear\"},{\"default\":[{\"background\":\"#ffc107\",\"icon\":{\"className\":\"fas fa-exclamation-triangle\",\"color\":\"white\",\"tagName\":\"i\"},\"type\":\"warning\"},{\"background\":\"#007bff\",\"icon\":{\"className\":\"fas fa-info-circle\",\"color\":\"white\",\"tagName\":\"i\"},\"type\":\"info\"}],\"kind\":null,\"name\":\"types\"}]},{\"extends\":null,\"module\":null,\"name\":\"Notification\",\"overrides\":[],\"properties\":[{\"default\":null,\"kind\":null,\"name\":\"background\"},{\"default\":3000,\"kind\":null,\"name\":\"duration\"},{\"default\":null,\"kind\":null,\"name\":\"icon\"},{\"default\":\"\",\"kind\":null,\"name\":\"message\"},{\"default\":null,\"kind\":null,\"name\":\"notification_type\"},{\"default\":false,\"kind\":null,\"name\":\"_destroyed\"}]},{\"extends\":null,\"module\":null,\"name\":\"TemplateActions1\",\"overrides\":[],\"properties\":[{\"default\":0,\"kind\":null,\"name\":\"open_modal\"},{\"default\":0,\"kind\":null,\"name\":\"close_modal\"}]},{\"extends\":null,\"module\":null,\"name\":\"MaterialTemplateActions1\",\"overrides\":[],\"properties\":[{\"default\":0,\"kind\":null,\"name\":\"open_modal\"},{\"default\":0,\"kind\":null,\"name\":\"close_modal\"}]}],\"roots\":{\"references\":[{\"attributes\":{\"coordinates\":null,\"group\":null,\"level\":\"glyph\",\"tile_source\":{\"id\":\"10032\"}},\"id\":\"10035\",\"type\":\"TileRenderer\"},{\"attributes\":{\"fill_alpha\":{\"value\":0.75},\"fill_color\":{\"field\":\"color\",\"transform\":{\"id\":\"10037\"}},\"hatch_alpha\":{\"value\":0.1},\"hatch_color\":{\"field\":\"color\",\"transform\":{\"id\":\"10037\"}},\"line_alpha\":{\"value\":0.75},\"line_color\":{\"field\":\"color\",\"transform\":{\"id\":\"10037\"}},\"size\":{\"field\":\"size\"},\"tags\":[\"apply_ranges\"],\"x\":{\"field\":\"lon\"},\"y\":{\"field\":\"lat\"}},\"id\":\"10042\",\"type\":\"Scatter\"},{\"attributes\":{\"axis_label\":\"y\",\"coordinates\":null,\"formatter\":{\"id\":\"10009\"},\"group\":null,\"major_label_policy\":{\"id\":\"10019\"},\"ticker\":{\"id\":\"10008\"}},\"id\":\"9989\",\"type\":\"LinearAxis\"},{\"attributes\":{\"dimension\":\"lat\"},\"id\":\"10008\",\"type\":\"MercatorTicker\"},{\"attributes\":{\"dimension\":\"lon\"},\"id\":\"10006\",\"type\":\"MercatorTicker\"},{\"attributes\":{\"dimension\":\"lon\"},\"id\":\"10007\",\"type\":\"MercatorTickFormatter\"},{\"attributes\":{},\"id\":\"9997\",\"type\":\"ResetTool\"},{\"attributes\":{\"axis\":{\"id\":\"9989\"},\"coordinates\":null,\"dimension\":1,\"grid_line_color\":null,\"group\":null,\"ticker\":null},\"id\":\"9992\",\"type\":\"Grid\"},{\"attributes\":{\"below\":[{\"id\":\"9985\"}],\"center\":[{\"id\":\"9988\"},{\"id\":\"9992\"}],\"frame_height\":750,\"frame_width\":750,\"height\":750,\"left\":[{\"id\":\"9989\"}],\"margin\":[5,5,5,5],\"match_aspect\":true,\"min_border_bottom\":10,\"min_border_left\":10,\"min_border_right\":10,\"min_border_top\":10,\"output_backend\":\"webgl\",\"renderers\":[{\"id\":\"10035\"},{\"id\":\"10046\"}],\"sizing_mode\":\"fixed\",\"title\":{\"id\":\"9977\"},\"toolbar\":{\"id\":\"9999\"},\"width\":750,\"x_range\":{\"id\":\"9971\"},\"x_scale\":{\"id\":\"9981\"},\"y_range\":{\"id\":\"9972\"},\"y_scale\":{\"id\":\"9983\"}},\"id\":\"9976\",\"subtype\":\"Figure\",\"type\":\"Plot\"},{\"attributes\":{\"active_drag\":{\"id\":\"9994\"},\"tools\":[{\"id\":\"9975\"},{\"id\":\"9993\"},{\"id\":\"9994\"},{\"id\":\"9995\"},{\"id\":\"9996\"},{\"id\":\"9997\"}]},\"id\":\"9999\",\"type\":\"Toolbar\"},{\"attributes\":{},\"id\":\"10019\",\"type\":\"AllLabels\"},{\"attributes\":{\"attribution\":\"&copy; <a href=\\\"https://www.openstreetmap.org/copyright\\\">OpenStreetMap</a> contributors, &copy; <a href=\\\"https://cartodb.com/attributions\\\">CartoDB</a>\",\"url\":\"https://cartodb-basemaps-4.global.ssl.fastly.net/light_all/{Z}/{X}/{Y}.png\"},\"id\":\"10032\",\"type\":\"WMTSTileSource\"},{\"attributes\":{},\"id\":\"9994\",\"type\":\"PanTool\"},{\"attributes\":{\"zoom_on_axis\":false},\"id\":\"9995\",\"type\":\"WheelZoomTool\"},{\"attributes\":{\"end\":-9078853.669533517,\"min_interval\":5,\"reset_end\":-9078853.669533517,\"reset_start\":-9079783.221687065,\"start\":-9079783.221687065,\"tags\":[[[\"lon\",\"lon\",null]]]},\"id\":\"9971\",\"type\":\"Range1d\"},{\"attributes\":{\"code\":\"\\n        var projections = Bokeh.require(\\\"core/util/projections\\\");\\n        var x = special_vars.data_x\\n        var y = special_vars.data_y\\n        var coords = projections.wgs84_mercator.invert(x, y)\\n        return \\\"\\\" + (coords[0]).toFixed(4)\\n    \"},\"id\":\"10048\",\"type\":\"CustomJSHover\"},{\"attributes\":{\"dimension\":\"lat\"},\"id\":\"10009\",\"type\":\"MercatorTickFormatter\"},{\"attributes\":{},\"id\":\"9993\",\"type\":\"SaveTool\"},{\"attributes\":{},\"id\":\"10055\",\"type\":\"UnionRenderers\"},{\"attributes\":{},\"id\":\"9983\",\"type\":\"LinearScale\"},{\"attributes\":{\"fill_alpha\":{\"value\":0.2},\"fill_color\":{\"field\":\"color\",\"transform\":{\"id\":\"10037\"}},\"hatch_alpha\":{\"value\":0.2},\"hatch_color\":{\"field\":\"color\",\"transform\":{\"id\":\"10037\"}},\"line_alpha\":{\"value\":0.2},\"line_color\":{\"field\":\"color\",\"transform\":{\"id\":\"10037\"}},\"size\":{\"field\":\"size\"},\"tags\":[\"apply_ranges\"],\"x\":{\"field\":\"lon\"},\"y\":{\"field\":\"lat\"}},\"id\":\"10045\",\"type\":\"Scatter\"},{\"attributes\":{\"source\":{\"id\":\"10038\"}},\"id\":\"10047\",\"type\":\"CDSView\"},{\"attributes\":{\"coordinates\":null,\"group\":null,\"text\":\"Hollywood_Studios\",\"text_color\":\"black\",\"text_font_size\":\"12pt\"},\"id\":\"9977\",\"type\":\"Title\"},{\"attributes\":{},\"id\":\"10012\",\"type\":\"AllLabels\"},{\"attributes\":{\"fill_alpha\":{\"value\":0.75},\"fill_color\":{\"field\":\"color\",\"transform\":{\"id\":\"10037\"}},\"hatch_alpha\":{\"value\":0.75},\"hatch_color\":{\"field\":\"color\",\"transform\":{\"id\":\"10037\"}},\"line_alpha\":{\"value\":0.75},\"line_color\":{\"field\":\"color\",\"transform\":{\"id\":\"10037\"}},\"size\":{\"field\":\"size\"},\"tags\":[\"apply_ranges\"],\"x\":{\"field\":\"lon\"},\"y\":{\"field\":\"lat\"}},\"id\":\"10041\",\"type\":\"Scatter\"},{\"attributes\":{},\"id\":\"10039\",\"type\":\"Selection\"},{\"attributes\":{\"factors\":[\"Alien Swirling Saucers\",\"Great Movie Ride\",\"Mickey & Minnie's Runaway Railway\",\"Millennium Falcon: Smugglers Run\",\"Rock 'n' Roller Coaster Starring Aerosmith\",\"Slinky Dog Dash\",\"Star Tours: The Adventure Continues\",\"Star Wars: Rise of the Resistance\",\"The Twilight Zone Tower of Terror\",\"Toy Story Midway Mania!\"],\"palette\":[\"#1f77b3\",\"#ff7e0e\",\"#2ba02b\",\"#d62628\",\"#9367bc\",\"#8c564b\",\"#e277c1\",\"#7e7e7e\",\"#bcbc21\",\"#16bdcf\"]},\"id\":\"10037\",\"type\":\"CategoricalColorMapper\"},{\"attributes\":{\"bottom_units\":\"screen\",\"coordinates\":null,\"fill_alpha\":0.5,\"fill_color\":\"lightgrey\",\"group\":null,\"left_units\":\"screen\",\"level\":\"overlay\",\"line_alpha\":1.0,\"line_color\":\"black\",\"line_dash\":[4,4],\"line_width\":2,\"right_units\":\"screen\",\"syncable\":false,\"top_units\":\"screen\"},\"id\":\"9998\",\"type\":\"BoxAnnotation\"},{\"attributes\":{\"fill_alpha\":{\"value\":0.75},\"fill_color\":{\"field\":\"color\",\"transform\":{\"id\":\"10037\"}},\"hatch_alpha\":{\"value\":0.75},\"hatch_color\":{\"field\":\"color\",\"transform\":{\"id\":\"10037\"}},\"line_alpha\":{\"value\":0.75},\"line_color\":{\"field\":\"color\",\"transform\":{\"id\":\"10037\"}},\"size\":{\"field\":\"size\"},\"tags\":[\"apply_ranges\"],\"x\":{\"field\":\"lon\"},\"y\":{\"field\":\"lat\"}},\"id\":\"10043\",\"type\":\"Scatter\"},{\"attributes\":{\"match_aspect\":true,\"overlay\":{\"id\":\"9998\"}},\"id\":\"9996\",\"type\":\"BoxZoomTool\"},{\"attributes\":{},\"id\":\"9981\",\"type\":\"LinearScale\"},{\"attributes\":{\"coordinates\":null,\"data_source\":{\"id\":\"10038\"},\"glyph\":{\"id\":\"10041\"},\"group\":null,\"hover_glyph\":{\"id\":\"10044\"},\"muted_glyph\":{\"id\":\"10045\"},\"nonselection_glyph\":{\"id\":\"10042\"},\"selection_glyph\":{\"id\":\"10043\"},\"view\":{\"id\":\"10047\"}},\"id\":\"10046\",\"type\":\"GlyphRenderer\"},{\"attributes\":{\"axis\":{\"id\":\"9985\"},\"coordinates\":null,\"grid_line_color\":null,\"group\":null,\"ticker\":null},\"id\":\"9988\",\"type\":\"Grid\"},{\"attributes\":{\"axis_label\":\"x\",\"coordinates\":null,\"formatter\":{\"id\":\"10007\"},\"group\":null,\"major_label_policy\":{\"id\":\"10012\"},\"ticker\":{\"id\":\"10006\"}},\"id\":\"9985\",\"type\":\"LinearAxis\"},{\"attributes\":{\"code\":\"\\n        var projections = Bokeh.require(\\\"core/util/projections\\\");\\n        var x = special_vars.data_x\\n        var y = special_vars.data_y\\n        var coords = projections.wgs84_mercator.invert(x, y)\\n        return \\\"\\\" + (coords[1]).toFixed(4)\\n    \"},\"id\":\"10049\",\"type\":\"CustomJSHover\"},{\"attributes\":{\"end\":3294515.8834739737,\"min_interval\":5,\"reset_end\":3294515.8834739737,\"reset_start\":3293586.3313204246,\"start\":3293586.3313204246,\"tags\":[[[\"lat\",\"lat\",null]]]},\"id\":\"9972\",\"type\":\"Range1d\"},{\"attributes\":{\"fill_alpha\":{\"value\":0.75},\"fill_color\":{\"field\":\"color\",\"transform\":{\"id\":\"10037\"}},\"hatch_alpha\":{\"value\":0.75},\"hatch_color\":{\"field\":\"color\",\"transform\":{\"id\":\"10037\"}},\"line_alpha\":{\"value\":0.75},\"line_color\":{\"field\":\"color\",\"transform\":{\"id\":\"10037\"}},\"size\":{\"field\":\"size\"},\"tags\":[\"apply_ranges\"],\"x\":{\"field\":\"lon\"},\"y\":{\"field\":\"lat\"}},\"id\":\"10044\",\"type\":\"Scatter\"},{\"attributes\":{\"data\":{\"Ride_name\":[\"Alien Swirling Saucers\",\"Great Movie Ride\",\"Mickey & Minnie's Runaway Railway\",\"Millennium Falcon: Smugglers Run\",\"Rock 'n' Roller Coaster Starring Aerosmith\",\"Slinky Dog Dash\",\"Star Tours: The Adventure Continues\",\"Star Wars: Rise of the Resistance\",\"The Twilight Zone Tower of Terror\",\"Toy Story Midway Mania!\"],\"color\":[\"Alien Swirling Saucers\",\"Great Movie Ride\",\"Mickey & Minnie's Runaway Railway\",\"Millennium Falcon: Smugglers Run\",\"Rock 'n' Roller Coaster Starring Aerosmith\",\"Slinky Dog Dash\",\"Star Tours: The Adventure Continues\",\"Star Wars: Rise of the Resistance\",\"The Twilight Zone Tower of Terror\",\"Toy Story Midway Mania!\"],\"incident_count\":[1,6,2,2,23,2,16,1,16,7],\"lat\":{\"__ndarray__\":\"1+yE5V8hSUFgcyUvhiFJQWBzJS+GIUlBSc1w1e8gSUGb8g/rWyJJQUAbrX+SIUlBiqWfnUIhSUFjLQF5+SBJQfHRDUZzIklBAQyvG3ghSUE=\",\"dtype\":\"float64\",\"order\":\"little\",\"shape\":[10]},\"lon\":{\"__ndarray__\":\"4OQ+QVxRYcHQ+Z0ZPVFhwdD5nRk9UWHB2qchvU1RYcHsfnJrU1FhwR7rLSpiUWHB4vVWciNRYcF3O/idPVFhwTiPqXE1UWHBtcPuv0hRYcE=\",\"dtype\":\"float64\",\"order\":\"little\",\"shape\":[10]},\"size\":{\"__ndarray__\":\"AAAAAAAALkAbj8gyBV9CQBBIF4CUNjVAEEgXgJQ2NUDVkx+O//tRQBBIF4CUNjVAAAAAAAAATkAAAAAAAAAuQAAAAAAAAE5AW8k1r9fXQ0A=\",\"dtype\":\"float64\",\"order\":\"little\",\"shape\":[10]}},\"selected\":{\"id\":\"10039\"},\"selection_policy\":{\"id\":\"10055\"}},\"id\":\"10038\",\"type\":\"ColumnDataSource\"},{\"attributes\":{\"callback\":null,\"formatters\":{\"$x\":{\"id\":\"10048\"},\"$y\":{\"id\":\"10049\"}},\"renderers\":[{\"id\":\"10046\"}],\"tags\":[\"hv_created\"],\"tooltips\":[[\"lon\",\"$x{custom}\"],[\"lat\",\"$y{custom}\"],[\"Ride_name\",\"@{Ride_name}\"],[\"incident_count\",\"@{incident_count}\"]]},\"id\":\"9975\",\"type\":\"HoverTool\"},{\"attributes\":{\"children\":[{\"id\":\"9976\"}],\"height\":750,\"margin\":[0,0,0,0],\"name\":\"Row09734\",\"sizing_mode\":\"fixed\",\"tags\":[\"embedded\"],\"width\":750},\"id\":\"9966\",\"type\":\"Row\"}],\"root_ids\":[\"9966\"]},\"title\":\"Bokeh Application\",\"version\":\"2.4.3\"}};\n",
       "    var render_items = [{\"docid\":\"4a079a3f-17f4-4d71-b23f-092812d8729e\",\"root_ids\":[\"9966\"],\"roots\":{\"9966\":\"58595d07-367f-4897-b6d4-213a1f95a4a4\"}}];\n",
       "    root.Bokeh.embed.embed_items_notebook(docs_json, render_items);\n",
       "    for (const render_item of render_items) {\n",
       "      for (const root_id of render_item.root_ids) {\n",
       "\tconst id_el = document.getElementById(root_id)\n",
       "\tif (id_el.children.length && (id_el.children[0].className === 'bk-root')) {\n",
       "\t  const root_el = id_el.children[0]\n",
       "\t  root_el.id = root_el.id + '-rendered'\n",
       "\t}\n",
       "      }\n",
       "    }\n",
       "  }\n",
       "  if (root.Bokeh !== undefined && root.Bokeh.Panel !== undefined) {\n",
       "    embed_document(root);\n",
       "  } else {\n",
       "    var attempts = 0;\n",
       "    var timer = setInterval(function(root) {\n",
       "      if (root.Bokeh !== undefined && root.Bokeh.Panel !== undefined) {\n",
       "        clearInterval(timer);\n",
       "        embed_document(root);\n",
       "      } else if (document.readyState == \"complete\") {\n",
       "        attempts++;\n",
       "        if (attempts > 200) {\n",
       "          clearInterval(timer);\n",
       "          console.log(\"Bokeh: ERROR: Unable to run BokehJS code because BokehJS library is missing\");\n",
       "        }\n",
       "      }\n",
       "    }, 25, root)\n",
       "  }\n",
       "})(window);</script>"
      ],
      "text/plain": [
       ":Overlay\n",
       "   .Tiles.I  :Tiles   [x,y]\n",
       "   .Points.I :Points   [lon,lat]   (Ride_name,incident_count)"
      ]
     },
     "execution_count": 70,
     "metadata": {
      "application/vnd.holoviews_exec.v0+json": {
       "id": "9966"
      }
     },
     "output_type": "execute_result"
    }
   ],
   "source": [
    "plot_mapping_data(mapping_data, filter_column=\"Theme_Park\", filter_value=\"Hollywood Studios\", \n",
    "                  scale=15, title=\"Hollywood_Studios\")"
   ]
  },
  {
   "cell_type": "markdown",
   "id": "8d9335a6",
   "metadata": {},
   "source": [
    "### Magic Kingdom"
   ]
  },
  {
   "cell_type": "code",
   "execution_count": 71,
   "id": "1145d3f6",
   "metadata": {},
   "outputs": [
    {
     "data": {},
     "metadata": {},
     "output_type": "display_data"
    },
    {
     "data": {
      "application/vnd.holoviews_exec.v0+json": "",
      "text/html": [
       "<div id='10271'>\n",
       "  <div class=\"bk-root\" id=\"5eb80722-f174-4737-b2cd-fb9391000b72\" data-root-id=\"10271\"></div>\n",
       "</div>\n",
       "<script type=\"application/javascript\">(function(root) {\n",
       "  function embed_document(root) {\n",
       "    var docs_json = {\"76b2d4c8-d489-482b-8f27-f90a0e6566b1\":{\"defs\":[{\"extends\":null,\"module\":null,\"name\":\"ReactiveHTML1\",\"overrides\":[],\"properties\":[]},{\"extends\":null,\"module\":null,\"name\":\"FlexBox1\",\"overrides\":[],\"properties\":[{\"default\":\"flex-start\",\"kind\":null,\"name\":\"align_content\"},{\"default\":\"flex-start\",\"kind\":null,\"name\":\"align_items\"},{\"default\":\"row\",\"kind\":null,\"name\":\"flex_direction\"},{\"default\":\"wrap\",\"kind\":null,\"name\":\"flex_wrap\"},{\"default\":\"flex-start\",\"kind\":null,\"name\":\"justify_content\"}]},{\"extends\":null,\"module\":null,\"name\":\"GridStack1\",\"overrides\":[],\"properties\":[{\"default\":\"warn\",\"kind\":null,\"name\":\"mode\"},{\"default\":null,\"kind\":null,\"name\":\"ncols\"},{\"default\":null,\"kind\":null,\"name\":\"nrows\"},{\"default\":true,\"kind\":null,\"name\":\"allow_resize\"},{\"default\":true,\"kind\":null,\"name\":\"allow_drag\"},{\"default\":[],\"kind\":null,\"name\":\"state\"}]},{\"extends\":null,\"module\":null,\"name\":\"click1\",\"overrides\":[],\"properties\":[{\"default\":\"\",\"kind\":null,\"name\":\"terminal_output\"},{\"default\":\"\",\"kind\":null,\"name\":\"debug_name\"},{\"default\":0,\"kind\":null,\"name\":\"clears\"}]},{\"extends\":null,\"module\":null,\"name\":\"NotificationAreaBase1\",\"overrides\":[],\"properties\":[{\"default\":\"bottom-right\",\"kind\":null,\"name\":\"position\"},{\"default\":0,\"kind\":null,\"name\":\"_clear\"}]},{\"extends\":null,\"module\":null,\"name\":\"NotificationArea1\",\"overrides\":[],\"properties\":[{\"default\":[],\"kind\":null,\"name\":\"notifications\"},{\"default\":\"bottom-right\",\"kind\":null,\"name\":\"position\"},{\"default\":0,\"kind\":null,\"name\":\"_clear\"},{\"default\":[{\"background\":\"#ffc107\",\"icon\":{\"className\":\"fas fa-exclamation-triangle\",\"color\":\"white\",\"tagName\":\"i\"},\"type\":\"warning\"},{\"background\":\"#007bff\",\"icon\":{\"className\":\"fas fa-info-circle\",\"color\":\"white\",\"tagName\":\"i\"},\"type\":\"info\"}],\"kind\":null,\"name\":\"types\"}]},{\"extends\":null,\"module\":null,\"name\":\"Notification\",\"overrides\":[],\"properties\":[{\"default\":null,\"kind\":null,\"name\":\"background\"},{\"default\":3000,\"kind\":null,\"name\":\"duration\"},{\"default\":null,\"kind\":null,\"name\":\"icon\"},{\"default\":\"\",\"kind\":null,\"name\":\"message\"},{\"default\":null,\"kind\":null,\"name\":\"notification_type\"},{\"default\":false,\"kind\":null,\"name\":\"_destroyed\"}]},{\"extends\":null,\"module\":null,\"name\":\"TemplateActions1\",\"overrides\":[],\"properties\":[{\"default\":0,\"kind\":null,\"name\":\"open_modal\"},{\"default\":0,\"kind\":null,\"name\":\"close_modal\"}]},{\"extends\":null,\"module\":null,\"name\":\"MaterialTemplateActions1\",\"overrides\":[],\"properties\":[{\"default\":0,\"kind\":null,\"name\":\"open_modal\"},{\"default\":0,\"kind\":null,\"name\":\"close_modal\"}]}],\"roots\":{\"references\":[{\"attributes\":{\"dimension\":\"lon\"},\"id\":\"10312\",\"type\":\"MercatorTickFormatter\"},{\"attributes\":{},\"id\":\"10288\",\"type\":\"LinearScale\"},{\"attributes\":{\"fill_alpha\":{\"value\":0.75},\"fill_color\":{\"field\":\"color\",\"transform\":{\"id\":\"10342\"}},\"hatch_alpha\":{\"value\":0.1},\"hatch_color\":{\"field\":\"color\",\"transform\":{\"id\":\"10342\"}},\"line_alpha\":{\"value\":0.75},\"line_color\":{\"field\":\"color\",\"transform\":{\"id\":\"10342\"}},\"size\":{\"field\":\"size\"},\"tags\":[\"apply_ranges\"],\"x\":{\"field\":\"lon\"},\"y\":{\"field\":\"lat\"}},\"id\":\"10347\",\"type\":\"Scatter\"},{\"attributes\":{\"end\":3302491.8759485325,\"min_interval\":5,\"reset_end\":3302491.8759485325,\"reset_start\":3301447.9533708086,\"start\":3301447.9533708086,\"tags\":[[[\"lat\",\"lat\",null]]]},\"id\":\"10277\",\"type\":\"Range1d\"},{\"attributes\":{\"code\":\"\\n        var projections = Bokeh.require(\\\"core/util/projections\\\");\\n        var x = special_vars.data_x\\n        var y = special_vars.data_y\\n        var coords = projections.wgs84_mercator.invert(x, y)\\n        return \\\"\\\" + (coords[0]).toFixed(4)\\n    \"},\"id\":\"10353\",\"type\":\"CustomJSHover\"},{\"attributes\":{\"coordinates\":null,\"data_source\":{\"id\":\"10343\"},\"glyph\":{\"id\":\"10346\"},\"group\":null,\"hover_glyph\":{\"id\":\"10349\"},\"muted_glyph\":{\"id\":\"10350\"},\"nonselection_glyph\":{\"id\":\"10347\"},\"selection_glyph\":{\"id\":\"10348\"},\"view\":{\"id\":\"10352\"}},\"id\":\"10351\",\"type\":\"GlyphRenderer\"},{\"attributes\":{\"bottom_units\":\"screen\",\"coordinates\":null,\"fill_alpha\":0.5,\"fill_color\":\"lightgrey\",\"group\":null,\"left_units\":\"screen\",\"level\":\"overlay\",\"line_alpha\":1.0,\"line_color\":\"black\",\"line_dash\":[4,4],\"line_width\":2,\"right_units\":\"screen\",\"syncable\":false,\"top_units\":\"screen\"},\"id\":\"10303\",\"type\":\"BoxAnnotation\"},{\"attributes\":{\"end\":-9081048.350038078,\"min_interval\":5,\"reset_end\":-9081048.350038078,\"reset_start\":-9082092.272615802,\"start\":-9082092.272615802,\"tags\":[[[\"lon\",\"lon\",null]]]},\"id\":\"10276\",\"type\":\"Range1d\"},{\"attributes\":{\"coordinates\":null,\"group\":null,\"level\":\"glyph\",\"tile_source\":{\"id\":\"10337\"}},\"id\":\"10340\",\"type\":\"TileRenderer\"},{\"attributes\":{\"match_aspect\":true,\"overlay\":{\"id\":\"10303\"}},\"id\":\"10301\",\"type\":\"BoxZoomTool\"},{\"attributes\":{\"callback\":null,\"formatters\":{\"$x\":{\"id\":\"10353\"},\"$y\":{\"id\":\"10354\"}},\"renderers\":[{\"id\":\"10351\"}],\"tags\":[\"hv_created\"],\"tooltips\":[[\"lon\",\"$x{custom}\"],[\"lat\",\"$y{custom}\"],[\"Ride_name\",\"@{Ride_name}\"],[\"incident_count\",\"@{incident_count}\"]]},\"id\":\"10280\",\"type\":\"HoverTool\"},{\"attributes\":{\"zoom_on_axis\":false},\"id\":\"10300\",\"type\":\"WheelZoomTool\"},{\"attributes\":{},\"id\":\"10302\",\"type\":\"ResetTool\"},{\"attributes\":{\"axis\":{\"id\":\"10290\"},\"coordinates\":null,\"grid_line_color\":null,\"group\":null,\"ticker\":null},\"id\":\"10293\",\"type\":\"Grid\"},{\"attributes\":{\"axis\":{\"id\":\"10294\"},\"coordinates\":null,\"dimension\":1,\"grid_line_color\":null,\"group\":null,\"ticker\":null},\"id\":\"10297\",\"type\":\"Grid\"},{\"attributes\":{\"code\":\"\\n        var projections = Bokeh.require(\\\"core/util/projections\\\");\\n        var x = special_vars.data_x\\n        var y = special_vars.data_y\\n        var coords = projections.wgs84_mercator.invert(x, y)\\n        return \\\"\\\" + (coords[1]).toFixed(4)\\n    \"},\"id\":\"10354\",\"type\":\"CustomJSHover\"},{\"attributes\":{},\"id\":\"10360\",\"type\":\"UnionRenderers\"},{\"attributes\":{\"below\":[{\"id\":\"10290\"}],\"center\":[{\"id\":\"10293\"},{\"id\":\"10297\"}],\"frame_height\":750,\"frame_width\":750,\"height\":750,\"left\":[{\"id\":\"10294\"}],\"margin\":[5,5,5,5],\"match_aspect\":true,\"min_border_bottom\":10,\"min_border_left\":10,\"min_border_right\":10,\"min_border_top\":10,\"output_backend\":\"webgl\",\"renderers\":[{\"id\":\"10340\"},{\"id\":\"10351\"}],\"sizing_mode\":\"fixed\",\"title\":{\"id\":\"10282\"},\"toolbar\":{\"id\":\"10304\"},\"width\":750,\"x_range\":{\"id\":\"10276\"},\"x_scale\":{\"id\":\"10286\"},\"y_range\":{\"id\":\"10277\"},\"y_scale\":{\"id\":\"10288\"}},\"id\":\"10281\",\"subtype\":\"Figure\",\"type\":\"Plot\"},{\"attributes\":{},\"id\":\"10299\",\"type\":\"PanTool\"},{\"attributes\":{\"axis_label\":\"y\",\"coordinates\":null,\"formatter\":{\"id\":\"10314\"},\"group\":null,\"major_label_policy\":{\"id\":\"10324\"},\"ticker\":{\"id\":\"10313\"}},\"id\":\"10294\",\"type\":\"LinearAxis\"},{\"attributes\":{},\"id\":\"10344\",\"type\":\"Selection\"},{\"attributes\":{\"children\":[{\"id\":\"10281\"}],\"height\":750,\"margin\":[0,0,0,0],\"name\":\"Row09942\",\"sizing_mode\":\"fixed\",\"tags\":[\"embedded\"],\"width\":750},\"id\":\"10271\",\"type\":\"Row\"},{\"attributes\":{\"attribution\":\"&copy; <a href=\\\"https://www.openstreetmap.org/copyright\\\">OpenStreetMap</a> contributors, &copy; <a href=\\\"https://cartodb.com/attributions\\\">CartoDB</a>\",\"url\":\"https://cartodb-basemaps-4.global.ssl.fastly.net/light_all/{Z}/{X}/{Y}.png\"},\"id\":\"10337\",\"type\":\"WMTSTileSource\"},{\"attributes\":{\"dimension\":\"lat\"},\"id\":\"10314\",\"type\":\"MercatorTickFormatter\"},{\"attributes\":{\"dimension\":\"lon\"},\"id\":\"10311\",\"type\":\"MercatorTicker\"},{\"attributes\":{\"source\":{\"id\":\"10343\"}},\"id\":\"10352\",\"type\":\"CDSView\"},{\"attributes\":{},\"id\":\"10317\",\"type\":\"AllLabels\"},{\"attributes\":{\"fill_alpha\":{\"value\":0.2},\"fill_color\":{\"field\":\"color\",\"transform\":{\"id\":\"10342\"}},\"hatch_alpha\":{\"value\":0.2},\"hatch_color\":{\"field\":\"color\",\"transform\":{\"id\":\"10342\"}},\"line_alpha\":{\"value\":0.2},\"line_color\":{\"field\":\"color\",\"transform\":{\"id\":\"10342\"}},\"size\":{\"field\":\"size\"},\"tags\":[\"apply_ranges\"],\"x\":{\"field\":\"lon\"},\"y\":{\"field\":\"lat\"}},\"id\":\"10350\",\"type\":\"Scatter\"},{\"attributes\":{\"active_drag\":{\"id\":\"10299\"},\"tools\":[{\"id\":\"10280\"},{\"id\":\"10298\"},{\"id\":\"10299\"},{\"id\":\"10300\"},{\"id\":\"10301\"},{\"id\":\"10302\"}]},\"id\":\"10304\",\"type\":\"Toolbar\"},{\"attributes\":{\"fill_alpha\":{\"value\":0.75},\"fill_color\":{\"field\":\"color\",\"transform\":{\"id\":\"10342\"}},\"hatch_alpha\":{\"value\":0.75},\"hatch_color\":{\"field\":\"color\",\"transform\":{\"id\":\"10342\"}},\"line_alpha\":{\"value\":0.75},\"line_color\":{\"field\":\"color\",\"transform\":{\"id\":\"10342\"}},\"size\":{\"field\":\"size\"},\"tags\":[\"apply_ranges\"],\"x\":{\"field\":\"lon\"},\"y\":{\"field\":\"lat\"}},\"id\":\"10349\",\"type\":\"Scatter\"},{\"attributes\":{\"coordinates\":null,\"group\":null,\"text\":\"Magic_Kingdom\",\"text_color\":\"black\",\"text_font_size\":\"12pt\"},\"id\":\"10282\",\"type\":\"Title\"},{\"attributes\":{\"fill_alpha\":{\"value\":0.75},\"fill_color\":{\"field\":\"color\",\"transform\":{\"id\":\"10342\"}},\"hatch_alpha\":{\"value\":0.75},\"hatch_color\":{\"field\":\"color\",\"transform\":{\"id\":\"10342\"}},\"line_alpha\":{\"value\":0.75},\"line_color\":{\"field\":\"color\",\"transform\":{\"id\":\"10342\"}},\"size\":{\"field\":\"size\"},\"tags\":[\"apply_ranges\"],\"x\":{\"field\":\"lon\"},\"y\":{\"field\":\"lat\"}},\"id\":\"10346\",\"type\":\"Scatter\"},{\"attributes\":{\"axis_label\":\"x\",\"coordinates\":null,\"formatter\":{\"id\":\"10312\"},\"group\":null,\"major_label_policy\":{\"id\":\"10317\"},\"ticker\":{\"id\":\"10311\"}},\"id\":\"10290\",\"type\":\"LinearAxis\"},{\"attributes\":{\"data\":{\"Ride_name\":[\"Astro Orbiter\",\"Big Thunder Mountain Railroad\",\"Buzz Lightyears Space Ranger Spin\",\"Carousel of Progress\",\"Dumbo\",\"Haunted Mansion\",\"It's A Small World\",\"Jungle Cruise\",\"Liberty Riverboat\",\"Mad Tea Party\",\"Peter Pan's Flight\",\"Pirates of the Caribbean\",\"Prince Charming Regal Carousel\",\"Seven Dwarfs Mine Train\",\"Princess Fairytale Hall\",\"Space Mountain\",\"Splash Mountain\",\"The Barnstormer\",\"Liberty Square Riverboat Landing\",\"The Magic Carpets of Aladdin\",\"The Many Adventures of Winnie the Pooh\",\"Tomorrowland Speedway\",\"Tomorrowland Transit Authority People Mover\",\"Under the Sea - Journey of the Little Mermaid\",\"Walt Disney World Railroad\"],\"color\":[\"Astro Orbiter\",\"Big Thunder Mountain Railroad\",\"Buzz Lightyears Space Ranger Spin\",\"Carousel of Progress\",\"Dumbo\",\"Haunted Mansion\",\"It's A Small World\",\"Jungle Cruise\",\"Liberty Riverboat\",\"Mad Tea Party\",\"Peter Pan's Flight\",\"Pirates of the Caribbean\",\"Prince Charming Regal Carousel\",\"Seven Dwarfs Mine Train\",\"Princess Fairytale Hall\",\"Space Mountain\",\"Splash Mountain\",\"The Barnstormer\",\"Liberty Square Riverboat Landing\",\"The Magic Carpets of Aladdin\",\"The Many Adventures of Winnie the Pooh\",\"Tomorrowland Speedway\",\"Tomorrowland Transit Authority People Mover\",\"Under the Sea - Journey of the Little Mermaid\",\"Walt Disney World Railroad\"],\"incident_count\":[2,12,13,2,1,12,3,6,1,10,8,11,10,4,2,39,10,2,4,1,1,9,6,6,2],\"lat\":{\"__ndarray__\":\"m8wegeMwSUFA7/BHUzFJQdMuH1XJMElB50Ls27owSUFrkV/JXjFJQQ8ThRt+MUlB7OYy2XYxSUEsjJLxxDBJQVOHkowxMUlBeKhX9kUxSUFaY5DWUDFJQeacvva2MElBWrqtUVIxSUH42Rt0azFJQW1zqjU+MUlB1m6b3A4xSUHFZ1wlFzFJQYomepBqMUlBx6QDRysxSUHUdK4g5TBJQZPUBatEMUlBFzIVnSAxSUHKXmM27TBJQRiqaPOaMUlB24kHURsxSUE=\",\"dtype\":\"float64\",\"order\":\"little\",\"shape\":[25]},\"lon\":{\"__ndarray__\":\"VB/AuUBSYcGaUpTeiVJhwYmzS4JHUmHBkIhwrjxSYcHCyJxvPFJhwdX5GsZ0UmHBXNVV2mhSYcFkBfEJfVJhwU7j0pp1UmHBOqKaFElSYcH/KGadaFJhwW2/1PqPUmHBRuDPPl1SYcFIVUjeS1JhwZWuUAdYUmHBo7pu5yVSYcExDX6sklJhwbFqplE2UmHB19TylnNSYcFhF+XvfFJhwS4H/sBRUmHB3Yk3C0NSYcExE5ikPFJhwQ5zjvRHUmHBs747Ei5SYcE=\",\"dtype\":\"float64\",\"order\":\"little\",\"shape\":[25]},\"size\":{\"__ndarray__\":\"EEgXgJQ2NUDfx9I5E/tJQFREG5CoCktAEEgXgJQ2NUAAAAAAAAAuQN/H0jkT+0lA38fSORP7OUAbj8gyBV9CQAAAAAAAAC5AnrUst5K3R0AQSBeAlDZFQEGYvWrr30hAnrUst5K3R0AAAAAAAAA+QBBIF4CUNjVAUSZFtTJrV0CetSy3krdHQBBIF4CUNjVAAAAAAAAAPkAAAAAAAAAuQAAAAAAAAC5AAAAAAACARkAbj8gyBV9CQBuPyDIFX0JAEEgXgJQ2NUA=\",\"dtype\":\"float64\",\"order\":\"little\",\"shape\":[25]}},\"selected\":{\"id\":\"10344\"},\"selection_policy\":{\"id\":\"10360\"}},\"id\":\"10343\",\"type\":\"ColumnDataSource\"},{\"attributes\":{\"fill_alpha\":{\"value\":0.75},\"fill_color\":{\"field\":\"color\",\"transform\":{\"id\":\"10342\"}},\"hatch_alpha\":{\"value\":0.75},\"hatch_color\":{\"field\":\"color\",\"transform\":{\"id\":\"10342\"}},\"line_alpha\":{\"value\":0.75},\"line_color\":{\"field\":\"color\",\"transform\":{\"id\":\"10342\"}},\"size\":{\"field\":\"size\"},\"tags\":[\"apply_ranges\"],\"x\":{\"field\":\"lon\"},\"y\":{\"field\":\"lat\"}},\"id\":\"10348\",\"type\":\"Scatter\"},{\"attributes\":{\"factors\":[\"Astro Orbiter\",\"Big Thunder Mountain Railroad\",\"Buzz Lightyears Space Ranger Spin\",\"Carousel of Progress\",\"Dumbo\",\"Haunted Mansion\",\"It's A Small World\",\"Jungle Cruise\",\"Liberty Riverboat\",\"Mad Tea Party\",\"Peter Pan's Flight\",\"Pirates of the Caribbean\",\"Prince Charming Regal Carousel\",\"Seven Dwarfs Mine Train\",\"Princess Fairytale Hall\",\"Space Mountain\",\"Splash Mountain\",\"The Barnstormer\",\"Liberty Square Riverboat Landing\",\"The Magic Carpets of Aladdin\",\"The Many Adventures of Winnie the Pooh\",\"Tomorrowland Speedway\",\"Tomorrowland Transit Authority People Mover\",\"Under the Sea - Journey of the Little Mermaid\",\"Walt Disney World Railroad\"],\"palette\":[\"#1f77b3\",\"#ff7e0e\",\"#2ba02b\",\"#d62628\",\"#9367bc\",\"#8c564b\",\"#e277c1\",\"#7e7e7e\",\"#bcbc21\",\"#16bdcf\",\"#3a0182\",\"#004201\",\"#0fffa8\",\"#5d003f\",\"#bcbcff\",\"#d8afa1\",\"#b80080\",\"#004d52\",\"#6b6400\",\"#7c0100\",\"#6026ff\",\"#ffff9a\",\"#564964\",\"#8cb893\",\"#93fbff\"]},\"id\":\"10342\",\"type\":\"CategoricalColorMapper\"},{\"attributes\":{},\"id\":\"10324\",\"type\":\"AllLabels\"},{\"attributes\":{},\"id\":\"10298\",\"type\":\"SaveTool\"},{\"attributes\":{},\"id\":\"10286\",\"type\":\"LinearScale\"},{\"attributes\":{\"dimension\":\"lat\"},\"id\":\"10313\",\"type\":\"MercatorTicker\"}],\"root_ids\":[\"10271\"]},\"title\":\"Bokeh Application\",\"version\":\"2.4.3\"}};\n",
       "    var render_items = [{\"docid\":\"76b2d4c8-d489-482b-8f27-f90a0e6566b1\",\"root_ids\":[\"10271\"],\"roots\":{\"10271\":\"5eb80722-f174-4737-b2cd-fb9391000b72\"}}];\n",
       "    root.Bokeh.embed.embed_items_notebook(docs_json, render_items);\n",
       "    for (const render_item of render_items) {\n",
       "      for (const root_id of render_item.root_ids) {\n",
       "\tconst id_el = document.getElementById(root_id)\n",
       "\tif (id_el.children.length && (id_el.children[0].className === 'bk-root')) {\n",
       "\t  const root_el = id_el.children[0]\n",
       "\t  root_el.id = root_el.id + '-rendered'\n",
       "\t}\n",
       "      }\n",
       "    }\n",
       "  }\n",
       "  if (root.Bokeh !== undefined && root.Bokeh.Panel !== undefined) {\n",
       "    embed_document(root);\n",
       "  } else {\n",
       "    var attempts = 0;\n",
       "    var timer = setInterval(function(root) {\n",
       "      if (root.Bokeh !== undefined && root.Bokeh.Panel !== undefined) {\n",
       "        clearInterval(timer);\n",
       "        embed_document(root);\n",
       "      } else if (document.readyState == \"complete\") {\n",
       "        attempts++;\n",
       "        if (attempts > 200) {\n",
       "          clearInterval(timer);\n",
       "          console.log(\"Bokeh: ERROR: Unable to run BokehJS code because BokehJS library is missing\");\n",
       "        }\n",
       "      }\n",
       "    }, 25, root)\n",
       "  }\n",
       "})(window);</script>"
      ],
      "text/plain": [
       ":Overlay\n",
       "   .Tiles.I  :Tiles   [x,y]\n",
       "   .Points.I :Points   [lon,lat]   (Ride_name,incident_count)"
      ]
     },
     "execution_count": 71,
     "metadata": {
      "application/vnd.holoviews_exec.v0+json": {
       "id": "10271"
      }
     },
     "output_type": "execute_result"
    }
   ],
   "source": [
    "plot_mapping_data(mapping_data, filter_column=\"Theme_Park\", filter_value=\"Magic Kingdom\", scale=15, title=\"Magic_Kingdom\")"
   ]
  },
  {
   "cell_type": "markdown",
   "id": "662596bf",
   "metadata": {},
   "source": [
    "### Typhoon Lagoon"
   ]
  },
  {
   "cell_type": "code",
   "execution_count": 72,
   "id": "89d16433",
   "metadata": {},
   "outputs": [
    {
     "data": {},
     "metadata": {},
     "output_type": "display_data"
    },
    {
     "data": {
      "application/vnd.holoviews_exec.v0+json": "",
      "text/html": [
       "<div id='10576'>\n",
       "  <div class=\"bk-root\" id=\"7e5cf85e-ae39-4f69-83ab-b5c1a4948d0c\" data-root-id=\"10576\"></div>\n",
       "</div>\n",
       "<script type=\"application/javascript\">(function(root) {\n",
       "  function embed_document(root) {\n",
       "    var docs_json = {\"3fe4b2b7-72e4-4715-b973-1136cb2e8e4f\":{\"defs\":[{\"extends\":null,\"module\":null,\"name\":\"ReactiveHTML1\",\"overrides\":[],\"properties\":[]},{\"extends\":null,\"module\":null,\"name\":\"FlexBox1\",\"overrides\":[],\"properties\":[{\"default\":\"flex-start\",\"kind\":null,\"name\":\"align_content\"},{\"default\":\"flex-start\",\"kind\":null,\"name\":\"align_items\"},{\"default\":\"row\",\"kind\":null,\"name\":\"flex_direction\"},{\"default\":\"wrap\",\"kind\":null,\"name\":\"flex_wrap\"},{\"default\":\"flex-start\",\"kind\":null,\"name\":\"justify_content\"}]},{\"extends\":null,\"module\":null,\"name\":\"GridStack1\",\"overrides\":[],\"properties\":[{\"default\":\"warn\",\"kind\":null,\"name\":\"mode\"},{\"default\":null,\"kind\":null,\"name\":\"ncols\"},{\"default\":null,\"kind\":null,\"name\":\"nrows\"},{\"default\":true,\"kind\":null,\"name\":\"allow_resize\"},{\"default\":true,\"kind\":null,\"name\":\"allow_drag\"},{\"default\":[],\"kind\":null,\"name\":\"state\"}]},{\"extends\":null,\"module\":null,\"name\":\"click1\",\"overrides\":[],\"properties\":[{\"default\":\"\",\"kind\":null,\"name\":\"terminal_output\"},{\"default\":\"\",\"kind\":null,\"name\":\"debug_name\"},{\"default\":0,\"kind\":null,\"name\":\"clears\"}]},{\"extends\":null,\"module\":null,\"name\":\"NotificationAreaBase1\",\"overrides\":[],\"properties\":[{\"default\":\"bottom-right\",\"kind\":null,\"name\":\"position\"},{\"default\":0,\"kind\":null,\"name\":\"_clear\"}]},{\"extends\":null,\"module\":null,\"name\":\"NotificationArea1\",\"overrides\":[],\"properties\":[{\"default\":[],\"kind\":null,\"name\":\"notifications\"},{\"default\":\"bottom-right\",\"kind\":null,\"name\":\"position\"},{\"default\":0,\"kind\":null,\"name\":\"_clear\"},{\"default\":[{\"background\":\"#ffc107\",\"icon\":{\"className\":\"fas fa-exclamation-triangle\",\"color\":\"white\",\"tagName\":\"i\"},\"type\":\"warning\"},{\"background\":\"#007bff\",\"icon\":{\"className\":\"fas fa-info-circle\",\"color\":\"white\",\"tagName\":\"i\"},\"type\":\"info\"}],\"kind\":null,\"name\":\"types\"}]},{\"extends\":null,\"module\":null,\"name\":\"Notification\",\"overrides\":[],\"properties\":[{\"default\":null,\"kind\":null,\"name\":\"background\"},{\"default\":3000,\"kind\":null,\"name\":\"duration\"},{\"default\":null,\"kind\":null,\"name\":\"icon\"},{\"default\":\"\",\"kind\":null,\"name\":\"message\"},{\"default\":null,\"kind\":null,\"name\":\"notification_type\"},{\"default\":false,\"kind\":null,\"name\":\"_destroyed\"}]},{\"extends\":null,\"module\":null,\"name\":\"TemplateActions1\",\"overrides\":[],\"properties\":[{\"default\":0,\"kind\":null,\"name\":\"open_modal\"},{\"default\":0,\"kind\":null,\"name\":\"close_modal\"}]},{\"extends\":null,\"module\":null,\"name\":\"MaterialTemplateActions1\",\"overrides\":[],\"properties\":[{\"default\":0,\"kind\":null,\"name\":\"open_modal\"},{\"default\":0,\"kind\":null,\"name\":\"close_modal\"}]}],\"roots\":{\"references\":[{\"attributes\":{},\"id\":\"10607\",\"type\":\"ResetTool\"},{\"attributes\":{\"code\":\"\\n        var projections = Bokeh.require(\\\"core/util/projections\\\");\\n        var x = special_vars.data_x\\n        var y = special_vars.data_y\\n        var coords = projections.wgs84_mercator.invert(x, y)\\n        return \\\"\\\" + (coords[1]).toFixed(4)\\n    \"},\"id\":\"10659\",\"type\":\"CustomJSHover\"},{\"attributes\":{},\"id\":\"10604\",\"type\":\"PanTool\"},{\"attributes\":{\"fill_alpha\":{\"value\":0.75},\"fill_color\":{\"field\":\"color\",\"transform\":{\"id\":\"10647\"}},\"hatch_alpha\":{\"value\":0.1},\"hatch_color\":{\"field\":\"color\",\"transform\":{\"id\":\"10647\"}},\"line_alpha\":{\"value\":0.75},\"line_color\":{\"field\":\"color\",\"transform\":{\"id\":\"10647\"}},\"size\":{\"field\":\"size\"},\"tags\":[\"apply_ranges\"],\"x\":{\"field\":\"lon\"},\"y\":{\"field\":\"lat\"}},\"id\":\"10652\",\"type\":\"Scatter\"},{\"attributes\":{\"below\":[{\"id\":\"10595\"}],\"center\":[{\"id\":\"10598\"},{\"id\":\"10602\"}],\"frame_height\":750,\"frame_width\":750,\"height\":750,\"left\":[{\"id\":\"10599\"}],\"margin\":[5,5,5,5],\"match_aspect\":true,\"min_border_bottom\":10,\"min_border_left\":10,\"min_border_right\":10,\"min_border_top\":10,\"output_backend\":\"webgl\",\"renderers\":[{\"id\":\"10645\"},{\"id\":\"10656\"}],\"sizing_mode\":\"fixed\",\"title\":{\"id\":\"10587\"},\"toolbar\":{\"id\":\"10609\"},\"width\":750,\"x_range\":{\"id\":\"10581\"},\"x_scale\":{\"id\":\"10591\"},\"y_range\":{\"id\":\"10582\"},\"y_scale\":{\"id\":\"10593\"}},\"id\":\"10586\",\"subtype\":\"Figure\",\"type\":\"Plot\"},{\"attributes\":{\"bottom_units\":\"screen\",\"coordinates\":null,\"fill_alpha\":0.5,\"fill_color\":\"lightgrey\",\"group\":null,\"left_units\":\"screen\",\"level\":\"overlay\",\"line_alpha\":1.0,\"line_color\":\"black\",\"line_dash\":[4,4],\"line_width\":2,\"right_units\":\"screen\",\"syncable\":false,\"top_units\":\"screen\"},\"id\":\"10608\",\"type\":\"BoxAnnotation\"},{\"attributes\":{\"match_aspect\":true,\"overlay\":{\"id\":\"10608\"}},\"id\":\"10606\",\"type\":\"BoxZoomTool\"},{\"attributes\":{},\"id\":\"10665\",\"type\":\"UnionRenderers\"},{\"attributes\":{},\"id\":\"10593\",\"type\":\"LinearScale\"},{\"attributes\":{\"code\":\"\\n        var projections = Bokeh.require(\\\"core/util/projections\\\");\\n        var x = special_vars.data_x\\n        var y = special_vars.data_y\\n        var coords = projections.wgs84_mercator.invert(x, y)\\n        return \\\"\\\" + (coords[0]).toFixed(4)\\n    \"},\"id\":\"10658\",\"type\":\"CustomJSHover\"},{\"attributes\":{\"active_drag\":{\"id\":\"10604\"},\"tools\":[{\"id\":\"10585\"},{\"id\":\"10603\"},{\"id\":\"10604\"},{\"id\":\"10605\"},{\"id\":\"10606\"},{\"id\":\"10607\"}]},\"id\":\"10609\",\"type\":\"Toolbar\"},{\"attributes\":{},\"id\":\"10603\",\"type\":\"SaveTool\"},{\"attributes\":{\"dimension\":\"lon\"},\"id\":\"10616\",\"type\":\"MercatorTicker\"},{\"attributes\":{\"end\":3295447.761501024,\"min_interval\":5,\"reset_end\":3295447.761501024,\"reset_start\":3295018.82454647,\"start\":3295018.82454647,\"tags\":[[[\"lat\",\"lat\",null]]]},\"id\":\"10582\",\"type\":\"Range1d\"},{\"attributes\":{\"axis\":{\"id\":\"10599\"},\"coordinates\":null,\"dimension\":1,\"grid_line_color\":null,\"group\":null,\"ticker\":null},\"id\":\"10602\",\"type\":\"Grid\"},{\"attributes\":{\"dimension\":\"lat\"},\"id\":\"10618\",\"type\":\"MercatorTicker\"},{\"attributes\":{},\"id\":\"10591\",\"type\":\"LinearScale\"},{\"attributes\":{},\"id\":\"10649\",\"type\":\"Selection\"},{\"attributes\":{\"end\":-9075561.580164492,\"min_interval\":5,\"reset_end\":-9075561.580164492,\"reset_start\":-9075990.517119046,\"start\":-9075990.517119046,\"tags\":[[[\"lon\",\"lon\",null]]]},\"id\":\"10581\",\"type\":\"Range1d\"},{\"attributes\":{\"factors\":[\"Castaway Creek\",\"Crush n' Gusher\",\"Humunga Kowabunga\",\"Mayday Falls\",\"Typhoon Tillie's\",\"Slush Gusher\",\"Storm Slides\",\"Surf Pool\"],\"palette\":[\"#1f77b3\",\"#ff7e0e\",\"#2ba02b\",\"#d62628\",\"#9367bc\",\"#8c564b\",\"#e277c1\",\"#7e7e7e\"]},\"id\":\"10647\",\"type\":\"CategoricalColorMapper\"},{\"attributes\":{\"fill_alpha\":{\"value\":0.75},\"fill_color\":{\"field\":\"color\",\"transform\":{\"id\":\"10647\"}},\"hatch_alpha\":{\"value\":0.75},\"hatch_color\":{\"field\":\"color\",\"transform\":{\"id\":\"10647\"}},\"line_alpha\":{\"value\":0.75},\"line_color\":{\"field\":\"color\",\"transform\":{\"id\":\"10647\"}},\"size\":{\"field\":\"size\"},\"tags\":[\"apply_ranges\"],\"x\":{\"field\":\"lon\"},\"y\":{\"field\":\"lat\"}},\"id\":\"10654\",\"type\":\"Scatter\"},{\"attributes\":{\"fill_alpha\":{\"value\":0.75},\"fill_color\":{\"field\":\"color\",\"transform\":{\"id\":\"10647\"}},\"hatch_alpha\":{\"value\":0.75},\"hatch_color\":{\"field\":\"color\",\"transform\":{\"id\":\"10647\"}},\"line_alpha\":{\"value\":0.75},\"line_color\":{\"field\":\"color\",\"transform\":{\"id\":\"10647\"}},\"size\":{\"field\":\"size\"},\"tags\":[\"apply_ranges\"],\"x\":{\"field\":\"lon\"},\"y\":{\"field\":\"lat\"}},\"id\":\"10653\",\"type\":\"Scatter\"},{\"attributes\":{\"dimension\":\"lon\"},\"id\":\"10617\",\"type\":\"MercatorTickFormatter\"},{\"attributes\":{\"zoom_on_axis\":false},\"id\":\"10605\",\"type\":\"WheelZoomTool\"},{\"attributes\":{\"children\":[{\"id\":\"10586\"}],\"height\":750,\"margin\":[0,0,0,0],\"name\":\"Row10150\",\"sizing_mode\":\"fixed\",\"tags\":[\"embedded\"],\"width\":750},\"id\":\"10576\",\"type\":\"Row\"},{\"attributes\":{\"coordinates\":null,\"data_source\":{\"id\":\"10648\"},\"glyph\":{\"id\":\"10651\"},\"group\":null,\"hover_glyph\":{\"id\":\"10654\"},\"muted_glyph\":{\"id\":\"10655\"},\"nonselection_glyph\":{\"id\":\"10652\"},\"selection_glyph\":{\"id\":\"10653\"},\"view\":{\"id\":\"10657\"}},\"id\":\"10656\",\"type\":\"GlyphRenderer\"},{\"attributes\":{\"data\":{\"Ride_name\":[\"Castaway Creek\",\"Crush n' Gusher\",\"Humunga Kowabunga\",\"Mayday Falls\",\"Typhoon Tillie's\",\"Slush Gusher\",\"Storm Slides\",\"Surf Pool\",\"Surf Pool\"],\"color\":[\"Castaway Creek\",\"Crush n' Gusher\",\"Humunga Kowabunga\",\"Mayday Falls\",\"Typhoon Tillie's\",\"Slush Gusher\",\"Storm Slides\",\"Surf Pool\",\"Surf Pool\"],\"incident_count\":[5,2,3,7,2,1,5,1,14],\"lat\":{\"__ndarray__\":\"CMx8e9YjSUHrQePbLiRJQR/yjnQFJElBZGcgb9IjSUHWoklvHiRJQetB49suJElBoUqpQg4kSUFIQgNF3SNJQUhCA0XdI0lB\",\"dtype\":\"float64\",\"order\":\"little\",\"shape\":[9]},\"lon\":{\"__ndarray__\":\"N4imeoJPYcFAvdWmcU9hwQ3883mcT2HBVxYhGpxPYcEL4rfxjU9hwUC91aZxT2HBIjVHXJ5PYcHOdu3Mj09hwc527cyPT2HB\",\"dtype\":\"float64\",\"order\":\"little\",\"shape\":[9]},\"size\":{\"__ndarray__\":\"XnXeIUDFQEAQSBeAlDY1QN/H0jkT+zlAW8k1r9fXQ0AQSBeAlDY1QAAAAAAAAC5AXnXeIUDFQEAAAAAAAAAuQFS7UXD7D0xA\",\"dtype\":\"float64\",\"order\":\"little\",\"shape\":[9]}},\"selected\":{\"id\":\"10649\"},\"selection_policy\":{\"id\":\"10665\"}},\"id\":\"10648\",\"type\":\"ColumnDataSource\"},{\"attributes\":{\"attribution\":\"&copy; <a href=\\\"https://www.openstreetmap.org/copyright\\\">OpenStreetMap</a> contributors, &copy; <a href=\\\"https://cartodb.com/attributions\\\">CartoDB</a>\",\"url\":\"https://cartodb-basemaps-4.global.ssl.fastly.net/light_all/{Z}/{X}/{Y}.png\"},\"id\":\"10642\",\"type\":\"WMTSTileSource\"},{\"attributes\":{\"coordinates\":null,\"group\":null,\"text\":\"Typhoon_Lagoon\",\"text_color\":\"black\",\"text_font_size\":\"12pt\"},\"id\":\"10587\",\"type\":\"Title\"},{\"attributes\":{\"axis_label\":\"y\",\"coordinates\":null,\"formatter\":{\"id\":\"10619\"},\"group\":null,\"major_label_policy\":{\"id\":\"10629\"},\"ticker\":{\"id\":\"10618\"}},\"id\":\"10599\",\"type\":\"LinearAxis\"},{\"attributes\":{\"callback\":null,\"formatters\":{\"$x\":{\"id\":\"10658\"},\"$y\":{\"id\":\"10659\"}},\"renderers\":[{\"id\":\"10656\"}],\"tags\":[\"hv_created\"],\"tooltips\":[[\"lon\",\"$x{custom}\"],[\"lat\",\"$y{custom}\"],[\"Ride_name\",\"@{Ride_name}\"],[\"incident_count\",\"@{incident_count}\"]]},\"id\":\"10585\",\"type\":\"HoverTool\"},{\"attributes\":{\"coordinates\":null,\"group\":null,\"level\":\"glyph\",\"tile_source\":{\"id\":\"10642\"}},\"id\":\"10645\",\"type\":\"TileRenderer\"},{\"attributes\":{\"dimension\":\"lat\"},\"id\":\"10619\",\"type\":\"MercatorTickFormatter\"},{\"attributes\":{\"source\":{\"id\":\"10648\"}},\"id\":\"10657\",\"type\":\"CDSView\"},{\"attributes\":{},\"id\":\"10622\",\"type\":\"AllLabels\"},{\"attributes\":{\"axis_label\":\"x\",\"coordinates\":null,\"formatter\":{\"id\":\"10617\"},\"group\":null,\"major_label_policy\":{\"id\":\"10622\"},\"ticker\":{\"id\":\"10616\"}},\"id\":\"10595\",\"type\":\"LinearAxis\"},{\"attributes\":{\"axis\":{\"id\":\"10595\"},\"coordinates\":null,\"grid_line_color\":null,\"group\":null,\"ticker\":null},\"id\":\"10598\",\"type\":\"Grid\"},{\"attributes\":{\"fill_alpha\":{\"value\":0.75},\"fill_color\":{\"field\":\"color\",\"transform\":{\"id\":\"10647\"}},\"hatch_alpha\":{\"value\":0.75},\"hatch_color\":{\"field\":\"color\",\"transform\":{\"id\":\"10647\"}},\"line_alpha\":{\"value\":0.75},\"line_color\":{\"field\":\"color\",\"transform\":{\"id\":\"10647\"}},\"size\":{\"field\":\"size\"},\"tags\":[\"apply_ranges\"],\"x\":{\"field\":\"lon\"},\"y\":{\"field\":\"lat\"}},\"id\":\"10651\",\"type\":\"Scatter\"},{\"attributes\":{},\"id\":\"10629\",\"type\":\"AllLabels\"},{\"attributes\":{\"fill_alpha\":{\"value\":0.2},\"fill_color\":{\"field\":\"color\",\"transform\":{\"id\":\"10647\"}},\"hatch_alpha\":{\"value\":0.2},\"hatch_color\":{\"field\":\"color\",\"transform\":{\"id\":\"10647\"}},\"line_alpha\":{\"value\":0.2},\"line_color\":{\"field\":\"color\",\"transform\":{\"id\":\"10647\"}},\"size\":{\"field\":\"size\"},\"tags\":[\"apply_ranges\"],\"x\":{\"field\":\"lon\"},\"y\":{\"field\":\"lat\"}},\"id\":\"10655\",\"type\":\"Scatter\"}],\"root_ids\":[\"10576\"]},\"title\":\"Bokeh Application\",\"version\":\"2.4.3\"}};\n",
       "    var render_items = [{\"docid\":\"3fe4b2b7-72e4-4715-b973-1136cb2e8e4f\",\"root_ids\":[\"10576\"],\"roots\":{\"10576\":\"7e5cf85e-ae39-4f69-83ab-b5c1a4948d0c\"}}];\n",
       "    root.Bokeh.embed.embed_items_notebook(docs_json, render_items);\n",
       "    for (const render_item of render_items) {\n",
       "      for (const root_id of render_item.root_ids) {\n",
       "\tconst id_el = document.getElementById(root_id)\n",
       "\tif (id_el.children.length && (id_el.children[0].className === 'bk-root')) {\n",
       "\t  const root_el = id_el.children[0]\n",
       "\t  root_el.id = root_el.id + '-rendered'\n",
       "\t}\n",
       "      }\n",
       "    }\n",
       "  }\n",
       "  if (root.Bokeh !== undefined && root.Bokeh.Panel !== undefined) {\n",
       "    embed_document(root);\n",
       "  } else {\n",
       "    var attempts = 0;\n",
       "    var timer = setInterval(function(root) {\n",
       "      if (root.Bokeh !== undefined && root.Bokeh.Panel !== undefined) {\n",
       "        clearInterval(timer);\n",
       "        embed_document(root);\n",
       "      } else if (document.readyState == \"complete\") {\n",
       "        attempts++;\n",
       "        if (attempts > 200) {\n",
       "          clearInterval(timer);\n",
       "          console.log(\"Bokeh: ERROR: Unable to run BokehJS code because BokehJS library is missing\");\n",
       "        }\n",
       "      }\n",
       "    }, 25, root)\n",
       "  }\n",
       "})(window);</script>"
      ],
      "text/plain": [
       ":Overlay\n",
       "   .Tiles.I  :Tiles   [x,y]\n",
       "   .Points.I :Points   [lon,lat]   (Ride_name,incident_count)"
      ]
     },
     "execution_count": 72,
     "metadata": {
      "application/vnd.holoviews_exec.v0+json": {
       "id": "10576"
      }
     },
     "output_type": "execute_result"
    }
   ],
   "source": [
    "plot_mapping_data(mapping_data, filter_column=\"Theme_Park\", filter_value=\"Typhoon Lagoon\", \n",
    "                  scale=15, title=\"Typhoon_Lagoon\")"
   ]
  },
  {
   "cell_type": "markdown",
   "id": "f7baf8ea",
   "metadata": {},
   "source": [
    "## Universal Parks"
   ]
  },
  {
   "cell_type": "code",
   "execution_count": 73,
   "id": "1331cdc6",
   "metadata": {},
   "outputs": [
    {
     "data": {},
     "metadata": {},
     "output_type": "display_data"
    },
    {
     "data": {
      "application/vnd.holoviews_exec.v0+json": "",
      "text/html": [
       "<div id='10881'>\n",
       "  <div class=\"bk-root\" id=\"8dbca55a-fb15-4687-b315-ff398274ce90\" data-root-id=\"10881\"></div>\n",
       "</div>\n",
       "<script type=\"application/javascript\">(function(root) {\n",
       "  function embed_document(root) {\n",
       "    var docs_json = {\"497126dc-d9ca-4d62-b7fb-34a7d668ac6c\":{\"defs\":[{\"extends\":null,\"module\":null,\"name\":\"ReactiveHTML1\",\"overrides\":[],\"properties\":[]},{\"extends\":null,\"module\":null,\"name\":\"FlexBox1\",\"overrides\":[],\"properties\":[{\"default\":\"flex-start\",\"kind\":null,\"name\":\"align_content\"},{\"default\":\"flex-start\",\"kind\":null,\"name\":\"align_items\"},{\"default\":\"row\",\"kind\":null,\"name\":\"flex_direction\"},{\"default\":\"wrap\",\"kind\":null,\"name\":\"flex_wrap\"},{\"default\":\"flex-start\",\"kind\":null,\"name\":\"justify_content\"}]},{\"extends\":null,\"module\":null,\"name\":\"GridStack1\",\"overrides\":[],\"properties\":[{\"default\":\"warn\",\"kind\":null,\"name\":\"mode\"},{\"default\":null,\"kind\":null,\"name\":\"ncols\"},{\"default\":null,\"kind\":null,\"name\":\"nrows\"},{\"default\":true,\"kind\":null,\"name\":\"allow_resize\"},{\"default\":true,\"kind\":null,\"name\":\"allow_drag\"},{\"default\":[],\"kind\":null,\"name\":\"state\"}]},{\"extends\":null,\"module\":null,\"name\":\"click1\",\"overrides\":[],\"properties\":[{\"default\":\"\",\"kind\":null,\"name\":\"terminal_output\"},{\"default\":\"\",\"kind\":null,\"name\":\"debug_name\"},{\"default\":0,\"kind\":null,\"name\":\"clears\"}]},{\"extends\":null,\"module\":null,\"name\":\"NotificationAreaBase1\",\"overrides\":[],\"properties\":[{\"default\":\"bottom-right\",\"kind\":null,\"name\":\"position\"},{\"default\":0,\"kind\":null,\"name\":\"_clear\"}]},{\"extends\":null,\"module\":null,\"name\":\"NotificationArea1\",\"overrides\":[],\"properties\":[{\"default\":[],\"kind\":null,\"name\":\"notifications\"},{\"default\":\"bottom-right\",\"kind\":null,\"name\":\"position\"},{\"default\":0,\"kind\":null,\"name\":\"_clear\"},{\"default\":[{\"background\":\"#ffc107\",\"icon\":{\"className\":\"fas fa-exclamation-triangle\",\"color\":\"white\",\"tagName\":\"i\"},\"type\":\"warning\"},{\"background\":\"#007bff\",\"icon\":{\"className\":\"fas fa-info-circle\",\"color\":\"white\",\"tagName\":\"i\"},\"type\":\"info\"}],\"kind\":null,\"name\":\"types\"}]},{\"extends\":null,\"module\":null,\"name\":\"Notification\",\"overrides\":[],\"properties\":[{\"default\":null,\"kind\":null,\"name\":\"background\"},{\"default\":3000,\"kind\":null,\"name\":\"duration\"},{\"default\":null,\"kind\":null,\"name\":\"icon\"},{\"default\":\"\",\"kind\":null,\"name\":\"message\"},{\"default\":null,\"kind\":null,\"name\":\"notification_type\"},{\"default\":false,\"kind\":null,\"name\":\"_destroyed\"}]},{\"extends\":null,\"module\":null,\"name\":\"TemplateActions1\",\"overrides\":[],\"properties\":[{\"default\":0,\"kind\":null,\"name\":\"open_modal\"},{\"default\":0,\"kind\":null,\"name\":\"close_modal\"}]},{\"extends\":null,\"module\":null,\"name\":\"MaterialTemplateActions1\",\"overrides\":[],\"properties\":[{\"default\":0,\"kind\":null,\"name\":\"open_modal\"},{\"default\":0,\"kind\":null,\"name\":\"close_modal\"}]}],\"roots\":{\"references\":[{\"attributes\":{\"fill_alpha\":{\"value\":0.2},\"fill_color\":{\"field\":\"color\",\"transform\":{\"id\":\"10952\"}},\"hatch_alpha\":{\"value\":0.2},\"hatch_color\":{\"field\":\"color\",\"transform\":{\"id\":\"10952\"}},\"line_alpha\":{\"value\":0.2},\"line_color\":{\"field\":\"color\",\"transform\":{\"id\":\"10952\"}},\"size\":{\"field\":\"size\"},\"tags\":[\"apply_ranges\"],\"x\":{\"field\":\"lon\"},\"y\":{\"field\":\"lat\"}},\"id\":\"10960\",\"type\":\"Scatter\"},{\"attributes\":{\"dimension\":\"lon\"},\"id\":\"10921\",\"type\":\"MercatorTicker\"},{\"attributes\":{},\"id\":\"10898\",\"type\":\"LinearScale\"},{\"attributes\":{\"coordinates\":null,\"group\":null,\"level\":\"glyph\",\"tile_source\":{\"id\":\"10947\"}},\"id\":\"10950\",\"type\":\"TileRenderer\"},{\"attributes\":{\"axis_label\":\"y\",\"coordinates\":null,\"formatter\":{\"id\":\"10924\"},\"group\":null,\"major_label_policy\":{\"id\":\"10934\"},\"ticker\":{\"id\":\"10923\"}},\"id\":\"10904\",\"type\":\"LinearAxis\"},{\"attributes\":{\"attribution\":\"&copy; <a href=\\\"https://www.openstreetmap.org/copyright\\\">OpenStreetMap</a> contributors, &copy; <a href=\\\"https://cartodb.com/attributions\\\">CartoDB</a>\",\"url\":\"https://cartodb-basemaps-4.global.ssl.fastly.net/light_all/{Z}/{X}/{Y}.png\"},\"id\":\"10947\",\"type\":\"WMTSTileSource\"},{\"attributes\":{},\"id\":\"10896\",\"type\":\"LinearScale\"},{\"attributes\":{\"source\":{\"id\":\"10953\"}},\"id\":\"10962\",\"type\":\"CDSView\"},{\"attributes\":{\"data\":{\"Ride_name\":[\"Back to the Future\",\"Camp Jurassic\",\"Caro-Seuss-el\",\"Despicable Me Minion Mayhem\",\"Fast & Furious - Supercharged\",\"Cafe 4\",\"Hagrid's Magical Creatures Motorbike Adventure\",\"Dudley Do Rights Ripsaw Falls\",\"E.T Adventure\",\"Fievel's Playground\",\"Flight of the Hippogriff\",\"Harry Potter and the Escape from Gringotts\",\"Harry Potter and the Forbidden Journey\",\"Hollywood Rip Ride Rocket\",\"If I Ran the Zoo\",\"Jurassic Park River Adventure\",\"VelociCoaster\",\"Kala & Tai Nui Serpentine Body Slides\",\"Kang & Kodos Twirl n' Hurl\",\"Ko'okiri Body Plunge\",\"Kopiko Wai Winding River\",\"Men In Black\",\"Ohno Drop Slide\",\"Poseidon's Fury\",\"Puihi Raft Ride\",\"Punga Racers\",\"Revenge of the Mummy\",\"Runamukka Reef\",\"Storm Force Acceleration\",\"Te'awa The Fearless River\",\"The Bourne Stuntacular\",\"The Amazing Adventures of Spiderman\",\"The Cat In The Hat\",\"The Incredible Hulk Coaster\",\"The Simpsons Ride\",\"Transformers: The Ride 3D\"],\"color\":[\"Back to the Future\",\"Camp Jurassic\",\"Caro-Seuss-el\",\"Despicable Me Minion Mayhem\",\"Fast & Furious - Supercharged\",\"Cafe 4\",\"Hagrid's Magical Creatures Motorbike Adventure\",\"Dudley Do Rights Ripsaw Falls\",\"E.T Adventure\",\"Fievel's Playground\",\"Flight of the Hippogriff\",\"Harry Potter and the Escape from Gringotts\",\"Harry Potter and the Forbidden Journey\",\"Hollywood Rip Ride Rocket\",\"If I Ran the Zoo\",\"Jurassic Park River Adventure\",\"VelociCoaster\",\"Kala & Tai Nui Serpentine Body Slides\",\"Kang & Kodos Twirl n' Hurl\",\"Ko'okiri Body Plunge\",\"Kopiko Wai Winding River\",\"Men In Black\",\"Ohno Drop Slide\",\"Poseidon's Fury\",\"Puihi Raft Ride\",\"Punga Racers\",\"Revenge of the Mummy\",\"Runamukka Reef\",\"Storm Force Acceleration\",\"Te'awa The Fearless River\",\"The Bourne Stuntacular\",\"The Amazing Adventures of Spiderman\",\"The Cat In The Hat\",\"The Incredible Hulk Coaster\",\"The Simpsons Ride\",\"Transformers: The Ride 3D\"],\"incident_count\":[1,3,6,4,4,2,14,4,7,2,1,4,44,14,1,2,1,5,1,1,3,6,1,2,1,1,17,1,1,3,1,3,1,11,3,2],\"lat\":{\"__ndarray__\":\"pIP6ZD1ASUFM8nROpD1JQcbFjmxaPklBrJZAW/Q+SUHzT0ybtz9JQRzVctDdPUlBNzI4un0+SUFO7EcRcT1JQbZEhouGP0lBIIZe5q4/SUGLlrcXPz5JQfa0ylYnQElBh8qnQRg+SUH1q09a3j5JQQjYN8BNPklB0pt/H7Q9SUFcFQDI6T1JQYh0nR6CO0lB6Sg6le4/SUFV2mZUmTtJQerV3/uMO0lBaBMtsVZASUGEHzUsdjtJQellU2d7PklBF5ttEig7SUHqpJsydTtJQYMEFLNWP0lBOEFrLZg7SUETRB5I4z1JQcUS3IBTO0lBA6TVXB0/SUGQiqywjj1JQUpJ+01cPklBD3r0PAM+SUG+M6+w+j9JQfd2B2U5P0lB\",\"dtype\":\"float64\",\"order\":\"little\",\"shape\":[36]},\"lon\":{\"__ndarray__\":\"MFaoAylMYcEemEjNeUxhwbZyGPRMTGHBAGn4vDhMYcEDs1DAU0xhwQaI0ExITGHBcrPDsIJMYcGqMGJHakxhwToKefMhTGHBVEh7hyJMYcFtIms1h0xhwZOqb2FSTGHByjFm5YhMYcGufh2SOkxhwRR2HGxPTGHBxjLlfIZMYcGti1YqdExhwW1dT2p6TGHBv1oxoDZMYcG/XTyUfExhwXzP5gWDTGHBi5JGSTBMYcH3nK/1dUxhwZI4GylgTGHB9O0fHoNMYcF8MTHVfUxhwVHsRKlRTGHByG4T5IVMYcGdXfYeP0xhwZwQZa6DTGHBP1RXAidMYcH7ooaoS0xhwVsXFn1ATGHBQBYM1EBMYcFNSMczL0xhwWPskyM8TGHB\",\"dtype\":\"float64\",\"order\":\"little\",\"shape\":[36]},\"size\":{\"__ndarray__\":\"AAAAAAAALkDfx9I5E/s5QBuPyDIFX0JAAAAAAAAAPkAAAAAAAAA+QBBIF4CUNjVAVLtRcPsPTEAAAAAAAAA+QFvJNa/X10NAEEgXgJQ2NUAAAAAAAAAuQAAAAAAAAD5AQZi9auvfWEBUu1Fw+w9MQAAAAAAAAC5AEEgXgJQ2NUAAAAAAAAAuQF513iFAxUBAAAAAAAAALkAAAAAAAAAuQN/H0jkT+zlAG4/IMgVfQkAAAAAAAAAuQBBIF4CUNjVAAAAAAAAALkAAAAAAAAAuQG3cieBc7E5AAAAAAAAALkAAAAAAAAAuQN/H0jkT+zlAAAAAAAAALkDfx9I5E/s5QAAAAAAAAC5AQZi9auvfSEDfx9I5E/s5QBBIF4CUNjVA\",\"dtype\":\"float64\",\"order\":\"little\",\"shape\":[36]}},\"selected\":{\"id\":\"10954\"},\"selection_policy\":{\"id\":\"10970\"}},\"id\":\"10953\",\"type\":\"ColumnDataSource\"},{\"attributes\":{\"coordinates\":null,\"data_source\":{\"id\":\"10953\"},\"glyph\":{\"id\":\"10956\"},\"group\":null,\"hover_glyph\":{\"id\":\"10959\"},\"muted_glyph\":{\"id\":\"10960\"},\"nonselection_glyph\":{\"id\":\"10957\"},\"selection_glyph\":{\"id\":\"10958\"},\"view\":{\"id\":\"10962\"}},\"id\":\"10961\",\"type\":\"GlyphRenderer\"},{\"attributes\":{},\"id\":\"10934\",\"type\":\"AllLabels\"},{\"attributes\":{\"bottom_units\":\"screen\",\"coordinates\":null,\"fill_alpha\":0.5,\"fill_color\":\"lightgrey\",\"group\":null,\"left_units\":\"screen\",\"level\":\"overlay\",\"line_alpha\":1.0,\"line_color\":\"black\",\"line_dash\":[4,4],\"line_width\":2,\"right_units\":\"screen\",\"syncable\":false,\"top_units\":\"screen\"},\"id\":\"10913\",\"type\":\"BoxAnnotation\"},{\"attributes\":{\"factors\":[\"Back to the Future\",\"Camp Jurassic\",\"Caro-Seuss-el\",\"Despicable Me Minion Mayhem\",\"Fast & Furious - Supercharged\",\"Cafe 4\",\"Hagrid's Magical Creatures Motorbike Adventure\",\"Dudley Do Rights Ripsaw Falls\",\"E.T Adventure\",\"Fievel's Playground\",\"Flight of the Hippogriff\",\"Harry Potter and the Escape from Gringotts\",\"Harry Potter and the Forbidden Journey\",\"Hollywood Rip Ride Rocket\",\"If I Ran the Zoo\",\"Jurassic Park River Adventure\",\"VelociCoaster\",\"Kala & Tai Nui Serpentine Body Slides\",\"Kang & Kodos Twirl n' Hurl\",\"Ko'okiri Body Plunge\",\"Kopiko Wai Winding River\",\"Men In Black\",\"Ohno Drop Slide\",\"Poseidon's Fury\",\"Puihi Raft Ride\",\"Punga Racers\",\"Revenge of the Mummy\",\"Runamukka Reef\",\"Storm Force Acceleration\",\"Te'awa The Fearless River\",\"The Bourne Stuntacular\",\"The Amazing Adventures of Spiderman\",\"The Cat In The Hat\",\"The Incredible Hulk Coaster\",\"The Simpsons Ride\",\"Transformers: The Ride 3D\"],\"palette\":[\"#1f77b3\",\"#ff7e0e\",\"#2ba02b\",\"#d62628\",\"#9367bc\",\"#8c564b\",\"#e277c1\",\"#7e7e7e\",\"#bcbc21\",\"#16bdcf\",\"#3a0182\",\"#004201\",\"#0fffa8\",\"#5d003f\",\"#bcbcff\",\"#d8afa1\",\"#b80080\",\"#004d52\",\"#6b6400\",\"#7c0100\",\"#6026ff\",\"#ffff9a\",\"#564964\",\"#8cb893\",\"#93fbff\",\"#018267\",\"#90ff00\",\"#8200a0\",\"#ac8944\",\"#5b3400\",\"#ffbff2\",\"#ff6e75\",\"#798cff\",\"#dd00ff\",\"#505646\",\"#004489\"]},\"id\":\"10952\",\"type\":\"CategoricalColorMapper\"},{\"attributes\":{\"zoom_on_axis\":false},\"id\":\"10910\",\"type\":\"WheelZoomTool\"},{\"attributes\":{\"axis\":{\"id\":\"10904\"},\"coordinates\":null,\"dimension\":1,\"grid_line_color\":null,\"group\":null,\"ticker\":null},\"id\":\"10907\",\"type\":\"Grid\"},{\"attributes\":{\"fill_alpha\":{\"value\":0.75},\"fill_color\":{\"field\":\"color\",\"transform\":{\"id\":\"10952\"}},\"hatch_alpha\":{\"value\":0.75},\"hatch_color\":{\"field\":\"color\",\"transform\":{\"id\":\"10952\"}},\"line_alpha\":{\"value\":0.75},\"line_color\":{\"field\":\"color\",\"transform\":{\"id\":\"10952\"}},\"size\":{\"field\":\"size\"},\"tags\":[\"apply_ranges\"],\"x\":{\"field\":\"lon\"},\"y\":{\"field\":\"lat\"}},\"id\":\"10959\",\"type\":\"Scatter\"},{\"attributes\":{},\"id\":\"10954\",\"type\":\"Selection\"},{\"attributes\":{},\"id\":\"10909\",\"type\":\"PanTool\"},{\"attributes\":{\"code\":\"\\n        var projections = Bokeh.require(\\\"core/util/projections\\\");\\n        var x = special_vars.data_x\\n        var y = special_vars.data_y\\n        var coords = projections.wgs84_mercator.invert(x, y)\\n        return \\\"\\\" + (coords[1]).toFixed(4)\\n    \"},\"id\":\"10964\",\"type\":\"CustomJSHover\"},{\"attributes\":{\"callback\":null,\"formatters\":{\"$x\":{\"id\":\"10963\"},\"$y\":{\"id\":\"10964\"}},\"renderers\":[{\"id\":\"10961\"}],\"tags\":[\"hv_created\"],\"tooltips\":[[\"lon\",\"$x{custom}\"],[\"lat\",\"$y{custom}\"],[\"Ride_name\",\"@{Ride_name}\"],[\"incident_count\",\"@{incident_count}\"]]},\"id\":\"10890\",\"type\":\"HoverTool\"},{\"attributes\":{\"dimension\":\"lon\"},\"id\":\"10922\",\"type\":\"MercatorTickFormatter\"},{\"attributes\":{\"match_aspect\":true,\"overlay\":{\"id\":\"10913\"}},\"id\":\"10911\",\"type\":\"BoxZoomTool\"},{\"attributes\":{},\"id\":\"10970\",\"type\":\"UnionRenderers\"},{\"attributes\":{\"active_drag\":{\"id\":\"10909\"},\"tools\":[{\"id\":\"10890\"},{\"id\":\"10908\"},{\"id\":\"10909\"},{\"id\":\"10910\"},{\"id\":\"10911\"},{\"id\":\"10912\"}]},\"id\":\"10914\",\"type\":\"Toolbar\"},{\"attributes\":{\"code\":\"\\n        var projections = Bokeh.require(\\\"core/util/projections\\\");\\n        var x = special_vars.data_x\\n        var y = special_vars.data_y\\n        var coords = projections.wgs84_mercator.invert(x, y)\\n        return \\\"\\\" + (coords[0]).toFixed(4)\\n    \"},\"id\":\"10963\",\"type\":\"CustomJSHover\"},{\"attributes\":{},\"id\":\"10908\",\"type\":\"SaveTool\"},{\"attributes\":{\"children\":[{\"id\":\"10891\"}],\"height\":750,\"margin\":[0,0,0,0],\"name\":\"Row10358\",\"sizing_mode\":\"fixed\",\"tags\":[\"embedded\"],\"width\":750},\"id\":\"10881\",\"type\":\"Row\"},{\"attributes\":{\"axis_label\":\"x\",\"coordinates\":null,\"formatter\":{\"id\":\"10922\"},\"group\":null,\"major_label_policy\":{\"id\":\"10927\"},\"ticker\":{\"id\":\"10921\"}},\"id\":\"10900\",\"type\":\"LinearAxis\"},{\"attributes\":{\"fill_alpha\":{\"value\":0.75},\"fill_color\":{\"field\":\"color\",\"transform\":{\"id\":\"10952\"}},\"hatch_alpha\":{\"value\":0.75},\"hatch_color\":{\"field\":\"color\",\"transform\":{\"id\":\"10952\"}},\"line_alpha\":{\"value\":0.75},\"line_color\":{\"field\":\"color\",\"transform\":{\"id\":\"10952\"}},\"size\":{\"field\":\"size\"},\"tags\":[\"apply_ranges\"],\"x\":{\"field\":\"lon\"},\"y\":{\"field\":\"lat\"}},\"id\":\"10956\",\"type\":\"Scatter\"},{\"attributes\":{\"end\":3310006.5562362988,\"min_interval\":5,\"reset_end\":3310006.5562362988,\"reset_start\":3306822.971896599,\"start\":3306822.971896599,\"tags\":[[[\"lat\",\"lat\",null]]]},\"id\":\"10887\",\"type\":\"Range1d\"},{\"attributes\":{},\"id\":\"10912\",\"type\":\"ResetTool\"},{\"attributes\":{\"end\":-9067635.596455297,\"min_interval\":5,\"reset_end\":-9067635.596455297,\"reset_start\":-9070819.180794997,\"start\":-9070819.180794997,\"tags\":[[[\"lon\",\"lon\",null]]]},\"id\":\"10886\",\"type\":\"Range1d\"},{\"attributes\":{\"fill_alpha\":{\"value\":0.75},\"fill_color\":{\"field\":\"color\",\"transform\":{\"id\":\"10952\"}},\"hatch_alpha\":{\"value\":0.1},\"hatch_color\":{\"field\":\"color\",\"transform\":{\"id\":\"10952\"}},\"line_alpha\":{\"value\":0.75},\"line_color\":{\"field\":\"color\",\"transform\":{\"id\":\"10952\"}},\"size\":{\"field\":\"size\"},\"tags\":[\"apply_ranges\"],\"x\":{\"field\":\"lon\"},\"y\":{\"field\":\"lat\"}},\"id\":\"10957\",\"type\":\"Scatter\"},{\"attributes\":{},\"id\":\"10927\",\"type\":\"AllLabels\"},{\"attributes\":{\"dimension\":\"lat\"},\"id\":\"10924\",\"type\":\"MercatorTickFormatter\"},{\"attributes\":{\"fill_alpha\":{\"value\":0.75},\"fill_color\":{\"field\":\"color\",\"transform\":{\"id\":\"10952\"}},\"hatch_alpha\":{\"value\":0.75},\"hatch_color\":{\"field\":\"color\",\"transform\":{\"id\":\"10952\"}},\"line_alpha\":{\"value\":0.75},\"line_color\":{\"field\":\"color\",\"transform\":{\"id\":\"10952\"}},\"size\":{\"field\":\"size\"},\"tags\":[\"apply_ranges\"],\"x\":{\"field\":\"lon\"},\"y\":{\"field\":\"lat\"}},\"id\":\"10958\",\"type\":\"Scatter\"},{\"attributes\":{\"coordinates\":null,\"group\":null,\"text\":\"Universal_Parks\",\"text_color\":\"black\",\"text_font_size\":\"12pt\"},\"id\":\"10892\",\"type\":\"Title\"},{\"attributes\":{\"dimension\":\"lat\"},\"id\":\"10923\",\"type\":\"MercatorTicker\"},{\"attributes\":{\"below\":[{\"id\":\"10900\"}],\"center\":[{\"id\":\"10903\"},{\"id\":\"10907\"}],\"frame_height\":750,\"frame_width\":750,\"height\":750,\"left\":[{\"id\":\"10904\"}],\"margin\":[5,5,5,5],\"match_aspect\":true,\"min_border_bottom\":10,\"min_border_left\":10,\"min_border_right\":10,\"min_border_top\":10,\"output_backend\":\"webgl\",\"renderers\":[{\"id\":\"10950\"},{\"id\":\"10961\"}],\"sizing_mode\":\"fixed\",\"title\":{\"id\":\"10892\"},\"toolbar\":{\"id\":\"10914\"},\"width\":750,\"x_range\":{\"id\":\"10886\"},\"x_scale\":{\"id\":\"10896\"},\"y_range\":{\"id\":\"10887\"},\"y_scale\":{\"id\":\"10898\"}},\"id\":\"10891\",\"subtype\":\"Figure\",\"type\":\"Plot\"},{\"attributes\":{\"axis\":{\"id\":\"10900\"},\"coordinates\":null,\"grid_line_color\":null,\"group\":null,\"ticker\":null},\"id\":\"10903\",\"type\":\"Grid\"}],\"root_ids\":[\"10881\"]},\"title\":\"Bokeh Application\",\"version\":\"2.4.3\"}};\n",
       "    var render_items = [{\"docid\":\"497126dc-d9ca-4d62-b7fb-34a7d668ac6c\",\"root_ids\":[\"10881\"],\"roots\":{\"10881\":\"8dbca55a-fb15-4687-b315-ff398274ce90\"}}];\n",
       "    root.Bokeh.embed.embed_items_notebook(docs_json, render_items);\n",
       "    for (const render_item of render_items) {\n",
       "      for (const root_id of render_item.root_ids) {\n",
       "\tconst id_el = document.getElementById(root_id)\n",
       "\tif (id_el.children.length && (id_el.children[0].className === 'bk-root')) {\n",
       "\t  const root_el = id_el.children[0]\n",
       "\t  root_el.id = root_el.id + '-rendered'\n",
       "\t}\n",
       "      }\n",
       "    }\n",
       "  }\n",
       "  if (root.Bokeh !== undefined && root.Bokeh.Panel !== undefined) {\n",
       "    embed_document(root);\n",
       "  } else {\n",
       "    var attempts = 0;\n",
       "    var timer = setInterval(function(root) {\n",
       "      if (root.Bokeh !== undefined && root.Bokeh.Panel !== undefined) {\n",
       "        clearInterval(timer);\n",
       "        embed_document(root);\n",
       "      } else if (document.readyState == \"complete\") {\n",
       "        attempts++;\n",
       "        if (attempts > 200) {\n",
       "          clearInterval(timer);\n",
       "          console.log(\"Bokeh: ERROR: Unable to run BokehJS code because BokehJS library is missing\");\n",
       "        }\n",
       "      }\n",
       "    }, 25, root)\n",
       "  }\n",
       "})(window);</script>"
      ],
      "text/plain": [
       ":Overlay\n",
       "   .Tiles.I  :Tiles   [x,y]\n",
       "   .Points.I :Points   [lon,lat]   (Ride_name,incident_count)"
      ]
     },
     "execution_count": 73,
     "metadata": {
      "application/vnd.holoviews_exec.v0+json": {
       "id": "10881"
      }
     },
     "output_type": "execute_result"
    }
   ],
   "source": [
    "plot_mapping_data(mapping_data, filter_column=\"Company\", filter_value=\"Universal\", scale=15, title=\"Universal_Parks\")"
   ]
  },
  {
   "cell_type": "markdown",
   "id": "9c0674a4",
   "metadata": {},
   "source": [
    "### Islands of Adventure"
   ]
  },
  {
   "cell_type": "code",
   "execution_count": 74,
   "id": "dce85542",
   "metadata": {},
   "outputs": [
    {
     "data": {},
     "metadata": {},
     "output_type": "display_data"
    },
    {
     "data": {
      "application/vnd.holoviews_exec.v0+json": "",
      "text/html": [
       "<div id='11186'>\n",
       "  <div class=\"bk-root\" id=\"7c2f8b9a-8065-411f-87bb-7d7302b76b3f\" data-root-id=\"11186\"></div>\n",
       "</div>\n",
       "<script type=\"application/javascript\">(function(root) {\n",
       "  function embed_document(root) {\n",
       "    var docs_json = {\"d73295de-673b-4b62-ac7b-f7a45ae6a8a7\":{\"defs\":[{\"extends\":null,\"module\":null,\"name\":\"ReactiveHTML1\",\"overrides\":[],\"properties\":[]},{\"extends\":null,\"module\":null,\"name\":\"FlexBox1\",\"overrides\":[],\"properties\":[{\"default\":\"flex-start\",\"kind\":null,\"name\":\"align_content\"},{\"default\":\"flex-start\",\"kind\":null,\"name\":\"align_items\"},{\"default\":\"row\",\"kind\":null,\"name\":\"flex_direction\"},{\"default\":\"wrap\",\"kind\":null,\"name\":\"flex_wrap\"},{\"default\":\"flex-start\",\"kind\":null,\"name\":\"justify_content\"}]},{\"extends\":null,\"module\":null,\"name\":\"GridStack1\",\"overrides\":[],\"properties\":[{\"default\":\"warn\",\"kind\":null,\"name\":\"mode\"},{\"default\":null,\"kind\":null,\"name\":\"ncols\"},{\"default\":null,\"kind\":null,\"name\":\"nrows\"},{\"default\":true,\"kind\":null,\"name\":\"allow_resize\"},{\"default\":true,\"kind\":null,\"name\":\"allow_drag\"},{\"default\":[],\"kind\":null,\"name\":\"state\"}]},{\"extends\":null,\"module\":null,\"name\":\"click1\",\"overrides\":[],\"properties\":[{\"default\":\"\",\"kind\":null,\"name\":\"terminal_output\"},{\"default\":\"\",\"kind\":null,\"name\":\"debug_name\"},{\"default\":0,\"kind\":null,\"name\":\"clears\"}]},{\"extends\":null,\"module\":null,\"name\":\"NotificationAreaBase1\",\"overrides\":[],\"properties\":[{\"default\":\"bottom-right\",\"kind\":null,\"name\":\"position\"},{\"default\":0,\"kind\":null,\"name\":\"_clear\"}]},{\"extends\":null,\"module\":null,\"name\":\"NotificationArea1\",\"overrides\":[],\"properties\":[{\"default\":[],\"kind\":null,\"name\":\"notifications\"},{\"default\":\"bottom-right\",\"kind\":null,\"name\":\"position\"},{\"default\":0,\"kind\":null,\"name\":\"_clear\"},{\"default\":[{\"background\":\"#ffc107\",\"icon\":{\"className\":\"fas fa-exclamation-triangle\",\"color\":\"white\",\"tagName\":\"i\"},\"type\":\"warning\"},{\"background\":\"#007bff\",\"icon\":{\"className\":\"fas fa-info-circle\",\"color\":\"white\",\"tagName\":\"i\"},\"type\":\"info\"}],\"kind\":null,\"name\":\"types\"}]},{\"extends\":null,\"module\":null,\"name\":\"Notification\",\"overrides\":[],\"properties\":[{\"default\":null,\"kind\":null,\"name\":\"background\"},{\"default\":3000,\"kind\":null,\"name\":\"duration\"},{\"default\":null,\"kind\":null,\"name\":\"icon\"},{\"default\":\"\",\"kind\":null,\"name\":\"message\"},{\"default\":null,\"kind\":null,\"name\":\"notification_type\"},{\"default\":false,\"kind\":null,\"name\":\"_destroyed\"}]},{\"extends\":null,\"module\":null,\"name\":\"TemplateActions1\",\"overrides\":[],\"properties\":[{\"default\":0,\"kind\":null,\"name\":\"open_modal\"},{\"default\":0,\"kind\":null,\"name\":\"close_modal\"}]},{\"extends\":null,\"module\":null,\"name\":\"MaterialTemplateActions1\",\"overrides\":[],\"properties\":[{\"default\":0,\"kind\":null,\"name\":\"open_modal\"},{\"default\":0,\"kind\":null,\"name\":\"close_modal\"}]}],\"roots\":{\"references\":[{\"attributes\":{\"callback\":null,\"formatters\":{\"$x\":{\"id\":\"11268\"},\"$y\":{\"id\":\"11269\"}},\"renderers\":[{\"id\":\"11266\"}],\"tags\":[\"hv_created\"],\"tooltips\":[[\"lon\",\"$x{custom}\"],[\"lat\",\"$y{custom}\"],[\"Ride_name\",\"@{Ride_name}\"],[\"incident_count\",\"@{incident_count}\"]]},\"id\":\"11195\",\"type\":\"HoverTool\"},{\"attributes\":{\"source\":{\"id\":\"11258\"}},\"id\":\"11267\",\"type\":\"CDSView\"},{\"attributes\":{\"coordinates\":null,\"group\":null,\"text\":\"Islands_of_Adventure\",\"text_color\":\"black\",\"text_font_size\":\"12pt\"},\"id\":\"11197\",\"type\":\"Title\"},{\"attributes\":{\"children\":[{\"id\":\"11196\"}],\"height\":750,\"margin\":[0,0,0,0],\"name\":\"Row10566\",\"sizing_mode\":\"fixed\",\"tags\":[\"embedded\"],\"width\":750},\"id\":\"11186\",\"type\":\"Row\"},{\"attributes\":{},\"id\":\"11232\",\"type\":\"AllLabels\"},{\"attributes\":{\"active_drag\":{\"id\":\"11214\"},\"tools\":[{\"id\":\"11195\"},{\"id\":\"11213\"},{\"id\":\"11214\"},{\"id\":\"11215\"},{\"id\":\"11216\"},{\"id\":\"11217\"}]},\"id\":\"11219\",\"type\":\"Toolbar\"},{\"attributes\":{\"fill_alpha\":{\"value\":0.75},\"fill_color\":{\"field\":\"color\",\"transform\":{\"id\":\"11257\"}},\"hatch_alpha\":{\"value\":0.75},\"hatch_color\":{\"field\":\"color\",\"transform\":{\"id\":\"11257\"}},\"line_alpha\":{\"value\":0.75},\"line_color\":{\"field\":\"color\",\"transform\":{\"id\":\"11257\"}},\"size\":{\"field\":\"size\"},\"tags\":[\"apply_ranges\"],\"x\":{\"field\":\"lon\"},\"y\":{\"field\":\"lat\"}},\"id\":\"11261\",\"type\":\"Scatter\"},{\"attributes\":{\"coordinates\":null,\"data_source\":{\"id\":\"11258\"},\"glyph\":{\"id\":\"11261\"},\"group\":null,\"hover_glyph\":{\"id\":\"11264\"},\"muted_glyph\":{\"id\":\"11265\"},\"nonselection_glyph\":{\"id\":\"11262\"},\"selection_glyph\":{\"id\":\"11263\"},\"view\":{\"id\":\"11267\"}},\"id\":\"11266\",\"type\":\"GlyphRenderer\"},{\"attributes\":{\"dimension\":\"lon\"},\"id\":\"11227\",\"type\":\"MercatorTickFormatter\"},{\"attributes\":{},\"id\":\"11275\",\"type\":\"UnionRenderers\"},{\"attributes\":{\"axis\":{\"id\":\"11205\"},\"coordinates\":null,\"grid_line_color\":null,\"group\":null,\"ticker\":null},\"id\":\"11208\",\"type\":\"Grid\"},{\"attributes\":{\"code\":\"\\n        var projections = Bokeh.require(\\\"core/util/projections\\\");\\n        var x = special_vars.data_x\\n        var y = special_vars.data_y\\n        var coords = projections.wgs84_mercator.invert(x, y)\\n        return \\\"\\\" + (coords[0]).toFixed(4)\\n    \"},\"id\":\"11268\",\"type\":\"CustomJSHover\"},{\"attributes\":{\"code\":\"\\n        var projections = Bokeh.require(\\\"core/util/projections\\\");\\n        var x = special_vars.data_x\\n        var y = special_vars.data_y\\n        var coords = projections.wgs84_mercator.invert(x, y)\\n        return \\\"\\\" + (coords[1]).toFixed(4)\\n    \"},\"id\":\"11269\",\"type\":\"CustomJSHover\"},{\"attributes\":{\"factors\":[\"Camp Jurassic\",\"Caro-Seuss-el\",\"Cafe 4\",\"Hagrid's Magical Creatures Motorbike Adventure\",\"Dudley Do Rights Ripsaw Falls\",\"Flight of the Hippogriff\",\"Harry Potter and the Forbidden Journey\",\"If I Ran the Zoo\",\"Jurassic Park River Adventure\",\"VelociCoaster\",\"Poseidon's Fury\",\"Storm Force Acceleration\",\"The Amazing Adventures of Spiderman\",\"The Cat In The Hat\",\"The Incredible Hulk Coaster\"],\"palette\":[\"#1f77b3\",\"#ff7e0e\",\"#2ba02b\",\"#d62628\",\"#9367bc\",\"#8c564b\",\"#e277c1\",\"#7e7e7e\",\"#bcbc21\",\"#16bdcf\",\"#3a0182\",\"#004201\",\"#0fffa8\",\"#5d003f\",\"#bcbcff\"]},\"id\":\"11257\",\"type\":\"CategoricalColorMapper\"},{\"attributes\":{\"fill_alpha\":{\"value\":0.75},\"fill_color\":{\"field\":\"color\",\"transform\":{\"id\":\"11257\"}},\"hatch_alpha\":{\"value\":0.75},\"hatch_color\":{\"field\":\"color\",\"transform\":{\"id\":\"11257\"}},\"line_alpha\":{\"value\":0.75},\"line_color\":{\"field\":\"color\",\"transform\":{\"id\":\"11257\"}},\"size\":{\"field\":\"size\"},\"tags\":[\"apply_ranges\"],\"x\":{\"field\":\"lon\"},\"y\":{\"field\":\"lat\"}},\"id\":\"11264\",\"type\":\"Scatter\"},{\"attributes\":{\"below\":[{\"id\":\"11205\"}],\"center\":[{\"id\":\"11208\"},{\"id\":\"11212\"}],\"frame_height\":750,\"frame_width\":750,\"height\":750,\"left\":[{\"id\":\"11209\"}],\"margin\":[5,5,5,5],\"match_aspect\":true,\"min_border_bottom\":10,\"min_border_left\":10,\"min_border_right\":10,\"min_border_top\":10,\"output_backend\":\"webgl\",\"renderers\":[{\"id\":\"11255\"},{\"id\":\"11266\"}],\"sizing_mode\":\"fixed\",\"title\":{\"id\":\"11197\"},\"toolbar\":{\"id\":\"11219\"},\"width\":750,\"x_range\":{\"id\":\"11191\"},\"x_scale\":{\"id\":\"11201\"},\"y_range\":{\"id\":\"11192\"},\"y_scale\":{\"id\":\"11203\"}},\"id\":\"11196\",\"subtype\":\"Figure\",\"type\":\"Plot\"},{\"attributes\":{\"fill_alpha\":{\"value\":0.75},\"fill_color\":{\"field\":\"color\",\"transform\":{\"id\":\"11257\"}},\"hatch_alpha\":{\"value\":0.75},\"hatch_color\":{\"field\":\"color\",\"transform\":{\"id\":\"11257\"}},\"line_alpha\":{\"value\":0.75},\"line_color\":{\"field\":\"color\",\"transform\":{\"id\":\"11257\"}},\"size\":{\"field\":\"size\"},\"tags\":[\"apply_ranges\"],\"x\":{\"field\":\"lon\"},\"y\":{\"field\":\"lat\"}},\"id\":\"11263\",\"type\":\"Scatter\"},{\"attributes\":{\"attribution\":\"&copy; <a href=\\\"https://www.openstreetmap.org/copyright\\\">OpenStreetMap</a> contributors, &copy; <a href=\\\"https://cartodb.com/attributions\\\">CartoDB</a>\",\"url\":\"https://cartodb-basemaps-4.global.ssl.fastly.net/light_all/{Z}/{X}/{Y}.png\"},\"id\":\"11252\",\"type\":\"WMTSTileSource\"},{\"attributes\":{},\"id\":\"11259\",\"type\":\"Selection\"},{\"attributes\":{\"end\":3308880.782028351,\"min_interval\":5,\"reset_end\":3308880.782028351,\"reset_start\":3308172.8078139517,\"start\":3308172.8078139517,\"tags\":[[[\"lat\",\"lat\",null]]]},\"id\":\"11192\",\"type\":\"Range1d\"},{\"attributes\":{\"data\":{\"Ride_name\":[\"Camp Jurassic\",\"Caro-Seuss-el\",\"Cafe 4\",\"Hagrid's Magical Creatures Motorbike Adventure\",\"Dudley Do Rights Ripsaw Falls\",\"Flight of the Hippogriff\",\"Harry Potter and the Forbidden Journey\",\"If I Ran the Zoo\",\"Jurassic Park River Adventure\",\"VelociCoaster\",\"Poseidon's Fury\",\"Storm Force Acceleration\",\"The Amazing Adventures of Spiderman\",\"The Cat In The Hat\",\"The Incredible Hulk Coaster\"],\"color\":[\"Camp Jurassic\",\"Caro-Seuss-el\",\"Cafe 4\",\"Hagrid's Magical Creatures Motorbike Adventure\",\"Dudley Do Rights Ripsaw Falls\",\"Flight of the Hippogriff\",\"Harry Potter and the Forbidden Journey\",\"If I Ran the Zoo\",\"Jurassic Park River Adventure\",\"VelociCoaster\",\"Poseidon's Fury\",\"Storm Force Acceleration\",\"The Amazing Adventures of Spiderman\",\"The Cat In The Hat\",\"The Incredible Hulk Coaster\"],\"incident_count\":[3,6,2,14,4,1,44,1,2,1,2,1,3,1,11],\"lat\":{\"__ndarray__\":\"TPJ0TqQ9SUHGxY5sWj5JQRzVctDdPUlBNzI4un0+SUFO7EcRcT1JQYuWtxc/PklBh8qnQRg+SUEI2DfATT5JQdKbfx+0PUlBXBUAyOk9SUHpZVNnez5JQRNEHkjjPUlBkIqssI49SUFKSftNXD5JQQ969DwDPklB\",\"dtype\":\"float64\",\"order\":\"little\",\"shape\":[15]},\"lon\":{\"__ndarray__\":\"HphIzXlMYcG2chj0TExhwQaI0ExITGHBcrPDsIJMYcGqMGJHakxhwW0iazWHTGHByjFm5YhMYcEUdhxsT0xhwcYy5XyGTGHBrYtWKnRMYcGSOBspYExhwZ1d9h4/TGHB+6KGqEtMYcFbFxZ9QExhwUAWDNRATGHB\",\"dtype\":\"float64\",\"order\":\"little\",\"shape\":[15]},\"size\":{\"__ndarray__\":\"38fSORP7OUAbj8gyBV9CQBBIF4CUNjVAVLtRcPsPTEAAAAAAAAA+QAAAAAAAAC5AQZi9auvfWEAAAAAAAAAuQBBIF4CUNjVAAAAAAAAALkAQSBeAlDY1QAAAAAAAAC5A38fSORP7OUAAAAAAAAAuQEGYvWrr30hA\",\"dtype\":\"float64\",\"order\":\"little\",\"shape\":[15]}},\"selected\":{\"id\":\"11259\"},\"selection_policy\":{\"id\":\"11275\"}},\"id\":\"11258\",\"type\":\"ColumnDataSource\"},{\"attributes\":{\"end\":-9068990.081042225,\"min_interval\":5,\"reset_end\":-9068990.081042225,\"reset_start\":-9069698.055256624,\"start\":-9069698.055256624,\"tags\":[[[\"lon\",\"lon\",null]]]},\"id\":\"11191\",\"type\":\"Range1d\"},{\"attributes\":{},\"id\":\"11214\",\"type\":\"PanTool\"},{\"attributes\":{},\"id\":\"11201\",\"type\":\"LinearScale\"},{\"attributes\":{\"axis_label\":\"y\",\"coordinates\":null,\"formatter\":{\"id\":\"11229\"},\"group\":null,\"major_label_policy\":{\"id\":\"11239\"},\"ticker\":{\"id\":\"11228\"}},\"id\":\"11209\",\"type\":\"LinearAxis\"},{\"attributes\":{\"axis_label\":\"x\",\"coordinates\":null,\"formatter\":{\"id\":\"11227\"},\"group\":null,\"major_label_policy\":{\"id\":\"11232\"},\"ticker\":{\"id\":\"11226\"}},\"id\":\"11205\",\"type\":\"LinearAxis\"},{\"attributes\":{},\"id\":\"11213\",\"type\":\"SaveTool\"},{\"attributes\":{},\"id\":\"11239\",\"type\":\"AllLabels\"},{\"attributes\":{\"axis\":{\"id\":\"11209\"},\"coordinates\":null,\"dimension\":1,\"grid_line_color\":null,\"group\":null,\"ticker\":null},\"id\":\"11212\",\"type\":\"Grid\"},{\"attributes\":{\"fill_alpha\":{\"value\":0.75},\"fill_color\":{\"field\":\"color\",\"transform\":{\"id\":\"11257\"}},\"hatch_alpha\":{\"value\":0.1},\"hatch_color\":{\"field\":\"color\",\"transform\":{\"id\":\"11257\"}},\"line_alpha\":{\"value\":0.75},\"line_color\":{\"field\":\"color\",\"transform\":{\"id\":\"11257\"}},\"size\":{\"field\":\"size\"},\"tags\":[\"apply_ranges\"],\"x\":{\"field\":\"lon\"},\"y\":{\"field\":\"lat\"}},\"id\":\"11262\",\"type\":\"Scatter\"},{\"attributes\":{\"match_aspect\":true,\"overlay\":{\"id\":\"11218\"}},\"id\":\"11216\",\"type\":\"BoxZoomTool\"},{\"attributes\":{\"dimension\":\"lon\"},\"id\":\"11226\",\"type\":\"MercatorTicker\"},{\"attributes\":{},\"id\":\"11217\",\"type\":\"ResetTool\"},{\"attributes\":{\"dimension\":\"lat\"},\"id\":\"11228\",\"type\":\"MercatorTicker\"},{\"attributes\":{\"bottom_units\":\"screen\",\"coordinates\":null,\"fill_alpha\":0.5,\"fill_color\":\"lightgrey\",\"group\":null,\"left_units\":\"screen\",\"level\":\"overlay\",\"line_alpha\":1.0,\"line_color\":\"black\",\"line_dash\":[4,4],\"line_width\":2,\"right_units\":\"screen\",\"syncable\":false,\"top_units\":\"screen\"},\"id\":\"11218\",\"type\":\"BoxAnnotation\"},{\"attributes\":{\"fill_alpha\":{\"value\":0.2},\"fill_color\":{\"field\":\"color\",\"transform\":{\"id\":\"11257\"}},\"hatch_alpha\":{\"value\":0.2},\"hatch_color\":{\"field\":\"color\",\"transform\":{\"id\":\"11257\"}},\"line_alpha\":{\"value\":0.2},\"line_color\":{\"field\":\"color\",\"transform\":{\"id\":\"11257\"}},\"size\":{\"field\":\"size\"},\"tags\":[\"apply_ranges\"],\"x\":{\"field\":\"lon\"},\"y\":{\"field\":\"lat\"}},\"id\":\"11265\",\"type\":\"Scatter\"},{\"attributes\":{},\"id\":\"11203\",\"type\":\"LinearScale\"},{\"attributes\":{\"zoom_on_axis\":false},\"id\":\"11215\",\"type\":\"WheelZoomTool\"},{\"attributes\":{\"coordinates\":null,\"group\":null,\"level\":\"glyph\",\"tile_source\":{\"id\":\"11252\"}},\"id\":\"11255\",\"type\":\"TileRenderer\"},{\"attributes\":{\"dimension\":\"lat\"},\"id\":\"11229\",\"type\":\"MercatorTickFormatter\"}],\"root_ids\":[\"11186\"]},\"title\":\"Bokeh Application\",\"version\":\"2.4.3\"}};\n",
       "    var render_items = [{\"docid\":\"d73295de-673b-4b62-ac7b-f7a45ae6a8a7\",\"root_ids\":[\"11186\"],\"roots\":{\"11186\":\"7c2f8b9a-8065-411f-87bb-7d7302b76b3f\"}}];\n",
       "    root.Bokeh.embed.embed_items_notebook(docs_json, render_items);\n",
       "    for (const render_item of render_items) {\n",
       "      for (const root_id of render_item.root_ids) {\n",
       "\tconst id_el = document.getElementById(root_id)\n",
       "\tif (id_el.children.length && (id_el.children[0].className === 'bk-root')) {\n",
       "\t  const root_el = id_el.children[0]\n",
       "\t  root_el.id = root_el.id + '-rendered'\n",
       "\t}\n",
       "      }\n",
       "    }\n",
       "  }\n",
       "  if (root.Bokeh !== undefined && root.Bokeh.Panel !== undefined) {\n",
       "    embed_document(root);\n",
       "  } else {\n",
       "    var attempts = 0;\n",
       "    var timer = setInterval(function(root) {\n",
       "      if (root.Bokeh !== undefined && root.Bokeh.Panel !== undefined) {\n",
       "        clearInterval(timer);\n",
       "        embed_document(root);\n",
       "      } else if (document.readyState == \"complete\") {\n",
       "        attempts++;\n",
       "        if (attempts > 200) {\n",
       "          clearInterval(timer);\n",
       "          console.log(\"Bokeh: ERROR: Unable to run BokehJS code because BokehJS library is missing\");\n",
       "        }\n",
       "      }\n",
       "    }, 25, root)\n",
       "  }\n",
       "})(window);</script>"
      ],
      "text/plain": [
       ":Overlay\n",
       "   .Tiles.I  :Tiles   [x,y]\n",
       "   .Points.I :Points   [lon,lat]   (Ride_name,incident_count)"
      ]
     },
     "execution_count": 74,
     "metadata": {
      "application/vnd.holoviews_exec.v0+json": {
       "id": "11186"
      }
     },
     "output_type": "execute_result"
    }
   ],
   "source": [
    "plot_mapping_data(mapping_data, filter_column=\"Theme_Park\", filter_value=\"Islands of Adventure\", \n",
    "                  scale=15, title=\"Islands_of_Adventure\")"
   ]
  },
  {
   "cell_type": "markdown",
   "id": "1fa8dd60",
   "metadata": {},
   "source": [
    "### Universal Studios"
   ]
  },
  {
   "cell_type": "code",
   "execution_count": 75,
   "id": "dfa12f7b",
   "metadata": {},
   "outputs": [
    {
     "data": {},
     "metadata": {},
     "output_type": "display_data"
    },
    {
     "data": {
      "application/vnd.holoviews_exec.v0+json": "",
      "text/html": [
       "<div id='11491'>\n",
       "  <div class=\"bk-root\" id=\"7cfd9823-5d81-4759-8923-6e022e358f6b\" data-root-id=\"11491\"></div>\n",
       "</div>\n",
       "<script type=\"application/javascript\">(function(root) {\n",
       "  function embed_document(root) {\n",
       "    var docs_json = {\"b9b4231d-0d7b-4a8b-99be-8ac03eba2dfe\":{\"defs\":[{\"extends\":null,\"module\":null,\"name\":\"ReactiveHTML1\",\"overrides\":[],\"properties\":[]},{\"extends\":null,\"module\":null,\"name\":\"FlexBox1\",\"overrides\":[],\"properties\":[{\"default\":\"flex-start\",\"kind\":null,\"name\":\"align_content\"},{\"default\":\"flex-start\",\"kind\":null,\"name\":\"align_items\"},{\"default\":\"row\",\"kind\":null,\"name\":\"flex_direction\"},{\"default\":\"wrap\",\"kind\":null,\"name\":\"flex_wrap\"},{\"default\":\"flex-start\",\"kind\":null,\"name\":\"justify_content\"}]},{\"extends\":null,\"module\":null,\"name\":\"GridStack1\",\"overrides\":[],\"properties\":[{\"default\":\"warn\",\"kind\":null,\"name\":\"mode\"},{\"default\":null,\"kind\":null,\"name\":\"ncols\"},{\"default\":null,\"kind\":null,\"name\":\"nrows\"},{\"default\":true,\"kind\":null,\"name\":\"allow_resize\"},{\"default\":true,\"kind\":null,\"name\":\"allow_drag\"},{\"default\":[],\"kind\":null,\"name\":\"state\"}]},{\"extends\":null,\"module\":null,\"name\":\"click1\",\"overrides\":[],\"properties\":[{\"default\":\"\",\"kind\":null,\"name\":\"terminal_output\"},{\"default\":\"\",\"kind\":null,\"name\":\"debug_name\"},{\"default\":0,\"kind\":null,\"name\":\"clears\"}]},{\"extends\":null,\"module\":null,\"name\":\"NotificationAreaBase1\",\"overrides\":[],\"properties\":[{\"default\":\"bottom-right\",\"kind\":null,\"name\":\"position\"},{\"default\":0,\"kind\":null,\"name\":\"_clear\"}]},{\"extends\":null,\"module\":null,\"name\":\"NotificationArea1\",\"overrides\":[],\"properties\":[{\"default\":[],\"kind\":null,\"name\":\"notifications\"},{\"default\":\"bottom-right\",\"kind\":null,\"name\":\"position\"},{\"default\":0,\"kind\":null,\"name\":\"_clear\"},{\"default\":[{\"background\":\"#ffc107\",\"icon\":{\"className\":\"fas fa-exclamation-triangle\",\"color\":\"white\",\"tagName\":\"i\"},\"type\":\"warning\"},{\"background\":\"#007bff\",\"icon\":{\"className\":\"fas fa-info-circle\",\"color\":\"white\",\"tagName\":\"i\"},\"type\":\"info\"}],\"kind\":null,\"name\":\"types\"}]},{\"extends\":null,\"module\":null,\"name\":\"Notification\",\"overrides\":[],\"properties\":[{\"default\":null,\"kind\":null,\"name\":\"background\"},{\"default\":3000,\"kind\":null,\"name\":\"duration\"},{\"default\":null,\"kind\":null,\"name\":\"icon\"},{\"default\":\"\",\"kind\":null,\"name\":\"message\"},{\"default\":null,\"kind\":null,\"name\":\"notification_type\"},{\"default\":false,\"kind\":null,\"name\":\"_destroyed\"}]},{\"extends\":null,\"module\":null,\"name\":\"TemplateActions1\",\"overrides\":[],\"properties\":[{\"default\":0,\"kind\":null,\"name\":\"open_modal\"},{\"default\":0,\"kind\":null,\"name\":\"close_modal\"}]},{\"extends\":null,\"module\":null,\"name\":\"MaterialTemplateActions1\",\"overrides\":[],\"properties\":[{\"default\":0,\"kind\":null,\"name\":\"open_modal\"},{\"default\":0,\"kind\":null,\"name\":\"close_modal\"}]}],\"roots\":{\"references\":[{\"attributes\":{\"dimension\":\"lon\"},\"id\":\"11532\",\"type\":\"MercatorTickFormatter\"},{\"attributes\":{\"fill_alpha\":{\"value\":0.75},\"fill_color\":{\"field\":\"color\",\"transform\":{\"id\":\"11562\"}},\"hatch_alpha\":{\"value\":0.75},\"hatch_color\":{\"field\":\"color\",\"transform\":{\"id\":\"11562\"}},\"line_alpha\":{\"value\":0.75},\"line_color\":{\"field\":\"color\",\"transform\":{\"id\":\"11562\"}},\"size\":{\"field\":\"size\"},\"tags\":[\"apply_ranges\"],\"x\":{\"field\":\"lon\"},\"y\":{\"field\":\"lat\"}},\"id\":\"11569\",\"type\":\"Scatter\"},{\"attributes\":{\"below\":[{\"id\":\"11510\"}],\"center\":[{\"id\":\"11513\"},{\"id\":\"11517\"}],\"frame_height\":750,\"frame_width\":750,\"height\":750,\"left\":[{\"id\":\"11514\"}],\"margin\":[5,5,5,5],\"match_aspect\":true,\"min_border_bottom\":10,\"min_border_left\":10,\"min_border_right\":10,\"min_border_top\":10,\"output_backend\":\"webgl\",\"renderers\":[{\"id\":\"11560\"},{\"id\":\"11571\"}],\"sizing_mode\":\"fixed\",\"title\":{\"id\":\"11502\"},\"toolbar\":{\"id\":\"11524\"},\"width\":750,\"x_range\":{\"id\":\"11496\"},\"x_scale\":{\"id\":\"11506\"},\"y_range\":{\"id\":\"11497\"},\"y_scale\":{\"id\":\"11508\"}},\"id\":\"11501\",\"subtype\":\"Figure\",\"type\":\"Plot\"},{\"attributes\":{},\"id\":\"11580\",\"type\":\"UnionRenderers\"},{\"attributes\":{\"fill_alpha\":{\"value\":0.75},\"fill_color\":{\"field\":\"color\",\"transform\":{\"id\":\"11562\"}},\"hatch_alpha\":{\"value\":0.75},\"hatch_color\":{\"field\":\"color\",\"transform\":{\"id\":\"11562\"}},\"line_alpha\":{\"value\":0.75},\"line_color\":{\"field\":\"color\",\"transform\":{\"id\":\"11562\"}},\"size\":{\"field\":\"size\"},\"tags\":[\"apply_ranges\"],\"x\":{\"field\":\"lon\"},\"y\":{\"field\":\"lat\"}},\"id\":\"11568\",\"type\":\"Scatter\"},{\"attributes\":{\"match_aspect\":true,\"overlay\":{\"id\":\"11523\"}},\"id\":\"11521\",\"type\":\"BoxZoomTool\"},{\"attributes\":{\"coordinates\":null,\"data_source\":{\"id\":\"11563\"},\"glyph\":{\"id\":\"11566\"},\"group\":null,\"hover_glyph\":{\"id\":\"11569\"},\"muted_glyph\":{\"id\":\"11570\"},\"nonselection_glyph\":{\"id\":\"11567\"},\"selection_glyph\":{\"id\":\"11568\"},\"view\":{\"id\":\"11572\"}},\"id\":\"11571\",\"type\":\"GlyphRenderer\"},{\"attributes\":{\"axis_label\":\"x\",\"coordinates\":null,\"formatter\":{\"id\":\"11532\"},\"group\":null,\"major_label_policy\":{\"id\":\"11537\"},\"ticker\":{\"id\":\"11531\"}},\"id\":\"11510\",\"type\":\"LinearAxis\"},{\"attributes\":{\"axis_label\":\"y\",\"coordinates\":null,\"formatter\":{\"id\":\"11534\"},\"group\":null,\"major_label_policy\":{\"id\":\"11544\"},\"ticker\":{\"id\":\"11533\"}},\"id\":\"11514\",\"type\":\"LinearAxis\"},{\"attributes\":{\"factors\":[\"Back to the Future\",\"Despicable Me Minion Mayhem\",\"Fast & Furious - Supercharged\",\"E.T Adventure\",\"Fievel's Playground\",\"Harry Potter and the Escape from Gringotts\",\"Hollywood Rip Ride Rocket\",\"Kang & Kodos Twirl n' Hurl\",\"Men In Black\",\"Revenge of the Mummy\",\"The Bourne Stuntacular\",\"The Simpsons Ride\",\"Transformers: The Ride 3D\"],\"palette\":[\"#1f77b3\",\"#ff7e0e\",\"#2ba02b\",\"#d62628\",\"#9367bc\",\"#8c564b\",\"#e277c1\",\"#7e7e7e\",\"#bcbc21\",\"#16bdcf\",\"#3a0182\",\"#004201\",\"#0fffa8\"]},\"id\":\"11562\",\"type\":\"CategoricalColorMapper\"},{\"attributes\":{\"attribution\":\"&copy; <a href=\\\"https://www.openstreetmap.org/copyright\\\">OpenStreetMap</a> contributors, &copy; <a href=\\\"https://cartodb.com/attributions\\\">CartoDB</a>\",\"url\":\"https://cartodb-basemaps-4.global.ssl.fastly.net/light_all/{Z}/{X}/{Y}.png\"},\"id\":\"11557\",\"type\":\"WMTSTileSource\"},{\"attributes\":{},\"id\":\"11522\",\"type\":\"ResetTool\"},{\"attributes\":{},\"id\":\"11519\",\"type\":\"PanTool\"},{\"attributes\":{\"bottom_units\":\"screen\",\"coordinates\":null,\"fill_alpha\":0.5,\"fill_color\":\"lightgrey\",\"group\":null,\"left_units\":\"screen\",\"level\":\"overlay\",\"line_alpha\":1.0,\"line_color\":\"black\",\"line_dash\":[4,4],\"line_width\":2,\"right_units\":\"screen\",\"syncable\":false,\"top_units\":\"screen\"},\"id\":\"11523\",\"type\":\"BoxAnnotation\"},{\"attributes\":{\"zoom_on_axis\":false},\"id\":\"11520\",\"type\":\"WheelZoomTool\"},{\"attributes\":{\"code\":\"\\n        var projections = Bokeh.require(\\\"core/util/projections\\\");\\n        var x = special_vars.data_x\\n        var y = special_vars.data_y\\n        var coords = projections.wgs84_mercator.invert(x, y)\\n        return \\\"\\\" + (coords[1]).toFixed(4)\\n    \"},\"id\":\"11574\",\"type\":\"CustomJSHover\"},{\"attributes\":{},\"id\":\"11506\",\"type\":\"LinearScale\"},{\"attributes\":{\"children\":[{\"id\":\"11501\"}],\"height\":750,\"margin\":[0,0,0,0],\"name\":\"Row10774\",\"sizing_mode\":\"fixed\",\"tags\":[\"embedded\"],\"width\":750},\"id\":\"11491\",\"type\":\"Row\"},{\"attributes\":{\"end\":3309816.5000758516,\"min_interval\":5,\"reset_end\":3309816.5000758516,\"reset_start\":3308913.5896615144,\"start\":3308913.5896615144,\"tags\":[[[\"lat\",\"lat\",null]]]},\"id\":\"11497\",\"type\":\"Range1d\"},{\"attributes\":{},\"id\":\"11508\",\"type\":\"LinearScale\"},{\"attributes\":{},\"id\":\"11544\",\"type\":\"AllLabels\"},{\"attributes\":{\"dimension\":\"lon\"},\"id\":\"11531\",\"type\":\"MercatorTicker\"},{\"attributes\":{\"coordinates\":null,\"group\":null,\"text\":\"Universal_Studios\",\"text_color\":\"black\",\"text_font_size\":\"12pt\"},\"id\":\"11502\",\"type\":\"Title\"},{\"attributes\":{},\"id\":\"11564\",\"type\":\"Selection\"},{\"attributes\":{\"end\":-9068563.353981016,\"min_interval\":5,\"reset_end\":-9068563.353981016,\"reset_start\":-9069466.264395354,\"start\":-9069466.264395354,\"tags\":[[[\"lon\",\"lon\",null]]]},\"id\":\"11496\",\"type\":\"Range1d\"},{\"attributes\":{\"dimension\":\"lat\"},\"id\":\"11533\",\"type\":\"MercatorTicker\"},{\"attributes\":{\"active_drag\":{\"id\":\"11519\"},\"tools\":[{\"id\":\"11500\"},{\"id\":\"11518\"},{\"id\":\"11519\"},{\"id\":\"11520\"},{\"id\":\"11521\"},{\"id\":\"11522\"}]},\"id\":\"11524\",\"type\":\"Toolbar\"},{\"attributes\":{\"source\":{\"id\":\"11563\"}},\"id\":\"11572\",\"type\":\"CDSView\"},{\"attributes\":{\"axis\":{\"id\":\"11510\"},\"coordinates\":null,\"grid_line_color\":null,\"group\":null,\"ticker\":null},\"id\":\"11513\",\"type\":\"Grid\"},{\"attributes\":{},\"id\":\"11537\",\"type\":\"AllLabels\"},{\"attributes\":{\"code\":\"\\n        var projections = Bokeh.require(\\\"core/util/projections\\\");\\n        var x = special_vars.data_x\\n        var y = special_vars.data_y\\n        var coords = projections.wgs84_mercator.invert(x, y)\\n        return \\\"\\\" + (coords[0]).toFixed(4)\\n    \"},\"id\":\"11573\",\"type\":\"CustomJSHover\"},{\"attributes\":{\"fill_alpha\":{\"value\":0.2},\"fill_color\":{\"field\":\"color\",\"transform\":{\"id\":\"11562\"}},\"hatch_alpha\":{\"value\":0.2},\"hatch_color\":{\"field\":\"color\",\"transform\":{\"id\":\"11562\"}},\"line_alpha\":{\"value\":0.2},\"line_color\":{\"field\":\"color\",\"transform\":{\"id\":\"11562\"}},\"size\":{\"field\":\"size\"},\"tags\":[\"apply_ranges\"],\"x\":{\"field\":\"lon\"},\"y\":{\"field\":\"lat\"}},\"id\":\"11570\",\"type\":\"Scatter\"},{\"attributes\":{\"data\":{\"Ride_name\":[\"Back to the Future\",\"Despicable Me Minion Mayhem\",\"Fast & Furious - Supercharged\",\"E.T Adventure\",\"Fievel's Playground\",\"Harry Potter and the Escape from Gringotts\",\"Hollywood Rip Ride Rocket\",\"Kang & Kodos Twirl n' Hurl\",\"Men In Black\",\"Revenge of the Mummy\",\"The Bourne Stuntacular\",\"The Simpsons Ride\",\"Transformers: The Ride 3D\"],\"color\":[\"Back to the Future\",\"Despicable Me Minion Mayhem\",\"Fast & Furious - Supercharged\",\"E.T Adventure\",\"Fievel's Playground\",\"Harry Potter and the Escape from Gringotts\",\"Hollywood Rip Ride Rocket\",\"Kang & Kodos Twirl n' Hurl\",\"Men In Black\",\"Revenge of the Mummy\",\"The Bourne Stuntacular\",\"The Simpsons Ride\",\"Transformers: The Ride 3D\"],\"incident_count\":[1,4,4,7,2,4,14,1,6,17,1,3,2],\"lat\":{\"__ndarray__\":\"pIP6ZD1ASUGslkBb9D5JQfNPTJu3P0lBtkSGi4Y/SUEghl7mrj9JQfa0ylYnQElB9atPWt4+SUHpKDqV7j9JQWgTLbFWQElBgwQUs1Y/SUEDpNVcHT9JQb4zr7D6P0lB93YHZTk/SUE=\",\"dtype\":\"float64\",\"order\":\"little\",\"shape\":[13]},\"lon\":{\"__ndarray__\":\"MFaoAylMYcEAafi8OExhwQOzUMBTTGHBOgp58yFMYcFUSHuHIkxhwZOqb2FSTGHBrn4dkjpMYcG/WjGgNkxhwYuSRkkwTGHBUexEqVFMYcE/VFcCJ0xhwU1IxzMvTGHBY+yTIzxMYcE=\",\"dtype\":\"float64\",\"order\":\"little\",\"shape\":[13]},\"size\":{\"__ndarray__\":\"AAAAAAAALkAAAAAAAAA+QAAAAAAAAD5AW8k1r9fXQ0AQSBeAlDY1QAAAAAAAAD5AVLtRcPsPTEAAAAAAAAAuQBuPyDIFX0JAbdyJ4FzsTkAAAAAAAAAuQN/H0jkT+zlAEEgXgJQ2NUA=\",\"dtype\":\"float64\",\"order\":\"little\",\"shape\":[13]}},\"selected\":{\"id\":\"11564\"},\"selection_policy\":{\"id\":\"11580\"}},\"id\":\"11563\",\"type\":\"ColumnDataSource\"},{\"attributes\":{\"fill_alpha\":{\"value\":0.75},\"fill_color\":{\"field\":\"color\",\"transform\":{\"id\":\"11562\"}},\"hatch_alpha\":{\"value\":0.1},\"hatch_color\":{\"field\":\"color\",\"transform\":{\"id\":\"11562\"}},\"line_alpha\":{\"value\":0.75},\"line_color\":{\"field\":\"color\",\"transform\":{\"id\":\"11562\"}},\"size\":{\"field\":\"size\"},\"tags\":[\"apply_ranges\"],\"x\":{\"field\":\"lon\"},\"y\":{\"field\":\"lat\"}},\"id\":\"11567\",\"type\":\"Scatter\"},{\"attributes\":{},\"id\":\"11518\",\"type\":\"SaveTool\"},{\"attributes\":{\"axis\":{\"id\":\"11514\"},\"coordinates\":null,\"dimension\":1,\"grid_line_color\":null,\"group\":null,\"ticker\":null},\"id\":\"11517\",\"type\":\"Grid\"},{\"attributes\":{\"coordinates\":null,\"group\":null,\"level\":\"glyph\",\"tile_source\":{\"id\":\"11557\"}},\"id\":\"11560\",\"type\":\"TileRenderer\"},{\"attributes\":{\"dimension\":\"lat\"},\"id\":\"11534\",\"type\":\"MercatorTickFormatter\"},{\"attributes\":{\"callback\":null,\"formatters\":{\"$x\":{\"id\":\"11573\"},\"$y\":{\"id\":\"11574\"}},\"renderers\":[{\"id\":\"11571\"}],\"tags\":[\"hv_created\"],\"tooltips\":[[\"lon\",\"$x{custom}\"],[\"lat\",\"$y{custom}\"],[\"Ride_name\",\"@{Ride_name}\"],[\"incident_count\",\"@{incident_count}\"]]},\"id\":\"11500\",\"type\":\"HoverTool\"},{\"attributes\":{\"fill_alpha\":{\"value\":0.75},\"fill_color\":{\"field\":\"color\",\"transform\":{\"id\":\"11562\"}},\"hatch_alpha\":{\"value\":0.75},\"hatch_color\":{\"field\":\"color\",\"transform\":{\"id\":\"11562\"}},\"line_alpha\":{\"value\":0.75},\"line_color\":{\"field\":\"color\",\"transform\":{\"id\":\"11562\"}},\"size\":{\"field\":\"size\"},\"tags\":[\"apply_ranges\"],\"x\":{\"field\":\"lon\"},\"y\":{\"field\":\"lat\"}},\"id\":\"11566\",\"type\":\"Scatter\"}],\"root_ids\":[\"11491\"]},\"title\":\"Bokeh Application\",\"version\":\"2.4.3\"}};\n",
       "    var render_items = [{\"docid\":\"b9b4231d-0d7b-4a8b-99be-8ac03eba2dfe\",\"root_ids\":[\"11491\"],\"roots\":{\"11491\":\"7cfd9823-5d81-4759-8923-6e022e358f6b\"}}];\n",
       "    root.Bokeh.embed.embed_items_notebook(docs_json, render_items);\n",
       "    for (const render_item of render_items) {\n",
       "      for (const root_id of render_item.root_ids) {\n",
       "\tconst id_el = document.getElementById(root_id)\n",
       "\tif (id_el.children.length && (id_el.children[0].className === 'bk-root')) {\n",
       "\t  const root_el = id_el.children[0]\n",
       "\t  root_el.id = root_el.id + '-rendered'\n",
       "\t}\n",
       "      }\n",
       "    }\n",
       "  }\n",
       "  if (root.Bokeh !== undefined && root.Bokeh.Panel !== undefined) {\n",
       "    embed_document(root);\n",
       "  } else {\n",
       "    var attempts = 0;\n",
       "    var timer = setInterval(function(root) {\n",
       "      if (root.Bokeh !== undefined && root.Bokeh.Panel !== undefined) {\n",
       "        clearInterval(timer);\n",
       "        embed_document(root);\n",
       "      } else if (document.readyState == \"complete\") {\n",
       "        attempts++;\n",
       "        if (attempts > 200) {\n",
       "          clearInterval(timer);\n",
       "          console.log(\"Bokeh: ERROR: Unable to run BokehJS code because BokehJS library is missing\");\n",
       "        }\n",
       "      }\n",
       "    }, 25, root)\n",
       "  }\n",
       "})(window);</script>"
      ],
      "text/plain": [
       ":Overlay\n",
       "   .Tiles.I  :Tiles   [x,y]\n",
       "   .Points.I :Points   [lon,lat]   (Ride_name,incident_count)"
      ]
     },
     "execution_count": 75,
     "metadata": {
      "application/vnd.holoviews_exec.v0+json": {
       "id": "11491"
      }
     },
     "output_type": "execute_result"
    }
   ],
   "source": [
    "plot_mapping_data(mapping_data, filter_column=\"Theme_Park\", filter_value=\"Universal Studios\", \n",
    "                  scale=15, title=\"Universal_Studios\")"
   ]
  },
  {
   "cell_type": "markdown",
   "id": "a1951a18",
   "metadata": {},
   "source": [
    "### Volcano Bay"
   ]
  },
  {
   "cell_type": "code",
   "execution_count": 76,
   "id": "10d4399e",
   "metadata": {},
   "outputs": [
    {
     "data": {},
     "metadata": {},
     "output_type": "display_data"
    },
    {
     "data": {
      "application/vnd.holoviews_exec.v0+json": "",
      "text/html": [
       "<div id='11796'>\n",
       "  <div class=\"bk-root\" id=\"b764adcb-f140-43e2-aa1b-c25ebb3e4aa6\" data-root-id=\"11796\"></div>\n",
       "</div>\n",
       "<script type=\"application/javascript\">(function(root) {\n",
       "  function embed_document(root) {\n",
       "    var docs_json = {\"a0cc4875-48f2-452b-a4fe-ffb72c157c77\":{\"defs\":[{\"extends\":null,\"module\":null,\"name\":\"ReactiveHTML1\",\"overrides\":[],\"properties\":[]},{\"extends\":null,\"module\":null,\"name\":\"FlexBox1\",\"overrides\":[],\"properties\":[{\"default\":\"flex-start\",\"kind\":null,\"name\":\"align_content\"},{\"default\":\"flex-start\",\"kind\":null,\"name\":\"align_items\"},{\"default\":\"row\",\"kind\":null,\"name\":\"flex_direction\"},{\"default\":\"wrap\",\"kind\":null,\"name\":\"flex_wrap\"},{\"default\":\"flex-start\",\"kind\":null,\"name\":\"justify_content\"}]},{\"extends\":null,\"module\":null,\"name\":\"GridStack1\",\"overrides\":[],\"properties\":[{\"default\":\"warn\",\"kind\":null,\"name\":\"mode\"},{\"default\":null,\"kind\":null,\"name\":\"ncols\"},{\"default\":null,\"kind\":null,\"name\":\"nrows\"},{\"default\":true,\"kind\":null,\"name\":\"allow_resize\"},{\"default\":true,\"kind\":null,\"name\":\"allow_drag\"},{\"default\":[],\"kind\":null,\"name\":\"state\"}]},{\"extends\":null,\"module\":null,\"name\":\"click1\",\"overrides\":[],\"properties\":[{\"default\":\"\",\"kind\":null,\"name\":\"terminal_output\"},{\"default\":\"\",\"kind\":null,\"name\":\"debug_name\"},{\"default\":0,\"kind\":null,\"name\":\"clears\"}]},{\"extends\":null,\"module\":null,\"name\":\"NotificationAreaBase1\",\"overrides\":[],\"properties\":[{\"default\":\"bottom-right\",\"kind\":null,\"name\":\"position\"},{\"default\":0,\"kind\":null,\"name\":\"_clear\"}]},{\"extends\":null,\"module\":null,\"name\":\"NotificationArea1\",\"overrides\":[],\"properties\":[{\"default\":[],\"kind\":null,\"name\":\"notifications\"},{\"default\":\"bottom-right\",\"kind\":null,\"name\":\"position\"},{\"default\":0,\"kind\":null,\"name\":\"_clear\"},{\"default\":[{\"background\":\"#ffc107\",\"icon\":{\"className\":\"fas fa-exclamation-triangle\",\"color\":\"white\",\"tagName\":\"i\"},\"type\":\"warning\"},{\"background\":\"#007bff\",\"icon\":{\"className\":\"fas fa-info-circle\",\"color\":\"white\",\"tagName\":\"i\"},\"type\":\"info\"}],\"kind\":null,\"name\":\"types\"}]},{\"extends\":null,\"module\":null,\"name\":\"Notification\",\"overrides\":[],\"properties\":[{\"default\":null,\"kind\":null,\"name\":\"background\"},{\"default\":3000,\"kind\":null,\"name\":\"duration\"},{\"default\":null,\"kind\":null,\"name\":\"icon\"},{\"default\":\"\",\"kind\":null,\"name\":\"message\"},{\"default\":null,\"kind\":null,\"name\":\"notification_type\"},{\"default\":false,\"kind\":null,\"name\":\"_destroyed\"}]},{\"extends\":null,\"module\":null,\"name\":\"TemplateActions1\",\"overrides\":[],\"properties\":[{\"default\":0,\"kind\":null,\"name\":\"open_modal\"},{\"default\":0,\"kind\":null,\"name\":\"close_modal\"}]},{\"extends\":null,\"module\":null,\"name\":\"MaterialTemplateActions1\",\"overrides\":[],\"properties\":[{\"default\":0,\"kind\":null,\"name\":\"open_modal\"},{\"default\":0,\"kind\":null,\"name\":\"close_modal\"}]}],\"roots\":{\"references\":[{\"attributes\":{\"data\":{\"Ride_name\":[\"Kala & Tai Nui Serpentine Body Slides\",\"Ko'okiri Body Plunge\",\"Kopiko Wai Winding River\",\"Ohno Drop Slide\",\"Puihi Raft Ride\",\"Punga Racers\",\"Runamukka Reef\",\"Te'awa The Fearless River\"],\"color\":[\"Kala & Tai Nui Serpentine Body Slides\",\"Ko'okiri Body Plunge\",\"Kopiko Wai Winding River\",\"Ohno Drop Slide\",\"Puihi Raft Ride\",\"Punga Racers\",\"Runamukka Reef\",\"Te'awa The Fearless River\"],\"incident_count\":[5,1,3,1,1,1,1,3],\"lat\":{\"__ndarray__\":\"iHSdHoI7SUFV2mZUmTtJQerV3/uMO0lBhB81LHY7SUEXm20SKDtJQeqkmzJ1O0lBOEFrLZg7SUHFEtyAUztJQQ==\",\"dtype\":\"float64\",\"order\":\"little\",\"shape\":[8]},\"lon\":{\"__ndarray__\":\"bV1PanpMYcG/XTyUfExhwXzP5gWDTGHB95yv9XVMYcH07R8eg0xhwXwxMdV9TGHByG4T5IVMYcGcEGWug0xhwQ==\",\"dtype\":\"float64\",\"order\":\"little\",\"shape\":[8]},\"size\":{\"__ndarray__\":\"XnXeIUDFQEAAAAAAAAAuQN/H0jkT+zlAAAAAAAAALkAAAAAAAAAuQAAAAAAAAC5AAAAAAAAALkDfx9I5E/s5QA==\",\"dtype\":\"float64\",\"order\":\"little\",\"shape\":[8]}},\"selected\":{\"id\":\"11869\"},\"selection_policy\":{\"id\":\"11885\"}},\"id\":\"11868\",\"type\":\"ColumnDataSource\"},{\"attributes\":{},\"id\":\"11827\",\"type\":\"ResetTool\"},{\"attributes\":{},\"id\":\"11885\",\"type\":\"UnionRenderers\"},{\"attributes\":{\"dimension\":\"lat\"},\"id\":\"11838\",\"type\":\"MercatorTicker\"},{\"attributes\":{},\"id\":\"11869\",\"type\":\"Selection\"},{\"attributes\":{},\"id\":\"11842\",\"type\":\"AllLabels\"},{\"attributes\":{\"dimension\":\"lat\"},\"id\":\"11839\",\"type\":\"MercatorTickFormatter\"},{\"attributes\":{\"coordinates\":null,\"group\":null,\"text\":\"Volcano_Bay\",\"text_color\":\"black\",\"text_font_size\":\"12pt\"},\"id\":\"11807\",\"type\":\"Title\"},{\"attributes\":{},\"id\":\"11849\",\"type\":\"AllLabels\"},{\"attributes\":{\"coordinates\":null,\"group\":null,\"level\":\"glyph\",\"tile_source\":{\"id\":\"11862\"}},\"id\":\"11865\",\"type\":\"TileRenderer\"},{\"attributes\":{\"fill_alpha\":{\"value\":0.75},\"fill_color\":{\"field\":\"color\",\"transform\":{\"id\":\"11867\"}},\"hatch_alpha\":{\"value\":0.1},\"hatch_color\":{\"field\":\"color\",\"transform\":{\"id\":\"11867\"}},\"line_alpha\":{\"value\":0.75},\"line_color\":{\"field\":\"color\",\"transform\":{\"id\":\"11867\"}},\"size\":{\"field\":\"size\"},\"tags\":[\"apply_ranges\"],\"x\":{\"field\":\"lon\"},\"y\":{\"field\":\"lat\"}},\"id\":\"11872\",\"type\":\"Scatter\"},{\"attributes\":{},\"id\":\"11823\",\"type\":\"SaveTool\"},{\"attributes\":{\"coordinates\":null,\"data_source\":{\"id\":\"11868\"},\"glyph\":{\"id\":\"11871\"},\"group\":null,\"hover_glyph\":{\"id\":\"11874\"},\"muted_glyph\":{\"id\":\"11875\"},\"nonselection_glyph\":{\"id\":\"11872\"},\"selection_glyph\":{\"id\":\"11873\"},\"view\":{\"id\":\"11877\"}},\"id\":\"11876\",\"type\":\"GlyphRenderer\"},{\"attributes\":{\"dimension\":\"lon\"},\"id\":\"11836\",\"type\":\"MercatorTicker\"},{\"attributes\":{\"code\":\"\\n        var projections = Bokeh.require(\\\"core/util/projections\\\");\\n        var x = special_vars.data_x\\n        var y = special_vars.data_y\\n        var coords = projections.wgs84_mercator.invert(x, y)\\n        return \\\"\\\" + (coords[0]).toFixed(4)\\n    \"},\"id\":\"11878\",\"type\":\"CustomJSHover\"},{\"attributes\":{\"axis_label\":\"x\",\"coordinates\":null,\"formatter\":{\"id\":\"11837\"},\"group\":null,\"major_label_policy\":{\"id\":\"11842\"},\"ticker\":{\"id\":\"11836\"}},\"id\":\"11815\",\"type\":\"LinearAxis\"},{\"attributes\":{\"dimension\":\"lon\"},\"id\":\"11837\",\"type\":\"MercatorTickFormatter\"},{\"attributes\":{\"zoom_on_axis\":false},\"id\":\"11825\",\"type\":\"WheelZoomTool\"},{\"attributes\":{\"callback\":null,\"formatters\":{\"$x\":{\"id\":\"11878\"},\"$y\":{\"id\":\"11879\"}},\"renderers\":[{\"id\":\"11876\"}],\"tags\":[\"hv_created\"],\"tooltips\":[[\"lon\",\"$x{custom}\"],[\"lat\",\"$y{custom}\"],[\"Ride_name\",\"@{Ride_name}\"],[\"incident_count\",\"@{incident_count}\"]]},\"id\":\"11805\",\"type\":\"HoverTool\"},{\"attributes\":{\"factors\":[\"Kala & Tai Nui Serpentine Body Slides\",\"Ko'okiri Body Plunge\",\"Kopiko Wai Winding River\",\"Ohno Drop Slide\",\"Puihi Raft Ride\",\"Punga Racers\",\"Runamukka Reef\",\"Te'awa The Fearless River\"],\"palette\":[\"#1f77b3\",\"#ff7e0e\",\"#2ba02b\",\"#d62628\",\"#9367bc\",\"#8c564b\",\"#e277c1\",\"#7e7e7e\"]},\"id\":\"11867\",\"type\":\"CategoricalColorMapper\"},{\"attributes\":{\"fill_alpha\":{\"value\":0.75},\"fill_color\":{\"field\":\"color\",\"transform\":{\"id\":\"11867\"}},\"hatch_alpha\":{\"value\":0.75},\"hatch_color\":{\"field\":\"color\",\"transform\":{\"id\":\"11867\"}},\"line_alpha\":{\"value\":0.75},\"line_color\":{\"field\":\"color\",\"transform\":{\"id\":\"11867\"}},\"size\":{\"field\":\"size\"},\"tags\":[\"apply_ranges\"],\"x\":{\"field\":\"lon\"},\"y\":{\"field\":\"lat\"}},\"id\":\"11871\",\"type\":\"Scatter\"},{\"attributes\":{\"children\":[{\"id\":\"11806\"}],\"height\":750,\"margin\":[0,0,0,0],\"name\":\"Row10982\",\"sizing_mode\":\"fixed\",\"tags\":[\"embedded\"],\"width\":750},\"id\":\"11796\",\"type\":\"Row\"},{\"attributes\":{\"end\":3307337.1589823533,\"min_interval\":5,\"reset_end\":3307337.1589823533,\"reset_start\":3307065.64437423,\"start\":3307065.64437423,\"tags\":[[[\"lat\",\"lat\",null]]]},\"id\":\"11802\",\"type\":\"Range1d\"},{\"attributes\":{\"fill_alpha\":{\"value\":0.2},\"fill_color\":{\"field\":\"color\",\"transform\":{\"id\":\"11867\"}},\"hatch_alpha\":{\"value\":0.2},\"hatch_color\":{\"field\":\"color\",\"transform\":{\"id\":\"11867\"}},\"line_alpha\":{\"value\":0.2},\"line_color\":{\"field\":\"color\",\"transform\":{\"id\":\"11867\"}},\"size\":{\"field\":\"size\"},\"tags\":[\"apply_ranges\"],\"x\":{\"field\":\"lon\"},\"y\":{\"field\":\"lat\"}},\"id\":\"11875\",\"type\":\"Scatter\"},{\"attributes\":{\"fill_alpha\":{\"value\":0.75},\"fill_color\":{\"field\":\"color\",\"transform\":{\"id\":\"11867\"}},\"hatch_alpha\":{\"value\":0.75},\"hatch_color\":{\"field\":\"color\",\"transform\":{\"id\":\"11867\"}},\"line_alpha\":{\"value\":0.75},\"line_color\":{\"field\":\"color\",\"transform\":{\"id\":\"11867\"}},\"size\":{\"field\":\"size\"},\"tags\":[\"apply_ranges\"],\"x\":{\"field\":\"lon\"},\"y\":{\"field\":\"lat\"}},\"id\":\"11874\",\"type\":\"Scatter\"},{\"attributes\":{\"bottom_units\":\"screen\",\"coordinates\":null,\"fill_alpha\":0.5,\"fill_color\":\"lightgrey\",\"group\":null,\"left_units\":\"screen\",\"level\":\"overlay\",\"line_alpha\":1.0,\"line_color\":\"black\",\"line_dash\":[4,4],\"line_width\":2,\"right_units\":\"screen\",\"syncable\":false,\"top_units\":\"screen\"},\"id\":\"11828\",\"type\":\"BoxAnnotation\"},{\"attributes\":{\"match_aspect\":true,\"overlay\":{\"id\":\"11828\"}},\"id\":\"11826\",\"type\":\"BoxZoomTool\"},{\"attributes\":{\"active_drag\":{\"id\":\"11824\"},\"tools\":[{\"id\":\"11805\"},{\"id\":\"11823\"},{\"id\":\"11824\"},{\"id\":\"11825\"},{\"id\":\"11826\"},{\"id\":\"11827\"}]},\"id\":\"11829\",\"type\":\"Toolbar\"},{\"attributes\":{\"below\":[{\"id\":\"11815\"}],\"center\":[{\"id\":\"11818\"},{\"id\":\"11822\"}],\"frame_height\":750,\"frame_width\":750,\"height\":750,\"left\":[{\"id\":\"11819\"}],\"margin\":[5,5,5,5],\"match_aspect\":true,\"min_border_bottom\":10,\"min_border_left\":10,\"min_border_right\":10,\"min_border_top\":10,\"output_backend\":\"webgl\",\"renderers\":[{\"id\":\"11865\"},{\"id\":\"11876\"}],\"sizing_mode\":\"fixed\",\"title\":{\"id\":\"11807\"},\"toolbar\":{\"id\":\"11829\"},\"width\":750,\"x_range\":{\"id\":\"11801\"},\"x_scale\":{\"id\":\"11811\"},\"y_range\":{\"id\":\"11802\"},\"y_scale\":{\"id\":\"11813\"}},\"id\":\"11806\",\"subtype\":\"Figure\",\"type\":\"Plot\"},{\"attributes\":{\"axis_label\":\"y\",\"coordinates\":null,\"formatter\":{\"id\":\"11839\"},\"group\":null,\"major_label_policy\":{\"id\":\"11849\"},\"ticker\":{\"id\":\"11838\"}},\"id\":\"11819\",\"type\":\"LinearAxis\"},{\"attributes\":{\"axis\":{\"id\":\"11819\"},\"coordinates\":null,\"dimension\":1,\"grid_line_color\":null,\"group\":null,\"ticker\":null},\"id\":\"11822\",\"type\":\"Grid\"},{\"attributes\":{\"attribution\":\"&copy; <a href=\\\"https://www.openstreetmap.org/copyright\\\">OpenStreetMap</a> contributors, &copy; <a href=\\\"https://cartodb.com/attributions\\\">CartoDB</a>\",\"url\":\"https://cartodb-basemaps-4.global.ssl.fastly.net/light_all/{Z}/{X}/{Y}.png\"},\"id\":\"11862\",\"type\":\"WMTSTileSource\"},{\"attributes\":{\"fill_alpha\":{\"value\":0.75},\"fill_color\":{\"field\":\"color\",\"transform\":{\"id\":\"11867\"}},\"hatch_alpha\":{\"value\":0.75},\"hatch_color\":{\"field\":\"color\",\"transform\":{\"id\":\"11867\"}},\"line_alpha\":{\"value\":0.75},\"line_color\":{\"field\":\"color\",\"transform\":{\"id\":\"11867\"}},\"size\":{\"field\":\"size\"},\"tags\":[\"apply_ranges\"],\"x\":{\"field\":\"lon\"},\"y\":{\"field\":\"lat\"}},\"id\":\"11873\",\"type\":\"Scatter\"},{\"attributes\":{},\"id\":\"11811\",\"type\":\"LinearScale\"},{\"attributes\":{\"code\":\"\\n        var projections = Bokeh.require(\\\"core/util/projections\\\");\\n        var x = special_vars.data_x\\n        var y = special_vars.data_y\\n        var coords = projections.wgs84_mercator.invert(x, y)\\n        return \\\"\\\" + (coords[1]).toFixed(4)\\n    \"},\"id\":\"11879\",\"type\":\"CustomJSHover\"},{\"attributes\":{\"end\":-9069415.645225594,\"min_interval\":5,\"reset_end\":-9069415.645225594,\"reset_start\":-9069687.159833718,\"start\":-9069687.159833718,\"tags\":[[[\"lon\",\"lon\",null]]]},\"id\":\"11801\",\"type\":\"Range1d\"},{\"attributes\":{},\"id\":\"11813\",\"type\":\"LinearScale\"},{\"attributes\":{\"axis\":{\"id\":\"11815\"},\"coordinates\":null,\"grid_line_color\":null,\"group\":null,\"ticker\":null},\"id\":\"11818\",\"type\":\"Grid\"},{\"attributes\":{},\"id\":\"11824\",\"type\":\"PanTool\"},{\"attributes\":{\"source\":{\"id\":\"11868\"}},\"id\":\"11877\",\"type\":\"CDSView\"}],\"root_ids\":[\"11796\"]},\"title\":\"Bokeh Application\",\"version\":\"2.4.3\"}};\n",
       "    var render_items = [{\"docid\":\"a0cc4875-48f2-452b-a4fe-ffb72c157c77\",\"root_ids\":[\"11796\"],\"roots\":{\"11796\":\"b764adcb-f140-43e2-aa1b-c25ebb3e4aa6\"}}];\n",
       "    root.Bokeh.embed.embed_items_notebook(docs_json, render_items);\n",
       "    for (const render_item of render_items) {\n",
       "      for (const root_id of render_item.root_ids) {\n",
       "\tconst id_el = document.getElementById(root_id)\n",
       "\tif (id_el.children.length && (id_el.children[0].className === 'bk-root')) {\n",
       "\t  const root_el = id_el.children[0]\n",
       "\t  root_el.id = root_el.id + '-rendered'\n",
       "\t}\n",
       "      }\n",
       "    }\n",
       "  }\n",
       "  if (root.Bokeh !== undefined && root.Bokeh.Panel !== undefined) {\n",
       "    embed_document(root);\n",
       "  } else {\n",
       "    var attempts = 0;\n",
       "    var timer = setInterval(function(root) {\n",
       "      if (root.Bokeh !== undefined && root.Bokeh.Panel !== undefined) {\n",
       "        clearInterval(timer);\n",
       "        embed_document(root);\n",
       "      } else if (document.readyState == \"complete\") {\n",
       "        attempts++;\n",
       "        if (attempts > 200) {\n",
       "          clearInterval(timer);\n",
       "          console.log(\"Bokeh: ERROR: Unable to run BokehJS code because BokehJS library is missing\");\n",
       "        }\n",
       "      }\n",
       "    }, 25, root)\n",
       "  }\n",
       "})(window);</script>"
      ],
      "text/plain": [
       ":Overlay\n",
       "   .Tiles.I  :Tiles   [x,y]\n",
       "   .Points.I :Points   [lon,lat]   (Ride_name,incident_count)"
      ]
     },
     "execution_count": 76,
     "metadata": {
      "application/vnd.holoviews_exec.v0+json": {
       "id": "11796"
      }
     },
     "output_type": "execute_result"
    }
   ],
   "source": [
    "plot_mapping_data(mapping_data, filter_column=\"Theme_Park\", filter_value=\"Volcano Bay\", scale=15, title=\"Volcano_Bay\")"
   ]
  },
  {
   "cell_type": "code",
   "execution_count": null,
   "id": "3596c854",
   "metadata": {},
   "outputs": [],
   "source": []
  }
 ],
 "metadata": {
  "kernelspec": {
   "display_name": "Python 3 (ipykernel)",
   "language": "python",
   "name": "python3"
  },
  "language_info": {
   "codemirror_mode": {
    "name": "ipython",
    "version": 3
   },
   "file_extension": ".py",
   "mimetype": "text/x-python",
   "name": "python",
   "nbconvert_exporter": "python",
   "pygments_lexer": "ipython3",
   "version": "3.10.11"
  }
 },
 "nbformat": 4,
 "nbformat_minor": 5
}
